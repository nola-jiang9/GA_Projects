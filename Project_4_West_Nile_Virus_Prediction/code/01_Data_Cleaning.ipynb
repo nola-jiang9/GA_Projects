{
 "cells": [
  {
   "cell_type": "markdown",
   "metadata": {},
   "source": [
    "<img src=\"http://imgur.com/1ZcRyrc.png\" style=\"float: left; margin: 20px; height: 55px\">\n",
    "\n",
    "# Project 4: West Nile Virus Prediction\n",
    "\n",
    "---\n",
    "    Mubina | Wei Hua | Liubin    "
   ]
  },
  {
   "cell_type": "markdown",
   "metadata": {},
   "source": [
    "## Problem Statement\n",
    "Our client is the Centers for Disease Control and Prevention (CDC) who are working with Chicago government to reduce the patients whom are affected by the incurable West Nile Virus. Our team are given a chance to work with Department of Public Health to set up a surveillance control system. \n",
    "\n",
    "As a data scientist from a consultancy firm, our task is to build a model and make predictions to determine the period and location of the sprays. We will also be conduting a cost-benefit analysis which include the annual cost projections for various levels of pesticide and quantity of the pesticide spraying to achieve the maximum benefit. \n",
    "\n",
    "Our primary stakeholders will be the client (CDC) and the secondary stakeholders will be the government of Chicago. The given dataset consist of the following data:\n",
    "\n",
    "- Main dataset where public health workers in Chicao set up mosquito traps across the city to test for the presence of West Nile virus. \n",
    "- Spray data which records the details of their spraying such as location and date in order to reduce the number of mosquitoes in the area. \n",
    "- Weather Data which records the condition of the city. It is believed that hot and dry conditions are more favourable for West Nile virus as compared to cold and wet. \n",
    "- Map from openstreet map \n",
    "\n",
    "The following is the general workflow for this project: \n",
    "+ Data Cleaning\n",
    "+ Exploratory data analysis (EDA)\n",
    "+ Pre-processing and feature engineering\n",
    "+ Modelling and evaluation\n",
    "+ Cost benefit analysis\n",
    "+ Conclusion and recommendation\n",
    "\n",
    "The model will then be evaluated by ROC AUC score and recall score. The objective of the model is to get a high  ROC AUC score and recall score.\n",
    "The model will then be evaluated by ROC AUC score and the objective of the model is to get a high ROC AUC score."
   ]
  },
  {
   "cell_type": "markdown",
   "metadata": {},
   "source": [
    "# Part 1: Data Cleaning \n",
    "\n",
    "In this notebook, mainly We have performed Data Cleaning all the datasets:\n",
    "- train data\n",
    "- test data\n",
    "- weather data\n",
    "- spray data\n",
    "\n",
    "Data Cleaning including: check and handle missing values, check and remove duplicated values, convert inproper data types. We have also attempted to merge Weather data (station number 1 or 2) into train, test data to create an indicator the nearest weather station to the trap location. "
   ]
  },
  {
   "cell_type": "markdown",
   "metadata": {},
   "source": [
    "## Contents:\n",
    "- [1. Import Libraries](#1.-Import-Libraries)\n",
    "- [2. Load Data](#2.-Load-Data)\n",
    "- [3. Data Cleaning](#3.-Data-Cleaning)\n",
    "- [4. Export Cleaned Data](#4.-Export-Cleaned-Data)"
   ]
  },
  {
   "cell_type": "markdown",
   "metadata": {},
   "source": [
    "## 1. Import Libraries"
   ]
  },
  {
   "cell_type": "code",
   "execution_count": 1,
   "metadata": {},
   "outputs": [],
   "source": [
    "import pandas as pd\n",
    "import numpy as np\n",
    "from datetime import datetime, timezone\n",
    "import time\n",
    "import seaborn as sns\n",
    "import matplotlib.pyplot as plt\n",
    "\n",
    "from geopy.distance import geodesic\n",
    "import geopy\n",
    "\n",
    "%matplotlib inline\n",
    "sns.set_style(\"darkgrid\")\n",
    "sns.set_palette(\"viridis\")"
   ]
  },
  {
   "cell_type": "markdown",
   "metadata": {},
   "source": [
    "## 2. Load Data"
   ]
  },
  {
   "cell_type": "code",
   "execution_count": 2,
   "metadata": {},
   "outputs": [],
   "source": [
    "data_path = \"../assets/\"\n",
    "\n",
    "train = pd.read_csv(data_path + \"train.csv\")\n",
    "weather = pd.read_csv(data_path + \"weather.csv\")\n",
    "spray = pd.read_csv(data_path + \"spray.csv\")\n",
    "test = pd.read_csv(data_path + \"test.csv\")"
   ]
  },
  {
   "cell_type": "markdown",
   "metadata": {},
   "source": [
    "## 3. Data Cleaning"
   ]
  },
  {
   "cell_type": "markdown",
   "metadata": {},
   "source": [
    "### 3.1 Train & Test Data Inspection & Cleaning"
   ]
  },
  {
   "cell_type": "code",
   "execution_count": 3,
   "metadata": {},
   "outputs": [
    {
     "data": {
      "text/plain": [
       "(10506, 12)"
      ]
     },
     "execution_count": 3,
     "metadata": {},
     "output_type": "execute_result"
    }
   ],
   "source": [
    "train.shape"
   ]
  },
  {
   "cell_type": "code",
   "execution_count": 4,
   "metadata": {},
   "outputs": [
    {
     "data": {
      "text/plain": [
       "(116293, 11)"
      ]
     },
     "execution_count": 4,
     "metadata": {},
     "output_type": "execute_result"
    }
   ],
   "source": [
    "test.shape"
   ]
  },
  {
   "cell_type": "code",
   "execution_count": 5,
   "metadata": {},
   "outputs": [
    {
     "data": {
      "text/html": [
       "<div>\n",
       "<style scoped>\n",
       "    .dataframe tbody tr th:only-of-type {\n",
       "        vertical-align: middle;\n",
       "    }\n",
       "\n",
       "    .dataframe tbody tr th {\n",
       "        vertical-align: top;\n",
       "    }\n",
       "\n",
       "    .dataframe thead th {\n",
       "        text-align: right;\n",
       "    }\n",
       "</style>\n",
       "<table border=\"1\" class=\"dataframe\">\n",
       "  <thead>\n",
       "    <tr style=\"text-align: right;\">\n",
       "      <th></th>\n",
       "      <th>Date</th>\n",
       "      <th>Address</th>\n",
       "      <th>Species</th>\n",
       "      <th>Block</th>\n",
       "      <th>Street</th>\n",
       "      <th>Trap</th>\n",
       "      <th>AddressNumberAndStreet</th>\n",
       "      <th>Latitude</th>\n",
       "      <th>Longitude</th>\n",
       "      <th>AddressAccuracy</th>\n",
       "      <th>NumMosquitos</th>\n",
       "      <th>WnvPresent</th>\n",
       "    </tr>\n",
       "  </thead>\n",
       "  <tbody>\n",
       "    <tr>\n",
       "      <th>0</th>\n",
       "      <td>2007-05-29</td>\n",
       "      <td>4100 North Oak Park Avenue, Chicago, IL 60634,...</td>\n",
       "      <td>CULEX PIPIENS/RESTUANS</td>\n",
       "      <td>41</td>\n",
       "      <td>N OAK PARK AVE</td>\n",
       "      <td>T002</td>\n",
       "      <td>4100  N OAK PARK AVE, Chicago, IL</td>\n",
       "      <td>41.954690</td>\n",
       "      <td>-87.800991</td>\n",
       "      <td>9</td>\n",
       "      <td>1</td>\n",
       "      <td>0</td>\n",
       "    </tr>\n",
       "    <tr>\n",
       "      <th>1</th>\n",
       "      <td>2007-05-29</td>\n",
       "      <td>4100 North Oak Park Avenue, Chicago, IL 60634,...</td>\n",
       "      <td>CULEX RESTUANS</td>\n",
       "      <td>41</td>\n",
       "      <td>N OAK PARK AVE</td>\n",
       "      <td>T002</td>\n",
       "      <td>4100  N OAK PARK AVE, Chicago, IL</td>\n",
       "      <td>41.954690</td>\n",
       "      <td>-87.800991</td>\n",
       "      <td>9</td>\n",
       "      <td>1</td>\n",
       "      <td>0</td>\n",
       "    </tr>\n",
       "    <tr>\n",
       "      <th>2</th>\n",
       "      <td>2007-05-29</td>\n",
       "      <td>6200 North Mandell Avenue, Chicago, IL 60646, USA</td>\n",
       "      <td>CULEX RESTUANS</td>\n",
       "      <td>62</td>\n",
       "      <td>N MANDELL AVE</td>\n",
       "      <td>T007</td>\n",
       "      <td>6200  N MANDELL AVE, Chicago, IL</td>\n",
       "      <td>41.994991</td>\n",
       "      <td>-87.769279</td>\n",
       "      <td>9</td>\n",
       "      <td>1</td>\n",
       "      <td>0</td>\n",
       "    </tr>\n",
       "  </tbody>\n",
       "</table>\n",
       "</div>"
      ],
      "text/plain": [
       "         Date                                            Address  \\\n",
       "0  2007-05-29  4100 North Oak Park Avenue, Chicago, IL 60634,...   \n",
       "1  2007-05-29  4100 North Oak Park Avenue, Chicago, IL 60634,...   \n",
       "2  2007-05-29  6200 North Mandell Avenue, Chicago, IL 60646, USA   \n",
       "\n",
       "                  Species  Block           Street  Trap  \\\n",
       "0  CULEX PIPIENS/RESTUANS     41   N OAK PARK AVE  T002   \n",
       "1          CULEX RESTUANS     41   N OAK PARK AVE  T002   \n",
       "2          CULEX RESTUANS     62    N MANDELL AVE  T007   \n",
       "\n",
       "              AddressNumberAndStreet   Latitude  Longitude  AddressAccuracy  \\\n",
       "0  4100  N OAK PARK AVE, Chicago, IL  41.954690 -87.800991                9   \n",
       "1  4100  N OAK PARK AVE, Chicago, IL  41.954690 -87.800991                9   \n",
       "2   6200  N MANDELL AVE, Chicago, IL  41.994991 -87.769279                9   \n",
       "\n",
       "   NumMosquitos  WnvPresent  \n",
       "0             1           0  \n",
       "1             1           0  \n",
       "2             1           0  "
      ]
     },
     "execution_count": 5,
     "metadata": {},
     "output_type": "execute_result"
    }
   ],
   "source": [
    "train.head(3)"
   ]
  },
  {
   "cell_type": "code",
   "execution_count": 6,
   "metadata": {},
   "outputs": [
    {
     "data": {
      "text/html": [
       "<div>\n",
       "<style scoped>\n",
       "    .dataframe tbody tr th:only-of-type {\n",
       "        vertical-align: middle;\n",
       "    }\n",
       "\n",
       "    .dataframe tbody tr th {\n",
       "        vertical-align: top;\n",
       "    }\n",
       "\n",
       "    .dataframe thead th {\n",
       "        text-align: right;\n",
       "    }\n",
       "</style>\n",
       "<table border=\"1\" class=\"dataframe\">\n",
       "  <thead>\n",
       "    <tr style=\"text-align: right;\">\n",
       "      <th></th>\n",
       "      <th>Id</th>\n",
       "      <th>Date</th>\n",
       "      <th>Address</th>\n",
       "      <th>Species</th>\n",
       "      <th>Block</th>\n",
       "      <th>Street</th>\n",
       "      <th>Trap</th>\n",
       "      <th>AddressNumberAndStreet</th>\n",
       "      <th>Latitude</th>\n",
       "      <th>Longitude</th>\n",
       "      <th>AddressAccuracy</th>\n",
       "    </tr>\n",
       "  </thead>\n",
       "  <tbody>\n",
       "    <tr>\n",
       "      <th>0</th>\n",
       "      <td>1</td>\n",
       "      <td>2008-06-11</td>\n",
       "      <td>4100 North Oak Park Avenue, Chicago, IL 60634,...</td>\n",
       "      <td>CULEX PIPIENS/RESTUANS</td>\n",
       "      <td>41</td>\n",
       "      <td>N OAK PARK AVE</td>\n",
       "      <td>T002</td>\n",
       "      <td>4100  N OAK PARK AVE, Chicago, IL</td>\n",
       "      <td>41.95469</td>\n",
       "      <td>-87.800991</td>\n",
       "      <td>9</td>\n",
       "    </tr>\n",
       "    <tr>\n",
       "      <th>1</th>\n",
       "      <td>2</td>\n",
       "      <td>2008-06-11</td>\n",
       "      <td>4100 North Oak Park Avenue, Chicago, IL 60634,...</td>\n",
       "      <td>CULEX RESTUANS</td>\n",
       "      <td>41</td>\n",
       "      <td>N OAK PARK AVE</td>\n",
       "      <td>T002</td>\n",
       "      <td>4100  N OAK PARK AVE, Chicago, IL</td>\n",
       "      <td>41.95469</td>\n",
       "      <td>-87.800991</td>\n",
       "      <td>9</td>\n",
       "    </tr>\n",
       "    <tr>\n",
       "      <th>2</th>\n",
       "      <td>3</td>\n",
       "      <td>2008-06-11</td>\n",
       "      <td>4100 North Oak Park Avenue, Chicago, IL 60634,...</td>\n",
       "      <td>CULEX PIPIENS</td>\n",
       "      <td>41</td>\n",
       "      <td>N OAK PARK AVE</td>\n",
       "      <td>T002</td>\n",
       "      <td>4100  N OAK PARK AVE, Chicago, IL</td>\n",
       "      <td>41.95469</td>\n",
       "      <td>-87.800991</td>\n",
       "      <td>9</td>\n",
       "    </tr>\n",
       "  </tbody>\n",
       "</table>\n",
       "</div>"
      ],
      "text/plain": [
       "   Id        Date                                            Address  \\\n",
       "0   1  2008-06-11  4100 North Oak Park Avenue, Chicago, IL 60634,...   \n",
       "1   2  2008-06-11  4100 North Oak Park Avenue, Chicago, IL 60634,...   \n",
       "2   3  2008-06-11  4100 North Oak Park Avenue, Chicago, IL 60634,...   \n",
       "\n",
       "                  Species  Block           Street  Trap  \\\n",
       "0  CULEX PIPIENS/RESTUANS     41   N OAK PARK AVE  T002   \n",
       "1          CULEX RESTUANS     41   N OAK PARK AVE  T002   \n",
       "2           CULEX PIPIENS     41   N OAK PARK AVE  T002   \n",
       "\n",
       "              AddressNumberAndStreet  Latitude  Longitude  AddressAccuracy  \n",
       "0  4100  N OAK PARK AVE, Chicago, IL  41.95469 -87.800991                9  \n",
       "1  4100  N OAK PARK AVE, Chicago, IL  41.95469 -87.800991                9  \n",
       "2  4100  N OAK PARK AVE, Chicago, IL  41.95469 -87.800991                9  "
      ]
     },
     "execution_count": 6,
     "metadata": {},
     "output_type": "execute_result"
    }
   ],
   "source": [
    "test.head(3)"
   ]
  },
  {
   "cell_type": "code",
   "execution_count": 7,
   "metadata": {},
   "outputs": [],
   "source": [
    "train.columns=train.columns.map(lambda x:x.lower())\n",
    "test.columns=test.columns.map(lambda x:x.lower())"
   ]
  },
  {
   "cell_type": "code",
   "execution_count": 8,
   "metadata": {},
   "outputs": [
    {
     "data": {
      "text/plain": [
       "Index(['date', 'address', 'species', 'block', 'street', 'trap',\n",
       "       'addressnumberandstreet', 'latitude', 'longitude', 'addressaccuracy',\n",
       "       'nummosquitos', 'wnvpresent'],\n",
       "      dtype='object')"
      ]
     },
     "execution_count": 8,
     "metadata": {},
     "output_type": "execute_result"
    }
   ],
   "source": [
    "train.columns"
   ]
  },
  {
   "cell_type": "code",
   "execution_count": 9,
   "metadata": {},
   "outputs": [
    {
     "data": {
      "text/plain": [
       "Index(['id', 'date', 'address', 'species', 'block', 'street', 'trap',\n",
       "       'addressnumberandstreet', 'latitude', 'longitude', 'addressaccuracy'],\n",
       "      dtype='object')"
      ]
     },
     "execution_count": 9,
     "metadata": {},
     "output_type": "execute_result"
    }
   ],
   "source": [
    "test.columns"
   ]
  },
  {
   "cell_type": "markdown",
   "metadata": {},
   "source": [
    "#### Comments:\n",
    "\n",
    "- These 2 columns are missing in test data- \"nummosquitos\" and \"wnvpresent\"\n",
    "- We need to solve 2 problems by modleing: (1) regression model to predict \"nummosquitos\", (2) classification model on (1)'s prediction for wnvpresent.\n",
    "\n",
    "We will show the model on \"Part 3-Model and Recommendation\"."
   ]
  },
  {
   "cell_type": "code",
   "execution_count": 10,
   "metadata": {},
   "outputs": [
    {
     "name": "stdout",
     "output_type": "stream",
     "text": [
      "['T002' 'T007' 'T015' 'T045' 'T046' 'T048' 'T049' 'T050' 'T054' 'T086'\n",
      " 'T091' 'T094' 'T096' 'T129' 'T143' 'T148' 'T153' 'T159' 'T009' 'T011'\n",
      " 'T016' 'T019' 'T025' 'T028' 'T031' 'T033' 'T089' 'T090' 'T092' 'T135'\n",
      " 'T141' 'T142' 'T145' 'T146' 'T147' 'T149' 'T150' 'T151' 'T152' 'T154'\n",
      " 'T158' 'T162' 'T218' 'T220' 'T001' 'T003' 'T006' 'T008' 'T012' 'T034'\n",
      " 'T037' 'T040' 'T043' 'T047' 'T051' 'T085' 'T088' 'T161' 'T219' 'T013'\n",
      " 'T014' 'T018' 'T030' 'T084' 'T144' 'T160' 'T005' 'T017' 'T044' 'T095'\n",
      " 'T004' 'T035' 'T036' 'T039' 'T060' 'T061' 'T062' 'T065' 'T066' 'T067'\n",
      " 'T069' 'T070' 'T071' 'T073' 'T074' 'T075' 'T076' 'T077' 'T079' 'T080'\n",
      " 'T081' 'T082' 'T083' 'T114' 'T155' 'T063' 'T115' 'T138' 'T200' 'T206'\n",
      " 'T209' 'T212' 'T215' 'T107' 'T128' 'T072' 'T078' 'T097' 'T099' 'T100'\n",
      " 'T102' 'T103' 'T027' 'T156' 'T157' 'T221' 'T900' 'T903' 'T222' 'T223'\n",
      " 'T225' 'T227' 'T224' 'T226' 'T229' 'T230' 'T228' 'T232' 'T231' 'T235'\n",
      " 'T233' 'T236' 'T237' 'T238' 'T094B' 'T054C']\n",
      "136\n"
     ]
    }
   ],
   "source": [
    "# check Trap in train data\n",
    "train_traps=train.trap.unique()\n",
    "print(train_traps)\n",
    "print(len(train_traps))"
   ]
  },
  {
   "cell_type": "code",
   "execution_count": 11,
   "metadata": {},
   "outputs": [
    {
     "name": "stdout",
     "output_type": "stream",
     "text": [
      "['T002' 'T007' 'T015' 'T045' 'T046' 'T048' 'T049' 'T050' 'T054' 'T086'\n",
      " 'T091' 'T094' 'T096' 'T129' 'T143' 'T148' 'T153' 'T159' 'T009' 'T011'\n",
      " 'T016' 'T019' 'T025' 'T028' 'T031' 'T033' 'T089' 'T090' 'T092' 'T135'\n",
      " 'T141' 'T142' 'T145' 'T146' 'T147' 'T149' 'T150' 'T151' 'T152' 'T154'\n",
      " 'T158' 'T162' 'T218' 'T220' 'T001' 'T003' 'T006' 'T008' 'T012' 'T034'\n",
      " 'T037' 'T040' 'T043' 'T047' 'T051' 'T085' 'T088' 'T161' 'T219' 'T013'\n",
      " 'T014' 'T018' 'T030' 'T084' 'T144' 'T160' 'T005' 'T017' 'T044' 'T095'\n",
      " 'T004' 'T035' 'T036' 'T039' 'T060' 'T061' 'T062' 'T065' 'T066' 'T067'\n",
      " 'T069' 'T070' 'T071' 'T073' 'T074' 'T075' 'T076' 'T077' 'T079' 'T080'\n",
      " 'T081' 'T082' 'T083' 'T114' 'T155' 'T063' 'T115' 'T138' 'T200' 'T206'\n",
      " 'T209' 'T212' 'T215' 'T107' 'T128' 'T072' 'T078' 'T097' 'T099' 'T100'\n",
      " 'T102' 'T103' 'T027' 'T156' 'T157' 'T221' 'T900' 'T903' 'T090A' 'T090B'\n",
      " 'T090C' 'T200A' 'T128A' 'T200B' 'T218A' 'T218C' 'T218B' 'T222' 'T223'\n",
      " 'T225' 'T227' 'T224' 'T226' 'T229' 'T230' 'T228' 'T231' 'T232' 'T002A'\n",
      " 'T002B' 'T233' 'T234' 'T235' 'T236' 'T237' 'T238' 'T065A' 'T094B' 'T054C']\n",
      "149\n"
     ]
    }
   ],
   "source": [
    "# check Trap in train data\n",
    "test_traps=test.trap.unique()\n",
    "print(test_traps)\n",
    "print(len(test_traps))"
   ]
  },
  {
   "cell_type": "markdown",
   "metadata": {},
   "source": [
    "#### Comments:\n",
    "- there are 136 unique traps in train data, while there are more traps in test data (149 traps)."
   ]
  },
  {
   "cell_type": "code",
   "execution_count": 12,
   "metadata": {},
   "outputs": [
    {
     "data": {
      "text/plain": [
       "CULEX PIPIENS/RESTUANS    4752\n",
       "CULEX RESTUANS            2740\n",
       "CULEX PIPIENS             2699\n",
       "CULEX TERRITANS            222\n",
       "CULEX SALINARIUS            86\n",
       "CULEX TARSALIS               6\n",
       "CULEX ERRATICUS              1\n",
       "Name: species, dtype: int64"
      ]
     },
     "execution_count": 12,
     "metadata": {},
     "output_type": "execute_result"
    }
   ],
   "source": [
    "# check 7 Species of Mosquitoes\n",
    "train['species'].value_counts()"
   ]
  },
  {
   "cell_type": "code",
   "execution_count": 13,
   "metadata": {},
   "outputs": [
    {
     "data": {
      "text/plain": [
       "CULEX PIPIENS/RESTUANS    15359\n",
       "CULEX RESTUANS            14670\n",
       "CULEX PIPIENS             14521\n",
       "CULEX SALINARIUS          14355\n",
       "CULEX TERRITANS           14351\n",
       "CULEX TARSALIS            14347\n",
       "UNSPECIFIED CULEX         14345\n",
       "CULEX ERRATICUS           14345\n",
       "Name: species, dtype: int64"
      ]
     },
     "execution_count": 13,
     "metadata": {},
     "output_type": "execute_result"
    }
   ],
   "source": [
    "test['species'].value_counts()"
   ]
  },
  {
   "cell_type": "markdown",
   "metadata": {},
   "source": [
    "#### Comments:\n",
    "\n",
    "- Both train and test data has the same top 3 specises mosquitos: CULEX PIPIENS/RESTUANS, CULEX RESTUANS and CULEX PIPIENS."
   ]
  },
  {
   "cell_type": "code",
   "execution_count": 14,
   "metadata": {},
   "outputs": [
    {
     "data": {
      "text/plain": [
       "date                      0\n",
       "address                   0\n",
       "species                   0\n",
       "block                     0\n",
       "street                    0\n",
       "trap                      0\n",
       "addressnumberandstreet    0\n",
       "latitude                  0\n",
       "longitude                 0\n",
       "addressaccuracy           0\n",
       "nummosquitos              0\n",
       "wnvpresent                0\n",
       "dtype: int64"
      ]
     },
     "execution_count": 14,
     "metadata": {},
     "output_type": "execute_result"
    }
   ],
   "source": [
    "train.isnull().sum()"
   ]
  },
  {
   "cell_type": "markdown",
   "metadata": {},
   "source": [
    "#### Comments: \n",
    "- There is no missing data in train data."
   ]
  },
  {
   "cell_type": "code",
   "execution_count": 15,
   "metadata": {},
   "outputs": [
    {
     "data": {
      "text/html": [
       "<div>\n",
       "<style scoped>\n",
       "    .dataframe tbody tr th:only-of-type {\n",
       "        vertical-align: middle;\n",
       "    }\n",
       "\n",
       "    .dataframe tbody tr th {\n",
       "        vertical-align: top;\n",
       "    }\n",
       "\n",
       "    .dataframe thead th {\n",
       "        text-align: right;\n",
       "    }\n",
       "</style>\n",
       "<table border=\"1\" class=\"dataframe\">\n",
       "  <thead>\n",
       "    <tr style=\"text-align: right;\">\n",
       "      <th></th>\n",
       "      <th>block</th>\n",
       "      <th>latitude</th>\n",
       "      <th>longitude</th>\n",
       "      <th>addressaccuracy</th>\n",
       "      <th>nummosquitos</th>\n",
       "      <th>wnvpresent</th>\n",
       "    </tr>\n",
       "  </thead>\n",
       "  <tbody>\n",
       "    <tr>\n",
       "      <th>count</th>\n",
       "      <td>10506.000000</td>\n",
       "      <td>10506.000000</td>\n",
       "      <td>10506.000000</td>\n",
       "      <td>10506.000000</td>\n",
       "      <td>10506.000000</td>\n",
       "      <td>10506.000000</td>\n",
       "    </tr>\n",
       "    <tr>\n",
       "      <th>mean</th>\n",
       "      <td>35.687797</td>\n",
       "      <td>41.841139</td>\n",
       "      <td>-87.699908</td>\n",
       "      <td>7.819532</td>\n",
       "      <td>12.853512</td>\n",
       "      <td>0.052446</td>\n",
       "    </tr>\n",
       "    <tr>\n",
       "      <th>std</th>\n",
       "      <td>24.339468</td>\n",
       "      <td>0.112742</td>\n",
       "      <td>0.096514</td>\n",
       "      <td>1.452921</td>\n",
       "      <td>16.133816</td>\n",
       "      <td>0.222936</td>\n",
       "    </tr>\n",
       "    <tr>\n",
       "      <th>min</th>\n",
       "      <td>10.000000</td>\n",
       "      <td>41.644612</td>\n",
       "      <td>-87.930995</td>\n",
       "      <td>3.000000</td>\n",
       "      <td>1.000000</td>\n",
       "      <td>0.000000</td>\n",
       "    </tr>\n",
       "    <tr>\n",
       "      <th>25%</th>\n",
       "      <td>12.000000</td>\n",
       "      <td>41.732984</td>\n",
       "      <td>-87.760070</td>\n",
       "      <td>8.000000</td>\n",
       "      <td>2.000000</td>\n",
       "      <td>0.000000</td>\n",
       "    </tr>\n",
       "    <tr>\n",
       "      <th>50%</th>\n",
       "      <td>33.000000</td>\n",
       "      <td>41.846283</td>\n",
       "      <td>-87.694991</td>\n",
       "      <td>8.000000</td>\n",
       "      <td>5.000000</td>\n",
       "      <td>0.000000</td>\n",
       "    </tr>\n",
       "    <tr>\n",
       "      <th>75%</th>\n",
       "      <td>52.000000</td>\n",
       "      <td>41.954690</td>\n",
       "      <td>-87.627796</td>\n",
       "      <td>9.000000</td>\n",
       "      <td>17.000000</td>\n",
       "      <td>0.000000</td>\n",
       "    </tr>\n",
       "    <tr>\n",
       "      <th>max</th>\n",
       "      <td>98.000000</td>\n",
       "      <td>42.017430</td>\n",
       "      <td>-87.531635</td>\n",
       "      <td>9.000000</td>\n",
       "      <td>50.000000</td>\n",
       "      <td>1.000000</td>\n",
       "    </tr>\n",
       "  </tbody>\n",
       "</table>\n",
       "</div>"
      ],
      "text/plain": [
       "              block      latitude     longitude  addressaccuracy  \\\n",
       "count  10506.000000  10506.000000  10506.000000     10506.000000   \n",
       "mean      35.687797     41.841139    -87.699908         7.819532   \n",
       "std       24.339468      0.112742      0.096514         1.452921   \n",
       "min       10.000000     41.644612    -87.930995         3.000000   \n",
       "25%       12.000000     41.732984    -87.760070         8.000000   \n",
       "50%       33.000000     41.846283    -87.694991         8.000000   \n",
       "75%       52.000000     41.954690    -87.627796         9.000000   \n",
       "max       98.000000     42.017430    -87.531635         9.000000   \n",
       "\n",
       "       nummosquitos    wnvpresent  \n",
       "count  10506.000000  10506.000000  \n",
       "mean      12.853512      0.052446  \n",
       "std       16.133816      0.222936  \n",
       "min        1.000000      0.000000  \n",
       "25%        2.000000      0.000000  \n",
       "50%        5.000000      0.000000  \n",
       "75%       17.000000      0.000000  \n",
       "max       50.000000      1.000000  "
      ]
     },
     "execution_count": 15,
     "metadata": {},
     "output_type": "execute_result"
    }
   ],
   "source": [
    "train.describe()"
   ]
  },
  {
   "cell_type": "code",
   "execution_count": 16,
   "metadata": {},
   "outputs": [
    {
     "name": "stdout",
     "output_type": "stream",
     "text": [
      "<class 'pandas.core.frame.DataFrame'>\n",
      "RangeIndex: 10506 entries, 0 to 10505\n",
      "Data columns (total 12 columns):\n",
      " #   Column                  Non-Null Count  Dtype  \n",
      "---  ------                  --------------  -----  \n",
      " 0   date                    10506 non-null  object \n",
      " 1   address                 10506 non-null  object \n",
      " 2   species                 10506 non-null  object \n",
      " 3   block                   10506 non-null  int64  \n",
      " 4   street                  10506 non-null  object \n",
      " 5   trap                    10506 non-null  object \n",
      " 6   addressnumberandstreet  10506 non-null  object \n",
      " 7   latitude                10506 non-null  float64\n",
      " 8   longitude               10506 non-null  float64\n",
      " 9   addressaccuracy         10506 non-null  int64  \n",
      " 10  nummosquitos            10506 non-null  int64  \n",
      " 11  wnvpresent              10506 non-null  int64  \n",
      "dtypes: float64(2), int64(4), object(6)\n",
      "memory usage: 985.1+ KB\n"
     ]
    }
   ],
   "source": [
    "train.info()"
   ]
  },
  {
   "cell_type": "code",
   "execution_count": 17,
   "metadata": {},
   "outputs": [
    {
     "name": "stdout",
     "output_type": "stream",
     "text": [
      "<class 'pandas.core.frame.DataFrame'>\n",
      "RangeIndex: 116293 entries, 0 to 116292\n",
      "Data columns (total 11 columns):\n",
      " #   Column                  Non-Null Count   Dtype  \n",
      "---  ------                  --------------   -----  \n",
      " 0   id                      116293 non-null  int64  \n",
      " 1   date                    116293 non-null  object \n",
      " 2   address                 116293 non-null  object \n",
      " 3   species                 116293 non-null  object \n",
      " 4   block                   116293 non-null  int64  \n",
      " 5   street                  116293 non-null  object \n",
      " 6   trap                    116293 non-null  object \n",
      " 7   addressnumberandstreet  116293 non-null  object \n",
      " 8   latitude                116293 non-null  float64\n",
      " 9   longitude               116293 non-null  float64\n",
      " 10  addressaccuracy         116293 non-null  int64  \n",
      "dtypes: float64(2), int64(3), object(6)\n",
      "memory usage: 9.8+ MB\n"
     ]
    }
   ],
   "source": [
    "test.info()"
   ]
  },
  {
   "cell_type": "code",
   "execution_count": 18,
   "metadata": {},
   "outputs": [],
   "source": [
    "# convert to datetime\n",
    "train[\"date\"] = pd.to_datetime(train[\"date\"], format='%Y-%m-%d')\n",
    "test[\"date\"] = pd.to_datetime(test[\"date\"], format='%Y-%m-%d')"
   ]
  },
  {
   "cell_type": "code",
   "execution_count": 19,
   "metadata": {},
   "outputs": [
    {
     "name": "stdout",
     "output_type": "stream",
     "text": [
      "<class 'pandas.core.frame.DataFrame'>\n",
      "RangeIndex: 10506 entries, 0 to 10505\n",
      "Data columns (total 12 columns):\n",
      " #   Column                  Non-Null Count  Dtype         \n",
      "---  ------                  --------------  -----         \n",
      " 0   date                    10506 non-null  datetime64[ns]\n",
      " 1   address                 10506 non-null  object        \n",
      " 2   species                 10506 non-null  object        \n",
      " 3   block                   10506 non-null  int64         \n",
      " 4   street                  10506 non-null  object        \n",
      " 5   trap                    10506 non-null  object        \n",
      " 6   addressnumberandstreet  10506 non-null  object        \n",
      " 7   latitude                10506 non-null  float64       \n",
      " 8   longitude               10506 non-null  float64       \n",
      " 9   addressaccuracy         10506 non-null  int64         \n",
      " 10  nummosquitos            10506 non-null  int64         \n",
      " 11  wnvpresent              10506 non-null  int64         \n",
      "dtypes: datetime64[ns](1), float64(2), int64(4), object(5)\n",
      "memory usage: 985.1+ KB\n"
     ]
    }
   ],
   "source": [
    "train.info()"
   ]
  },
  {
   "cell_type": "markdown",
   "metadata": {},
   "source": [
    "#### Traps Address check"
   ]
  },
  {
   "cell_type": "code",
   "execution_count": 20,
   "metadata": {},
   "outputs": [
    {
     "data": {
      "text/html": [
       "<div>\n",
       "<style scoped>\n",
       "    .dataframe tbody tr th:only-of-type {\n",
       "        vertical-align: middle;\n",
       "    }\n",
       "\n",
       "    .dataframe tbody tr th {\n",
       "        vertical-align: top;\n",
       "    }\n",
       "\n",
       "    .dataframe thead th {\n",
       "        text-align: right;\n",
       "    }\n",
       "</style>\n",
       "<table border=\"1\" class=\"dataframe\">\n",
       "  <thead>\n",
       "    <tr style=\"text-align: right;\">\n",
       "      <th></th>\n",
       "      <th>address</th>\n",
       "    </tr>\n",
       "    <tr>\n",
       "      <th>trap</th>\n",
       "      <th></th>\n",
       "    </tr>\n",
       "  </thead>\n",
       "  <tbody>\n",
       "    <tr>\n",
       "      <th>T009</th>\n",
       "      <td>2</td>\n",
       "    </tr>\n",
       "    <tr>\n",
       "      <th>T035</th>\n",
       "      <td>2</td>\n",
       "    </tr>\n",
       "  </tbody>\n",
       "</table>\n",
       "</div>"
      ],
      "text/plain": [
       "      address\n",
       "trap         \n",
       "T009        2\n",
       "T035        2"
      ]
     },
     "execution_count": 20,
     "metadata": {},
     "output_type": "execute_result"
    }
   ],
   "source": [
    "trap_add = train[['trap','address']].groupby(by='trap').agg({'address':pd.Series.nunique})\n",
    "trap_add[trap_add['address'] >1]"
   ]
  },
  {
   "cell_type": "code",
   "execution_count": 21,
   "metadata": {},
   "outputs": [
    {
     "data": {
      "text/plain": [
       "9100 West Higgins Road, Rosemont, IL 60018, USA     80\n",
       "9100 West Higgins Avenue, Chicago, IL 60656, USA    31\n",
       "Name: address, dtype: int64"
      ]
     },
     "execution_count": 21,
     "metadata": {},
     "output_type": "execute_result"
    }
   ],
   "source": [
    "train[train['trap']=='T009'].address.value_counts()"
   ]
  },
  {
   "cell_type": "code",
   "execution_count": 22,
   "metadata": {},
   "outputs": [
    {
     "data": {
      "text/plain": [
       "5100 West 72nd Street, Chicago, IL 60638, USA      45\n",
       "3000 South Hoyne Avenue, Chicago, IL 60608, USA    27\n",
       "Name: address, dtype: int64"
      ]
     },
     "execution_count": 22,
     "metadata": {},
     "output_type": "execute_result"
    }
   ],
   "source": [
    "train[train['trap']=='T035'].address.value_counts()"
   ]
  },
  {
   "cell_type": "markdown",
   "metadata": {},
   "source": [
    "#### Comments:\n",
    "\n",
    "- T035 is probably mislabelled for one of the addresses and T009 is probably a typo. \n",
    "- Since coordinates are already present, trap numbers aren't important. "
   ]
  },
  {
   "cell_type": "markdown",
   "metadata": {},
   "source": [
    "#### Combine mosquito counts\n",
    "\n",
    "As the test results are organized in a way that the number of mosquitoes are capped at 50 for each record\n",
    "even when the samples are collected on the same day. We will combine these records into a single record."
   ]
  },
  {
   "cell_type": "code",
   "execution_count": 23,
   "metadata": {},
   "outputs": [
    {
     "data": {
      "text/plain": [
       "(10506, 12)"
      ]
     },
     "execution_count": 23,
     "metadata": {},
     "output_type": "execute_result"
    }
   ],
   "source": [
    "train.shape"
   ]
  },
  {
   "cell_type": "code",
   "execution_count": 24,
   "metadata": {},
   "outputs": [
    {
     "data": {
      "text/html": [
       "<div>\n",
       "<style scoped>\n",
       "    .dataframe tbody tr th:only-of-type {\n",
       "        vertical-align: middle;\n",
       "    }\n",
       "\n",
       "    .dataframe tbody tr th {\n",
       "        vertical-align: top;\n",
       "    }\n",
       "\n",
       "    .dataframe thead th {\n",
       "        text-align: right;\n",
       "    }\n",
       "</style>\n",
       "<table border=\"1\" class=\"dataframe\">\n",
       "  <thead>\n",
       "    <tr style=\"text-align: right;\">\n",
       "      <th></th>\n",
       "      <th>date</th>\n",
       "      <th>address</th>\n",
       "      <th>species</th>\n",
       "      <th>block</th>\n",
       "      <th>street</th>\n",
       "      <th>trap</th>\n",
       "      <th>addressnumberandstreet</th>\n",
       "      <th>latitude</th>\n",
       "      <th>longitude</th>\n",
       "      <th>addressaccuracy</th>\n",
       "      <th>nummosquitos</th>\n",
       "      <th>wnvpresent</th>\n",
       "    </tr>\n",
       "  </thead>\n",
       "  <tbody>\n",
       "    <tr>\n",
       "      <th>0</th>\n",
       "      <td>2007-05-29</td>\n",
       "      <td>1100 Roosevelt Road, Chicago, IL 60608, USA</td>\n",
       "      <td>CULEX PIPIENS/RESTUANS</td>\n",
       "      <td>11</td>\n",
       "      <td>W ROOSEVELT</td>\n",
       "      <td>T048</td>\n",
       "      <td>1100  W ROOSEVELT, Chicago, IL</td>\n",
       "      <td>41.867108</td>\n",
       "      <td>-87.654224</td>\n",
       "      <td>8</td>\n",
       "      <td>1</td>\n",
       "      <td>0</td>\n",
       "    </tr>\n",
       "    <tr>\n",
       "      <th>1</th>\n",
       "      <td>2007-05-29</td>\n",
       "      <td>1100 Roosevelt Road, Chicago, IL 60608, USA</td>\n",
       "      <td>CULEX RESTUANS</td>\n",
       "      <td>11</td>\n",
       "      <td>W ROOSEVELT</td>\n",
       "      <td>T048</td>\n",
       "      <td>1100  W ROOSEVELT, Chicago, IL</td>\n",
       "      <td>41.867108</td>\n",
       "      <td>-87.654224</td>\n",
       "      <td>8</td>\n",
       "      <td>2</td>\n",
       "      <td>0</td>\n",
       "    </tr>\n",
       "  </tbody>\n",
       "</table>\n",
       "</div>"
      ],
      "text/plain": [
       "        date                                      address  \\\n",
       "0 2007-05-29  1100 Roosevelt Road, Chicago, IL 60608, USA   \n",
       "1 2007-05-29  1100 Roosevelt Road, Chicago, IL 60608, USA   \n",
       "\n",
       "                  species  block        street  trap  \\\n",
       "0  CULEX PIPIENS/RESTUANS     11   W ROOSEVELT  T048   \n",
       "1          CULEX RESTUANS     11   W ROOSEVELT  T048   \n",
       "\n",
       "           addressnumberandstreet   latitude  longitude  addressaccuracy  \\\n",
       "0  1100  W ROOSEVELT, Chicago, IL  41.867108 -87.654224                8   \n",
       "1  1100  W ROOSEVELT, Chicago, IL  41.867108 -87.654224                8   \n",
       "\n",
       "   nummosquitos  wnvpresent  \n",
       "0             1           0  \n",
       "1             2           0  "
      ]
     },
     "execution_count": 24,
     "metadata": {},
     "output_type": "execute_result"
    }
   ],
   "source": [
    "train= train.groupby([col for col in train.columns if col not in ['nummosquitos', \\\n",
    "                                                                'wnvpresent']]).sum()\n",
    "train.reset_index(inplace=True)\n",
    "train['wnvpresent'] = train['wnvpresent'].map(lambda x : 1 if x > 0 else x)\n",
    "\n",
    "train.head(2)"
   ]
  },
  {
   "cell_type": "code",
   "execution_count": 25,
   "metadata": {},
   "outputs": [],
   "source": [
    "# split the date column into  year, month and day\n",
    "train['year']=train.date.dt.year\n",
    "train['month']=train.date.dt.month\n",
    "train['day']=train.date.dt.day\n",
    "\n",
    "test['year']=test.date.dt.year\n",
    "test['month']=test.date.dt.month\n",
    "test['day']=test.date.dt.day"
   ]
  },
  {
   "cell_type": "code",
   "execution_count": 26,
   "metadata": {},
   "outputs": [
    {
     "data": {
      "text/html": [
       "<div>\n",
       "<style scoped>\n",
       "    .dataframe tbody tr th:only-of-type {\n",
       "        vertical-align: middle;\n",
       "    }\n",
       "\n",
       "    .dataframe tbody tr th {\n",
       "        vertical-align: top;\n",
       "    }\n",
       "\n",
       "    .dataframe thead th {\n",
       "        text-align: right;\n",
       "    }\n",
       "</style>\n",
       "<table border=\"1\" class=\"dataframe\">\n",
       "  <thead>\n",
       "    <tr style=\"text-align: right;\">\n",
       "      <th></th>\n",
       "      <th>date</th>\n",
       "      <th>address</th>\n",
       "      <th>species</th>\n",
       "      <th>block</th>\n",
       "      <th>street</th>\n",
       "      <th>trap</th>\n",
       "      <th>addressnumberandstreet</th>\n",
       "      <th>latitude</th>\n",
       "      <th>longitude</th>\n",
       "      <th>addressaccuracy</th>\n",
       "      <th>nummosquitos</th>\n",
       "      <th>wnvpresent</th>\n",
       "      <th>year</th>\n",
       "      <th>month</th>\n",
       "      <th>day</th>\n",
       "    </tr>\n",
       "  </thead>\n",
       "  <tbody>\n",
       "    <tr>\n",
       "      <th>0</th>\n",
       "      <td>2007-05-29</td>\n",
       "      <td>1100 Roosevelt Road, Chicago, IL 60608, USA</td>\n",
       "      <td>CULEX PIPIENS/RESTUANS</td>\n",
       "      <td>11</td>\n",
       "      <td>W ROOSEVELT</td>\n",
       "      <td>T048</td>\n",
       "      <td>1100  W ROOSEVELT, Chicago, IL</td>\n",
       "      <td>41.867108</td>\n",
       "      <td>-87.654224</td>\n",
       "      <td>8</td>\n",
       "      <td>1</td>\n",
       "      <td>0</td>\n",
       "      <td>2007</td>\n",
       "      <td>5</td>\n",
       "      <td>29</td>\n",
       "    </tr>\n",
       "    <tr>\n",
       "      <th>1</th>\n",
       "      <td>2007-05-29</td>\n",
       "      <td>1100 Roosevelt Road, Chicago, IL 60608, USA</td>\n",
       "      <td>CULEX RESTUANS</td>\n",
       "      <td>11</td>\n",
       "      <td>W ROOSEVELT</td>\n",
       "      <td>T048</td>\n",
       "      <td>1100  W ROOSEVELT, Chicago, IL</td>\n",
       "      <td>41.867108</td>\n",
       "      <td>-87.654224</td>\n",
       "      <td>8</td>\n",
       "      <td>2</td>\n",
       "      <td>0</td>\n",
       "      <td>2007</td>\n",
       "      <td>5</td>\n",
       "      <td>29</td>\n",
       "    </tr>\n",
       "  </tbody>\n",
       "</table>\n",
       "</div>"
      ],
      "text/plain": [
       "        date                                      address  \\\n",
       "0 2007-05-29  1100 Roosevelt Road, Chicago, IL 60608, USA   \n",
       "1 2007-05-29  1100 Roosevelt Road, Chicago, IL 60608, USA   \n",
       "\n",
       "                  species  block        street  trap  \\\n",
       "0  CULEX PIPIENS/RESTUANS     11   W ROOSEVELT  T048   \n",
       "1          CULEX RESTUANS     11   W ROOSEVELT  T048   \n",
       "\n",
       "           addressnumberandstreet   latitude  longitude  addressaccuracy  \\\n",
       "0  1100  W ROOSEVELT, Chicago, IL  41.867108 -87.654224                8   \n",
       "1  1100  W ROOSEVELT, Chicago, IL  41.867108 -87.654224                8   \n",
       "\n",
       "   nummosquitos  wnvpresent  year  month  day  \n",
       "0             1           0  2007      5   29  \n",
       "1             2           0  2007      5   29  "
      ]
     },
     "execution_count": 26,
     "metadata": {},
     "output_type": "execute_result"
    }
   ],
   "source": [
    "train.head(2)"
   ]
  },
  {
   "cell_type": "code",
   "execution_count": 27,
   "metadata": {},
   "outputs": [
    {
     "data": {
      "text/plain": [
       "(8475, 15)"
      ]
     },
     "execution_count": 27,
     "metadata": {},
     "output_type": "execute_result"
    }
   ],
   "source": [
    "train.shape"
   ]
  },
  {
   "cell_type": "code",
   "execution_count": 28,
   "metadata": {},
   "outputs": [
    {
     "data": {
      "text/plain": [
       "(116293, 14)"
      ]
     },
     "execution_count": 28,
     "metadata": {},
     "output_type": "execute_result"
    }
   ],
   "source": [
    "test.shape"
   ]
  },
  {
   "cell_type": "markdown",
   "metadata": {},
   "source": [
    "### 3.2 Spray Data Inspection & Cleaning"
   ]
  },
  {
   "cell_type": "code",
   "execution_count": 29,
   "metadata": {},
   "outputs": [
    {
     "data": {
      "text/html": [
       "<div>\n",
       "<style scoped>\n",
       "    .dataframe tbody tr th:only-of-type {\n",
       "        vertical-align: middle;\n",
       "    }\n",
       "\n",
       "    .dataframe tbody tr th {\n",
       "        vertical-align: top;\n",
       "    }\n",
       "\n",
       "    .dataframe thead th {\n",
       "        text-align: right;\n",
       "    }\n",
       "</style>\n",
       "<table border=\"1\" class=\"dataframe\">\n",
       "  <thead>\n",
       "    <tr style=\"text-align: right;\">\n",
       "      <th></th>\n",
       "      <th>Date</th>\n",
       "      <th>Time</th>\n",
       "      <th>Latitude</th>\n",
       "      <th>Longitude</th>\n",
       "    </tr>\n",
       "  </thead>\n",
       "  <tbody>\n",
       "    <tr>\n",
       "      <th>0</th>\n",
       "      <td>2011-08-29</td>\n",
       "      <td>6:56:58 PM</td>\n",
       "      <td>42.391623</td>\n",
       "      <td>-88.089163</td>\n",
       "    </tr>\n",
       "    <tr>\n",
       "      <th>1</th>\n",
       "      <td>2011-08-29</td>\n",
       "      <td>6:57:08 PM</td>\n",
       "      <td>42.391348</td>\n",
       "      <td>-88.089163</td>\n",
       "    </tr>\n",
       "    <tr>\n",
       "      <th>2</th>\n",
       "      <td>2011-08-29</td>\n",
       "      <td>6:57:18 PM</td>\n",
       "      <td>42.391022</td>\n",
       "      <td>-88.089157</td>\n",
       "    </tr>\n",
       "  </tbody>\n",
       "</table>\n",
       "</div>"
      ],
      "text/plain": [
       "         Date        Time   Latitude  Longitude\n",
       "0  2011-08-29  6:56:58 PM  42.391623 -88.089163\n",
       "1  2011-08-29  6:57:08 PM  42.391348 -88.089163\n",
       "2  2011-08-29  6:57:18 PM  42.391022 -88.089157"
      ]
     },
     "execution_count": 29,
     "metadata": {},
     "output_type": "execute_result"
    }
   ],
   "source": [
    "spray.head(3)"
   ]
  },
  {
   "cell_type": "code",
   "execution_count": 30,
   "metadata": {},
   "outputs": [],
   "source": [
    "#convert column names into lowercase\n",
    "spray.columns=spray.columns.map(lambda x:x.lower())"
   ]
  },
  {
   "cell_type": "code",
   "execution_count": 31,
   "metadata": {},
   "outputs": [
    {
     "data": {
      "text/html": [
       "<div>\n",
       "<style scoped>\n",
       "    .dataframe tbody tr th:only-of-type {\n",
       "        vertical-align: middle;\n",
       "    }\n",
       "\n",
       "    .dataframe tbody tr th {\n",
       "        vertical-align: top;\n",
       "    }\n",
       "\n",
       "    .dataframe thead th {\n",
       "        text-align: right;\n",
       "    }\n",
       "</style>\n",
       "<table border=\"1\" class=\"dataframe\">\n",
       "  <thead>\n",
       "    <tr style=\"text-align: right;\">\n",
       "      <th></th>\n",
       "      <th>count</th>\n",
       "      <th>mean</th>\n",
       "      <th>std</th>\n",
       "      <th>min</th>\n",
       "      <th>25%</th>\n",
       "      <th>50%</th>\n",
       "      <th>75%</th>\n",
       "      <th>max</th>\n",
       "    </tr>\n",
       "  </thead>\n",
       "  <tbody>\n",
       "    <tr>\n",
       "      <th>latitude</th>\n",
       "      <td>14835.0</td>\n",
       "      <td>41.904828</td>\n",
       "      <td>0.104381</td>\n",
       "      <td>41.713925</td>\n",
       "      <td>41.785001</td>\n",
       "      <td>41.940075</td>\n",
       "      <td>41.980978</td>\n",
       "      <td>42.395983</td>\n",
       "    </tr>\n",
       "    <tr>\n",
       "      <th>longitude</th>\n",
       "      <td>14835.0</td>\n",
       "      <td>-87.736690</td>\n",
       "      <td>0.067292</td>\n",
       "      <td>-88.096468</td>\n",
       "      <td>-87.794225</td>\n",
       "      <td>-87.727853</td>\n",
       "      <td>-87.694108</td>\n",
       "      <td>-87.586727</td>\n",
       "    </tr>\n",
       "  </tbody>\n",
       "</table>\n",
       "</div>"
      ],
      "text/plain": [
       "             count       mean       std        min        25%        50%  \\\n",
       "latitude   14835.0  41.904828  0.104381  41.713925  41.785001  41.940075   \n",
       "longitude  14835.0 -87.736690  0.067292 -88.096468 -87.794225 -87.727853   \n",
       "\n",
       "                 75%        max  \n",
       "latitude   41.980978  42.395983  \n",
       "longitude -87.694108 -87.586727  "
      ]
     },
     "execution_count": 31,
     "metadata": {},
     "output_type": "execute_result"
    }
   ],
   "source": [
    "spray.describe().T"
   ]
  },
  {
   "cell_type": "code",
   "execution_count": 32,
   "metadata": {},
   "outputs": [
    {
     "name": "stdout",
     "output_type": "stream",
     "text": [
      "<class 'pandas.core.frame.DataFrame'>\n",
      "RangeIndex: 14835 entries, 0 to 14834\n",
      "Data columns (total 4 columns):\n",
      " #   Column     Non-Null Count  Dtype  \n",
      "---  ------     --------------  -----  \n",
      " 0   date       14835 non-null  object \n",
      " 1   time       14251 non-null  object \n",
      " 2   latitude   14835 non-null  float64\n",
      " 3   longitude  14835 non-null  float64\n",
      "dtypes: float64(2), object(2)\n",
      "memory usage: 463.7+ KB\n"
     ]
    }
   ],
   "source": [
    "spray.info()"
   ]
  },
  {
   "cell_type": "code",
   "execution_count": 33,
   "metadata": {},
   "outputs": [],
   "source": [
    "# convert to datetime\n",
    "spray[\"date\"] = pd.to_datetime(spray[\"date\"],format='%Y-%m-%d')"
   ]
  },
  {
   "cell_type": "code",
   "execution_count": 34,
   "metadata": {},
   "outputs": [
    {
     "data": {
      "text/plain": [
       "date           0\n",
       "time         584\n",
       "latitude       0\n",
       "longitude      0\n",
       "dtype: int64"
      ]
     },
     "execution_count": 34,
     "metadata": {},
     "output_type": "execute_result"
    }
   ],
   "source": [
    "spray.isnull().sum()"
   ]
  },
  {
   "cell_type": "markdown",
   "metadata": {},
   "source": [
    "#### Comments:\n",
    "There are 584 rows with missing Time value and We have no clue to determine the true value, We will drop this column."
   ]
  },
  {
   "cell_type": "code",
   "execution_count": 35,
   "metadata": {},
   "outputs": [],
   "source": [
    "# drop \"time\" column from Spray data\n",
    "spray.drop(\"time\", axis=1, inplace=True)"
   ]
  },
  {
   "cell_type": "code",
   "execution_count": 36,
   "metadata": {},
   "outputs": [
    {
     "data": {
      "text/html": [
       "<div>\n",
       "<style scoped>\n",
       "    .dataframe tbody tr th:only-of-type {\n",
       "        vertical-align: middle;\n",
       "    }\n",
       "\n",
       "    .dataframe tbody tr th {\n",
       "        vertical-align: top;\n",
       "    }\n",
       "\n",
       "    .dataframe thead th {\n",
       "        text-align: right;\n",
       "    }\n",
       "</style>\n",
       "<table border=\"1\" class=\"dataframe\">\n",
       "  <thead>\n",
       "    <tr style=\"text-align: right;\">\n",
       "      <th></th>\n",
       "      <th>date</th>\n",
       "      <th>latitude</th>\n",
       "      <th>longitude</th>\n",
       "    </tr>\n",
       "  </thead>\n",
       "  <tbody>\n",
       "    <tr>\n",
       "      <th>0</th>\n",
       "      <td>2011-08-29</td>\n",
       "      <td>42.391623</td>\n",
       "      <td>-88.089163</td>\n",
       "    </tr>\n",
       "    <tr>\n",
       "      <th>1</th>\n",
       "      <td>2011-08-29</td>\n",
       "      <td>42.391348</td>\n",
       "      <td>-88.089163</td>\n",
       "    </tr>\n",
       "    <tr>\n",
       "      <th>2</th>\n",
       "      <td>2011-08-29</td>\n",
       "      <td>42.391022</td>\n",
       "      <td>-88.089157</td>\n",
       "    </tr>\n",
       "    <tr>\n",
       "      <th>3</th>\n",
       "      <td>2011-08-29</td>\n",
       "      <td>42.390637</td>\n",
       "      <td>-88.089158</td>\n",
       "    </tr>\n",
       "    <tr>\n",
       "      <th>4</th>\n",
       "      <td>2011-08-29</td>\n",
       "      <td>42.390410</td>\n",
       "      <td>-88.088858</td>\n",
       "    </tr>\n",
       "  </tbody>\n",
       "</table>\n",
       "</div>"
      ],
      "text/plain": [
       "        date   latitude  longitude\n",
       "0 2011-08-29  42.391623 -88.089163\n",
       "1 2011-08-29  42.391348 -88.089163\n",
       "2 2011-08-29  42.391022 -88.089157\n",
       "3 2011-08-29  42.390637 -88.089158\n",
       "4 2011-08-29  42.390410 -88.088858"
      ]
     },
     "execution_count": 36,
     "metadata": {},
     "output_type": "execute_result"
    }
   ],
   "source": [
    "spray.head()"
   ]
  },
  {
   "cell_type": "code",
   "execution_count": 37,
   "metadata": {},
   "outputs": [
    {
     "data": {
      "text/plain": [
       "(14835, 3)"
      ]
     },
     "execution_count": 37,
     "metadata": {},
     "output_type": "execute_result"
    }
   ],
   "source": [
    "spray.shape"
   ]
  },
  {
   "cell_type": "code",
   "execution_count": 38,
   "metadata": {},
   "outputs": [
    {
     "data": {
      "text/html": [
       "<div>\n",
       "<style scoped>\n",
       "    .dataframe tbody tr th:only-of-type {\n",
       "        vertical-align: middle;\n",
       "    }\n",
       "\n",
       "    .dataframe tbody tr th {\n",
       "        vertical-align: top;\n",
       "    }\n",
       "\n",
       "    .dataframe thead th {\n",
       "        text-align: right;\n",
       "    }\n",
       "</style>\n",
       "<table border=\"1\" class=\"dataframe\">\n",
       "  <thead>\n",
       "    <tr style=\"text-align: right;\">\n",
       "      <th></th>\n",
       "      <th>date</th>\n",
       "      <th>latitude</th>\n",
       "      <th>longitude</th>\n",
       "    </tr>\n",
       "  </thead>\n",
       "  <tbody>\n",
       "    <tr>\n",
       "      <th>485</th>\n",
       "      <td>2011-09-07</td>\n",
       "      <td>41.983917</td>\n",
       "      <td>-87.793088</td>\n",
       "    </tr>\n",
       "    <tr>\n",
       "      <th>490</th>\n",
       "      <td>2011-09-07</td>\n",
       "      <td>41.986460</td>\n",
       "      <td>-87.794225</td>\n",
       "    </tr>\n",
       "    <tr>\n",
       "      <th>491</th>\n",
       "      <td>2011-09-07</td>\n",
       "      <td>41.986460</td>\n",
       "      <td>-87.794225</td>\n",
       "    </tr>\n",
       "    <tr>\n",
       "      <th>492</th>\n",
       "      <td>2011-09-07</td>\n",
       "      <td>41.986460</td>\n",
       "      <td>-87.794225</td>\n",
       "    </tr>\n",
       "    <tr>\n",
       "      <th>493</th>\n",
       "      <td>2011-09-07</td>\n",
       "      <td>41.986460</td>\n",
       "      <td>-87.794225</td>\n",
       "    </tr>\n",
       "    <tr>\n",
       "      <th>...</th>\n",
       "      <td>...</td>\n",
       "      <td>...</td>\n",
       "      <td>...</td>\n",
       "    </tr>\n",
       "    <tr>\n",
       "      <th>1025</th>\n",
       "      <td>2011-09-07</td>\n",
       "      <td>41.986460</td>\n",
       "      <td>-87.794225</td>\n",
       "    </tr>\n",
       "    <tr>\n",
       "      <th>1026</th>\n",
       "      <td>2011-09-07</td>\n",
       "      <td>41.986460</td>\n",
       "      <td>-87.794225</td>\n",
       "    </tr>\n",
       "    <tr>\n",
       "      <th>1027</th>\n",
       "      <td>2011-09-07</td>\n",
       "      <td>41.986460</td>\n",
       "      <td>-87.794225</td>\n",
       "    </tr>\n",
       "    <tr>\n",
       "      <th>1028</th>\n",
       "      <td>2011-09-07</td>\n",
       "      <td>41.986460</td>\n",
       "      <td>-87.794225</td>\n",
       "    </tr>\n",
       "    <tr>\n",
       "      <th>1029</th>\n",
       "      <td>2011-09-07</td>\n",
       "      <td>41.986460</td>\n",
       "      <td>-87.794225</td>\n",
       "    </tr>\n",
       "  </tbody>\n",
       "</table>\n",
       "<p>541 rows × 3 columns</p>\n",
       "</div>"
      ],
      "text/plain": [
       "           date   latitude  longitude\n",
       "485  2011-09-07  41.983917 -87.793088\n",
       "490  2011-09-07  41.986460 -87.794225\n",
       "491  2011-09-07  41.986460 -87.794225\n",
       "492  2011-09-07  41.986460 -87.794225\n",
       "493  2011-09-07  41.986460 -87.794225\n",
       "...         ...        ...        ...\n",
       "1025 2011-09-07  41.986460 -87.794225\n",
       "1026 2011-09-07  41.986460 -87.794225\n",
       "1027 2011-09-07  41.986460 -87.794225\n",
       "1028 2011-09-07  41.986460 -87.794225\n",
       "1029 2011-09-07  41.986460 -87.794225\n",
       "\n",
       "[541 rows x 3 columns]"
      ]
     },
     "execution_count": 38,
     "metadata": {},
     "output_type": "execute_result"
    }
   ],
   "source": [
    "# check duplicates\n",
    "spray[spray.duplicated()==True] "
   ]
  },
  {
   "cell_type": "code",
   "execution_count": 39,
   "metadata": {},
   "outputs": [],
   "source": [
    "# there are 541 duplicated rows and We will remove them \n",
    "spray.drop_duplicates(keep='last', inplace = True)"
   ]
  },
  {
   "cell_type": "code",
   "execution_count": 40,
   "metadata": {},
   "outputs": [
    {
     "data": {
      "text/plain": [
       "(14294, 3)"
      ]
     },
     "execution_count": 40,
     "metadata": {},
     "output_type": "execute_result"
    }
   ],
   "source": [
    "spray.shape"
   ]
  },
  {
   "cell_type": "markdown",
   "metadata": {},
   "source": [
    "#### Comments:\n",
    "- After removing duplicates, We have 14294 records for spray data."
   ]
  },
  {
   "cell_type": "code",
   "execution_count": 41,
   "metadata": {},
   "outputs": [
    {
     "data": {
      "text/html": [
       "<div>\n",
       "<style scoped>\n",
       "    .dataframe tbody tr th:only-of-type {\n",
       "        vertical-align: middle;\n",
       "    }\n",
       "\n",
       "    .dataframe tbody tr th {\n",
       "        vertical-align: top;\n",
       "    }\n",
       "\n",
       "    .dataframe thead th {\n",
       "        text-align: right;\n",
       "    }\n",
       "</style>\n",
       "<table border=\"1\" class=\"dataframe\">\n",
       "  <thead>\n",
       "    <tr style=\"text-align: right;\">\n",
       "      <th></th>\n",
       "      <th>date</th>\n",
       "      <th>latitude</th>\n",
       "      <th>longitude</th>\n",
       "    </tr>\n",
       "  </thead>\n",
       "  <tbody>\n",
       "    <tr>\n",
       "      <th>0</th>\n",
       "      <td>2011-08-29</td>\n",
       "      <td>42.391623</td>\n",
       "      <td>-88.089163</td>\n",
       "    </tr>\n",
       "    <tr>\n",
       "      <th>1</th>\n",
       "      <td>2011-08-29</td>\n",
       "      <td>42.391348</td>\n",
       "      <td>-88.089163</td>\n",
       "    </tr>\n",
       "  </tbody>\n",
       "</table>\n",
       "</div>"
      ],
      "text/plain": [
       "        date   latitude  longitude\n",
       "0 2011-08-29  42.391623 -88.089163\n",
       "1 2011-08-29  42.391348 -88.089163"
      ]
     },
     "execution_count": 41,
     "metadata": {},
     "output_type": "execute_result"
    }
   ],
   "source": [
    "spray.head(2)"
   ]
  },
  {
   "cell_type": "code",
   "execution_count": 42,
   "metadata": {},
   "outputs": [
    {
     "name": "stdout",
     "output_type": "stream",
     "text": [
      "<class 'pandas.core.frame.DataFrame'>\n",
      "Int64Index: 14294 entries, 0 to 14834\n",
      "Data columns (total 3 columns):\n",
      " #   Column     Non-Null Count  Dtype         \n",
      "---  ------     --------------  -----         \n",
      " 0   date       14294 non-null  datetime64[ns]\n",
      " 1   latitude   14294 non-null  float64       \n",
      " 2   longitude  14294 non-null  float64       \n",
      "dtypes: datetime64[ns](1), float64(2)\n",
      "memory usage: 446.7 KB\n"
     ]
    }
   ],
   "source": [
    "spray.info()"
   ]
  },
  {
   "cell_type": "code",
   "execution_count": 43,
   "metadata": {},
   "outputs": [
    {
     "data": {
      "text/plain": [
       "2007    2775\n",
       "2013    2012\n",
       "2009    1915\n",
       "2011    1773\n",
       "Name: date, dtype: int64"
      ]
     },
     "execution_count": 43,
     "metadata": {},
     "output_type": "execute_result"
    }
   ],
   "source": [
    "train.date.dt.year.value_counts()"
   ]
  },
  {
   "cell_type": "code",
   "execution_count": 44,
   "metadata": {},
   "outputs": [
    {
     "data": {
      "text/plain": [
       "2010    36557\n",
       "2008    30498\n",
       "2012    27115\n",
       "2014    22123\n",
       "Name: date, dtype: int64"
      ]
     },
     "execution_count": 44,
     "metadata": {},
     "output_type": "execute_result"
    }
   ],
   "source": [
    "test.date.dt.year.value_counts()"
   ]
  },
  {
   "cell_type": "code",
   "execution_count": 45,
   "metadata": {},
   "outputs": [
    {
     "data": {
      "text/plain": [
       "2013    12626\n",
       "2011     1668\n",
       "Name: date, dtype: int64"
      ]
     },
     "execution_count": 45,
     "metadata": {},
     "output_type": "execute_result"
    }
   ],
   "source": [
    "spray.date.dt.year.value_counts()"
   ]
  },
  {
   "cell_type": "markdown",
   "metadata": {},
   "source": [
    "#### Comments:\n",
    "- Spray data has only year 2011 & 2013 data and only spray for 2 years records in train data."
   ]
  },
  {
   "cell_type": "code",
   "execution_count": 46,
   "metadata": {},
   "outputs": [],
   "source": [
    "# split the date column into  year, month and day\n",
    "spray['year']=spray.date.dt.year\n",
    "spray['month']=spray.date.dt.month\n",
    "spray['day']=spray.date.dt.day"
   ]
  },
  {
   "cell_type": "markdown",
   "metadata": {},
   "source": [
    "### 3.3 Weather Data Inspection & Cleaning"
   ]
  },
  {
   "cell_type": "code",
   "execution_count": 47,
   "metadata": {},
   "outputs": [
    {
     "name": "stdout",
     "output_type": "stream",
     "text": [
      "<class 'pandas.core.frame.DataFrame'>\n",
      "RangeIndex: 2944 entries, 0 to 2943\n",
      "Data columns (total 22 columns):\n",
      " #   Column       Non-Null Count  Dtype  \n",
      "---  ------       --------------  -----  \n",
      " 0   Station      2944 non-null   int64  \n",
      " 1   Date         2944 non-null   object \n",
      " 2   Tmax         2944 non-null   int64  \n",
      " 3   Tmin         2944 non-null   int64  \n",
      " 4   Tavg         2944 non-null   object \n",
      " 5   Depart       2944 non-null   object \n",
      " 6   DewPoint     2944 non-null   int64  \n",
      " 7   WetBulb      2944 non-null   object \n",
      " 8   Heat         2944 non-null   object \n",
      " 9   Cool         2944 non-null   object \n",
      " 10  Sunrise      2944 non-null   object \n",
      " 11  Sunset       2944 non-null   object \n",
      " 12  CodeSum      2944 non-null   object \n",
      " 13  Depth        2944 non-null   object \n",
      " 14  Water1       2944 non-null   object \n",
      " 15  SnowFall     2944 non-null   object \n",
      " 16  PrecipTotal  2944 non-null   object \n",
      " 17  StnPressure  2944 non-null   object \n",
      " 18  SeaLevel     2944 non-null   object \n",
      " 19  ResultSpeed  2944 non-null   float64\n",
      " 20  ResultDir    2944 non-null   int64  \n",
      " 21  AvgSpeed     2944 non-null   object \n",
      "dtypes: float64(1), int64(5), object(16)\n",
      "memory usage: 506.1+ KB\n"
     ]
    }
   ],
   "source": [
    "weather.info()"
   ]
  },
  {
   "cell_type": "code",
   "execution_count": 48,
   "metadata": {},
   "outputs": [],
   "source": [
    "weather.columns=weather.columns.map(lambda x:x.lower())"
   ]
  },
  {
   "cell_type": "code",
   "execution_count": 49,
   "metadata": {},
   "outputs": [],
   "source": [
    "# convert to datetime\n",
    "weather[\"date\"] = pd.to_datetime(weather[\"date\"], format='%Y-%m-%d')"
   ]
  },
  {
   "cell_type": "code",
   "execution_count": 50,
   "metadata": {},
   "outputs": [],
   "source": [
    "# split the date column into  year, month and day\n",
    "weather['year']=weather.date.dt.year\n",
    "weather['month']=weather.date.dt.month\n",
    "weather['day']=weather.date.dt.day"
   ]
  },
  {
   "cell_type": "code",
   "execution_count": 51,
   "metadata": {},
   "outputs": [
    {
     "data": {
      "text/plain": [
       "(2944, 25)"
      ]
     },
     "execution_count": 51,
     "metadata": {},
     "output_type": "execute_result"
    }
   ],
   "source": [
    "weather.shape"
   ]
  },
  {
   "cell_type": "code",
   "execution_count": 52,
   "metadata": {},
   "outputs": [
    {
     "data": {
      "text/plain": [
       "Index(['station', 'date', 'tmax', 'tmin', 'tavg', 'depart', 'dewpoint',\n",
       "       'wetbulb', 'heat', 'cool', 'sunrise', 'sunset', 'codesum', 'depth',\n",
       "       'water1', 'snowfall', 'preciptotal', 'stnpressure', 'sealevel',\n",
       "       'resultspeed', 'resultdir', 'avgspeed', 'year', 'month', 'day'],\n",
       "      dtype='object')"
      ]
     },
     "execution_count": 52,
     "metadata": {},
     "output_type": "execute_result"
    }
   ],
   "source": [
    "weather.columns"
   ]
  },
  {
   "cell_type": "code",
   "execution_count": 53,
   "metadata": {},
   "outputs": [
    {
     "data": {
      "text/html": [
       "<div>\n",
       "<style scoped>\n",
       "    .dataframe tbody tr th:only-of-type {\n",
       "        vertical-align: middle;\n",
       "    }\n",
       "\n",
       "    .dataframe tbody tr th {\n",
       "        vertical-align: top;\n",
       "    }\n",
       "\n",
       "    .dataframe thead th {\n",
       "        text-align: right;\n",
       "    }\n",
       "</style>\n",
       "<table border=\"1\" class=\"dataframe\">\n",
       "  <thead>\n",
       "    <tr style=\"text-align: right;\">\n",
       "      <th></th>\n",
       "      <th>station</th>\n",
       "      <th>tmax</th>\n",
       "      <th>tmin</th>\n",
       "      <th>dewpoint</th>\n",
       "      <th>resultspeed</th>\n",
       "      <th>resultdir</th>\n",
       "      <th>year</th>\n",
       "      <th>month</th>\n",
       "      <th>day</th>\n",
       "    </tr>\n",
       "  </thead>\n",
       "  <tbody>\n",
       "    <tr>\n",
       "      <th>count</th>\n",
       "      <td>2944.000000</td>\n",
       "      <td>2944.000000</td>\n",
       "      <td>2944.000000</td>\n",
       "      <td>2944.000000</td>\n",
       "      <td>2944.000000</td>\n",
       "      <td>2944.000000</td>\n",
       "      <td>2944.000000</td>\n",
       "      <td>2944.000000</td>\n",
       "      <td>2944.000000</td>\n",
       "    </tr>\n",
       "    <tr>\n",
       "      <th>mean</th>\n",
       "      <td>1.500000</td>\n",
       "      <td>76.166101</td>\n",
       "      <td>57.810462</td>\n",
       "      <td>53.457880</td>\n",
       "      <td>6.960666</td>\n",
       "      <td>17.494905</td>\n",
       "      <td>2010.500000</td>\n",
       "      <td>7.500000</td>\n",
       "      <td>15.836957</td>\n",
       "    </tr>\n",
       "    <tr>\n",
       "      <th>std</th>\n",
       "      <td>0.500085</td>\n",
       "      <td>11.461970</td>\n",
       "      <td>10.381939</td>\n",
       "      <td>10.675181</td>\n",
       "      <td>3.587527</td>\n",
       "      <td>10.063609</td>\n",
       "      <td>2.291677</td>\n",
       "      <td>1.710236</td>\n",
       "      <td>8.855731</td>\n",
       "    </tr>\n",
       "    <tr>\n",
       "      <th>min</th>\n",
       "      <td>1.000000</td>\n",
       "      <td>41.000000</td>\n",
       "      <td>29.000000</td>\n",
       "      <td>22.000000</td>\n",
       "      <td>0.100000</td>\n",
       "      <td>1.000000</td>\n",
       "      <td>2007.000000</td>\n",
       "      <td>5.000000</td>\n",
       "      <td>1.000000</td>\n",
       "    </tr>\n",
       "    <tr>\n",
       "      <th>25%</th>\n",
       "      <td>1.000000</td>\n",
       "      <td>69.000000</td>\n",
       "      <td>50.000000</td>\n",
       "      <td>46.000000</td>\n",
       "      <td>4.300000</td>\n",
       "      <td>7.000000</td>\n",
       "      <td>2008.750000</td>\n",
       "      <td>6.000000</td>\n",
       "      <td>8.000000</td>\n",
       "    </tr>\n",
       "    <tr>\n",
       "      <th>50%</th>\n",
       "      <td>1.500000</td>\n",
       "      <td>78.000000</td>\n",
       "      <td>59.000000</td>\n",
       "      <td>54.000000</td>\n",
       "      <td>6.400000</td>\n",
       "      <td>19.000000</td>\n",
       "      <td>2010.500000</td>\n",
       "      <td>7.500000</td>\n",
       "      <td>16.000000</td>\n",
       "    </tr>\n",
       "    <tr>\n",
       "      <th>75%</th>\n",
       "      <td>2.000000</td>\n",
       "      <td>85.000000</td>\n",
       "      <td>66.000000</td>\n",
       "      <td>62.000000</td>\n",
       "      <td>9.200000</td>\n",
       "      <td>25.000000</td>\n",
       "      <td>2012.250000</td>\n",
       "      <td>9.000000</td>\n",
       "      <td>23.250000</td>\n",
       "    </tr>\n",
       "    <tr>\n",
       "      <th>max</th>\n",
       "      <td>2.000000</td>\n",
       "      <td>104.000000</td>\n",
       "      <td>83.000000</td>\n",
       "      <td>75.000000</td>\n",
       "      <td>24.100000</td>\n",
       "      <td>36.000000</td>\n",
       "      <td>2014.000000</td>\n",
       "      <td>10.000000</td>\n",
       "      <td>31.000000</td>\n",
       "    </tr>\n",
       "  </tbody>\n",
       "</table>\n",
       "</div>"
      ],
      "text/plain": [
       "           station         tmax         tmin     dewpoint  resultspeed  \\\n",
       "count  2944.000000  2944.000000  2944.000000  2944.000000  2944.000000   \n",
       "mean      1.500000    76.166101    57.810462    53.457880     6.960666   \n",
       "std       0.500085    11.461970    10.381939    10.675181     3.587527   \n",
       "min       1.000000    41.000000    29.000000    22.000000     0.100000   \n",
       "25%       1.000000    69.000000    50.000000    46.000000     4.300000   \n",
       "50%       1.500000    78.000000    59.000000    54.000000     6.400000   \n",
       "75%       2.000000    85.000000    66.000000    62.000000     9.200000   \n",
       "max       2.000000   104.000000    83.000000    75.000000    24.100000   \n",
       "\n",
       "         resultdir         year        month          day  \n",
       "count  2944.000000  2944.000000  2944.000000  2944.000000  \n",
       "mean     17.494905  2010.500000     7.500000    15.836957  \n",
       "std      10.063609     2.291677     1.710236     8.855731  \n",
       "min       1.000000  2007.000000     5.000000     1.000000  \n",
       "25%       7.000000  2008.750000     6.000000     8.000000  \n",
       "50%      19.000000  2010.500000     7.500000    16.000000  \n",
       "75%      25.000000  2012.250000     9.000000    23.250000  \n",
       "max      36.000000  2014.000000    10.000000    31.000000  "
      ]
     },
     "execution_count": 53,
     "metadata": {},
     "output_type": "execute_result"
    }
   ],
   "source": [
    "weather.describe()"
   ]
  },
  {
   "cell_type": "code",
   "execution_count": 54,
   "metadata": {},
   "outputs": [
    {
     "data": {
      "text/plain": [
       "station        0\n",
       "date           0\n",
       "tmax           0\n",
       "tmin           0\n",
       "tavg           0\n",
       "depart         0\n",
       "dewpoint       0\n",
       "wetbulb        0\n",
       "heat           0\n",
       "cool           0\n",
       "sunrise        0\n",
       "sunset         0\n",
       "codesum        0\n",
       "depth          0\n",
       "water1         0\n",
       "snowfall       0\n",
       "preciptotal    0\n",
       "stnpressure    0\n",
       "sealevel       0\n",
       "resultspeed    0\n",
       "resultdir      0\n",
       "avgspeed       0\n",
       "year           0\n",
       "month          0\n",
       "day            0\n",
       "dtype: int64"
      ]
     },
     "execution_count": 54,
     "metadata": {},
     "output_type": "execute_result"
    }
   ],
   "source": [
    "weather.isnull().sum()"
   ]
  },
  {
   "cell_type": "markdown",
   "metadata": {},
   "source": [
    "#### Comments:\n",
    "- Seems there are no missing values from above checking, but some numeric columns data type are not correct. We will do further inspections for those columns."
   ]
  },
  {
   "cell_type": "code",
   "execution_count": 55,
   "metadata": {},
   "outputs": [
    {
     "data": {
      "text/plain": [
       "1    1472\n",
       "2    1472\n",
       "Name: station, dtype: int64"
      ]
     },
     "execution_count": 55,
     "metadata": {},
     "output_type": "execute_result"
    }
   ],
   "source": [
    "weather.station.value_counts()"
   ]
  },
  {
   "cell_type": "markdown",
   "metadata": {},
   "source": [
    "#### Comments:\n",
    "- Equally sample data been collected from the 2 stations:\n",
    "  - Station 1: CHICAGO O'HARE INTERNATIONAL AIRPORT Lat: 41.995 Lon: -87.933 Elev: 662 ft. above sea level\n",
    "  - Station 2: CHICAGO MIDWAY INTL ARPT Lat: 41.786 Lon: -87.752 Elev: 612 ft. above sea level"
   ]
  },
  {
   "cell_type": "code",
   "execution_count": 56,
   "metadata": {},
   "outputs": [
    {
     "data": {
      "text/plain": [
       "Index(['station', 'date', 'tmax', 'tmin', 'tavg', 'depart', 'dewpoint',\n",
       "       'wetbulb', 'heat', 'cool', 'sunrise', 'sunset', 'codesum', 'depth',\n",
       "       'water1', 'snowfall', 'preciptotal', 'stnpressure', 'sealevel',\n",
       "       'resultspeed', 'resultdir', 'avgspeed', 'year', 'month', 'day'],\n",
       "      dtype='object')"
      ]
     },
     "execution_count": 56,
     "metadata": {},
     "output_type": "execute_result"
    }
   ],
   "source": [
    "weather.columns"
   ]
  },
  {
   "cell_type": "code",
   "execution_count": 57,
   "metadata": {},
   "outputs": [
    {
     "data": {
      "text/plain": [
       "array(['67', '68', '51', '52', '56', '58', 'M', '60', '59', '65', '70',\n",
       "       '69', '71', '61', '55', '57', '73', '72', '53', '62', '63', '74',\n",
       "       '75', '78', '76', '77', '66', '80', '64', '81', '82', '79', '85',\n",
       "       '84', '83', '50', '49', '46', '48', '45', '54', '47', '44', '40',\n",
       "       '41', '38', '39', '42', '37', '43', '86', '87', '89', '92', '88',\n",
       "       '91', '93', '94', '90', '36'], dtype=object)"
      ]
     },
     "execution_count": 57,
     "metadata": {},
     "output_type": "execute_result"
    }
   ],
   "source": [
    "weather.tavg.unique()"
   ]
  },
  {
   "cell_type": "markdown",
   "metadata": {},
   "source": [
    "#### Comments:\n",
    "- Missing values for tavg(average tempreture) as M"
   ]
  },
  {
   "cell_type": "code",
   "execution_count": 58,
   "metadata": {},
   "outputs": [
    {
     "data": {
      "text/html": [
       "<div>\n",
       "<style scoped>\n",
       "    .dataframe tbody tr th:only-of-type {\n",
       "        vertical-align: middle;\n",
       "    }\n",
       "\n",
       "    .dataframe tbody tr th {\n",
       "        vertical-align: top;\n",
       "    }\n",
       "\n",
       "    .dataframe thead th {\n",
       "        text-align: right;\n",
       "    }\n",
       "</style>\n",
       "<table border=\"1\" class=\"dataframe\">\n",
       "  <thead>\n",
       "    <tr style=\"text-align: right;\">\n",
       "      <th></th>\n",
       "      <th>station</th>\n",
       "      <th>date</th>\n",
       "      <th>tmax</th>\n",
       "      <th>tmin</th>\n",
       "      <th>tavg</th>\n",
       "      <th>depart</th>\n",
       "      <th>dewpoint</th>\n",
       "      <th>wetbulb</th>\n",
       "      <th>heat</th>\n",
       "      <th>cool</th>\n",
       "      <th>...</th>\n",
       "      <th>snowfall</th>\n",
       "      <th>preciptotal</th>\n",
       "      <th>stnpressure</th>\n",
       "      <th>sealevel</th>\n",
       "      <th>resultspeed</th>\n",
       "      <th>resultdir</th>\n",
       "      <th>avgspeed</th>\n",
       "      <th>year</th>\n",
       "      <th>month</th>\n",
       "      <th>day</th>\n",
       "    </tr>\n",
       "  </thead>\n",
       "  <tbody>\n",
       "    <tr>\n",
       "      <th>7</th>\n",
       "      <td>2</td>\n",
       "      <td>2007-05-04</td>\n",
       "      <td>78</td>\n",
       "      <td>51</td>\n",
       "      <td>M</td>\n",
       "      <td>M</td>\n",
       "      <td>42</td>\n",
       "      <td>50</td>\n",
       "      <td>M</td>\n",
       "      <td>M</td>\n",
       "      <td>...</td>\n",
       "      <td>M</td>\n",
       "      <td>0.00</td>\n",
       "      <td>29.36</td>\n",
       "      <td>30.04</td>\n",
       "      <td>10.1</td>\n",
       "      <td>7</td>\n",
       "      <td>10.4</td>\n",
       "      <td>2007</td>\n",
       "      <td>5</td>\n",
       "      <td>4</td>\n",
       "    </tr>\n",
       "    <tr>\n",
       "      <th>505</th>\n",
       "      <td>2</td>\n",
       "      <td>2008-07-08</td>\n",
       "      <td>86</td>\n",
       "      <td>46</td>\n",
       "      <td>M</td>\n",
       "      <td>M</td>\n",
       "      <td>68</td>\n",
       "      <td>71</td>\n",
       "      <td>M</td>\n",
       "      <td>M</td>\n",
       "      <td>...</td>\n",
       "      <td>M</td>\n",
       "      <td>0.28</td>\n",
       "      <td>29.16</td>\n",
       "      <td>29.80</td>\n",
       "      <td>7.4</td>\n",
       "      <td>24</td>\n",
       "      <td>8.3</td>\n",
       "      <td>2008</td>\n",
       "      <td>7</td>\n",
       "      <td>8</td>\n",
       "    </tr>\n",
       "    <tr>\n",
       "      <th>675</th>\n",
       "      <td>2</td>\n",
       "      <td>2008-10-01</td>\n",
       "      <td>62</td>\n",
       "      <td>46</td>\n",
       "      <td>M</td>\n",
       "      <td>M</td>\n",
       "      <td>41</td>\n",
       "      <td>47</td>\n",
       "      <td>M</td>\n",
       "      <td>M</td>\n",
       "      <td>...</td>\n",
       "      <td>M</td>\n",
       "      <td>0.00</td>\n",
       "      <td>29.30</td>\n",
       "      <td>29.96</td>\n",
       "      <td>10.9</td>\n",
       "      <td>33</td>\n",
       "      <td>11.0</td>\n",
       "      <td>2008</td>\n",
       "      <td>10</td>\n",
       "      <td>1</td>\n",
       "    </tr>\n",
       "    <tr>\n",
       "      <th>1637</th>\n",
       "      <td>2</td>\n",
       "      <td>2011-07-22</td>\n",
       "      <td>100</td>\n",
       "      <td>71</td>\n",
       "      <td>M</td>\n",
       "      <td>M</td>\n",
       "      <td>70</td>\n",
       "      <td>74</td>\n",
       "      <td>M</td>\n",
       "      <td>M</td>\n",
       "      <td>...</td>\n",
       "      <td>M</td>\n",
       "      <td>0.14</td>\n",
       "      <td>29.23</td>\n",
       "      <td>29.86</td>\n",
       "      <td>3.8</td>\n",
       "      <td>10</td>\n",
       "      <td>8.2</td>\n",
       "      <td>2011</td>\n",
       "      <td>7</td>\n",
       "      <td>22</td>\n",
       "    </tr>\n",
       "    <tr>\n",
       "      <th>2067</th>\n",
       "      <td>2</td>\n",
       "      <td>2012-08-22</td>\n",
       "      <td>84</td>\n",
       "      <td>72</td>\n",
       "      <td>M</td>\n",
       "      <td>M</td>\n",
       "      <td>51</td>\n",
       "      <td>61</td>\n",
       "      <td>M</td>\n",
       "      <td>M</td>\n",
       "      <td>...</td>\n",
       "      <td>M</td>\n",
       "      <td>0.00</td>\n",
       "      <td>29.39</td>\n",
       "      <td>M</td>\n",
       "      <td>4.7</td>\n",
       "      <td>19</td>\n",
       "      <td>M</td>\n",
       "      <td>2012</td>\n",
       "      <td>8</td>\n",
       "      <td>22</td>\n",
       "    </tr>\n",
       "    <tr>\n",
       "      <th>2211</th>\n",
       "      <td>2</td>\n",
       "      <td>2013-05-02</td>\n",
       "      <td>71</td>\n",
       "      <td>42</td>\n",
       "      <td>M</td>\n",
       "      <td>M</td>\n",
       "      <td>39</td>\n",
       "      <td>45</td>\n",
       "      <td>M</td>\n",
       "      <td>M</td>\n",
       "      <td>...</td>\n",
       "      <td>M</td>\n",
       "      <td>0.00</td>\n",
       "      <td>29.51</td>\n",
       "      <td>30.17</td>\n",
       "      <td>15.8</td>\n",
       "      <td>2</td>\n",
       "      <td>16.1</td>\n",
       "      <td>2013</td>\n",
       "      <td>5</td>\n",
       "      <td>2</td>\n",
       "    </tr>\n",
       "    <tr>\n",
       "      <th>2501</th>\n",
       "      <td>2</td>\n",
       "      <td>2013-09-24</td>\n",
       "      <td>91</td>\n",
       "      <td>52</td>\n",
       "      <td>M</td>\n",
       "      <td>M</td>\n",
       "      <td>48</td>\n",
       "      <td>54</td>\n",
       "      <td>M</td>\n",
       "      <td>M</td>\n",
       "      <td>...</td>\n",
       "      <td>M</td>\n",
       "      <td>0.00</td>\n",
       "      <td>29.33</td>\n",
       "      <td>30.00</td>\n",
       "      <td>5.8</td>\n",
       "      <td>9</td>\n",
       "      <td>7.7</td>\n",
       "      <td>2013</td>\n",
       "      <td>9</td>\n",
       "      <td>24</td>\n",
       "    </tr>\n",
       "    <tr>\n",
       "      <th>2511</th>\n",
       "      <td>2</td>\n",
       "      <td>2013-09-29</td>\n",
       "      <td>84</td>\n",
       "      <td>53</td>\n",
       "      <td>M</td>\n",
       "      <td>M</td>\n",
       "      <td>48</td>\n",
       "      <td>54</td>\n",
       "      <td>M</td>\n",
       "      <td>M</td>\n",
       "      <td>...</td>\n",
       "      <td>M</td>\n",
       "      <td>0.22</td>\n",
       "      <td>29.36</td>\n",
       "      <td>30.01</td>\n",
       "      <td>6.3</td>\n",
       "      <td>36</td>\n",
       "      <td>7.8</td>\n",
       "      <td>2013</td>\n",
       "      <td>9</td>\n",
       "      <td>29</td>\n",
       "    </tr>\n",
       "    <tr>\n",
       "      <th>2525</th>\n",
       "      <td>2</td>\n",
       "      <td>2013-10-06</td>\n",
       "      <td>76</td>\n",
       "      <td>48</td>\n",
       "      <td>M</td>\n",
       "      <td>M</td>\n",
       "      <td>44</td>\n",
       "      <td>50</td>\n",
       "      <td>M</td>\n",
       "      <td>M</td>\n",
       "      <td>...</td>\n",
       "      <td>M</td>\n",
       "      <td>0.06</td>\n",
       "      <td>29.10</td>\n",
       "      <td>29.76</td>\n",
       "      <td>10.1</td>\n",
       "      <td>25</td>\n",
       "      <td>10.6</td>\n",
       "      <td>2013</td>\n",
       "      <td>10</td>\n",
       "      <td>6</td>\n",
       "    </tr>\n",
       "    <tr>\n",
       "      <th>2579</th>\n",
       "      <td>2</td>\n",
       "      <td>2014-05-02</td>\n",
       "      <td>80</td>\n",
       "      <td>47</td>\n",
       "      <td>M</td>\n",
       "      <td>M</td>\n",
       "      <td>43</td>\n",
       "      <td>47</td>\n",
       "      <td>M</td>\n",
       "      <td>M</td>\n",
       "      <td>...</td>\n",
       "      <td>M</td>\n",
       "      <td>0.04</td>\n",
       "      <td>29.10</td>\n",
       "      <td>29.79</td>\n",
       "      <td>10.7</td>\n",
       "      <td>23</td>\n",
       "      <td>11.9</td>\n",
       "      <td>2014</td>\n",
       "      <td>5</td>\n",
       "      <td>2</td>\n",
       "    </tr>\n",
       "    <tr>\n",
       "      <th>2811</th>\n",
       "      <td>2</td>\n",
       "      <td>2014-08-26</td>\n",
       "      <td>86</td>\n",
       "      <td>49</td>\n",
       "      <td>M</td>\n",
       "      <td>M</td>\n",
       "      <td>68</td>\n",
       "      <td>71</td>\n",
       "      <td>M</td>\n",
       "      <td>M</td>\n",
       "      <td>...</td>\n",
       "      <td>M</td>\n",
       "      <td>T</td>\n",
       "      <td>29.41</td>\n",
       "      <td>30.04</td>\n",
       "      <td>1.3</td>\n",
       "      <td>15</td>\n",
       "      <td>5.8</td>\n",
       "      <td>2014</td>\n",
       "      <td>8</td>\n",
       "      <td>26</td>\n",
       "    </tr>\n",
       "  </tbody>\n",
       "</table>\n",
       "<p>11 rows × 25 columns</p>\n",
       "</div>"
      ],
      "text/plain": [
       "      station       date  tmax  tmin tavg depart  dewpoint wetbulb heat cool  \\\n",
       "7           2 2007-05-04    78    51    M      M        42      50    M    M   \n",
       "505         2 2008-07-08    86    46    M      M        68      71    M    M   \n",
       "675         2 2008-10-01    62    46    M      M        41      47    M    M   \n",
       "1637        2 2011-07-22   100    71    M      M        70      74    M    M   \n",
       "2067        2 2012-08-22    84    72    M      M        51      61    M    M   \n",
       "2211        2 2013-05-02    71    42    M      M        39      45    M    M   \n",
       "2501        2 2013-09-24    91    52    M      M        48      54    M    M   \n",
       "2511        2 2013-09-29    84    53    M      M        48      54    M    M   \n",
       "2525        2 2013-10-06    76    48    M      M        44      50    M    M   \n",
       "2579        2 2014-05-02    80    47    M      M        43      47    M    M   \n",
       "2811        2 2014-08-26    86    49    M      M        68      71    M    M   \n",
       "\n",
       "      ... snowfall preciptotal stnpressure sealevel resultspeed resultdir  \\\n",
       "7     ...        M        0.00       29.36    30.04        10.1         7   \n",
       "505   ...        M        0.28       29.16    29.80         7.4        24   \n",
       "675   ...        M        0.00       29.30    29.96        10.9        33   \n",
       "1637  ...        M        0.14       29.23    29.86         3.8        10   \n",
       "2067  ...        M        0.00       29.39        M         4.7        19   \n",
       "2211  ...        M        0.00       29.51    30.17        15.8         2   \n",
       "2501  ...        M        0.00       29.33    30.00         5.8         9   \n",
       "2511  ...        M        0.22       29.36    30.01         6.3        36   \n",
       "2525  ...        M        0.06       29.10    29.76        10.1        25   \n",
       "2579  ...        M        0.04       29.10    29.79        10.7        23   \n",
       "2811  ...        M           T       29.41    30.04         1.3        15   \n",
       "\n",
       "     avgspeed  year month  day  \n",
       "7        10.4  2007     5    4  \n",
       "505       8.3  2008     7    8  \n",
       "675      11.0  2008    10    1  \n",
       "1637      8.2  2011     7   22  \n",
       "2067        M  2012     8   22  \n",
       "2211     16.1  2013     5    2  \n",
       "2501      7.7  2013     9   24  \n",
       "2511      7.8  2013     9   29  \n",
       "2525     10.6  2013    10    6  \n",
       "2579     11.9  2014     5    2  \n",
       "2811      5.8  2014     8   26  \n",
       "\n",
       "[11 rows x 25 columns]"
      ]
     },
     "execution_count": 58,
     "metadata": {},
     "output_type": "execute_result"
    }
   ],
   "source": [
    "weather[weather.tavg=='M']"
   ]
  },
  {
   "cell_type": "code",
   "execution_count": 59,
   "metadata": {},
   "outputs": [],
   "source": [
    "index = weather[weather.tavg=='M']\n",
    "weather.drop(index.index, inplace= True)"
   ]
  },
  {
   "cell_type": "markdown",
   "metadata": {},
   "source": [
    "#### Comments:\n",
    "\n",
    "- There are 11 rows with missing values also more columns like 'depart', 'heat','cool','depth' etc. Seems these columns have common data input issues, I will remove these 11 rows and do a check again."
   ]
  },
  {
   "cell_type": "code",
   "execution_count": 60,
   "metadata": {},
   "outputs": [
    {
     "data": {
      "text/plain": [
       "0    1472\n",
       "M    1461\n",
       "Name: depth, dtype: int64"
      ]
     },
     "execution_count": 60,
     "metadata": {},
     "output_type": "execute_result"
    }
   ],
   "source": [
    "weather.depth.value_counts()"
   ]
  },
  {
   "cell_type": "code",
   "execution_count": 61,
   "metadata": {},
   "outputs": [],
   "source": [
    "weather.drop('depth', axis=1, inplace=True)"
   ]
  },
  {
   "cell_type": "markdown",
   "metadata": {},
   "source": [
    "#### Comments:\n",
    "- \"depth\" column has dropped as almost half of the values are missing and We don't have any clue to get its true value and not worth for data imputing."
   ]
  },
  {
   "cell_type": "code",
   "execution_count": 62,
   "metadata": {},
   "outputs": [
    {
     "data": {
      "text/plain": [
       "M      1461\n",
       "0.0    1459\n",
       "  T      12\n",
       "0.1       1\n",
       "Name: snowfall, dtype: int64"
      ]
     },
     "execution_count": 62,
     "metadata": {},
     "output_type": "execute_result"
    }
   ],
   "source": [
    "weather.snowfall.value_counts()"
   ]
  },
  {
   "cell_type": "code",
   "execution_count": 63,
   "metadata": {},
   "outputs": [],
   "source": [
    "weather.drop('snowfall', axis=1, inplace=True)"
   ]
  },
  {
   "cell_type": "markdown",
   "metadata": {},
   "source": [
    "#### Comments:\n",
    "- \"snowfall\" column has dropped as almost half of the values are missing and We don't have any clue to get its true value and not worth for data imputing.\n",
    "- mosquitos are not likely to have in winter days, \"snowfall\" data column doesn't seem important to our analysis and modeling"
   ]
  },
  {
   "cell_type": "code",
   "execution_count": 64,
   "metadata": {},
   "outputs": [
    {
     "data": {
      "text/plain": [
       "M    2933\n",
       "Name: water1, dtype: int64"
      ]
     },
     "execution_count": 64,
     "metadata": {},
     "output_type": "execute_result"
    }
   ],
   "source": [
    "weather.water1.value_counts()"
   ]
  },
  {
   "cell_type": "code",
   "execution_count": 65,
   "metadata": {},
   "outputs": [],
   "source": [
    "weather.drop('water1', axis=1, inplace=True)"
   ]
  },
  {
   "cell_type": "markdown",
   "metadata": {},
   "source": [
    "#### Comments:\n",
    "- \"water1\" column has dropped as all records are not correct data."
   ]
  },
  {
   "cell_type": "code",
   "execution_count": 66,
   "metadata": {},
   "outputs": [
    {
     "data": {
      "text/html": [
       "<div>\n",
       "<style scoped>\n",
       "    .dataframe tbody tr th:only-of-type {\n",
       "        vertical-align: middle;\n",
       "    }\n",
       "\n",
       "    .dataframe tbody tr th {\n",
       "        vertical-align: top;\n",
       "    }\n",
       "\n",
       "    .dataframe thead th {\n",
       "        text-align: right;\n",
       "    }\n",
       "</style>\n",
       "<table border=\"1\" class=\"dataframe\">\n",
       "  <thead>\n",
       "    <tr style=\"text-align: right;\">\n",
       "      <th></th>\n",
       "      <th>station</th>\n",
       "      <th>date</th>\n",
       "      <th>tmax</th>\n",
       "      <th>tmin</th>\n",
       "      <th>tavg</th>\n",
       "      <th>depart</th>\n",
       "      <th>dewpoint</th>\n",
       "      <th>wetbulb</th>\n",
       "      <th>heat</th>\n",
       "      <th>cool</th>\n",
       "      <th>...</th>\n",
       "      <th>codesum</th>\n",
       "      <th>preciptotal</th>\n",
       "      <th>stnpressure</th>\n",
       "      <th>sealevel</th>\n",
       "      <th>resultspeed</th>\n",
       "      <th>resultdir</th>\n",
       "      <th>avgspeed</th>\n",
       "      <th>year</th>\n",
       "      <th>month</th>\n",
       "      <th>day</th>\n",
       "    </tr>\n",
       "  </thead>\n",
       "  <tbody>\n",
       "  </tbody>\n",
       "</table>\n",
       "<p>0 rows × 22 columns</p>\n",
       "</div>"
      ],
      "text/plain": [
       "Empty DataFrame\n",
       "Columns: [station, date, tmax, tmin, tavg, depart, dewpoint, wetbulb, heat, cool, sunrise, sunset, codesum, preciptotal, stnpressure, sealevel, resultspeed, resultdir, avgspeed, year, month, day]\n",
       "Index: []\n",
       "\n",
       "[0 rows x 22 columns]"
      ]
     },
     "execution_count": 66,
     "metadata": {},
     "output_type": "execute_result"
    }
   ],
   "source": [
    "weather[weather.codesum=='M']"
   ]
  },
  {
   "cell_type": "code",
   "execution_count": 67,
   "metadata": {},
   "outputs": [
    {
     "data": {
      "text/plain": [
       "array(['0.00', '  T', '0.13', '0.02', '0.38', '0.60', '0.14', '0.07',\n",
       "       '0.11', '0.09', '1.01', '0.28', '0.04', '0.08', '0.01', '0.53',\n",
       "       '0.19', '0.21', '0.32', '0.39', '0.31', '0.42', '0.27', '0.16',\n",
       "       '0.58', '0.93', '0.05', '0.34', '0.15', '0.35', 'M', '0.40',\n",
       "       '0.66', '0.30', '0.24', '0.43', '1.55', '0.92', '0.89', '0.17',\n",
       "       '0.03', '1.43', '0.97', '0.26', '1.31', '0.06', '0.46', '0.29',\n",
       "       '0.23', '0.41', '0.45', '0.83', '1.33', '0.91', '0.48', '0.37',\n",
       "       '0.88', '2.35', '1.96', '0.20', '0.25', '0.18', '0.67', '0.36',\n",
       "       '0.33', '1.28', '0.74', '0.76', '0.71', '0.95', '1.46', '0.12',\n",
       "       '0.52', '0.64', '0.22', '1.24', '0.72', '0.73', '0.65', '1.61',\n",
       "       '1.22', '0.50', '1.05', '2.43', '0.59', '2.90', '2.68', '1.23',\n",
       "       '0.62', '6.64', '3.07', '1.44', '1.75', '0.82', '0.80', '0.86',\n",
       "       '0.63', '0.55', '1.03', '0.70', '1.73', '1.38', '0.44', '1.14',\n",
       "       '1.07', '3.97', '0.87', '0.78', '1.12', '0.68', '0.10', '0.61',\n",
       "       '0.54', '1.19', '0.75', '0.84', '1.29', '0.81', '1.15', '1.49',\n",
       "       '1.57', '1.02', '1.30', '0.51', '0.85', '0.79', '0.77', '2.79',\n",
       "       '3.15', '3.64', '4.73', '1.60', '0.57', '2.24', '1.90', '1.06',\n",
       "       '1.88', '0.69', '2.17', '6.86', '0.49', '1.11', '1.21', '0.90',\n",
       "       '1.34', '0.47', '0.56', '3.66', '1.09', '1.25', '1.35', '2.20',\n",
       "       '1.48', '0.96', '1.16', '1.04', '2.03', '2.09', '1.26', '2.60',\n",
       "       '2.06', '3.31', '2.76', '1.82', '0.98', '1.58', '3.17', '1.18'],\n",
       "      dtype=object)"
      ]
     },
     "execution_count": 67,
     "metadata": {},
     "output_type": "execute_result"
    }
   ],
   "source": [
    "weather.preciptotal.unique()"
   ]
  },
  {
   "cell_type": "code",
   "execution_count": 68,
   "metadata": {},
   "outputs": [
    {
     "data": {
      "text/html": [
       "<div>\n",
       "<style scoped>\n",
       "    .dataframe tbody tr th:only-of-type {\n",
       "        vertical-align: middle;\n",
       "    }\n",
       "\n",
       "    .dataframe tbody tr th {\n",
       "        vertical-align: top;\n",
       "    }\n",
       "\n",
       "    .dataframe thead th {\n",
       "        text-align: right;\n",
       "    }\n",
       "</style>\n",
       "<table border=\"1\" class=\"dataframe\">\n",
       "  <thead>\n",
       "    <tr style=\"text-align: right;\">\n",
       "      <th></th>\n",
       "      <th>station</th>\n",
       "      <th>date</th>\n",
       "      <th>tmax</th>\n",
       "      <th>tmin</th>\n",
       "      <th>tavg</th>\n",
       "      <th>depart</th>\n",
       "      <th>dewpoint</th>\n",
       "      <th>wetbulb</th>\n",
       "      <th>heat</th>\n",
       "      <th>cool</th>\n",
       "      <th>...</th>\n",
       "      <th>codesum</th>\n",
       "      <th>preciptotal</th>\n",
       "      <th>stnpressure</th>\n",
       "      <th>sealevel</th>\n",
       "      <th>resultspeed</th>\n",
       "      <th>resultdir</th>\n",
       "      <th>avgspeed</th>\n",
       "      <th>year</th>\n",
       "      <th>month</th>\n",
       "      <th>day</th>\n",
       "    </tr>\n",
       "  </thead>\n",
       "  <tbody>\n",
       "    <tr>\n",
       "      <th>117</th>\n",
       "      <td>2</td>\n",
       "      <td>2007-06-28</td>\n",
       "      <td>73</td>\n",
       "      <td>61</td>\n",
       "      <td>67</td>\n",
       "      <td>M</td>\n",
       "      <td>56</td>\n",
       "      <td>61</td>\n",
       "      <td>0</td>\n",
       "      <td>2</td>\n",
       "      <td>...</td>\n",
       "      <td></td>\n",
       "      <td>M</td>\n",
       "      <td>29.43</td>\n",
       "      <td>30.07</td>\n",
       "      <td>12.2</td>\n",
       "      <td>2</td>\n",
       "      <td>13.3</td>\n",
       "      <td>2007</td>\n",
       "      <td>6</td>\n",
       "      <td>28</td>\n",
       "    </tr>\n",
       "    <tr>\n",
       "      <th>119</th>\n",
       "      <td>2</td>\n",
       "      <td>2007-06-29</td>\n",
       "      <td>71</td>\n",
       "      <td>56</td>\n",
       "      <td>64</td>\n",
       "      <td>M</td>\n",
       "      <td>56</td>\n",
       "      <td>60</td>\n",
       "      <td>1</td>\n",
       "      <td>0</td>\n",
       "      <td>...</td>\n",
       "      <td></td>\n",
       "      <td>M</td>\n",
       "      <td>29.47</td>\n",
       "      <td>30.11</td>\n",
       "      <td>7.4</td>\n",
       "      <td>2</td>\n",
       "      <td>8.2</td>\n",
       "      <td>2007</td>\n",
       "      <td>6</td>\n",
       "      <td>29</td>\n",
       "    </tr>\n",
       "  </tbody>\n",
       "</table>\n",
       "<p>2 rows × 22 columns</p>\n",
       "</div>"
      ],
      "text/plain": [
       "     station       date  tmax  tmin tavg depart  dewpoint wetbulb heat cool  \\\n",
       "117        2 2007-06-28    73    61   67      M        56      61    0    2   \n",
       "119        2 2007-06-29    71    56   64      M        56      60    1    0   \n",
       "\n",
       "     ... codesum preciptotal stnpressure sealevel resultspeed resultdir  \\\n",
       "117  ...                   M       29.43    30.07        12.2         2   \n",
       "119  ...                   M       29.47    30.11         7.4         2   \n",
       "\n",
       "     avgspeed  year month  day  \n",
       "117      13.3  2007     6   28  \n",
       "119       8.2  2007     6   29  \n",
       "\n",
       "[2 rows x 22 columns]"
      ]
     },
     "execution_count": 68,
     "metadata": {},
     "output_type": "execute_result"
    }
   ],
   "source": [
    "weather[(weather.preciptotal=='M')|(weather.preciptotal=='T')]"
   ]
  },
  {
   "cell_type": "code",
   "execution_count": 69,
   "metadata": {},
   "outputs": [],
   "source": [
    "weather.drop(117,inplace=True)"
   ]
  },
  {
   "cell_type": "code",
   "execution_count": 70,
   "metadata": {},
   "outputs": [],
   "source": [
    "weather.drop(118,inplace=True)"
   ]
  },
  {
   "cell_type": "markdown",
   "metadata": {},
   "source": [
    "#### Comments:\n",
    "- row 117 & 118 has removed as they have 2 missing values for \"preciptotal\"."
   ]
  },
  {
   "cell_type": "code",
   "execution_count": 71,
   "metadata": {},
   "outputs": [
    {
     "data": {
      "text/plain": [
       "array(['29.10', '29.18', '29.38', '29.44', '29.39', '29.46', '29.31',\n",
       "       '29.40', '29.57', '29.62', '29.29', '29.36', '29.21', '29.28',\n",
       "       '29.20', '29.26', '29.33', '29.49', '29.54', '29.55', '29.23',\n",
       "       '29.13', '29.19', '29.53', '29.60', '29.34', '29.41', '29.47',\n",
       "       '29.51', '29.42', '29.43', '29.25', '29.03', '28.82', '28.87',\n",
       "       '28.88', '29.16', '29.07', '28.84', '28.91', '29.24', 'M', '29.30',\n",
       "       '29.12', '29.45', '29.56', '29.32', '29.05', '29.11', '29.06',\n",
       "       '29.22', '29.08', '29.14', '29.37', '29.35', '29.15', '29.17',\n",
       "       '29.48', '29.52', '29.27', '29.50', '28.59', '28.67', '28.75',\n",
       "       '29.02', '29.79', '29.86', '29.63', '29.70', '28.95', '29.01',\n",
       "       '28.79', '28.85', '28.97', '28.89', '28.94', '28.93', '28.98',\n",
       "       '28.96', '29.00', '29.66', '29.09', '28.90', '29.04', '29.59',\n",
       "       '29.65', '29.58', '29.61', '29.64', '29.71', '29.67', '28.80',\n",
       "       '28.73', '29.68', '28.74', '28.55', '28.63', '28.92', '28.99',\n",
       "       '28.81', '28.71', '28.69', '28.77', '28.83'], dtype=object)"
      ]
     },
     "execution_count": 71,
     "metadata": {},
     "output_type": "execute_result"
    }
   ],
   "source": [
    "weather.stnpressure.unique()"
   ]
  },
  {
   "cell_type": "code",
   "execution_count": 72,
   "metadata": {},
   "outputs": [
    {
     "data": {
      "text/html": [
       "<div>\n",
       "<style scoped>\n",
       "    .dataframe tbody tr th:only-of-type {\n",
       "        vertical-align: middle;\n",
       "    }\n",
       "\n",
       "    .dataframe tbody tr th {\n",
       "        vertical-align: top;\n",
       "    }\n",
       "\n",
       "    .dataframe thead th {\n",
       "        text-align: right;\n",
       "    }\n",
       "</style>\n",
       "<table border=\"1\" class=\"dataframe\">\n",
       "  <thead>\n",
       "    <tr style=\"text-align: right;\">\n",
       "      <th></th>\n",
       "      <th>station</th>\n",
       "      <th>date</th>\n",
       "      <th>tmax</th>\n",
       "      <th>tmin</th>\n",
       "      <th>tavg</th>\n",
       "      <th>depart</th>\n",
       "      <th>dewpoint</th>\n",
       "      <th>wetbulb</th>\n",
       "      <th>heat</th>\n",
       "      <th>cool</th>\n",
       "      <th>...</th>\n",
       "      <th>codesum</th>\n",
       "      <th>preciptotal</th>\n",
       "      <th>stnpressure</th>\n",
       "      <th>sealevel</th>\n",
       "      <th>resultspeed</th>\n",
       "      <th>resultdir</th>\n",
       "      <th>avgspeed</th>\n",
       "      <th>year</th>\n",
       "      <th>month</th>\n",
       "      <th>day</th>\n",
       "    </tr>\n",
       "  </thead>\n",
       "  <tbody>\n",
       "    <tr>\n",
       "      <th>87</th>\n",
       "      <td>2</td>\n",
       "      <td>2007-06-13</td>\n",
       "      <td>86</td>\n",
       "      <td>68</td>\n",
       "      <td>77</td>\n",
       "      <td>M</td>\n",
       "      <td>53</td>\n",
       "      <td>62</td>\n",
       "      <td>0</td>\n",
       "      <td>12</td>\n",
       "      <td>...</td>\n",
       "      <td></td>\n",
       "      <td>0.00</td>\n",
       "      <td>M</td>\n",
       "      <td>M</td>\n",
       "      <td>7.0</td>\n",
       "      <td>5</td>\n",
       "      <td>M</td>\n",
       "      <td>2007</td>\n",
       "      <td>6</td>\n",
       "      <td>13</td>\n",
       "    </tr>\n",
       "    <tr>\n",
       "      <th>848</th>\n",
       "      <td>1</td>\n",
       "      <td>2009-06-26</td>\n",
       "      <td>86</td>\n",
       "      <td>69</td>\n",
       "      <td>78</td>\n",
       "      <td>7</td>\n",
       "      <td>60</td>\n",
       "      <td>M</td>\n",
       "      <td>0</td>\n",
       "      <td>13</td>\n",
       "      <td>...</td>\n",
       "      <td></td>\n",
       "      <td>0.00</td>\n",
       "      <td>M</td>\n",
       "      <td>29.85</td>\n",
       "      <td>6.4</td>\n",
       "      <td>4</td>\n",
       "      <td>8.2</td>\n",
       "      <td>2009</td>\n",
       "      <td>6</td>\n",
       "      <td>26</td>\n",
       "    </tr>\n",
       "    <tr>\n",
       "      <th>2410</th>\n",
       "      <td>1</td>\n",
       "      <td>2013-08-10</td>\n",
       "      <td>81</td>\n",
       "      <td>64</td>\n",
       "      <td>73</td>\n",
       "      <td>0</td>\n",
       "      <td>57</td>\n",
       "      <td>M</td>\n",
       "      <td>0</td>\n",
       "      <td>8</td>\n",
       "      <td>...</td>\n",
       "      <td></td>\n",
       "      <td>0.00</td>\n",
       "      <td>M</td>\n",
       "      <td>30.08</td>\n",
       "      <td>5.3</td>\n",
       "      <td>5</td>\n",
       "      <td>6.5</td>\n",
       "      <td>2013</td>\n",
       "      <td>8</td>\n",
       "      <td>10</td>\n",
       "    </tr>\n",
       "    <tr>\n",
       "      <th>2411</th>\n",
       "      <td>2</td>\n",
       "      <td>2013-08-10</td>\n",
       "      <td>81</td>\n",
       "      <td>68</td>\n",
       "      <td>75</td>\n",
       "      <td>M</td>\n",
       "      <td>55</td>\n",
       "      <td>63</td>\n",
       "      <td>0</td>\n",
       "      <td>10</td>\n",
       "      <td>...</td>\n",
       "      <td></td>\n",
       "      <td>0.00</td>\n",
       "      <td>M</td>\n",
       "      <td>30.07</td>\n",
       "      <td>6.0</td>\n",
       "      <td>6</td>\n",
       "      <td>7.4</td>\n",
       "      <td>2013</td>\n",
       "      <td>8</td>\n",
       "      <td>10</td>\n",
       "    </tr>\n",
       "  </tbody>\n",
       "</table>\n",
       "<p>4 rows × 22 columns</p>\n",
       "</div>"
      ],
      "text/plain": [
       "      station       date  tmax  tmin tavg depart  dewpoint wetbulb heat cool  \\\n",
       "87          2 2007-06-13    86    68   77      M        53      62    0   12   \n",
       "848         1 2009-06-26    86    69   78      7        60       M    0   13   \n",
       "2410        1 2013-08-10    81    64   73      0        57       M    0    8   \n",
       "2411        2 2013-08-10    81    68   75      M        55      63    0   10   \n",
       "\n",
       "      ... codesum preciptotal stnpressure sealevel resultspeed resultdir  \\\n",
       "87    ...                0.00           M        M         7.0         5   \n",
       "848   ...                0.00           M    29.85         6.4         4   \n",
       "2410  ...                0.00           M    30.08         5.3         5   \n",
       "2411  ...                0.00           M    30.07         6.0         6   \n",
       "\n",
       "      avgspeed  year month  day  \n",
       "87           M  2007     6   13  \n",
       "848        8.2  2009     6   26  \n",
       "2410       6.5  2013     8   10  \n",
       "2411       7.4  2013     8   10  \n",
       "\n",
       "[4 rows x 22 columns]"
      ]
     },
     "execution_count": 72,
     "metadata": {},
     "output_type": "execute_result"
    }
   ],
   "source": [
    "weather[(weather.stnpressure=='M')]"
   ]
  },
  {
   "cell_type": "code",
   "execution_count": 73,
   "metadata": {},
   "outputs": [],
   "source": [
    "index_names=weather[(weather.stnpressure=='M')]\n",
    "weather.drop(index_names.index, inplace= True)"
   ]
  },
  {
   "cell_type": "markdown",
   "metadata": {},
   "source": [
    "#### Comments:\n",
    "- 4 missing value rows for \"stnpressure\" have been removed."
   ]
  },
  {
   "cell_type": "code",
   "execution_count": 74,
   "metadata": {},
   "outputs": [
    {
     "data": {
      "text/plain": [
       "array(['14', 'M', '-3', ' 2', ' 4', ' 5', '10', '12', '13', '-2', '15',\n",
       "       '11', '-4', '-6', ' 8', '-5', ' 1', ' 9', ' 6', '-9', '-8', ' 3',\n",
       "       ' 0', '-1', '-7', ' 7', '-14', '18', '16', '22', '21', '20', '-10',\n",
       "       '-16', '17', '-12', '-11', '-15', '-17', '19', '-13', '23'],\n",
       "      dtype=object)"
      ]
     },
     "execution_count": 74,
     "metadata": {},
     "output_type": "execute_result"
    }
   ],
   "source": [
    "weather.depart.unique()"
   ]
  },
  {
   "cell_type": "code",
   "execution_count": 75,
   "metadata": {},
   "outputs": [
    {
     "data": {
      "text/html": [
       "<div>\n",
       "<style scoped>\n",
       "    .dataframe tbody tr th:only-of-type {\n",
       "        vertical-align: middle;\n",
       "    }\n",
       "\n",
       "    .dataframe tbody tr th {\n",
       "        vertical-align: top;\n",
       "    }\n",
       "\n",
       "    .dataframe thead th {\n",
       "        text-align: right;\n",
       "    }\n",
       "</style>\n",
       "<table border=\"1\" class=\"dataframe\">\n",
       "  <thead>\n",
       "    <tr style=\"text-align: right;\">\n",
       "      <th></th>\n",
       "      <th>station</th>\n",
       "      <th>date</th>\n",
       "      <th>tmax</th>\n",
       "      <th>tmin</th>\n",
       "      <th>tavg</th>\n",
       "      <th>depart</th>\n",
       "      <th>dewpoint</th>\n",
       "      <th>wetbulb</th>\n",
       "      <th>heat</th>\n",
       "      <th>cool</th>\n",
       "      <th>...</th>\n",
       "      <th>codesum</th>\n",
       "      <th>preciptotal</th>\n",
       "      <th>stnpressure</th>\n",
       "      <th>sealevel</th>\n",
       "      <th>resultspeed</th>\n",
       "      <th>resultdir</th>\n",
       "      <th>avgspeed</th>\n",
       "      <th>year</th>\n",
       "      <th>month</th>\n",
       "      <th>day</th>\n",
       "    </tr>\n",
       "  </thead>\n",
       "  <tbody>\n",
       "    <tr>\n",
       "      <th>1</th>\n",
       "      <td>2</td>\n",
       "      <td>2007-05-01</td>\n",
       "      <td>84</td>\n",
       "      <td>52</td>\n",
       "      <td>68</td>\n",
       "      <td>M</td>\n",
       "      <td>51</td>\n",
       "      <td>57</td>\n",
       "      <td>0</td>\n",
       "      <td>3</td>\n",
       "      <td>...</td>\n",
       "      <td></td>\n",
       "      <td>0.00</td>\n",
       "      <td>29.18</td>\n",
       "      <td>29.82</td>\n",
       "      <td>2.7</td>\n",
       "      <td>25</td>\n",
       "      <td>9.6</td>\n",
       "      <td>2007</td>\n",
       "      <td>5</td>\n",
       "      <td>1</td>\n",
       "    </tr>\n",
       "    <tr>\n",
       "      <th>3</th>\n",
       "      <td>2</td>\n",
       "      <td>2007-05-02</td>\n",
       "      <td>60</td>\n",
       "      <td>43</td>\n",
       "      <td>52</td>\n",
       "      <td>M</td>\n",
       "      <td>42</td>\n",
       "      <td>47</td>\n",
       "      <td>13</td>\n",
       "      <td>0</td>\n",
       "      <td>...</td>\n",
       "      <td>BR HZ</td>\n",
       "      <td>0.00</td>\n",
       "      <td>29.44</td>\n",
       "      <td>30.08</td>\n",
       "      <td>13.3</td>\n",
       "      <td>2</td>\n",
       "      <td>13.4</td>\n",
       "      <td>2007</td>\n",
       "      <td>5</td>\n",
       "      <td>2</td>\n",
       "    </tr>\n",
       "    <tr>\n",
       "      <th>5</th>\n",
       "      <td>2</td>\n",
       "      <td>2007-05-03</td>\n",
       "      <td>67</td>\n",
       "      <td>48</td>\n",
       "      <td>58</td>\n",
       "      <td>M</td>\n",
       "      <td>40</td>\n",
       "      <td>50</td>\n",
       "      <td>7</td>\n",
       "      <td>0</td>\n",
       "      <td>...</td>\n",
       "      <td>HZ</td>\n",
       "      <td>0.00</td>\n",
       "      <td>29.46</td>\n",
       "      <td>30.12</td>\n",
       "      <td>12.9</td>\n",
       "      <td>6</td>\n",
       "      <td>13.2</td>\n",
       "      <td>2007</td>\n",
       "      <td>5</td>\n",
       "      <td>3</td>\n",
       "    </tr>\n",
       "    <tr>\n",
       "      <th>9</th>\n",
       "      <td>2</td>\n",
       "      <td>2007-05-05</td>\n",
       "      <td>66</td>\n",
       "      <td>54</td>\n",
       "      <td>60</td>\n",
       "      <td>M</td>\n",
       "      <td>39</td>\n",
       "      <td>50</td>\n",
       "      <td>5</td>\n",
       "      <td>0</td>\n",
       "      <td>...</td>\n",
       "      <td></td>\n",
       "      <td>T</td>\n",
       "      <td>29.46</td>\n",
       "      <td>30.09</td>\n",
       "      <td>11.2</td>\n",
       "      <td>7</td>\n",
       "      <td>11.5</td>\n",
       "      <td>2007</td>\n",
       "      <td>5</td>\n",
       "      <td>5</td>\n",
       "    </tr>\n",
       "    <tr>\n",
       "      <th>11</th>\n",
       "      <td>2</td>\n",
       "      <td>2007-05-06</td>\n",
       "      <td>68</td>\n",
       "      <td>52</td>\n",
       "      <td>60</td>\n",
       "      <td>M</td>\n",
       "      <td>30</td>\n",
       "      <td>46</td>\n",
       "      <td>5</td>\n",
       "      <td>0</td>\n",
       "      <td>...</td>\n",
       "      <td></td>\n",
       "      <td>0.00</td>\n",
       "      <td>29.62</td>\n",
       "      <td>30.28</td>\n",
       "      <td>13.8</td>\n",
       "      <td>10</td>\n",
       "      <td>14.5</td>\n",
       "      <td>2007</td>\n",
       "      <td>5</td>\n",
       "      <td>6</td>\n",
       "    </tr>\n",
       "    <tr>\n",
       "      <th>...</th>\n",
       "      <td>...</td>\n",
       "      <td>...</td>\n",
       "      <td>...</td>\n",
       "      <td>...</td>\n",
       "      <td>...</td>\n",
       "      <td>...</td>\n",
       "      <td>...</td>\n",
       "      <td>...</td>\n",
       "      <td>...</td>\n",
       "      <td>...</td>\n",
       "      <td>...</td>\n",
       "      <td>...</td>\n",
       "      <td>...</td>\n",
       "      <td>...</td>\n",
       "      <td>...</td>\n",
       "      <td>...</td>\n",
       "      <td>...</td>\n",
       "      <td>...</td>\n",
       "      <td>...</td>\n",
       "      <td>...</td>\n",
       "      <td>...</td>\n",
       "    </tr>\n",
       "    <tr>\n",
       "      <th>2935</th>\n",
       "      <td>2</td>\n",
       "      <td>2014-10-27</td>\n",
       "      <td>79</td>\n",
       "      <td>54</td>\n",
       "      <td>67</td>\n",
       "      <td>M</td>\n",
       "      <td>52</td>\n",
       "      <td>59</td>\n",
       "      <td>0</td>\n",
       "      <td>2</td>\n",
       "      <td>...</td>\n",
       "      <td>RA</td>\n",
       "      <td>0.02</td>\n",
       "      <td>29.00</td>\n",
       "      <td>29.67</td>\n",
       "      <td>12.7</td>\n",
       "      <td>19</td>\n",
       "      <td>13.6</td>\n",
       "      <td>2014</td>\n",
       "      <td>10</td>\n",
       "      <td>27</td>\n",
       "    </tr>\n",
       "    <tr>\n",
       "      <th>2937</th>\n",
       "      <td>2</td>\n",
       "      <td>2014-10-28</td>\n",
       "      <td>66</td>\n",
       "      <td>48</td>\n",
       "      <td>57</td>\n",
       "      <td>M</td>\n",
       "      <td>40</td>\n",
       "      <td>48</td>\n",
       "      <td>8</td>\n",
       "      <td>0</td>\n",
       "      <td>...</td>\n",
       "      <td>RA</td>\n",
       "      <td>0.03</td>\n",
       "      <td>29.23</td>\n",
       "      <td>29.85</td>\n",
       "      <td>14.0</td>\n",
       "      <td>26</td>\n",
       "      <td>14.6</td>\n",
       "      <td>2014</td>\n",
       "      <td>10</td>\n",
       "      <td>28</td>\n",
       "    </tr>\n",
       "    <tr>\n",
       "      <th>2939</th>\n",
       "      <td>2</td>\n",
       "      <td>2014-10-29</td>\n",
       "      <td>49</td>\n",
       "      <td>40</td>\n",
       "      <td>45</td>\n",
       "      <td>M</td>\n",
       "      <td>34</td>\n",
       "      <td>42</td>\n",
       "      <td>20</td>\n",
       "      <td>0</td>\n",
       "      <td>...</td>\n",
       "      <td></td>\n",
       "      <td>0.00</td>\n",
       "      <td>29.42</td>\n",
       "      <td>30.07</td>\n",
       "      <td>8.5</td>\n",
       "      <td>29</td>\n",
       "      <td>9.0</td>\n",
       "      <td>2014</td>\n",
       "      <td>10</td>\n",
       "      <td>29</td>\n",
       "    </tr>\n",
       "    <tr>\n",
       "      <th>2941</th>\n",
       "      <td>2</td>\n",
       "      <td>2014-10-30</td>\n",
       "      <td>53</td>\n",
       "      <td>37</td>\n",
       "      <td>45</td>\n",
       "      <td>M</td>\n",
       "      <td>35</td>\n",
       "      <td>42</td>\n",
       "      <td>20</td>\n",
       "      <td>0</td>\n",
       "      <td>...</td>\n",
       "      <td>RA</td>\n",
       "      <td>T</td>\n",
       "      <td>29.41</td>\n",
       "      <td>30.10</td>\n",
       "      <td>5.9</td>\n",
       "      <td>23</td>\n",
       "      <td>6.5</td>\n",
       "      <td>2014</td>\n",
       "      <td>10</td>\n",
       "      <td>30</td>\n",
       "    </tr>\n",
       "    <tr>\n",
       "      <th>2943</th>\n",
       "      <td>2</td>\n",
       "      <td>2014-10-31</td>\n",
       "      <td>49</td>\n",
       "      <td>34</td>\n",
       "      <td>42</td>\n",
       "      <td>M</td>\n",
       "      <td>29</td>\n",
       "      <td>36</td>\n",
       "      <td>23</td>\n",
       "      <td>0</td>\n",
       "      <td>...</td>\n",
       "      <td>RA SN BR</td>\n",
       "      <td>0.04</td>\n",
       "      <td>29.54</td>\n",
       "      <td>30.20</td>\n",
       "      <td>21.7</td>\n",
       "      <td>34</td>\n",
       "      <td>22.6</td>\n",
       "      <td>2014</td>\n",
       "      <td>10</td>\n",
       "      <td>31</td>\n",
       "    </tr>\n",
       "  </tbody>\n",
       "</table>\n",
       "<p>1458 rows × 22 columns</p>\n",
       "</div>"
      ],
      "text/plain": [
       "      station       date  tmax  tmin tavg depart  dewpoint wetbulb heat cool  \\\n",
       "1           2 2007-05-01    84    52   68      M        51      57    0    3   \n",
       "3           2 2007-05-02    60    43   52      M        42      47   13    0   \n",
       "5           2 2007-05-03    67    48   58      M        40      50    7    0   \n",
       "9           2 2007-05-05    66    54   60      M        39      50    5    0   \n",
       "11          2 2007-05-06    68    52   60      M        30      46    5    0   \n",
       "...       ...        ...   ...   ...  ...    ...       ...     ...  ...  ...   \n",
       "2935        2 2014-10-27    79    54   67      M        52      59    0    2   \n",
       "2937        2 2014-10-28    66    48   57      M        40      48    8    0   \n",
       "2939        2 2014-10-29    49    40   45      M        34      42   20    0   \n",
       "2941        2 2014-10-30    53    37   45      M        35      42   20    0   \n",
       "2943        2 2014-10-31    49    34   42      M        29      36   23    0   \n",
       "\n",
       "      ...   codesum preciptotal stnpressure sealevel resultspeed resultdir  \\\n",
       "1     ...                  0.00       29.18    29.82         2.7        25   \n",
       "3     ...     BR HZ        0.00       29.44    30.08        13.3         2   \n",
       "5     ...        HZ        0.00       29.46    30.12        12.9         6   \n",
       "9     ...                     T       29.46    30.09        11.2         7   \n",
       "11    ...                  0.00       29.62    30.28        13.8        10   \n",
       "...   ...       ...         ...         ...      ...         ...       ...   \n",
       "2935  ...        RA        0.02       29.00    29.67        12.7        19   \n",
       "2937  ...        RA        0.03       29.23    29.85        14.0        26   \n",
       "2939  ...                  0.00       29.42    30.07         8.5        29   \n",
       "2941  ...        RA           T       29.41    30.10         5.9        23   \n",
       "2943  ...  RA SN BR        0.04       29.54    30.20        21.7        34   \n",
       "\n",
       "      avgspeed  year month  day  \n",
       "1          9.6  2007     5    1  \n",
       "3         13.4  2007     5    2  \n",
       "5         13.2  2007     5    3  \n",
       "9         11.5  2007     5    5  \n",
       "11        14.5  2007     5    6  \n",
       "...        ...   ...   ...  ...  \n",
       "2935      13.6  2014    10   27  \n",
       "2937      14.6  2014    10   28  \n",
       "2939       9.0  2014    10   29  \n",
       "2941       6.5  2014    10   30  \n",
       "2943      22.6  2014    10   31  \n",
       "\n",
       "[1458 rows x 22 columns]"
      ]
     },
     "execution_count": 75,
     "metadata": {},
     "output_type": "execute_result"
    }
   ],
   "source": [
    "weather[(weather.depart=='M')]"
   ]
  },
  {
   "cell_type": "code",
   "execution_count": 76,
   "metadata": {},
   "outputs": [],
   "source": [
    "weather.drop('depart', axis=1, inplace=True)"
   ]
  },
  {
   "cell_type": "markdown",
   "metadata": {},
   "source": [
    "#### Comments:\n",
    "\n",
    "- There are almost half of \"depart\" data are missing. We have removed this column."
   ]
  },
  {
   "cell_type": "code",
   "execution_count": 77,
   "metadata": {},
   "outputs": [
    {
     "data": {
      "text/plain": [
       "array(['29.82', '30.09', '30.08', '30.12', '30.05', '30.10', '30.29',\n",
       "       '30.28', '30.03', '30.02', '29.94', '29.93', '29.92', '29.91',\n",
       "       '30.04', '30.20', '30.19', '30.24', '29.97', '29.98', '29.84',\n",
       "       '29.83', '30.27', '30.25', '30.26', '30.11', '30.06', '30.23',\n",
       "       '30.15', '30.14', '30.00', '29.99', '29.90', '29.77', '29.76',\n",
       "       '29.56', '29.54', '29.52', '29.51', '29.79', '29.78', '29.81',\n",
       "       '29.55', '29.85', '30.07', '30.16', '29.96', '29.95', '30.13',\n",
       "       '30.21', '30.22', '29.88', '30.01', '29.80', '29.89', '29.74',\n",
       "       '29.87', '29.86', '30.18', '30.17', '29.34', '29.44', '29.45',\n",
       "       '29.71', '29.72', '30.52', '30.53', '30.40', '30.41', '29.67',\n",
       "       '29.53', '29.69', '29.61', '29.64', '29.63', '29.66', '29.70',\n",
       "       '30.34', '30.33', '29.62', '29.60', '29.75', '29.68', '29.73',\n",
       "       '30.31', '30.30', '30.32', '30.37', '30.39', 'M', '29.59', '29.65',\n",
       "       '30.35', '30.36', '29.48', '30.38', '29.50', '29.25', '29.23',\n",
       "       '29.46', '29.43', '29.47'], dtype=object)"
      ]
     },
     "execution_count": 77,
     "metadata": {},
     "output_type": "execute_result"
    }
   ],
   "source": [
    "weather.sealevel.unique()"
   ]
  },
  {
   "cell_type": "code",
   "execution_count": 78,
   "metadata": {},
   "outputs": [
    {
     "data": {
      "text/html": [
       "<div>\n",
       "<style scoped>\n",
       "    .dataframe tbody tr th:only-of-type {\n",
       "        vertical-align: middle;\n",
       "    }\n",
       "\n",
       "    .dataframe tbody tr th {\n",
       "        vertical-align: top;\n",
       "    }\n",
       "\n",
       "    .dataframe thead th {\n",
       "        text-align: right;\n",
       "    }\n",
       "</style>\n",
       "<table border=\"1\" class=\"dataframe\">\n",
       "  <thead>\n",
       "    <tr style=\"text-align: right;\">\n",
       "      <th></th>\n",
       "      <th>station</th>\n",
       "      <th>date</th>\n",
       "      <th>tmax</th>\n",
       "      <th>tmin</th>\n",
       "      <th>tavg</th>\n",
       "      <th>dewpoint</th>\n",
       "      <th>wetbulb</th>\n",
       "      <th>heat</th>\n",
       "      <th>cool</th>\n",
       "      <th>sunrise</th>\n",
       "      <th>...</th>\n",
       "      <th>codesum</th>\n",
       "      <th>preciptotal</th>\n",
       "      <th>stnpressure</th>\n",
       "      <th>sealevel</th>\n",
       "      <th>resultspeed</th>\n",
       "      <th>resultdir</th>\n",
       "      <th>avgspeed</th>\n",
       "      <th>year</th>\n",
       "      <th>month</th>\n",
       "      <th>day</th>\n",
       "    </tr>\n",
       "  </thead>\n",
       "  <tbody>\n",
       "    <tr>\n",
       "      <th>832</th>\n",
       "      <td>1</td>\n",
       "      <td>2009-06-18</td>\n",
       "      <td>80</td>\n",
       "      <td>61</td>\n",
       "      <td>71</td>\n",
       "      <td>63</td>\n",
       "      <td>67</td>\n",
       "      <td>0</td>\n",
       "      <td>6</td>\n",
       "      <td>0416</td>\n",
       "      <td>...</td>\n",
       "      <td>RA BR</td>\n",
       "      <td>0.12</td>\n",
       "      <td>29.08</td>\n",
       "      <td>M</td>\n",
       "      <td>6.7</td>\n",
       "      <td>16</td>\n",
       "      <td>7.9</td>\n",
       "      <td>2009</td>\n",
       "      <td>6</td>\n",
       "      <td>18</td>\n",
       "    </tr>\n",
       "    <tr>\n",
       "      <th>994</th>\n",
       "      <td>1</td>\n",
       "      <td>2009-09-07</td>\n",
       "      <td>77</td>\n",
       "      <td>59</td>\n",
       "      <td>68</td>\n",
       "      <td>59</td>\n",
       "      <td>62</td>\n",
       "      <td>0</td>\n",
       "      <td>3</td>\n",
       "      <td>0523</td>\n",
       "      <td>...</td>\n",
       "      <td>BR</td>\n",
       "      <td>0.00</td>\n",
       "      <td>29.39</td>\n",
       "      <td>M</td>\n",
       "      <td>5.8</td>\n",
       "      <td>3</td>\n",
       "      <td>4.0</td>\n",
       "      <td>2009</td>\n",
       "      <td>9</td>\n",
       "      <td>7</td>\n",
       "    </tr>\n",
       "    <tr>\n",
       "      <th>1732</th>\n",
       "      <td>1</td>\n",
       "      <td>2011-09-08</td>\n",
       "      <td>75</td>\n",
       "      <td>57</td>\n",
       "      <td>66</td>\n",
       "      <td>53</td>\n",
       "      <td>59</td>\n",
       "      <td>0</td>\n",
       "      <td>1</td>\n",
       "      <td>0524</td>\n",
       "      <td>...</td>\n",
       "      <td>RA</td>\n",
       "      <td>T</td>\n",
       "      <td>29.34</td>\n",
       "      <td>M</td>\n",
       "      <td>13.0</td>\n",
       "      <td>2</td>\n",
       "      <td>13.4</td>\n",
       "      <td>2011</td>\n",
       "      <td>9</td>\n",
       "      <td>8</td>\n",
       "    </tr>\n",
       "    <tr>\n",
       "      <th>1745</th>\n",
       "      <td>2</td>\n",
       "      <td>2011-09-14</td>\n",
       "      <td>60</td>\n",
       "      <td>48</td>\n",
       "      <td>54</td>\n",
       "      <td>45</td>\n",
       "      <td>51</td>\n",
       "      <td>11</td>\n",
       "      <td>0</td>\n",
       "      <td>-</td>\n",
       "      <td>...</td>\n",
       "      <td>RA BR HZ FU</td>\n",
       "      <td>T</td>\n",
       "      <td>29.47</td>\n",
       "      <td>M</td>\n",
       "      <td>6.0</td>\n",
       "      <td>32</td>\n",
       "      <td>M</td>\n",
       "      <td>2011</td>\n",
       "      <td>9</td>\n",
       "      <td>14</td>\n",
       "    </tr>\n",
       "    <tr>\n",
       "      <th>1756</th>\n",
       "      <td>1</td>\n",
       "      <td>2011-09-20</td>\n",
       "      <td>74</td>\n",
       "      <td>49</td>\n",
       "      <td>62</td>\n",
       "      <td>54</td>\n",
       "      <td>58</td>\n",
       "      <td>3</td>\n",
       "      <td>0</td>\n",
       "      <td>0537</td>\n",
       "      <td>...</td>\n",
       "      <td>MIFG BCFG BR</td>\n",
       "      <td>0.00</td>\n",
       "      <td>29.26</td>\n",
       "      <td>M</td>\n",
       "      <td>7.3</td>\n",
       "      <td>18</td>\n",
       "      <td>7.3</td>\n",
       "      <td>2011</td>\n",
       "      <td>9</td>\n",
       "      <td>20</td>\n",
       "    </tr>\n",
       "    <tr>\n",
       "      <th>2090</th>\n",
       "      <td>1</td>\n",
       "      <td>2012-09-03</td>\n",
       "      <td>88</td>\n",
       "      <td>71</td>\n",
       "      <td>80</td>\n",
       "      <td>70</td>\n",
       "      <td>73</td>\n",
       "      <td>0</td>\n",
       "      <td>15</td>\n",
       "      <td>0519</td>\n",
       "      <td>...</td>\n",
       "      <td>BR</td>\n",
       "      <td>0.00</td>\n",
       "      <td>29.17</td>\n",
       "      <td>M</td>\n",
       "      <td>4.6</td>\n",
       "      <td>6</td>\n",
       "      <td>4.4</td>\n",
       "      <td>2012</td>\n",
       "      <td>9</td>\n",
       "      <td>3</td>\n",
       "    </tr>\n",
       "    <tr>\n",
       "      <th>2743</th>\n",
       "      <td>2</td>\n",
       "      <td>2014-07-23</td>\n",
       "      <td>76</td>\n",
       "      <td>64</td>\n",
       "      <td>70</td>\n",
       "      <td>56</td>\n",
       "      <td>61</td>\n",
       "      <td>0</td>\n",
       "      <td>5</td>\n",
       "      <td>-</td>\n",
       "      <td>...</td>\n",
       "      <td></td>\n",
       "      <td>0.00</td>\n",
       "      <td>29.47</td>\n",
       "      <td>M</td>\n",
       "      <td>16.4</td>\n",
       "      <td>2</td>\n",
       "      <td>16.7</td>\n",
       "      <td>2014</td>\n",
       "      <td>7</td>\n",
       "      <td>23</td>\n",
       "    </tr>\n",
       "  </tbody>\n",
       "</table>\n",
       "<p>7 rows × 21 columns</p>\n",
       "</div>"
      ],
      "text/plain": [
       "      station       date  tmax  tmin tavg  dewpoint wetbulb heat cool sunrise  \\\n",
       "832         1 2009-06-18    80    61   71        63      67    0    6    0416   \n",
       "994         1 2009-09-07    77    59   68        59      62    0    3    0523   \n",
       "1732        1 2011-09-08    75    57   66        53      59    0    1    0524   \n",
       "1745        2 2011-09-14    60    48   54        45      51   11    0       -   \n",
       "1756        1 2011-09-20    74    49   62        54      58    3    0    0537   \n",
       "2090        1 2012-09-03    88    71   80        70      73    0   15    0519   \n",
       "2743        2 2014-07-23    76    64   70        56      61    0    5       -   \n",
       "\n",
       "      ...       codesum preciptotal stnpressure sealevel resultspeed  \\\n",
       "832   ...         RA BR        0.12       29.08        M         6.7   \n",
       "994   ...            BR        0.00       29.39        M         5.8   \n",
       "1732  ...            RA           T       29.34        M        13.0   \n",
       "1745  ...   RA BR HZ FU           T       29.47        M         6.0   \n",
       "1756  ...  MIFG BCFG BR        0.00       29.26        M         7.3   \n",
       "2090  ...            BR        0.00       29.17        M         4.6   \n",
       "2743  ...                      0.00       29.47        M        16.4   \n",
       "\n",
       "      resultdir  avgspeed  year  month  day  \n",
       "832          16       7.9  2009      6   18  \n",
       "994           3       4.0  2009      9    7  \n",
       "1732          2      13.4  2011      9    8  \n",
       "1745         32         M  2011      9   14  \n",
       "1756         18       7.3  2011      9   20  \n",
       "2090          6       4.4  2012      9    3  \n",
       "2743          2      16.7  2014      7   23  \n",
       "\n",
       "[7 rows x 21 columns]"
      ]
     },
     "execution_count": 78,
     "metadata": {},
     "output_type": "execute_result"
    }
   ],
   "source": [
    "weather[(weather.sealevel=='M')]"
   ]
  },
  {
   "cell_type": "code",
   "execution_count": 79,
   "metadata": {},
   "outputs": [],
   "source": [
    "index_names= weather[(weather.sealevel=='M')]\n",
    "weather.drop(index_names.index, inplace= True)"
   ]
  },
  {
   "cell_type": "markdown",
   "metadata": {},
   "source": [
    "#### Comments:\n",
    "\n",
    "- There are 7 missing value rows for \"sealevel\", We have removed these rows from weather data."
   ]
  },
  {
   "cell_type": "code",
   "execution_count": 80,
   "metadata": {},
   "outputs": [
    {
     "data": {
      "text/html": [
       "<div>\n",
       "<style scoped>\n",
       "    .dataframe tbody tr th:only-of-type {\n",
       "        vertical-align: middle;\n",
       "    }\n",
       "\n",
       "    .dataframe tbody tr th {\n",
       "        vertical-align: top;\n",
       "    }\n",
       "\n",
       "    .dataframe thead th {\n",
       "        text-align: right;\n",
       "    }\n",
       "</style>\n",
       "<table border=\"1\" class=\"dataframe\">\n",
       "  <thead>\n",
       "    <tr style=\"text-align: right;\">\n",
       "      <th></th>\n",
       "      <th>station</th>\n",
       "      <th>date</th>\n",
       "      <th>tmax</th>\n",
       "      <th>tmin</th>\n",
       "      <th>tavg</th>\n",
       "      <th>dewpoint</th>\n",
       "      <th>wetbulb</th>\n",
       "      <th>heat</th>\n",
       "      <th>cool</th>\n",
       "      <th>sunrise</th>\n",
       "      <th>...</th>\n",
       "      <th>codesum</th>\n",
       "      <th>preciptotal</th>\n",
       "      <th>stnpressure</th>\n",
       "      <th>sealevel</th>\n",
       "      <th>resultspeed</th>\n",
       "      <th>resultdir</th>\n",
       "      <th>avgspeed</th>\n",
       "      <th>year</th>\n",
       "      <th>month</th>\n",
       "      <th>day</th>\n",
       "    </tr>\n",
       "  </thead>\n",
       "  <tbody>\n",
       "  </tbody>\n",
       "</table>\n",
       "<p>0 rows × 21 columns</p>\n",
       "</div>"
      ],
      "text/plain": [
       "Empty DataFrame\n",
       "Columns: [station, date, tmax, tmin, tavg, dewpoint, wetbulb, heat, cool, sunrise, sunset, codesum, preciptotal, stnpressure, sealevel, resultspeed, resultdir, avgspeed, year, month, day]\n",
       "Index: []\n",
       "\n",
       "[0 rows x 21 columns]"
      ]
     },
     "execution_count": 80,
     "metadata": {},
     "output_type": "execute_result"
    }
   ],
   "source": [
    "weather[(weather.avgspeed=='M')]"
   ]
  },
  {
   "cell_type": "code",
   "execution_count": 81,
   "metadata": {},
   "outputs": [
    {
     "data": {
      "text/plain": [
       "array(['56', '57', '47', '48', '50', '49', '46', '54', '53', '62', '63',\n",
       "       '60', '61', '51', '59', '58', '43', '44', '45', '65', '66', '67',\n",
       "       '64', '52', '55', '69', '68', '70', '72', '71', '73', '74', '76',\n",
       "       '42', '39', '40', '41', '35', '33', '34', '75', '36', '32', '38',\n",
       "       '78', '77', '37', 'M'], dtype=object)"
      ]
     },
     "execution_count": 81,
     "metadata": {},
     "output_type": "execute_result"
    }
   ],
   "source": [
    "weather.wetbulb.unique()"
   ]
  },
  {
   "cell_type": "code",
   "execution_count": 82,
   "metadata": {},
   "outputs": [
    {
     "data": {
      "text/html": [
       "<div>\n",
       "<style scoped>\n",
       "    .dataframe tbody tr th:only-of-type {\n",
       "        vertical-align: middle;\n",
       "    }\n",
       "\n",
       "    .dataframe tbody tr th {\n",
       "        vertical-align: top;\n",
       "    }\n",
       "\n",
       "    .dataframe thead th {\n",
       "        text-align: right;\n",
       "    }\n",
       "</style>\n",
       "<table border=\"1\" class=\"dataframe\">\n",
       "  <thead>\n",
       "    <tr style=\"text-align: right;\">\n",
       "      <th></th>\n",
       "      <th>station</th>\n",
       "      <th>date</th>\n",
       "      <th>tmax</th>\n",
       "      <th>tmin</th>\n",
       "      <th>tavg</th>\n",
       "      <th>dewpoint</th>\n",
       "      <th>wetbulb</th>\n",
       "      <th>heat</th>\n",
       "      <th>cool</th>\n",
       "      <th>sunrise</th>\n",
       "      <th>...</th>\n",
       "      <th>codesum</th>\n",
       "      <th>preciptotal</th>\n",
       "      <th>stnpressure</th>\n",
       "      <th>sealevel</th>\n",
       "      <th>resultspeed</th>\n",
       "      <th>resultdir</th>\n",
       "      <th>avgspeed</th>\n",
       "      <th>year</th>\n",
       "      <th>month</th>\n",
       "      <th>day</th>\n",
       "    </tr>\n",
       "  </thead>\n",
       "  <tbody>\n",
       "    <tr>\n",
       "      <th>2412</th>\n",
       "      <td>1</td>\n",
       "      <td>2013-08-11</td>\n",
       "      <td>81</td>\n",
       "      <td>60</td>\n",
       "      <td>71</td>\n",
       "      <td>61</td>\n",
       "      <td>M</td>\n",
       "      <td>0</td>\n",
       "      <td>6</td>\n",
       "      <td>0455</td>\n",
       "      <td>...</td>\n",
       "      <td>RA</td>\n",
       "      <td>0.01</td>\n",
       "      <td>29.35</td>\n",
       "      <td>30.07</td>\n",
       "      <td>2.0</td>\n",
       "      <td>27</td>\n",
       "      <td>3.0</td>\n",
       "      <td>2013</td>\n",
       "      <td>8</td>\n",
       "      <td>11</td>\n",
       "    </tr>\n",
       "    <tr>\n",
       "      <th>2415</th>\n",
       "      <td>2</td>\n",
       "      <td>2013-08-12</td>\n",
       "      <td>85</td>\n",
       "      <td>69</td>\n",
       "      <td>77</td>\n",
       "      <td>63</td>\n",
       "      <td>M</td>\n",
       "      <td>0</td>\n",
       "      <td>12</td>\n",
       "      <td>-</td>\n",
       "      <td>...</td>\n",
       "      <td>RA</td>\n",
       "      <td>0.66</td>\n",
       "      <td>29.27</td>\n",
       "      <td>29.92</td>\n",
       "      <td>4.5</td>\n",
       "      <td>26</td>\n",
       "      <td>7.7</td>\n",
       "      <td>2013</td>\n",
       "      <td>8</td>\n",
       "      <td>12</td>\n",
       "    </tr>\n",
       "  </tbody>\n",
       "</table>\n",
       "<p>2 rows × 21 columns</p>\n",
       "</div>"
      ],
      "text/plain": [
       "      station       date  tmax  tmin tavg  dewpoint wetbulb heat cool sunrise  \\\n",
       "2412        1 2013-08-11    81    60   71        61       M    0    6    0455   \n",
       "2415        2 2013-08-12    85    69   77        63       M    0   12       -   \n",
       "\n",
       "      ... codesum preciptotal stnpressure sealevel resultspeed  resultdir  \\\n",
       "2412  ...      RA        0.01       29.35    30.07         2.0         27   \n",
       "2415  ...      RA        0.66       29.27    29.92         4.5         26   \n",
       "\n",
       "      avgspeed  year  month  day  \n",
       "2412       3.0  2013      8   11  \n",
       "2415       7.7  2013      8   12  \n",
       "\n",
       "[2 rows x 21 columns]"
      ]
     },
     "execution_count": 82,
     "metadata": {},
     "output_type": "execute_result"
    }
   ],
   "source": [
    "weather[(weather.wetbulb=='M')]"
   ]
  },
  {
   "cell_type": "code",
   "execution_count": 83,
   "metadata": {},
   "outputs": [],
   "source": [
    "index_names= weather[(weather.wetbulb=='M')]\n",
    "weather.drop(index_names.index, inplace= True)"
   ]
  },
  {
   "cell_type": "markdown",
   "metadata": {},
   "source": [
    "#### Comments:\n",
    "\n",
    "- There are 2 missing value rows for \"wetbulb\", We have removed these rows from weather data."
   ]
  },
  {
   "cell_type": "code",
   "execution_count": 84,
   "metadata": {},
   "outputs": [],
   "source": [
    "weather.reset_index(inplace=True)"
   ]
  },
  {
   "cell_type": "code",
   "execution_count": 85,
   "metadata": {},
   "outputs": [
    {
     "data": {
      "text/html": [
       "<div>\n",
       "<style scoped>\n",
       "    .dataframe tbody tr th:only-of-type {\n",
       "        vertical-align: middle;\n",
       "    }\n",
       "\n",
       "    .dataframe tbody tr th {\n",
       "        vertical-align: top;\n",
       "    }\n",
       "\n",
       "    .dataframe thead th {\n",
       "        text-align: right;\n",
       "    }\n",
       "</style>\n",
       "<table border=\"1\" class=\"dataframe\">\n",
       "  <thead>\n",
       "    <tr style=\"text-align: right;\">\n",
       "      <th></th>\n",
       "      <th>index</th>\n",
       "      <th>station</th>\n",
       "      <th>date</th>\n",
       "      <th>tmax</th>\n",
       "      <th>tmin</th>\n",
       "      <th>tavg</th>\n",
       "      <th>dewpoint</th>\n",
       "      <th>wetbulb</th>\n",
       "      <th>heat</th>\n",
       "      <th>cool</th>\n",
       "      <th>...</th>\n",
       "      <th>codesum</th>\n",
       "      <th>preciptotal</th>\n",
       "      <th>stnpressure</th>\n",
       "      <th>sealevel</th>\n",
       "      <th>resultspeed</th>\n",
       "      <th>resultdir</th>\n",
       "      <th>avgspeed</th>\n",
       "      <th>year</th>\n",
       "      <th>month</th>\n",
       "      <th>day</th>\n",
       "    </tr>\n",
       "  </thead>\n",
       "  <tbody>\n",
       "    <tr>\n",
       "      <th>0</th>\n",
       "      <td>0</td>\n",
       "      <td>1</td>\n",
       "      <td>2007-05-01</td>\n",
       "      <td>83</td>\n",
       "      <td>50</td>\n",
       "      <td>67</td>\n",
       "      <td>51</td>\n",
       "      <td>56</td>\n",
       "      <td>0</td>\n",
       "      <td>2</td>\n",
       "      <td>...</td>\n",
       "      <td></td>\n",
       "      <td>0.00</td>\n",
       "      <td>29.10</td>\n",
       "      <td>29.82</td>\n",
       "      <td>1.7</td>\n",
       "      <td>27</td>\n",
       "      <td>9.2</td>\n",
       "      <td>2007</td>\n",
       "      <td>5</td>\n",
       "      <td>1</td>\n",
       "    </tr>\n",
       "    <tr>\n",
       "      <th>1</th>\n",
       "      <td>1</td>\n",
       "      <td>2</td>\n",
       "      <td>2007-05-01</td>\n",
       "      <td>84</td>\n",
       "      <td>52</td>\n",
       "      <td>68</td>\n",
       "      <td>51</td>\n",
       "      <td>57</td>\n",
       "      <td>0</td>\n",
       "      <td>3</td>\n",
       "      <td>...</td>\n",
       "      <td></td>\n",
       "      <td>0.00</td>\n",
       "      <td>29.18</td>\n",
       "      <td>29.82</td>\n",
       "      <td>2.7</td>\n",
       "      <td>25</td>\n",
       "      <td>9.6</td>\n",
       "      <td>2007</td>\n",
       "      <td>5</td>\n",
       "      <td>1</td>\n",
       "    </tr>\n",
       "    <tr>\n",
       "      <th>2</th>\n",
       "      <td>2</td>\n",
       "      <td>1</td>\n",
       "      <td>2007-05-02</td>\n",
       "      <td>59</td>\n",
       "      <td>42</td>\n",
       "      <td>51</td>\n",
       "      <td>42</td>\n",
       "      <td>47</td>\n",
       "      <td>14</td>\n",
       "      <td>0</td>\n",
       "      <td>...</td>\n",
       "      <td>BR</td>\n",
       "      <td>0.00</td>\n",
       "      <td>29.38</td>\n",
       "      <td>30.09</td>\n",
       "      <td>13.0</td>\n",
       "      <td>4</td>\n",
       "      <td>13.4</td>\n",
       "      <td>2007</td>\n",
       "      <td>5</td>\n",
       "      <td>2</td>\n",
       "    </tr>\n",
       "    <tr>\n",
       "      <th>3</th>\n",
       "      <td>3</td>\n",
       "      <td>2</td>\n",
       "      <td>2007-05-02</td>\n",
       "      <td>60</td>\n",
       "      <td>43</td>\n",
       "      <td>52</td>\n",
       "      <td>42</td>\n",
       "      <td>47</td>\n",
       "      <td>13</td>\n",
       "      <td>0</td>\n",
       "      <td>...</td>\n",
       "      <td>BR HZ</td>\n",
       "      <td>0.00</td>\n",
       "      <td>29.44</td>\n",
       "      <td>30.08</td>\n",
       "      <td>13.3</td>\n",
       "      <td>2</td>\n",
       "      <td>13.4</td>\n",
       "      <td>2007</td>\n",
       "      <td>5</td>\n",
       "      <td>2</td>\n",
       "    </tr>\n",
       "    <tr>\n",
       "      <th>4</th>\n",
       "      <td>4</td>\n",
       "      <td>1</td>\n",
       "      <td>2007-05-03</td>\n",
       "      <td>66</td>\n",
       "      <td>46</td>\n",
       "      <td>56</td>\n",
       "      <td>40</td>\n",
       "      <td>48</td>\n",
       "      <td>9</td>\n",
       "      <td>0</td>\n",
       "      <td>...</td>\n",
       "      <td></td>\n",
       "      <td>0.00</td>\n",
       "      <td>29.39</td>\n",
       "      <td>30.12</td>\n",
       "      <td>11.7</td>\n",
       "      <td>7</td>\n",
       "      <td>11.9</td>\n",
       "      <td>2007</td>\n",
       "      <td>5</td>\n",
       "      <td>3</td>\n",
       "    </tr>\n",
       "  </tbody>\n",
       "</table>\n",
       "<p>5 rows × 22 columns</p>\n",
       "</div>"
      ],
      "text/plain": [
       "   index  station       date  tmax  tmin tavg  dewpoint wetbulb heat cool  \\\n",
       "0      0        1 2007-05-01    83    50   67        51      56    0    2   \n",
       "1      1        2 2007-05-01    84    52   68        51      57    0    3   \n",
       "2      2        1 2007-05-02    59    42   51        42      47   14    0   \n",
       "3      3        2 2007-05-02    60    43   52        42      47   13    0   \n",
       "4      4        1 2007-05-03    66    46   56        40      48    9    0   \n",
       "\n",
       "   ... codesum preciptotal stnpressure sealevel resultspeed resultdir  \\\n",
       "0  ...                0.00       29.10    29.82         1.7        27   \n",
       "1  ...                0.00       29.18    29.82         2.7        25   \n",
       "2  ...      BR        0.00       29.38    30.09        13.0         4   \n",
       "3  ...   BR HZ        0.00       29.44    30.08        13.3         2   \n",
       "4  ...                0.00       29.39    30.12        11.7         7   \n",
       "\n",
       "   avgspeed  year month  day  \n",
       "0       9.2  2007     5    1  \n",
       "1       9.6  2007     5    1  \n",
       "2      13.4  2007     5    2  \n",
       "3      13.4  2007     5    2  \n",
       "4      11.9  2007     5    3  \n",
       "\n",
       "[5 rows x 22 columns]"
      ]
     },
     "execution_count": 85,
     "metadata": {},
     "output_type": "execute_result"
    }
   ],
   "source": [
    "weather.head()"
   ]
  },
  {
   "cell_type": "markdown",
   "metadata": {},
   "source": [
    "#### Merge train / test with Weather-station data"
   ]
  },
  {
   "cell_type": "markdown",
   "metadata": {},
   "source": [
    "- In order to find the nearest weather station, we can use the coordinates of the Chicago O'Hare International Airport (where station 1 is located) and the Chicago Midway International Airport (where station 2 is located):\n",
    "\n",
    "> - Station 1: CHICAGO O'HARE INTERNATIONAL AIRPORT Lat: 41.995 Lon: -87.933 Elev: 662 ft. above sea level\n",
    "> - Station 2: CHICAGO MIDWAY INTL ARPT Lat: 41.786 Lon: -87.752 Elev: 612 ft. above sea level\n"
   ]
  },
  {
   "cell_type": "code",
   "execution_count": 86,
   "metadata": {},
   "outputs": [],
   "source": [
    "# to see which weather monitoring station is close the the trap location\n",
    "def nearest_station(lat, lon):\n",
    "    station_1 = (41.995, -87.933)\n",
    "    station_2 = (41.786, -87.752)\n",
    "    stn1_dist = abs(geopy.distance.geodesic((lat,lon), station_1).km)\n",
    "    stn2_dist = abs(geopy.distance.geodesic((lat,lon), station_2).km)\n",
    "    return 1 if stn1_dist < stn2_dist else 2"
   ]
  },
  {
   "cell_type": "code",
   "execution_count": 87,
   "metadata": {},
   "outputs": [],
   "source": [
    "train['nearest_station'] = [nearest_station(train.loc[i,'latitude'],train.loc[i,'longitude']) for i in train.index]\n",
    "test['nearest_station'] = [nearest_station(test.loc[i,'latitude'],test.loc[i,'longitude']) for i in test.index]"
   ]
  },
  {
   "cell_type": "code",
   "execution_count": 88,
   "metadata": {},
   "outputs": [
    {
     "data": {
      "text/html": [
       "<div>\n",
       "<style scoped>\n",
       "    .dataframe tbody tr th:only-of-type {\n",
       "        vertical-align: middle;\n",
       "    }\n",
       "\n",
       "    .dataframe tbody tr th {\n",
       "        vertical-align: top;\n",
       "    }\n",
       "\n",
       "    .dataframe thead th {\n",
       "        text-align: right;\n",
       "    }\n",
       "</style>\n",
       "<table border=\"1\" class=\"dataframe\">\n",
       "  <thead>\n",
       "    <tr style=\"text-align: right;\">\n",
       "      <th></th>\n",
       "      <th>date</th>\n",
       "      <th>address</th>\n",
       "      <th>species</th>\n",
       "      <th>block</th>\n",
       "      <th>street</th>\n",
       "      <th>trap</th>\n",
       "      <th>addressnumberandstreet</th>\n",
       "      <th>latitude</th>\n",
       "      <th>longitude</th>\n",
       "      <th>addressaccuracy</th>\n",
       "      <th>nummosquitos</th>\n",
       "      <th>wnvpresent</th>\n",
       "      <th>year</th>\n",
       "      <th>month</th>\n",
       "      <th>day</th>\n",
       "      <th>nearest_station</th>\n",
       "    </tr>\n",
       "  </thead>\n",
       "  <tbody>\n",
       "    <tr>\n",
       "      <th>0</th>\n",
       "      <td>2007-05-29</td>\n",
       "      <td>1100 Roosevelt Road, Chicago, IL 60608, USA</td>\n",
       "      <td>CULEX PIPIENS/RESTUANS</td>\n",
       "      <td>11</td>\n",
       "      <td>W ROOSEVELT</td>\n",
       "      <td>T048</td>\n",
       "      <td>1100  W ROOSEVELT, Chicago, IL</td>\n",
       "      <td>41.867108</td>\n",
       "      <td>-87.654224</td>\n",
       "      <td>8</td>\n",
       "      <td>1</td>\n",
       "      <td>0</td>\n",
       "      <td>2007</td>\n",
       "      <td>5</td>\n",
       "      <td>29</td>\n",
       "      <td>2</td>\n",
       "    </tr>\n",
       "    <tr>\n",
       "      <th>1</th>\n",
       "      <td>2007-05-29</td>\n",
       "      <td>1100 Roosevelt Road, Chicago, IL 60608, USA</td>\n",
       "      <td>CULEX RESTUANS</td>\n",
       "      <td>11</td>\n",
       "      <td>W ROOSEVELT</td>\n",
       "      <td>T048</td>\n",
       "      <td>1100  W ROOSEVELT, Chicago, IL</td>\n",
       "      <td>41.867108</td>\n",
       "      <td>-87.654224</td>\n",
       "      <td>8</td>\n",
       "      <td>2</td>\n",
       "      <td>0</td>\n",
       "      <td>2007</td>\n",
       "      <td>5</td>\n",
       "      <td>29</td>\n",
       "      <td>2</td>\n",
       "    </tr>\n",
       "  </tbody>\n",
       "</table>\n",
       "</div>"
      ],
      "text/plain": [
       "        date                                      address  \\\n",
       "0 2007-05-29  1100 Roosevelt Road, Chicago, IL 60608, USA   \n",
       "1 2007-05-29  1100 Roosevelt Road, Chicago, IL 60608, USA   \n",
       "\n",
       "                  species  block        street  trap  \\\n",
       "0  CULEX PIPIENS/RESTUANS     11   W ROOSEVELT  T048   \n",
       "1          CULEX RESTUANS     11   W ROOSEVELT  T048   \n",
       "\n",
       "           addressnumberandstreet   latitude  longitude  addressaccuracy  \\\n",
       "0  1100  W ROOSEVELT, Chicago, IL  41.867108 -87.654224                8   \n",
       "1  1100  W ROOSEVELT, Chicago, IL  41.867108 -87.654224                8   \n",
       "\n",
       "   nummosquitos  wnvpresent  year  month  day  nearest_station  \n",
       "0             1           0  2007      5   29                2  \n",
       "1             2           0  2007      5   29                2  "
      ]
     },
     "execution_count": 88,
     "metadata": {},
     "output_type": "execute_result"
    }
   ],
   "source": [
    "train.head(2)"
   ]
  },
  {
   "cell_type": "code",
   "execution_count": 89,
   "metadata": {},
   "outputs": [
    {
     "data": {
      "text/plain": [
       "2    0.709381\n",
       "1    0.290619\n",
       "Name: nearest_station, dtype: float64"
      ]
     },
     "execution_count": 89,
     "metadata": {},
     "output_type": "execute_result"
    }
   ],
   "source": [
    "train['nearest_station'].value_counts(normalize= True)"
   ]
  },
  {
   "cell_type": "code",
   "execution_count": 90,
   "metadata": {},
   "outputs": [
    {
     "data": {
      "text/plain": [
       "2    0.695588\n",
       "1    0.304412\n",
       "Name: nearest_station, dtype: float64"
      ]
     },
     "execution_count": 90,
     "metadata": {},
     "output_type": "execute_result"
    }
   ],
   "source": [
    "test['nearest_station'].value_counts(normalize= True)"
   ]
  },
  {
   "cell_type": "markdown",
   "metadata": {},
   "source": [
    "#### Comments:\n",
    "- Both train & test data, more traps close to weather monitoring station 2. (CHICAGO MIDWAY INTL ARPT Lat: 41.786 Lon: -87.752 Elev: 612 ft. above sea level)"
   ]
  },
  {
   "cell_type": "code",
   "execution_count": 91,
   "metadata": {},
   "outputs": [
    {
     "data": {
      "text/plain": [
       "(8475, 16)"
      ]
     },
     "execution_count": 91,
     "metadata": {},
     "output_type": "execute_result"
    }
   ],
   "source": [
    "train.shape"
   ]
  },
  {
   "cell_type": "code",
   "execution_count": 92,
   "metadata": {},
   "outputs": [
    {
     "data": {
      "text/plain": [
       "(116293, 15)"
      ]
     },
     "execution_count": 92,
     "metadata": {},
     "output_type": "execute_result"
    }
   ],
   "source": [
    "test.shape"
   ]
  },
  {
   "cell_type": "markdown",
   "metadata": {},
   "source": [
    "## 4. Export Cleaned Data"
   ]
  },
  {
   "cell_type": "code",
   "execution_count": 93,
   "metadata": {},
   "outputs": [],
   "source": [
    "train.to_csv('../assets/train_cleaned.csv', index=False)\n",
    "test.to_csv('../assets/test_cleaned.csv', index=False)\n",
    "weather.to_csv('../assets/weather_cleaned.csv', index=False)\n",
    "spray.to_csv('../assets/spray_cleaned.csv', index=False)"
   ]
  },
  {
   "cell_type": "markdown",
   "metadata": {},
   "source": [
    "Cleaned Datasets will be used for Part 2- EDA and Part 3-Modeling."
   ]
  }
 ],
 "metadata": {
  "kernelspec": {
   "display_name": "Python 3",
   "language": "python",
   "name": "python3"
  },
  "language_info": {
   "codemirror_mode": {
    "name": "ipython",
    "version": 3
   },
   "file_extension": ".py",
   "mimetype": "text/x-python",
   "name": "python",
   "nbconvert_exporter": "python",
   "pygments_lexer": "ipython3",
   "version": "3.8.5"
  }
 },
 "nbformat": 4,
 "nbformat_minor": 4
}
