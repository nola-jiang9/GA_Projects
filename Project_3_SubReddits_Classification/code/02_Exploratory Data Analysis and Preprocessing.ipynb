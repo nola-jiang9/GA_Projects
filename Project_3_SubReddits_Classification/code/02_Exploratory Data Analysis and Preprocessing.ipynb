{
 "cells": [
  {
   "cell_type": "markdown",
   "metadata": {},
   "source": [
    "<img src=\"http://imgur.com/1ZcRyrc.png\" style=\"float: left; margin: 20px; height: 55px\">\n",
    "\n",
    "# Project 3: Web APIs & NLP Classification (Subreddit-Walmart & Costco)"
   ]
  },
  {
   "cell_type": "markdown",
   "metadata": {},
   "source": [
    "---\n",
    "Project notebook organisation:<br>\n",
    "[1 - SubReddit Web Scrapping](./1_subreddit_web_and_scrapping)<br>\n",
    "**2 - Exploratory Data Analysis and Preprocessing** (current notebook)<br>\n",
    "[3 - Classification Model and Recommendation](./3_Classification_Model_and_Recommendation.ipynb)<br>\n",
    "<br>"
   ]
  },
  {
   "cell_type": "markdown",
   "metadata": {},
   "source": [
    "# Part 2: Exploratory Data Analysis and Preprocessing"
   ]
  },
  {
   "cell_type": "markdown",
   "metadata": {},
   "source": [
    "### Contents:\n",
    "- [1. Import Libraries](#1.-Import-Libraries)\n",
    "- [2. Load Datasets](#2.-Load-Datasets)\n",
    "- [3. Inspection of Datasets](#3.-Inspection-of-Datasets)\n",
    "- [4. Data Cleaning and Pre Processing](#4.-Data-Cleaning-and-Pre-Processing)\n",
    "- [5. Exploratory Data Analysis (EDA)](#5.-Exploratory-Data-Analysis-(EDA))\n",
    "\n",
    "In this Part 2, the main tasks I have done are Data Exploratory and Cleaning (normal data value cleaning and stemming), followed by getting insights from visualizations-distributions, charts, top words and word cloud to get meaningful insights. \n",
    "\n",
    "- r/Walmart:\n",
    "In general, I could seperate the top words into 3 or 4 topics:\n",
    "    - (1) main top words are topics with the work/employment/leave/work notice, e.g. ['team lead','store manager','working walmart', 'hour shift', 'job offer', 'manager said']\n",
    "    - (2) \"covid\", \"vaccination\",\"covid shot\",\"covid leave\" are also top words with Covid Vaccinations. \n",
    "    - (3) other topics like \"walmart app\", \"promoted customer\" also are popular topics been raised might because of the usage of Walmart app and comments on the customer services. \n",
    "\n",
    "- r/Costco:\n",
    "In general, below key top words were posted:\n",
    "    - (1) Food related: [\"food court\", \"hot dog\", \"ice cream\", \"pea nut butter\", \"combo pizza\"]\n",
    "    - (2) Kirkland Signature: a Costco's private label to provide the appearance of brand name quality products at discounted prices. \n",
    "    - (3) App/ Website formatting also are hot topics been discussed, e.g. [\"width format\", \"format pjpg\"]\n",
    "    - (4) Rebate cards or gift cards, discount, adjust price, coupon code, executive membership are commonly been posted as well\n",
    "    - (5) Customer service: \"thanks advance\", \"self-checkedout\", \"time hour\"\n",
    "    - (6) delivery: zip code\n",
    "\n",
    "From the list of two-word phrases, it is apparent that: \n",
    "- Walmart subreddit contains posts from customers and employees, where users may post queries about their work.\n",
    "- Costco subreddit contains mainly posts from customers, with contents surrounding 'citi card', 'ice cream', 'costco food'.\n",
    "\n",
    "Looking into the Walmart subreddit may shed insights about the employee experience, specifically from associates working at the Walmart supermarkets. There are in line with our problem statements and objectives initiated to enhance our understanding of Walmart's Social Media Image on Reddit, in comparison to Costco, to introduce strategy for improvement.\n",
    "\n",
    "- References: \n",
    "    - https://en.wikipedia.org/wiki/Costco#Kirkland_Signature \n",
    "    - https://www.costco.com/kirkland-signature.html"
   ]
  },
  {
   "cell_type": "markdown",
   "metadata": {},
   "source": [
    "---\n",
    "\n",
    "# 1. Import Libraries\n",
    "\n",
    "---"
   ]
  },
  {
   "cell_type": "code",
   "execution_count": 1,
   "metadata": {},
   "outputs": [],
   "source": [
    "# pip install wordcloud"
   ]
  },
  {
   "cell_type": "code",
   "execution_count": 2,
   "metadata": {},
   "outputs": [],
   "source": [
    "# pip install spacy"
   ]
  },
  {
   "cell_type": "code",
   "execution_count": 3,
   "metadata": {},
   "outputs": [],
   "source": [
    "import pandas as pd\n",
    "import numpy as np\n",
    "import matplotlib.pyplot as plt\n",
    "import seaborn as sns\n",
    "import regex as re\n",
    "from wordcloud import WordCloud, ImageColorGenerator\n",
    "from sklearn.feature_extraction.text import CountVectorizer, ENGLISH_STOP_WORDS, HashingVectorizer,TfidfVectorizer\n",
    "import spacy #spacy stopwords\n",
    "from spacy.lang.en import English\n",
    "from nltk.corpus import stopwords\n",
    "import datetime\n",
    "import string\n",
    "\n",
    "from sklearn.naive_bayes import MultinomialNB\n",
    "from nltk.stem import PorterStemmer,WordNetLemmatizer\n",
    "from nltk.tokenize import sent_tokenize, word_tokenize\n",
    "\n",
    "%matplotlib inline"
   ]
  },
  {
   "cell_type": "markdown",
   "metadata": {},
   "source": [
    "---\n",
    "\n",
    "# 2. Load Datasets\n",
    "\n",
    "---"
   ]
  },
  {
   "cell_type": "code",
   "execution_count": 4,
   "metadata": {},
   "outputs": [],
   "source": [
    "data_path = \"../datasets/02_Exploratory_Data_Analysis_and_Preprocessing/\"\n",
    "\n",
    "df_walmart = pd.read_csv(data_path  + 'walmart_scrapped_posts.csv')\n",
    "\n",
    "df_costco = pd.read_csv(data_path  + 'costco_scrapped_posts.csv')"
   ]
  },
  {
   "cell_type": "markdown",
   "metadata": {},
   "source": [
    "# 3. Inspection of Datasets"
   ]
  },
  {
   "cell_type": "markdown",
   "metadata": {},
   "source": [
    "## 3.1 Data Inspection on Walmart posts"
   ]
  },
  {
   "cell_type": "code",
   "execution_count": 5,
   "metadata": {},
   "outputs": [
    {
     "data": {
      "text/html": [
       "<div>\n",
       "<style scoped>\n",
       "    .dataframe tbody tr th:only-of-type {\n",
       "        vertical-align: middle;\n",
       "    }\n",
       "\n",
       "    .dataframe tbody tr th {\n",
       "        vertical-align: top;\n",
       "    }\n",
       "\n",
       "    .dataframe thead th {\n",
       "        text-align: right;\n",
       "    }\n",
       "</style>\n",
       "<table border=\"1\" class=\"dataframe\">\n",
       "  <thead>\n",
       "    <tr style=\"text-align: right;\">\n",
       "      <th></th>\n",
       "      <th>subreddit</th>\n",
       "      <th>created_utc</th>\n",
       "      <th>id</th>\n",
       "      <th>title</th>\n",
       "      <th>selftext</th>\n",
       "      <th>upvote_ratio</th>\n",
       "      <th>score</th>\n",
       "      <th>num_comments</th>\n",
       "    </tr>\n",
       "  </thead>\n",
       "  <tbody>\n",
       "    <tr>\n",
       "      <th>0</th>\n",
       "      <td>walmart</td>\n",
       "      <td>1623481278</td>\n",
       "      <td>ny0t2k</td>\n",
       "      <td>The whole meat wall, in one night?</td>\n",
       "      <td>Is that even possible?</td>\n",
       "      <td>1.0</td>\n",
       "      <td>1</td>\n",
       "      <td>15</td>\n",
       "    </tr>\n",
       "    <tr>\n",
       "      <th>1</th>\n",
       "      <td>walmart</td>\n",
       "      <td>1623479940</td>\n",
       "      <td>ny0hk4</td>\n",
       "      <td>Early Lunches</td>\n",
       "      <td>[removed]</td>\n",
       "      <td>1.0</td>\n",
       "      <td>1</td>\n",
       "      <td>0</td>\n",
       "    </tr>\n",
       "    <tr>\n",
       "      <th>2</th>\n",
       "      <td>walmart</td>\n",
       "      <td>1623477525</td>\n",
       "      <td>nxzwvb</td>\n",
       "      <td>Cap 2/Overnight Team leads</td>\n",
       "      <td>Due to unforseen circumstances, I was not able...</td>\n",
       "      <td>1.0</td>\n",
       "      <td>1</td>\n",
       "      <td>14</td>\n",
       "    </tr>\n",
       "    <tr>\n",
       "      <th>3</th>\n",
       "      <td>walmart</td>\n",
       "      <td>1623476491</td>\n",
       "      <td>nxzndf</td>\n",
       "      <td>Finally promoted MYSELF to customer</td>\n",
       "      <td>This is going to be a long one so buckle up, f...</td>\n",
       "      <td>1.0</td>\n",
       "      <td>1</td>\n",
       "      <td>9</td>\n",
       "    </tr>\n",
       "    <tr>\n",
       "      <th>4</th>\n",
       "      <td>walmart</td>\n",
       "      <td>1623476227</td>\n",
       "      <td>nxzkvz</td>\n",
       "      <td>Pointing out after putting in your two week no...</td>\n",
       "      <td>So I submitted my 2 week notice yesterday and ...</td>\n",
       "      <td>1.0</td>\n",
       "      <td>1</td>\n",
       "      <td>11</td>\n",
       "    </tr>\n",
       "  </tbody>\n",
       "</table>\n",
       "</div>"
      ],
      "text/plain": [
       "  subreddit  created_utc      id  \\\n",
       "0   walmart   1623481278  ny0t2k   \n",
       "1   walmart   1623479940  ny0hk4   \n",
       "2   walmart   1623477525  nxzwvb   \n",
       "3   walmart   1623476491  nxzndf   \n",
       "4   walmart   1623476227  nxzkvz   \n",
       "\n",
       "                                               title  \\\n",
       "0                 The whole meat wall, in one night?   \n",
       "1                                      Early Lunches   \n",
       "2                         Cap 2/Overnight Team leads   \n",
       "3                Finally promoted MYSELF to customer   \n",
       "4  Pointing out after putting in your two week no...   \n",
       "\n",
       "                                            selftext  upvote_ratio  score  \\\n",
       "0                             Is that even possible?           1.0      1   \n",
       "1                                          [removed]           1.0      1   \n",
       "2  Due to unforseen circumstances, I was not able...           1.0      1   \n",
       "3  This is going to be a long one so buckle up, f...           1.0      1   \n",
       "4  So I submitted my 2 week notice yesterday and ...           1.0      1   \n",
       "\n",
       "   num_comments  \n",
       "0            15  \n",
       "1             0  \n",
       "2            14  \n",
       "3             9  \n",
       "4            11  "
      ]
     },
     "execution_count": 5,
     "metadata": {},
     "output_type": "execute_result"
    }
   ],
   "source": [
    "df_walmart.head()"
   ]
  },
  {
   "cell_type": "code",
   "execution_count": 6,
   "metadata": {},
   "outputs": [
    {
     "data": {
      "text/plain": [
       "(1490, 8)"
      ]
     },
     "execution_count": 6,
     "metadata": {},
     "output_type": "execute_result"
    }
   ],
   "source": [
    "df_walmart.shape"
   ]
  },
  {
   "cell_type": "code",
   "execution_count": 7,
   "metadata": {},
   "outputs": [
    {
     "name": "stdout",
     "output_type": "stream",
     "text": [
      "<class 'pandas.core.frame.DataFrame'>\n",
      "RangeIndex: 1490 entries, 0 to 1489\n",
      "Data columns (total 8 columns):\n",
      " #   Column        Non-Null Count  Dtype  \n",
      "---  ------        --------------  -----  \n",
      " 0   subreddit     1490 non-null   object \n",
      " 1   created_utc   1490 non-null   int64  \n",
      " 2   id            1490 non-null   object \n",
      " 3   title         1490 non-null   object \n",
      " 4   selftext      1338 non-null   object \n",
      " 5   upvote_ratio  1490 non-null   float64\n",
      " 6   score         1490 non-null   int64  \n",
      " 7   num_comments  1490 non-null   int64  \n",
      "dtypes: float64(1), int64(3), object(4)\n",
      "memory usage: 93.2+ KB\n"
     ]
    }
   ],
   "source": [
    "df_walmart.info()"
   ]
  },
  {
   "cell_type": "code",
   "execution_count": 8,
   "metadata": {},
   "outputs": [
    {
     "data": {
      "text/plain": [
       "subreddit         0\n",
       "created_utc       0\n",
       "id                0\n",
       "title             0\n",
       "selftext        152\n",
       "upvote_ratio      0\n",
       "score             0\n",
       "num_comments      0\n",
       "dtype: int64"
      ]
     },
     "execution_count": 8,
     "metadata": {},
     "output_type": "execute_result"
    }
   ],
   "source": [
    "df_walmart.isnull().sum()"
   ]
  },
  {
   "cell_type": "code",
   "execution_count": 9,
   "metadata": {},
   "outputs": [
    {
     "data": {
      "text/html": [
       "<div>\n",
       "<style scoped>\n",
       "    .dataframe tbody tr th:only-of-type {\n",
       "        vertical-align: middle;\n",
       "    }\n",
       "\n",
       "    .dataframe tbody tr th {\n",
       "        vertical-align: top;\n",
       "    }\n",
       "\n",
       "    .dataframe thead th {\n",
       "        text-align: right;\n",
       "    }\n",
       "</style>\n",
       "<table border=\"1\" class=\"dataframe\">\n",
       "  <thead>\n",
       "    <tr style=\"text-align: right;\">\n",
       "      <th></th>\n",
       "      <th>subreddit</th>\n",
       "      <th>created_utc</th>\n",
       "      <th>id</th>\n",
       "      <th>title</th>\n",
       "      <th>selftext</th>\n",
       "      <th>upvote_ratio</th>\n",
       "      <th>score</th>\n",
       "      <th>num_comments</th>\n",
       "    </tr>\n",
       "  </thead>\n",
       "  <tbody>\n",
       "    <tr>\n",
       "      <th>count</th>\n",
       "      <td>1490</td>\n",
       "      <td>1.490000e+03</td>\n",
       "      <td>1490</td>\n",
       "      <td>1490</td>\n",
       "      <td>1338</td>\n",
       "      <td>1490.000000</td>\n",
       "      <td>1490.000000</td>\n",
       "      <td>1490.000000</td>\n",
       "    </tr>\n",
       "    <tr>\n",
       "      <th>unique</th>\n",
       "      <td>1</td>\n",
       "      <td>NaN</td>\n",
       "      <td>1490</td>\n",
       "      <td>1460</td>\n",
       "      <td>1192</td>\n",
       "      <td>NaN</td>\n",
       "      <td>NaN</td>\n",
       "      <td>NaN</td>\n",
       "    </tr>\n",
       "    <tr>\n",
       "      <th>top</th>\n",
       "      <td>walmart</td>\n",
       "      <td>NaN</td>\n",
       "      <td>nr4fi1</td>\n",
       "      <td>Question</td>\n",
       "      <td>[removed]</td>\n",
       "      <td>NaN</td>\n",
       "      <td>NaN</td>\n",
       "      <td>NaN</td>\n",
       "    </tr>\n",
       "    <tr>\n",
       "      <th>freq</th>\n",
       "      <td>1490</td>\n",
       "      <td>NaN</td>\n",
       "      <td>1</td>\n",
       "      <td>6</td>\n",
       "      <td>136</td>\n",
       "      <td>NaN</td>\n",
       "      <td>NaN</td>\n",
       "      <td>NaN</td>\n",
       "    </tr>\n",
       "    <tr>\n",
       "      <th>mean</th>\n",
       "      <td>NaN</td>\n",
       "      <td>1.622866e+09</td>\n",
       "      <td>NaN</td>\n",
       "      <td>NaN</td>\n",
       "      <td>NaN</td>\n",
       "      <td>0.978289</td>\n",
       "      <td>1.017450</td>\n",
       "      <td>9.702685</td>\n",
       "    </tr>\n",
       "    <tr>\n",
       "      <th>std</th>\n",
       "      <td>NaN</td>\n",
       "      <td>3.579067e+05</td>\n",
       "      <td>NaN</td>\n",
       "      <td>NaN</td>\n",
       "      <td>NaN</td>\n",
       "      <td>0.109168</td>\n",
       "      <td>0.380472</td>\n",
       "      <td>10.885425</td>\n",
       "    </tr>\n",
       "    <tr>\n",
       "      <th>min</th>\n",
       "      <td>NaN</td>\n",
       "      <td>1.622225e+09</td>\n",
       "      <td>NaN</td>\n",
       "      <td>NaN</td>\n",
       "      <td>NaN</td>\n",
       "      <td>0.140000</td>\n",
       "      <td>0.000000</td>\n",
       "      <td>0.000000</td>\n",
       "    </tr>\n",
       "    <tr>\n",
       "      <th>25%</th>\n",
       "      <td>NaN</td>\n",
       "      <td>1.622561e+09</td>\n",
       "      <td>NaN</td>\n",
       "      <td>NaN</td>\n",
       "      <td>NaN</td>\n",
       "      <td>1.000000</td>\n",
       "      <td>1.000000</td>\n",
       "      <td>3.000000</td>\n",
       "    </tr>\n",
       "    <tr>\n",
       "      <th>50%</th>\n",
       "      <td>NaN</td>\n",
       "      <td>1.622871e+09</td>\n",
       "      <td>NaN</td>\n",
       "      <td>NaN</td>\n",
       "      <td>NaN</td>\n",
       "      <td>1.000000</td>\n",
       "      <td>1.000000</td>\n",
       "      <td>7.000000</td>\n",
       "    </tr>\n",
       "    <tr>\n",
       "      <th>75%</th>\n",
       "      <td>NaN</td>\n",
       "      <td>1.623180e+09</td>\n",
       "      <td>NaN</td>\n",
       "      <td>NaN</td>\n",
       "      <td>NaN</td>\n",
       "      <td>1.000000</td>\n",
       "      <td>1.000000</td>\n",
       "      <td>13.000000</td>\n",
       "    </tr>\n",
       "    <tr>\n",
       "      <th>max</th>\n",
       "      <td>NaN</td>\n",
       "      <td>1.623481e+09</td>\n",
       "      <td>NaN</td>\n",
       "      <td>NaN</td>\n",
       "      <td>NaN</td>\n",
       "      <td>1.000000</td>\n",
       "      <td>6.000000</td>\n",
       "      <td>91.000000</td>\n",
       "    </tr>\n",
       "  </tbody>\n",
       "</table>\n",
       "</div>"
      ],
      "text/plain": [
       "       subreddit   created_utc      id     title   selftext  upvote_ratio  \\\n",
       "count       1490  1.490000e+03    1490      1490       1338   1490.000000   \n",
       "unique         1           NaN    1490      1460       1192           NaN   \n",
       "top      walmart           NaN  nr4fi1  Question  [removed]           NaN   \n",
       "freq        1490           NaN       1         6        136           NaN   \n",
       "mean         NaN  1.622866e+09     NaN       NaN        NaN      0.978289   \n",
       "std          NaN  3.579067e+05     NaN       NaN        NaN      0.109168   \n",
       "min          NaN  1.622225e+09     NaN       NaN        NaN      0.140000   \n",
       "25%          NaN  1.622561e+09     NaN       NaN        NaN      1.000000   \n",
       "50%          NaN  1.622871e+09     NaN       NaN        NaN      1.000000   \n",
       "75%          NaN  1.623180e+09     NaN       NaN        NaN      1.000000   \n",
       "max          NaN  1.623481e+09     NaN       NaN        NaN      1.000000   \n",
       "\n",
       "              score  num_comments  \n",
       "count   1490.000000   1490.000000  \n",
       "unique          NaN           NaN  \n",
       "top             NaN           NaN  \n",
       "freq            NaN           NaN  \n",
       "mean       1.017450      9.702685  \n",
       "std        0.380472     10.885425  \n",
       "min        0.000000      0.000000  \n",
       "25%        1.000000      3.000000  \n",
       "50%        1.000000      7.000000  \n",
       "75%        1.000000     13.000000  \n",
       "max        6.000000     91.000000  "
      ]
     },
     "execution_count": 9,
     "metadata": {},
     "output_type": "execute_result"
    }
   ],
   "source": [
    "df_walmart.describe(include='all')"
   ]
  },
  {
   "cell_type": "code",
   "execution_count": 10,
   "metadata": {},
   "outputs": [
    {
     "data": {
      "text/html": [
       "<div>\n",
       "<style scoped>\n",
       "    .dataframe tbody tr th:only-of-type {\n",
       "        vertical-align: middle;\n",
       "    }\n",
       "\n",
       "    .dataframe tbody tr th {\n",
       "        vertical-align: top;\n",
       "    }\n",
       "\n",
       "    .dataframe thead th {\n",
       "        text-align: right;\n",
       "    }\n",
       "</style>\n",
       "<table border=\"1\" class=\"dataframe\">\n",
       "  <thead>\n",
       "    <tr style=\"text-align: right;\">\n",
       "      <th></th>\n",
       "      <th>subreddit</th>\n",
       "      <th>created_utc</th>\n",
       "      <th>id</th>\n",
       "      <th>title</th>\n",
       "      <th>selftext</th>\n",
       "      <th>upvote_ratio</th>\n",
       "      <th>score</th>\n",
       "      <th>num_comments</th>\n",
       "    </tr>\n",
       "  </thead>\n",
       "  <tbody>\n",
       "    <tr>\n",
       "      <th>101</th>\n",
       "      <td>walmart</td>\n",
       "      <td>1623395475</td>\n",
       "      <td>nx9tul</td>\n",
       "      <td>dating policy?</td>\n",
       "      <td>[removed]</td>\n",
       "      <td>1.0</td>\n",
       "      <td>1</td>\n",
       "      <td>0</td>\n",
       "    </tr>\n",
       "    <tr>\n",
       "      <th>133</th>\n",
       "      <td>walmart</td>\n",
       "      <td>1623364610</td>\n",
       "      <td>nx0lbl</td>\n",
       "      <td>Promoted to customer</td>\n",
       "      <td>Finally was promoted to customer after I left ...</td>\n",
       "      <td>1.0</td>\n",
       "      <td>4</td>\n",
       "      <td>14</td>\n",
       "    </tr>\n",
       "    <tr>\n",
       "      <th>173</th>\n",
       "      <td>walmart</td>\n",
       "      <td>1623334022</td>\n",
       "      <td>nwoi7m</td>\n",
       "      <td>3 days off for vaccine</td>\n",
       "      <td>[removed]</td>\n",
       "      <td>1.0</td>\n",
       "      <td>1</td>\n",
       "      <td>0</td>\n",
       "    </tr>\n",
       "    <tr>\n",
       "      <th>216</th>\n",
       "      <td>walmart</td>\n",
       "      <td>1623293897</td>\n",
       "      <td>nwded9</td>\n",
       "      <td>Interview next week</td>\n",
       "      <td>[removed]</td>\n",
       "      <td>1.0</td>\n",
       "      <td>1</td>\n",
       "      <td>0</td>\n",
       "    </tr>\n",
       "    <tr>\n",
       "      <th>224</th>\n",
       "      <td>walmart</td>\n",
       "      <td>1623292173</td>\n",
       "      <td>nwcv0g</td>\n",
       "      <td>Full time</td>\n",
       "      <td>[removed]</td>\n",
       "      <td>1.0</td>\n",
       "      <td>1</td>\n",
       "      <td>0</td>\n",
       "    </tr>\n",
       "    <tr>\n",
       "      <th>260</th>\n",
       "      <td>walmart</td>\n",
       "      <td>1623268064</td>\n",
       "      <td>nw4l6e</td>\n",
       "      <td>Ppto question</td>\n",
       "      <td>In GTA I have 00.51 current available ppto..my...</td>\n",
       "      <td>1.0</td>\n",
       "      <td>1</td>\n",
       "      <td>1</td>\n",
       "    </tr>\n",
       "    <tr>\n",
       "      <th>437</th>\n",
       "      <td>walmart</td>\n",
       "      <td>1623123818</td>\n",
       "      <td>nuvih1</td>\n",
       "      <td>Coaching Question</td>\n",
       "      <td>[removed]</td>\n",
       "      <td>1.0</td>\n",
       "      <td>1</td>\n",
       "      <td>0</td>\n",
       "    </tr>\n",
       "    <tr>\n",
       "      <th>439</th>\n",
       "      <td>walmart</td>\n",
       "      <td>1623122885</td>\n",
       "      <td>nuv8l5</td>\n",
       "      <td>New Samsung phones in New Hampshire?</td>\n",
       "      <td>[removed]</td>\n",
       "      <td>1.0</td>\n",
       "      <td>1</td>\n",
       "      <td>0</td>\n",
       "    </tr>\n",
       "    <tr>\n",
       "      <th>525</th>\n",
       "      <td>walmart</td>\n",
       "      <td>1623039267</td>\n",
       "      <td>nu3mkc</td>\n",
       "      <td>Question</td>\n",
       "      <td>If I get my 2nd covid shot on the clock get si...</td>\n",
       "      <td>1.0</td>\n",
       "      <td>1</td>\n",
       "      <td>5</td>\n",
       "    </tr>\n",
       "    <tr>\n",
       "      <th>538</th>\n",
       "      <td>walmart</td>\n",
       "      <td>1623025491</td>\n",
       "      <td>ntzmou</td>\n",
       "      <td>PPTO</td>\n",
       "      <td>If I called out and only had 4 hours to cover ...</td>\n",
       "      <td>1.0</td>\n",
       "      <td>1</td>\n",
       "      <td>5</td>\n",
       "    </tr>\n",
       "    <tr>\n",
       "      <th>559</th>\n",
       "      <td>walmart</td>\n",
       "      <td>1623015059</td>\n",
       "      <td>ntw6oo</td>\n",
       "      <td>covid vaccine</td>\n",
       "      <td>do you get three days off for the second dose ...</td>\n",
       "      <td>1.0</td>\n",
       "      <td>1</td>\n",
       "      <td>3</td>\n",
       "    </tr>\n",
       "    <tr>\n",
       "      <th>607</th>\n",
       "      <td>walmart</td>\n",
       "      <td>1622984869</td>\n",
       "      <td>ntld9q</td>\n",
       "      <td>Question</td>\n",
       "      <td>If I was to fail the personal covid assessment...</td>\n",
       "      <td>1.0</td>\n",
       "      <td>1</td>\n",
       "      <td>1</td>\n",
       "    </tr>\n",
       "    <tr>\n",
       "      <th>642</th>\n",
       "      <td>walmart</td>\n",
       "      <td>1622950693</td>\n",
       "      <td>ntcogj</td>\n",
       "      <td>So.</td>\n",
       "      <td>[removed]</td>\n",
       "      <td>1.0</td>\n",
       "      <td>1</td>\n",
       "      <td>0</td>\n",
       "    </tr>\n",
       "    <tr>\n",
       "      <th>643</th>\n",
       "      <td>walmart</td>\n",
       "      <td>1622950654</td>\n",
       "      <td>ntco29</td>\n",
       "      <td>Unpopular opinion but…</td>\n",
       "      <td>NaN</td>\n",
       "      <td>1.0</td>\n",
       "      <td>1</td>\n",
       "      <td>0</td>\n",
       "    </tr>\n",
       "    <tr>\n",
       "      <th>806</th>\n",
       "      <td>walmart</td>\n",
       "      <td>1622833436</td>\n",
       "      <td>nscq67</td>\n",
       "      <td>PPTO</td>\n",
       "      <td>How long after working at Walmart do you get t...</td>\n",
       "      <td>1.0</td>\n",
       "      <td>1</td>\n",
       "      <td>7</td>\n",
       "    </tr>\n",
       "    <tr>\n",
       "      <th>812</th>\n",
       "      <td>walmart</td>\n",
       "      <td>1622831433</td>\n",
       "      <td>nsbywn</td>\n",
       "      <td>Promoting myself to customer</td>\n",
       "      <td>I'm food sales and I'm the only closer for dai...</td>\n",
       "      <td>1.0</td>\n",
       "      <td>1</td>\n",
       "      <td>6</td>\n",
       "    </tr>\n",
       "    <tr>\n",
       "      <th>824</th>\n",
       "      <td>walmart</td>\n",
       "      <td>1622822265</td>\n",
       "      <td>ns8h9v</td>\n",
       "      <td>Thanksgiving</td>\n",
       "      <td>Closed again this year! Whoo</td>\n",
       "      <td>1.0</td>\n",
       "      <td>1</td>\n",
       "      <td>0</td>\n",
       "    </tr>\n",
       "    <tr>\n",
       "      <th>864</th>\n",
       "      <td>walmart</td>\n",
       "      <td>1622776466</td>\n",
       "      <td>nrv9ie</td>\n",
       "      <td>help</td>\n",
       "      <td>i was texting my team lead ab how i appreciate...</td>\n",
       "      <td>1.0</td>\n",
       "      <td>1</td>\n",
       "      <td>8</td>\n",
       "    </tr>\n",
       "    <tr>\n",
       "      <th>910</th>\n",
       "      <td>walmart</td>\n",
       "      <td>1622739703</td>\n",
       "      <td>nribjv</td>\n",
       "      <td>Interview worries</td>\n",
       "      <td>[removed]</td>\n",
       "      <td>1.0</td>\n",
       "      <td>1</td>\n",
       "      <td>0</td>\n",
       "    </tr>\n",
       "    <tr>\n",
       "      <th>917</th>\n",
       "      <td>walmart</td>\n",
       "      <td>1622735109</td>\n",
       "      <td>nrgk6t</td>\n",
       "      <td>Question</td>\n",
       "      <td>When they changed the whole manager system thi...</td>\n",
       "      <td>1.0</td>\n",
       "      <td>1</td>\n",
       "      <td>11</td>\n",
       "    </tr>\n",
       "    <tr>\n",
       "      <th>1066</th>\n",
       "      <td>walmart</td>\n",
       "      <td>1622599447</td>\n",
       "      <td>nqapdj</td>\n",
       "      <td>Question</td>\n",
       "      <td>Will Walmart sell the Pokemon TCG Build &amp;amp; ...</td>\n",
       "      <td>1.0</td>\n",
       "      <td>1</td>\n",
       "      <td>3</td>\n",
       "    </tr>\n",
       "    <tr>\n",
       "      <th>1122</th>\n",
       "      <td>walmart</td>\n",
       "      <td>1622557858</td>\n",
       "      <td>npvcqg</td>\n",
       "      <td>Covid leave</td>\n",
       "      <td>Good morning! Does anyone know  the Covid leav...</td>\n",
       "      <td>1.0</td>\n",
       "      <td>1</td>\n",
       "      <td>8</td>\n",
       "    </tr>\n",
       "    <tr>\n",
       "      <th>1167</th>\n",
       "      <td>walmart</td>\n",
       "      <td>1622508658</td>\n",
       "      <td>nphtn1</td>\n",
       "      <td>Question</td>\n",
       "      <td>Why is it important to understand bin exceptions?</td>\n",
       "      <td>1.0</td>\n",
       "      <td>1</td>\n",
       "      <td>6</td>\n",
       "    </tr>\n",
       "    <tr>\n",
       "      <th>1172</th>\n",
       "      <td>walmart</td>\n",
       "      <td>1622507081</td>\n",
       "      <td>nphc2y</td>\n",
       "      <td>help</td>\n",
       "      <td>very recently started in ogp honestly dont hat...</td>\n",
       "      <td>1.0</td>\n",
       "      <td>1</td>\n",
       "      <td>2</td>\n",
       "    </tr>\n",
       "    <tr>\n",
       "      <th>1302</th>\n",
       "      <td>walmart</td>\n",
       "      <td>1622405414</td>\n",
       "      <td>nojf0w</td>\n",
       "      <td>Sedgwick question</td>\n",
       "      <td>Can anyone tell me how long it takes for Sedgw...</td>\n",
       "      <td>1.0</td>\n",
       "      <td>1</td>\n",
       "      <td>2</td>\n",
       "    </tr>\n",
       "    <tr>\n",
       "      <th>1334</th>\n",
       "      <td>walmart</td>\n",
       "      <td>1622382848</td>\n",
       "      <td>nobo6u</td>\n",
       "      <td>Vizpick</td>\n",
       "      <td>How soon before the roll out date was VizPick ...</td>\n",
       "      <td>1.0</td>\n",
       "      <td>1</td>\n",
       "      <td>9</td>\n",
       "    </tr>\n",
       "    <tr>\n",
       "      <th>1343</th>\n",
       "      <td>walmart</td>\n",
       "      <td>1622371138</td>\n",
       "      <td>no8ijd</td>\n",
       "      <td>Return to work after Covid leave</td>\n",
       "      <td>I was on Covid leave since the 19th and my est...</td>\n",
       "      <td>1.0</td>\n",
       "      <td>1</td>\n",
       "      <td>5</td>\n",
       "    </tr>\n",
       "    <tr>\n",
       "      <th>1369</th>\n",
       "      <td>walmart</td>\n",
       "      <td>1622338224</td>\n",
       "      <td>no0rji</td>\n",
       "      <td>Covid leave</td>\n",
       "      <td>So I’m not feeling well but I’ve already taken...</td>\n",
       "      <td>1.0</td>\n",
       "      <td>1</td>\n",
       "      <td>2</td>\n",
       "    </tr>\n",
       "    <tr>\n",
       "      <th>1435</th>\n",
       "      <td>walmart</td>\n",
       "      <td>1622271646</td>\n",
       "      <td>nnhqlt</td>\n",
       "      <td>Calling out</td>\n",
       "      <td>I’m still within my 90 days. I feel terrible. ...</td>\n",
       "      <td>1.0</td>\n",
       "      <td>1</td>\n",
       "      <td>13</td>\n",
       "    </tr>\n",
       "    <tr>\n",
       "      <th>1485</th>\n",
       "      <td>walmart</td>\n",
       "      <td>1622225488</td>\n",
       "      <td>nn3wt4</td>\n",
       "      <td>Covid leave</td>\n",
       "      <td>I’m experiencing a fever and vomiting. I calle...</td>\n",
       "      <td>1.0</td>\n",
       "      <td>1</td>\n",
       "      <td>5</td>\n",
       "    </tr>\n",
       "  </tbody>\n",
       "</table>\n",
       "</div>"
      ],
      "text/plain": [
       "     subreddit  created_utc      id                                 title  \\\n",
       "101    walmart   1623395475  nx9tul                        dating policy?   \n",
       "133    walmart   1623364610  nx0lbl                  Promoted to customer   \n",
       "173    walmart   1623334022  nwoi7m                3 days off for vaccine   \n",
       "216    walmart   1623293897  nwded9                   Interview next week   \n",
       "224    walmart   1623292173  nwcv0g                             Full time   \n",
       "260    walmart   1623268064  nw4l6e                         Ppto question   \n",
       "437    walmart   1623123818  nuvih1                     Coaching Question   \n",
       "439    walmart   1623122885  nuv8l5  New Samsung phones in New Hampshire?   \n",
       "525    walmart   1623039267  nu3mkc                              Question   \n",
       "538    walmart   1623025491  ntzmou                                  PPTO   \n",
       "559    walmart   1623015059  ntw6oo                         covid vaccine   \n",
       "607    walmart   1622984869  ntld9q                              Question   \n",
       "642    walmart   1622950693  ntcogj                                   So.   \n",
       "643    walmart   1622950654  ntco29                Unpopular opinion but…   \n",
       "806    walmart   1622833436  nscq67                                  PPTO   \n",
       "812    walmart   1622831433  nsbywn          Promoting myself to customer   \n",
       "824    walmart   1622822265  ns8h9v                          Thanksgiving   \n",
       "864    walmart   1622776466  nrv9ie                                  help   \n",
       "910    walmart   1622739703  nribjv                     Interview worries   \n",
       "917    walmart   1622735109  nrgk6t                              Question   \n",
       "1066   walmart   1622599447  nqapdj                              Question   \n",
       "1122   walmart   1622557858  npvcqg                           Covid leave   \n",
       "1167   walmart   1622508658  nphtn1                              Question   \n",
       "1172   walmart   1622507081  nphc2y                                  help   \n",
       "1302   walmart   1622405414  nojf0w                     Sedgwick question   \n",
       "1334   walmart   1622382848  nobo6u                               Vizpick   \n",
       "1343   walmart   1622371138  no8ijd      Return to work after Covid leave   \n",
       "1369   walmart   1622338224  no0rji                           Covid leave   \n",
       "1435   walmart   1622271646  nnhqlt                           Calling out   \n",
       "1485   walmart   1622225488  nn3wt4                           Covid leave   \n",
       "\n",
       "                                               selftext  upvote_ratio  score  \\\n",
       "101                                           [removed]           1.0      1   \n",
       "133   Finally was promoted to customer after I left ...           1.0      4   \n",
       "173                                           [removed]           1.0      1   \n",
       "216                                           [removed]           1.0      1   \n",
       "224                                           [removed]           1.0      1   \n",
       "260   In GTA I have 00.51 current available ppto..my...           1.0      1   \n",
       "437                                           [removed]           1.0      1   \n",
       "439                                           [removed]           1.0      1   \n",
       "525   If I get my 2nd covid shot on the clock get si...           1.0      1   \n",
       "538   If I called out and only had 4 hours to cover ...           1.0      1   \n",
       "559   do you get three days off for the second dose ...           1.0      1   \n",
       "607   If I was to fail the personal covid assessment...           1.0      1   \n",
       "642                                           [removed]           1.0      1   \n",
       "643                                                 NaN           1.0      1   \n",
       "806   How long after working at Walmart do you get t...           1.0      1   \n",
       "812   I'm food sales and I'm the only closer for dai...           1.0      1   \n",
       "824                        Closed again this year! Whoo           1.0      1   \n",
       "864   i was texting my team lead ab how i appreciate...           1.0      1   \n",
       "910                                           [removed]           1.0      1   \n",
       "917   When they changed the whole manager system thi...           1.0      1   \n",
       "1066  Will Walmart sell the Pokemon TCG Build &amp; ...           1.0      1   \n",
       "1122  Good morning! Does anyone know  the Covid leav...           1.0      1   \n",
       "1167  Why is it important to understand bin exceptions?           1.0      1   \n",
       "1172  very recently started in ogp honestly dont hat...           1.0      1   \n",
       "1302  Can anyone tell me how long it takes for Sedgw...           1.0      1   \n",
       "1334  How soon before the roll out date was VizPick ...           1.0      1   \n",
       "1343  I was on Covid leave since the 19th and my est...           1.0      1   \n",
       "1369  So I’m not feeling well but I’ve already taken...           1.0      1   \n",
       "1435  I’m still within my 90 days. I feel terrible. ...           1.0      1   \n",
       "1485  I’m experiencing a fever and vomiting. I calle...           1.0      1   \n",
       "\n",
       "      num_comments  \n",
       "101              0  \n",
       "133             14  \n",
       "173              0  \n",
       "216              0  \n",
       "224              0  \n",
       "260              1  \n",
       "437              0  \n",
       "439              0  \n",
       "525              5  \n",
       "538              5  \n",
       "559              3  \n",
       "607              1  \n",
       "642              0  \n",
       "643              0  \n",
       "806              7  \n",
       "812              6  \n",
       "824              0  \n",
       "864              8  \n",
       "910              0  \n",
       "917             11  \n",
       "1066             3  \n",
       "1122             8  \n",
       "1167             6  \n",
       "1172             2  \n",
       "1302             2  \n",
       "1334             9  \n",
       "1343             5  \n",
       "1369             2  \n",
       "1435            13  \n",
       "1485             5  "
      ]
     },
     "execution_count": 10,
     "metadata": {},
     "output_type": "execute_result"
    }
   ],
   "source": [
    "df_walmart[df_walmart.duplicated(subset = ['title'])]"
   ]
  },
  {
   "cell_type": "code",
   "execution_count": 11,
   "metadata": {},
   "outputs": [
    {
     "data": {
      "text/html": [
       "<div>\n",
       "<style scoped>\n",
       "    .dataframe tbody tr th:only-of-type {\n",
       "        vertical-align: middle;\n",
       "    }\n",
       "\n",
       "    .dataframe tbody tr th {\n",
       "        vertical-align: top;\n",
       "    }\n",
       "\n",
       "    .dataframe thead th {\n",
       "        text-align: right;\n",
       "    }\n",
       "</style>\n",
       "<table border=\"1\" class=\"dataframe\">\n",
       "  <thead>\n",
       "    <tr style=\"text-align: right;\">\n",
       "      <th></th>\n",
       "      <th>subreddit</th>\n",
       "      <th>created_utc</th>\n",
       "      <th>id</th>\n",
       "      <th>title</th>\n",
       "      <th>selftext</th>\n",
       "      <th>upvote_ratio</th>\n",
       "      <th>score</th>\n",
       "      <th>num_comments</th>\n",
       "    </tr>\n",
       "  </thead>\n",
       "  <tbody>\n",
       "    <tr>\n",
       "      <th>17</th>\n",
       "      <td>walmart</td>\n",
       "      <td>1623463347</td>\n",
       "      <td>nxvysh</td>\n",
       "      <td>Linz</td>\n",
       "      <td>NaN</td>\n",
       "      <td>1.0</td>\n",
       "      <td>1</td>\n",
       "      <td>1</td>\n",
       "    </tr>\n",
       "    <tr>\n",
       "      <th>21</th>\n",
       "      <td>walmart</td>\n",
       "      <td>1623458658</td>\n",
       "      <td>nxukn5</td>\n",
       "      <td>How much cash is in a typical drawer when coun...</td>\n",
       "      <td>NaN</td>\n",
       "      <td>1.0</td>\n",
       "      <td>1</td>\n",
       "      <td>6</td>\n",
       "    </tr>\n",
       "    <tr>\n",
       "      <th>30</th>\n",
       "      <td>walmart</td>\n",
       "      <td>1623452607</td>\n",
       "      <td>nxspac</td>\n",
       "      <td>Do you think Taylor swift is a virgin?</td>\n",
       "      <td>NaN</td>\n",
       "      <td>1.0</td>\n",
       "      <td>1</td>\n",
       "      <td>4</td>\n",
       "    </tr>\n",
       "    <tr>\n",
       "      <th>33</th>\n",
       "      <td>walmart</td>\n",
       "      <td>1623448449</td>\n",
       "      <td>nxraau</td>\n",
       "      <td>Do you think Kim kardashian is a virgin</td>\n",
       "      <td>NaN</td>\n",
       "      <td>1.0</td>\n",
       "      <td>1</td>\n",
       "      <td>4</td>\n",
       "    </tr>\n",
       "    <tr>\n",
       "      <th>50</th>\n",
       "      <td>walmart</td>\n",
       "      <td>1623442165</td>\n",
       "      <td>nxozw9</td>\n",
       "      <td>Do stores still price match .com?</td>\n",
       "      <td>NaN</td>\n",
       "      <td>1.0</td>\n",
       "      <td>1</td>\n",
       "      <td>4</td>\n",
       "    </tr>\n",
       "    <tr>\n",
       "      <th>...</th>\n",
       "      <td>...</td>\n",
       "      <td>...</td>\n",
       "      <td>...</td>\n",
       "      <td>...</td>\n",
       "      <td>...</td>\n",
       "      <td>...</td>\n",
       "      <td>...</td>\n",
       "      <td>...</td>\n",
       "    </tr>\n",
       "    <tr>\n",
       "      <th>1441</th>\n",
       "      <td>walmart</td>\n",
       "      <td>1622263674</td>\n",
       "      <td>nnfs2l</td>\n",
       "      <td>Wait I’m too scared to ask this at my Walmart ...</td>\n",
       "      <td>NaN</td>\n",
       "      <td>1.0</td>\n",
       "      <td>1</td>\n",
       "      <td>29</td>\n",
       "    </tr>\n",
       "    <tr>\n",
       "      <th>1466</th>\n",
       "      <td>walmart</td>\n",
       "      <td>1622242514</td>\n",
       "      <td>nn9wdj</td>\n",
       "      <td>TL to Coach</td>\n",
       "      <td>[removed]</td>\n",
       "      <td>1.0</td>\n",
       "      <td>1</td>\n",
       "      <td>0</td>\n",
       "    </tr>\n",
       "    <tr>\n",
       "      <th>1469</th>\n",
       "      <td>walmart</td>\n",
       "      <td>1622240011</td>\n",
       "      <td>nn938o</td>\n",
       "      <td>Anyone ever heard of minor exceptions.</td>\n",
       "      <td>NaN</td>\n",
       "      <td>1.0</td>\n",
       "      <td>1</td>\n",
       "      <td>5</td>\n",
       "    </tr>\n",
       "    <tr>\n",
       "      <th>1473</th>\n",
       "      <td>walmart</td>\n",
       "      <td>1622238944</td>\n",
       "      <td>nn8pzt</td>\n",
       "      <td>Worst Walmart Product List!</td>\n",
       "      <td>[removed]</td>\n",
       "      <td>1.0</td>\n",
       "      <td>1</td>\n",
       "      <td>0</td>\n",
       "    </tr>\n",
       "    <tr>\n",
       "      <th>1487</th>\n",
       "      <td>walmart</td>\n",
       "      <td>1622224941</td>\n",
       "      <td>nn3pen</td>\n",
       "      <td>Can I still clock in if I submitted a unpaid t...</td>\n",
       "      <td>NaN</td>\n",
       "      <td>1.0</td>\n",
       "      <td>1</td>\n",
       "      <td>7</td>\n",
       "    </tr>\n",
       "  </tbody>\n",
       "</table>\n",
       "<p>297 rows × 8 columns</p>\n",
       "</div>"
      ],
      "text/plain": [
       "     subreddit  created_utc      id  \\\n",
       "17     walmart   1623463347  nxvysh   \n",
       "21     walmart   1623458658  nxukn5   \n",
       "30     walmart   1623452607  nxspac   \n",
       "33     walmart   1623448449  nxraau   \n",
       "50     walmart   1623442165  nxozw9   \n",
       "...        ...          ...     ...   \n",
       "1441   walmart   1622263674  nnfs2l   \n",
       "1466   walmart   1622242514  nn9wdj   \n",
       "1469   walmart   1622240011  nn938o   \n",
       "1473   walmart   1622238944  nn8pzt   \n",
       "1487   walmart   1622224941  nn3pen   \n",
       "\n",
       "                                                  title   selftext  \\\n",
       "17                                                 Linz        NaN   \n",
       "21    How much cash is in a typical drawer when coun...        NaN   \n",
       "30               Do you think Taylor swift is a virgin?        NaN   \n",
       "33              Do you think Kim kardashian is a virgin        NaN   \n",
       "50                    Do stores still price match .com?        NaN   \n",
       "...                                                 ...        ...   \n",
       "1441  Wait I’m too scared to ask this at my Walmart ...        NaN   \n",
       "1466                                        TL to Coach  [removed]   \n",
       "1469             Anyone ever heard of minor exceptions.        NaN   \n",
       "1473                        Worst Walmart Product List!  [removed]   \n",
       "1487  Can I still clock in if I submitted a unpaid t...        NaN   \n",
       "\n",
       "      upvote_ratio  score  num_comments  \n",
       "17             1.0      1             1  \n",
       "21             1.0      1             6  \n",
       "30             1.0      1             4  \n",
       "33             1.0      1             4  \n",
       "50             1.0      1             4  \n",
       "...            ...    ...           ...  \n",
       "1441           1.0      1            29  \n",
       "1466           1.0      1             0  \n",
       "1469           1.0      1             5  \n",
       "1473           1.0      1             0  \n",
       "1487           1.0      1             7  \n",
       "\n",
       "[297 rows x 8 columns]"
      ]
     },
     "execution_count": 11,
     "metadata": {},
     "output_type": "execute_result"
    }
   ],
   "source": [
    "df_walmart[df_walmart.duplicated(subset = ['selftext'])]"
   ]
  },
  {
   "cell_type": "markdown",
   "metadata": {},
   "source": [
    "### Comments:\n",
    "\n",
    "A summary of Data Inspection on Walmart Posts:\n",
    "1. \"selftext\" column has 152 missing values\n",
    "2. Both \"title\" & \"selftext\" columns have some duplicated values\n",
    "3. \"selftext\" column has default values, e.g. \"[deleted]\"\n",
    "4. the post with title \"Question\" has the top counts.\n",
    "\n",
    "I'll process them during the **[Data Cleaning]** part."
   ]
  },
  {
   "cell_type": "markdown",
   "metadata": {},
   "source": [
    "## 3.2 Data Inspection on Costco posts"
   ]
  },
  {
   "cell_type": "code",
   "execution_count": 12,
   "metadata": {},
   "outputs": [
    {
     "data": {
      "text/html": [
       "<div>\n",
       "<style scoped>\n",
       "    .dataframe tbody tr th:only-of-type {\n",
       "        vertical-align: middle;\n",
       "    }\n",
       "\n",
       "    .dataframe tbody tr th {\n",
       "        vertical-align: top;\n",
       "    }\n",
       "\n",
       "    .dataframe thead th {\n",
       "        text-align: right;\n",
       "    }\n",
       "</style>\n",
       "<table border=\"1\" class=\"dataframe\">\n",
       "  <thead>\n",
       "    <tr style=\"text-align: right;\">\n",
       "      <th></th>\n",
       "      <th>subreddit</th>\n",
       "      <th>created_utc</th>\n",
       "      <th>id</th>\n",
       "      <th>title</th>\n",
       "      <th>selftext</th>\n",
       "      <th>upvote_ratio</th>\n",
       "      <th>score</th>\n",
       "      <th>num_comments</th>\n",
       "    </tr>\n",
       "  </thead>\n",
       "  <tbody>\n",
       "    <tr>\n",
       "      <th>0</th>\n",
       "      <td>Costco</td>\n",
       "      <td>1623484046</td>\n",
       "      <td>ny1g1y</td>\n",
       "      <td>Teenage girl harassed by a male employee</td>\n",
       "      <td>I was too shaken up to talk to a manager while...</td>\n",
       "      <td>1.0</td>\n",
       "      <td>1</td>\n",
       "      <td>24</td>\n",
       "    </tr>\n",
       "    <tr>\n",
       "      <th>1</th>\n",
       "      <td>Costco</td>\n",
       "      <td>1623468009</td>\n",
       "      <td>nxxc5b</td>\n",
       "      <td>Does Costco sell hanging baskets of flowers? R...</td>\n",
       "      <td>[removed]</td>\n",
       "      <td>1.0</td>\n",
       "      <td>1</td>\n",
       "      <td>2</td>\n",
       "    </tr>\n",
       "    <tr>\n",
       "      <th>2</th>\n",
       "      <td>Costco</td>\n",
       "      <td>1623467264</td>\n",
       "      <td>nxx4b3</td>\n",
       "      <td>18 year anniversary</td>\n",
       "      <td>Would be my 18th year anniversary had i stayed...</td>\n",
       "      <td>1.0</td>\n",
       "      <td>1</td>\n",
       "      <td>1</td>\n",
       "    </tr>\n",
       "    <tr>\n",
       "      <th>3</th>\n",
       "      <td>Costco</td>\n",
       "      <td>1623463893</td>\n",
       "      <td>nxw4nm</td>\n",
       "      <td>PLEASE include the Costco location (City/State...</td>\n",
       "      <td>I asked once \"Where did you find this item?\" -...</td>\n",
       "      <td>1.0</td>\n",
       "      <td>1</td>\n",
       "      <td>2</td>\n",
       "    </tr>\n",
       "    <tr>\n",
       "      <th>4</th>\n",
       "      <td>Costco</td>\n",
       "      <td>1623462565</td>\n",
       "      <td>nxvqeg</td>\n",
       "      <td>Add burgers to food court!</td>\n",
       "      <td>NaN</td>\n",
       "      <td>1.0</td>\n",
       "      <td>1</td>\n",
       "      <td>28</td>\n",
       "    </tr>\n",
       "  </tbody>\n",
       "</table>\n",
       "</div>"
      ],
      "text/plain": [
       "  subreddit  created_utc      id  \\\n",
       "0    Costco   1623484046  ny1g1y   \n",
       "1    Costco   1623468009  nxxc5b   \n",
       "2    Costco   1623467264  nxx4b3   \n",
       "3    Costco   1623463893  nxw4nm   \n",
       "4    Costco   1623462565  nxvqeg   \n",
       "\n",
       "                                               title  \\\n",
       "0           Teenage girl harassed by a male employee   \n",
       "1  Does Costco sell hanging baskets of flowers? R...   \n",
       "2                                18 year anniversary   \n",
       "3  PLEASE include the Costco location (City/State...   \n",
       "4                         Add burgers to food court!   \n",
       "\n",
       "                                            selftext  upvote_ratio  score  \\\n",
       "0  I was too shaken up to talk to a manager while...           1.0      1   \n",
       "1                                          [removed]           1.0      1   \n",
       "2  Would be my 18th year anniversary had i stayed...           1.0      1   \n",
       "3  I asked once \"Where did you find this item?\" -...           1.0      1   \n",
       "4                                                NaN           1.0      1   \n",
       "\n",
       "   num_comments  \n",
       "0            24  \n",
       "1             2  \n",
       "2             1  \n",
       "3             2  \n",
       "4            28  "
      ]
     },
     "execution_count": 12,
     "metadata": {},
     "output_type": "execute_result"
    }
   ],
   "source": [
    "df_costco.head()"
   ]
  },
  {
   "cell_type": "code",
   "execution_count": 13,
   "metadata": {},
   "outputs": [
    {
     "data": {
      "text/plain": [
       "(1497, 8)"
      ]
     },
     "execution_count": 13,
     "metadata": {},
     "output_type": "execute_result"
    }
   ],
   "source": [
    "df_costco.shape"
   ]
  },
  {
   "cell_type": "code",
   "execution_count": 14,
   "metadata": {},
   "outputs": [
    {
     "name": "stdout",
     "output_type": "stream",
     "text": [
      "<class 'pandas.core.frame.DataFrame'>\n",
      "RangeIndex: 1497 entries, 0 to 1496\n",
      "Data columns (total 8 columns):\n",
      " #   Column        Non-Null Count  Dtype  \n",
      "---  ------        --------------  -----  \n",
      " 0   subreddit     1497 non-null   object \n",
      " 1   created_utc   1497 non-null   int64  \n",
      " 2   id            1497 non-null   object \n",
      " 3   title         1497 non-null   object \n",
      " 4   selftext      1430 non-null   object \n",
      " 5   upvote_ratio  1497 non-null   float64\n",
      " 6   score         1497 non-null   int64  \n",
      " 7   num_comments  1497 non-null   int64  \n",
      "dtypes: float64(1), int64(3), object(4)\n",
      "memory usage: 93.7+ KB\n"
     ]
    }
   ],
   "source": [
    "df_costco.info()"
   ]
  },
  {
   "cell_type": "code",
   "execution_count": 15,
   "metadata": {},
   "outputs": [
    {
     "data": {
      "text/plain": [
       "subreddit        0\n",
       "created_utc      0\n",
       "id               0\n",
       "title            0\n",
       "selftext        67\n",
       "upvote_ratio     0\n",
       "score            0\n",
       "num_comments     0\n",
       "dtype: int64"
      ]
     },
     "execution_count": 15,
     "metadata": {},
     "output_type": "execute_result"
    }
   ],
   "source": [
    "df_costco.isnull().sum()"
   ]
  },
  {
   "cell_type": "code",
   "execution_count": 16,
   "metadata": {},
   "outputs": [
    {
     "data": {
      "text/html": [
       "<div>\n",
       "<style scoped>\n",
       "    .dataframe tbody tr th:only-of-type {\n",
       "        vertical-align: middle;\n",
       "    }\n",
       "\n",
       "    .dataframe tbody tr th {\n",
       "        vertical-align: top;\n",
       "    }\n",
       "\n",
       "    .dataframe thead th {\n",
       "        text-align: right;\n",
       "    }\n",
       "</style>\n",
       "<table border=\"1\" class=\"dataframe\">\n",
       "  <thead>\n",
       "    <tr style=\"text-align: right;\">\n",
       "      <th></th>\n",
       "      <th>subreddit</th>\n",
       "      <th>created_utc</th>\n",
       "      <th>id</th>\n",
       "      <th>title</th>\n",
       "      <th>selftext</th>\n",
       "      <th>upvote_ratio</th>\n",
       "      <th>score</th>\n",
       "      <th>num_comments</th>\n",
       "    </tr>\n",
       "  </thead>\n",
       "  <tbody>\n",
       "    <tr>\n",
       "      <th>count</th>\n",
       "      <td>1497</td>\n",
       "      <td>1.497000e+03</td>\n",
       "      <td>1497</td>\n",
       "      <td>1497</td>\n",
       "      <td>1430</td>\n",
       "      <td>1497.000000</td>\n",
       "      <td>1497.000000</td>\n",
       "      <td>1497.000000</td>\n",
       "    </tr>\n",
       "    <tr>\n",
       "      <th>unique</th>\n",
       "      <td>1</td>\n",
       "      <td>NaN</td>\n",
       "      <td>1497</td>\n",
       "      <td>1494</td>\n",
       "      <td>1157</td>\n",
       "      <td>NaN</td>\n",
       "      <td>NaN</td>\n",
       "      <td>NaN</td>\n",
       "    </tr>\n",
       "    <tr>\n",
       "      <th>top</th>\n",
       "      <td>Costco</td>\n",
       "      <td>NaN</td>\n",
       "      <td>nikocv</td>\n",
       "      <td>PICKL</td>\n",
       "      <td>[removed]</td>\n",
       "      <td>NaN</td>\n",
       "      <td>NaN</td>\n",
       "      <td>NaN</td>\n",
       "    </tr>\n",
       "    <tr>\n",
       "      <th>freq</th>\n",
       "      <td>1497</td>\n",
       "      <td>NaN</td>\n",
       "      <td>1</td>\n",
       "      <td>2</td>\n",
       "      <td>263</td>\n",
       "      <td>NaN</td>\n",
       "      <td>NaN</td>\n",
       "      <td>NaN</td>\n",
       "    </tr>\n",
       "    <tr>\n",
       "      <th>mean</th>\n",
       "      <td>NaN</td>\n",
       "      <td>1.620813e+09</td>\n",
       "      <td>NaN</td>\n",
       "      <td>NaN</td>\n",
       "      <td>NaN</td>\n",
       "      <td>0.993246</td>\n",
       "      <td>1.008016</td>\n",
       "      <td>11.607214</td>\n",
       "    </tr>\n",
       "    <tr>\n",
       "      <th>std</th>\n",
       "      <td>NaN</td>\n",
       "      <td>1.532700e+06</td>\n",
       "      <td>NaN</td>\n",
       "      <td>NaN</td>\n",
       "      <td>NaN</td>\n",
       "      <td>0.058745</td>\n",
       "      <td>0.206680</td>\n",
       "      <td>17.427563</td>\n",
       "    </tr>\n",
       "    <tr>\n",
       "      <th>min</th>\n",
       "      <td>NaN</td>\n",
       "      <td>1.617845e+09</td>\n",
       "      <td>NaN</td>\n",
       "      <td>NaN</td>\n",
       "      <td>NaN</td>\n",
       "      <td>0.200000</td>\n",
       "      <td>0.000000</td>\n",
       "      <td>0.000000</td>\n",
       "    </tr>\n",
       "    <tr>\n",
       "      <th>25%</th>\n",
       "      <td>NaN</td>\n",
       "      <td>1.619545e+09</td>\n",
       "      <td>NaN</td>\n",
       "      <td>NaN</td>\n",
       "      <td>NaN</td>\n",
       "      <td>1.000000</td>\n",
       "      <td>1.000000</td>\n",
       "      <td>3.000000</td>\n",
       "    </tr>\n",
       "    <tr>\n",
       "      <th>50%</th>\n",
       "      <td>NaN</td>\n",
       "      <td>1.620770e+09</td>\n",
       "      <td>NaN</td>\n",
       "      <td>NaN</td>\n",
       "      <td>NaN</td>\n",
       "      <td>1.000000</td>\n",
       "      <td>1.000000</td>\n",
       "      <td>7.000000</td>\n",
       "    </tr>\n",
       "    <tr>\n",
       "      <th>75%</th>\n",
       "      <td>NaN</td>\n",
       "      <td>1.622145e+09</td>\n",
       "      <td>NaN</td>\n",
       "      <td>NaN</td>\n",
       "      <td>NaN</td>\n",
       "      <td>1.000000</td>\n",
       "      <td>1.000000</td>\n",
       "      <td>14.000000</td>\n",
       "    </tr>\n",
       "    <tr>\n",
       "      <th>max</th>\n",
       "      <td>NaN</td>\n",
       "      <td>1.623484e+09</td>\n",
       "      <td>NaN</td>\n",
       "      <td>NaN</td>\n",
       "      <td>NaN</td>\n",
       "      <td>1.000000</td>\n",
       "      <td>4.000000</td>\n",
       "      <td>202.000000</td>\n",
       "    </tr>\n",
       "  </tbody>\n",
       "</table>\n",
       "</div>"
      ],
      "text/plain": [
       "       subreddit   created_utc      id  title   selftext  upvote_ratio  \\\n",
       "count       1497  1.497000e+03    1497   1497       1430   1497.000000   \n",
       "unique         1           NaN    1497   1494       1157           NaN   \n",
       "top       Costco           NaN  nikocv  PICKL  [removed]           NaN   \n",
       "freq        1497           NaN       1      2        263           NaN   \n",
       "mean         NaN  1.620813e+09     NaN    NaN        NaN      0.993246   \n",
       "std          NaN  1.532700e+06     NaN    NaN        NaN      0.058745   \n",
       "min          NaN  1.617845e+09     NaN    NaN        NaN      0.200000   \n",
       "25%          NaN  1.619545e+09     NaN    NaN        NaN      1.000000   \n",
       "50%          NaN  1.620770e+09     NaN    NaN        NaN      1.000000   \n",
       "75%          NaN  1.622145e+09     NaN    NaN        NaN      1.000000   \n",
       "max          NaN  1.623484e+09     NaN    NaN        NaN      1.000000   \n",
       "\n",
       "              score  num_comments  \n",
       "count   1497.000000   1497.000000  \n",
       "unique          NaN           NaN  \n",
       "top             NaN           NaN  \n",
       "freq            NaN           NaN  \n",
       "mean       1.008016     11.607214  \n",
       "std        0.206680     17.427563  \n",
       "min        0.000000      0.000000  \n",
       "25%        1.000000      3.000000  \n",
       "50%        1.000000      7.000000  \n",
       "75%        1.000000     14.000000  \n",
       "max        4.000000    202.000000  "
      ]
     },
     "execution_count": 16,
     "metadata": {},
     "output_type": "execute_result"
    }
   ],
   "source": [
    "df_costco.describe(include='all')"
   ]
  },
  {
   "cell_type": "code",
   "execution_count": 17,
   "metadata": {},
   "outputs": [
    {
     "data": {
      "text/html": [
       "<div>\n",
       "<style scoped>\n",
       "    .dataframe tbody tr th:only-of-type {\n",
       "        vertical-align: middle;\n",
       "    }\n",
       "\n",
       "    .dataframe tbody tr th {\n",
       "        vertical-align: top;\n",
       "    }\n",
       "\n",
       "    .dataframe thead th {\n",
       "        text-align: right;\n",
       "    }\n",
       "</style>\n",
       "<table border=\"1\" class=\"dataframe\">\n",
       "  <thead>\n",
       "    <tr style=\"text-align: right;\">\n",
       "      <th></th>\n",
       "      <th>subreddit</th>\n",
       "      <th>created_utc</th>\n",
       "      <th>id</th>\n",
       "      <th>title</th>\n",
       "      <th>selftext</th>\n",
       "      <th>upvote_ratio</th>\n",
       "      <th>score</th>\n",
       "      <th>num_comments</th>\n",
       "    </tr>\n",
       "  </thead>\n",
       "  <tbody>\n",
       "    <tr>\n",
       "      <th>871</th>\n",
       "      <td>Costco</td>\n",
       "      <td>1620356979</td>\n",
       "      <td>n6oxyy</td>\n",
       "      <td>PICKL</td>\n",
       "      <td>Hey Yall!\\n\\nPICKL is a great resource because...</td>\n",
       "      <td>1.0</td>\n",
       "      <td>1</td>\n",
       "      <td>0</td>\n",
       "    </tr>\n",
       "    <tr>\n",
       "      <th>1268</th>\n",
       "      <td>Costco</td>\n",
       "      <td>1619040001</td>\n",
       "      <td>mvpqqf</td>\n",
       "      <td>CA SUPPL paid sick leave</td>\n",
       "      <td>I was curious we got this added to our paystub...</td>\n",
       "      <td>1.0</td>\n",
       "      <td>1</td>\n",
       "      <td>1</td>\n",
       "    </tr>\n",
       "    <tr>\n",
       "      <th>1452</th>\n",
       "      <td>Costco</td>\n",
       "      <td>1617993131</td>\n",
       "      <td>mnnkro</td>\n",
       "      <td>Kirkland bottled water + do Costco sales alway...</td>\n",
       "      <td>[removed]</td>\n",
       "      <td>1.0</td>\n",
       "      <td>1</td>\n",
       "      <td>0</td>\n",
       "    </tr>\n",
       "  </tbody>\n",
       "</table>\n",
       "</div>"
      ],
      "text/plain": [
       "     subreddit  created_utc      id  \\\n",
       "871     Costco   1620356979  n6oxyy   \n",
       "1268    Costco   1619040001  mvpqqf   \n",
       "1452    Costco   1617993131  mnnkro   \n",
       "\n",
       "                                                  title  \\\n",
       "871                                               PICKL   \n",
       "1268                           CA SUPPL paid sick leave   \n",
       "1452  Kirkland bottled water + do Costco sales alway...   \n",
       "\n",
       "                                               selftext  upvote_ratio  score  \\\n",
       "871   Hey Yall!\\n\\nPICKL is a great resource because...           1.0      1   \n",
       "1268  I was curious we got this added to our paystub...           1.0      1   \n",
       "1452                                          [removed]           1.0      1   \n",
       "\n",
       "      num_comments  \n",
       "871              0  \n",
       "1268             1  \n",
       "1452             0  "
      ]
     },
     "execution_count": 17,
     "metadata": {},
     "output_type": "execute_result"
    }
   ],
   "source": [
    "df_costco[df_costco.duplicated(subset = ['title'])]"
   ]
  },
  {
   "cell_type": "code",
   "execution_count": 18,
   "metadata": {},
   "outputs": [
    {
     "data": {
      "text/html": [
       "<div>\n",
       "<style scoped>\n",
       "    .dataframe tbody tr th:only-of-type {\n",
       "        vertical-align: middle;\n",
       "    }\n",
       "\n",
       "    .dataframe tbody tr th {\n",
       "        vertical-align: top;\n",
       "    }\n",
       "\n",
       "    .dataframe thead th {\n",
       "        text-align: right;\n",
       "    }\n",
       "</style>\n",
       "<table border=\"1\" class=\"dataframe\">\n",
       "  <thead>\n",
       "    <tr style=\"text-align: right;\">\n",
       "      <th></th>\n",
       "      <th>subreddit</th>\n",
       "      <th>created_utc</th>\n",
       "      <th>id</th>\n",
       "      <th>title</th>\n",
       "      <th>selftext</th>\n",
       "      <th>upvote_ratio</th>\n",
       "      <th>score</th>\n",
       "      <th>num_comments</th>\n",
       "    </tr>\n",
       "  </thead>\n",
       "  <tbody>\n",
       "    <tr>\n",
       "      <th>25</th>\n",
       "      <td>Costco</td>\n",
       "      <td>1623361605</td>\n",
       "      <td>nwzg5o</td>\n",
       "      <td>Just Received Member-Only Savings Ad for 4/14/...</td>\n",
       "      <td>[removed]</td>\n",
       "      <td>1.00</td>\n",
       "      <td>1</td>\n",
       "      <td>2</td>\n",
       "    </tr>\n",
       "    <tr>\n",
       "      <th>32</th>\n",
       "      <td>Costco</td>\n",
       "      <td>1623346595</td>\n",
       "      <td>nwthsd</td>\n",
       "      <td>Looking for a position in Costco as a cashier!</td>\n",
       "      <td>[removed]</td>\n",
       "      <td>1.00</td>\n",
       "      <td>1</td>\n",
       "      <td>4</td>\n",
       "    </tr>\n",
       "    <tr>\n",
       "      <th>33</th>\n",
       "      <td>Costco</td>\n",
       "      <td>1623343745</td>\n",
       "      <td>nwsck3</td>\n",
       "      <td>I understand the cost advantages of purchasing...</td>\n",
       "      <td>[deleted]</td>\n",
       "      <td>0.33</td>\n",
       "      <td>0</td>\n",
       "      <td>8</td>\n",
       "    </tr>\n",
       "    <tr>\n",
       "      <th>57</th>\n",
       "      <td>Costco</td>\n",
       "      <td>1623257829</td>\n",
       "      <td>nw0mu7</td>\n",
       "      <td>Who has purchased OVE Decors Lakeview 60\" Vanity?</td>\n",
       "      <td>[deleted]</td>\n",
       "      <td>1.00</td>\n",
       "      <td>1</td>\n",
       "      <td>0</td>\n",
       "    </tr>\n",
       "    <tr>\n",
       "      <th>69</th>\n",
       "      <td>Costco</td>\n",
       "      <td>1623222208</td>\n",
       "      <td>nvpksi</td>\n",
       "      <td>First day working at food court tomorrow any t...</td>\n",
       "      <td>NaN</td>\n",
       "      <td>1.00</td>\n",
       "      <td>1</td>\n",
       "      <td>2</td>\n",
       "    </tr>\n",
       "    <tr>\n",
       "      <th>...</th>\n",
       "      <td>...</td>\n",
       "      <td>...</td>\n",
       "      <td>...</td>\n",
       "      <td>...</td>\n",
       "      <td>...</td>\n",
       "      <td>...</td>\n",
       "      <td>...</td>\n",
       "      <td>...</td>\n",
       "    </tr>\n",
       "    <tr>\n",
       "      <th>1454</th>\n",
       "      <td>Costco</td>\n",
       "      <td>1617988665</td>\n",
       "      <td>mnm25w</td>\n",
       "      <td>Curious - software programs that Costco employ...</td>\n",
       "      <td>[removed]</td>\n",
       "      <td>1.00</td>\n",
       "      <td>1</td>\n",
       "      <td>0</td>\n",
       "    </tr>\n",
       "    <tr>\n",
       "      <th>1458</th>\n",
       "      <td>Costco</td>\n",
       "      <td>1617981547</td>\n",
       "      <td>mnjh3o</td>\n",
       "      <td>Tramontina Dutch Ovens</td>\n",
       "      <td>[removed]</td>\n",
       "      <td>1.00</td>\n",
       "      <td>1</td>\n",
       "      <td>2</td>\n",
       "    </tr>\n",
       "    <tr>\n",
       "      <th>1470</th>\n",
       "      <td>Costco</td>\n",
       "      <td>1617920757</td>\n",
       "      <td>mn36kq</td>\n",
       "      <td>Got 4 Michelin tires today, got flyer today sa...</td>\n",
       "      <td>[removed]</td>\n",
       "      <td>1.00</td>\n",
       "      <td>1</td>\n",
       "      <td>1</td>\n",
       "    </tr>\n",
       "    <tr>\n",
       "      <th>1471</th>\n",
       "      <td>Costco</td>\n",
       "      <td>1617919810</td>\n",
       "      <td>mn2uu7</td>\n",
       "      <td>Potential Hiring Probability</td>\n",
       "      <td>[removed]</td>\n",
       "      <td>1.00</td>\n",
       "      <td>1</td>\n",
       "      <td>1</td>\n",
       "    </tr>\n",
       "    <tr>\n",
       "      <th>1480</th>\n",
       "      <td>Costco</td>\n",
       "      <td>1617891756</td>\n",
       "      <td>mmsvzc</td>\n",
       "      <td>Business Costco</td>\n",
       "      <td>[removed]</td>\n",
       "      <td>1.00</td>\n",
       "      <td>1</td>\n",
       "      <td>0</td>\n",
       "    </tr>\n",
       "  </tbody>\n",
       "</table>\n",
       "<p>339 rows × 8 columns</p>\n",
       "</div>"
      ],
      "text/plain": [
       "     subreddit  created_utc      id  \\\n",
       "25      Costco   1623361605  nwzg5o   \n",
       "32      Costco   1623346595  nwthsd   \n",
       "33      Costco   1623343745  nwsck3   \n",
       "57      Costco   1623257829  nw0mu7   \n",
       "69      Costco   1623222208  nvpksi   \n",
       "...        ...          ...     ...   \n",
       "1454    Costco   1617988665  mnm25w   \n",
       "1458    Costco   1617981547  mnjh3o   \n",
       "1470    Costco   1617920757  mn36kq   \n",
       "1471    Costco   1617919810  mn2uu7   \n",
       "1480    Costco   1617891756  mmsvzc   \n",
       "\n",
       "                                                  title   selftext  \\\n",
       "25    Just Received Member-Only Savings Ad for 4/14/...  [removed]   \n",
       "32       Looking for a position in Costco as a cashier!  [removed]   \n",
       "33    I understand the cost advantages of purchasing...  [deleted]   \n",
       "57    Who has purchased OVE Decors Lakeview 60\" Vanity?  [deleted]   \n",
       "69    First day working at food court tomorrow any t...        NaN   \n",
       "...                                                 ...        ...   \n",
       "1454  Curious - software programs that Costco employ...  [removed]   \n",
       "1458                             Tramontina Dutch Ovens  [removed]   \n",
       "1470  Got 4 Michelin tires today, got flyer today sa...  [removed]   \n",
       "1471                       Potential Hiring Probability  [removed]   \n",
       "1480                                    Business Costco  [removed]   \n",
       "\n",
       "      upvote_ratio  score  num_comments  \n",
       "25            1.00      1             2  \n",
       "32            1.00      1             4  \n",
       "33            0.33      0             8  \n",
       "57            1.00      1             0  \n",
       "69            1.00      1             2  \n",
       "...            ...    ...           ...  \n",
       "1454          1.00      1             0  \n",
       "1458          1.00      1             2  \n",
       "1470          1.00      1             1  \n",
       "1471          1.00      1             1  \n",
       "1480          1.00      1             0  \n",
       "\n",
       "[339 rows x 8 columns]"
      ]
     },
     "execution_count": 18,
     "metadata": {},
     "output_type": "execute_result"
    }
   ],
   "source": [
    "df_costco[df_costco.duplicated(subset = ['selftext'])]"
   ]
  },
  {
   "cell_type": "markdown",
   "metadata": {},
   "source": [
    "### Comments:\n",
    "\n",
    "A summary of Data Inspection on Costco Posts:\n",
    "1. \"selftext\" column has 67 missing values, which is quite less than Walmart's posts.\n",
    "2. Both \"title\" & \"selftext\" columns have some duplicated values\n",
    "3. \"selftext\" column has default values, e.g. \"[deleted]\" or \"[removed]\".\n",
    "4. the post with title \"PICKL\" has the top counts.\n",
    "\n",
    "I'll process them during the **[Data Cleaning]** part."
   ]
  },
  {
   "cell_type": "markdown",
   "metadata": {},
   "source": [
    "# 4. Data Cleaning and Pre Processing"
   ]
  },
  {
   "cell_type": "markdown",
   "metadata": {},
   "source": [
    "## 4.1 Data Cleaning"
   ]
  },
  {
   "cell_type": "markdown",
   "metadata": {},
   "source": [
    "A summary of what I have applied during Data Cleaning process for 2 text fields: (1) \"title\", (2) \"selftext\".\n",
    "\n",
    "Most \"title\" field doesn't really give meaningful text for the post, therefore, I will concate these 2 fields as a new column to include both the posts title and body. \n",
    "\n",
    "Below most common text cleaning steps had applied by Regex library (Regular Expression library with powerful pattern & string searching functions):\n",
    "- <em>remove emoji</em>\n",
    "- <em>remove defalut text with format of \"[]\", e.g. \"[removed]\" or \"[deleted]\" </em>\n",
    "- <em>remove non-letters</em>\n",
    "- <em>remove html special entities , e.g. &amp;</em>\n",
    "- <em>remove punctuation</em>\n",
    "- <em>remove hypterlinks</em>\n",
    "- <em>remove whitespace</em>\n",
    "- <em>remove words with 2 or fewer letters</em>\n",
    "- <em>remove characters beyond Basic Multilingual Plane (BMP) of Unicode</em>\n",
    "After above steps have been done, a cleaned corpus has been saved as clean dataset.\n",
    "\n",
    "The cleaned corpus have saved into cleaned 2 csv files for modelling."
   ]
  },
  {
   "cell_type": "markdown",
   "metadata": {},
   "source": [
    "### 4.1.1 Change \"[removed]\" / \"[deleted]\" to blank from selftext"
   ]
  },
  {
   "cell_type": "markdown",
   "metadata": {},
   "source": [
    "#### 4.1.1.1 selftext column in Walmart posts"
   ]
  },
  {
   "cell_type": "code",
   "execution_count": 19,
   "metadata": {},
   "outputs": [],
   "source": [
    "# change default values \"[removed]\" / \"[deleted]\" to blank from selftext\n",
    "df_walmart.loc[(df_walmart['selftext'] == '[removed]') | (df_walmart['selftext'] == '[deleted]'), 'selftext'] = \"\""
   ]
  },
  {
   "cell_type": "markdown",
   "metadata": {},
   "source": [
    "#### Comments: \n",
    "\n",
    "The default values \"[removed]\", \"[deleted]\" have been removed as blank from \"title\" & \"selftext\" columns."
   ]
  },
  {
   "cell_type": "code",
   "execution_count": 20,
   "metadata": {},
   "outputs": [
    {
     "data": {
      "text/plain": [
       "subreddit         0\n",
       "created_utc       0\n",
       "id                0\n",
       "title             0\n",
       "selftext        152\n",
       "upvote_ratio      0\n",
       "score             0\n",
       "num_comments      0\n",
       "dtype: int64"
      ]
     },
     "execution_count": 20,
     "metadata": {},
     "output_type": "execute_result"
    }
   ],
   "source": [
    "df_walmart.isnull().sum()"
   ]
  },
  {
   "cell_type": "code",
   "execution_count": 21,
   "metadata": {},
   "outputs": [
    {
     "data": {
      "text/html": [
       "<div>\n",
       "<style scoped>\n",
       "    .dataframe tbody tr th:only-of-type {\n",
       "        vertical-align: middle;\n",
       "    }\n",
       "\n",
       "    .dataframe tbody tr th {\n",
       "        vertical-align: top;\n",
       "    }\n",
       "\n",
       "    .dataframe thead th {\n",
       "        text-align: right;\n",
       "    }\n",
       "</style>\n",
       "<table border=\"1\" class=\"dataframe\">\n",
       "  <thead>\n",
       "    <tr style=\"text-align: right;\">\n",
       "      <th></th>\n",
       "      <th>subreddit</th>\n",
       "      <th>created_utc</th>\n",
       "      <th>id</th>\n",
       "      <th>title</th>\n",
       "      <th>selftext</th>\n",
       "      <th>upvote_ratio</th>\n",
       "      <th>score</th>\n",
       "      <th>num_comments</th>\n",
       "    </tr>\n",
       "  </thead>\n",
       "  <tbody>\n",
       "    <tr>\n",
       "      <th>count</th>\n",
       "      <td>1490</td>\n",
       "      <td>1.490000e+03</td>\n",
       "      <td>1490</td>\n",
       "      <td>1490</td>\n",
       "      <td>1338</td>\n",
       "      <td>1490.000000</td>\n",
       "      <td>1490.000000</td>\n",
       "      <td>1490.000000</td>\n",
       "    </tr>\n",
       "    <tr>\n",
       "      <th>unique</th>\n",
       "      <td>1</td>\n",
       "      <td>NaN</td>\n",
       "      <td>1490</td>\n",
       "      <td>1460</td>\n",
       "      <td>1191</td>\n",
       "      <td>NaN</td>\n",
       "      <td>NaN</td>\n",
       "      <td>NaN</td>\n",
       "    </tr>\n",
       "    <tr>\n",
       "      <th>top</th>\n",
       "      <td>walmart</td>\n",
       "      <td>NaN</td>\n",
       "      <td>nr4fi1</td>\n",
       "      <td>Question</td>\n",
       "      <td></td>\n",
       "      <td>NaN</td>\n",
       "      <td>NaN</td>\n",
       "      <td>NaN</td>\n",
       "    </tr>\n",
       "    <tr>\n",
       "      <th>freq</th>\n",
       "      <td>1490</td>\n",
       "      <td>NaN</td>\n",
       "      <td>1</td>\n",
       "      <td>6</td>\n",
       "      <td>145</td>\n",
       "      <td>NaN</td>\n",
       "      <td>NaN</td>\n",
       "      <td>NaN</td>\n",
       "    </tr>\n",
       "    <tr>\n",
       "      <th>mean</th>\n",
       "      <td>NaN</td>\n",
       "      <td>1.622866e+09</td>\n",
       "      <td>NaN</td>\n",
       "      <td>NaN</td>\n",
       "      <td>NaN</td>\n",
       "      <td>0.978289</td>\n",
       "      <td>1.017450</td>\n",
       "      <td>9.702685</td>\n",
       "    </tr>\n",
       "    <tr>\n",
       "      <th>std</th>\n",
       "      <td>NaN</td>\n",
       "      <td>3.579067e+05</td>\n",
       "      <td>NaN</td>\n",
       "      <td>NaN</td>\n",
       "      <td>NaN</td>\n",
       "      <td>0.109168</td>\n",
       "      <td>0.380472</td>\n",
       "      <td>10.885425</td>\n",
       "    </tr>\n",
       "    <tr>\n",
       "      <th>min</th>\n",
       "      <td>NaN</td>\n",
       "      <td>1.622225e+09</td>\n",
       "      <td>NaN</td>\n",
       "      <td>NaN</td>\n",
       "      <td>NaN</td>\n",
       "      <td>0.140000</td>\n",
       "      <td>0.000000</td>\n",
       "      <td>0.000000</td>\n",
       "    </tr>\n",
       "    <tr>\n",
       "      <th>25%</th>\n",
       "      <td>NaN</td>\n",
       "      <td>1.622561e+09</td>\n",
       "      <td>NaN</td>\n",
       "      <td>NaN</td>\n",
       "      <td>NaN</td>\n",
       "      <td>1.000000</td>\n",
       "      <td>1.000000</td>\n",
       "      <td>3.000000</td>\n",
       "    </tr>\n",
       "    <tr>\n",
       "      <th>50%</th>\n",
       "      <td>NaN</td>\n",
       "      <td>1.622871e+09</td>\n",
       "      <td>NaN</td>\n",
       "      <td>NaN</td>\n",
       "      <td>NaN</td>\n",
       "      <td>1.000000</td>\n",
       "      <td>1.000000</td>\n",
       "      <td>7.000000</td>\n",
       "    </tr>\n",
       "    <tr>\n",
       "      <th>75%</th>\n",
       "      <td>NaN</td>\n",
       "      <td>1.623180e+09</td>\n",
       "      <td>NaN</td>\n",
       "      <td>NaN</td>\n",
       "      <td>NaN</td>\n",
       "      <td>1.000000</td>\n",
       "      <td>1.000000</td>\n",
       "      <td>13.000000</td>\n",
       "    </tr>\n",
       "    <tr>\n",
       "      <th>max</th>\n",
       "      <td>NaN</td>\n",
       "      <td>1.623481e+09</td>\n",
       "      <td>NaN</td>\n",
       "      <td>NaN</td>\n",
       "      <td>NaN</td>\n",
       "      <td>1.000000</td>\n",
       "      <td>6.000000</td>\n",
       "      <td>91.000000</td>\n",
       "    </tr>\n",
       "  </tbody>\n",
       "</table>\n",
       "</div>"
      ],
      "text/plain": [
       "       subreddit   created_utc      id     title selftext  upvote_ratio  \\\n",
       "count       1490  1.490000e+03    1490      1490     1338   1490.000000   \n",
       "unique         1           NaN    1490      1460     1191           NaN   \n",
       "top      walmart           NaN  nr4fi1  Question                    NaN   \n",
       "freq        1490           NaN       1         6      145           NaN   \n",
       "mean         NaN  1.622866e+09     NaN       NaN      NaN      0.978289   \n",
       "std          NaN  3.579067e+05     NaN       NaN      NaN      0.109168   \n",
       "min          NaN  1.622225e+09     NaN       NaN      NaN      0.140000   \n",
       "25%          NaN  1.622561e+09     NaN       NaN      NaN      1.000000   \n",
       "50%          NaN  1.622871e+09     NaN       NaN      NaN      1.000000   \n",
       "75%          NaN  1.623180e+09     NaN       NaN      NaN      1.000000   \n",
       "max          NaN  1.623481e+09     NaN       NaN      NaN      1.000000   \n",
       "\n",
       "              score  num_comments  \n",
       "count   1490.000000   1490.000000  \n",
       "unique          NaN           NaN  \n",
       "top             NaN           NaN  \n",
       "freq            NaN           NaN  \n",
       "mean       1.017450      9.702685  \n",
       "std        0.380472     10.885425  \n",
       "min        0.000000      0.000000  \n",
       "25%        1.000000      3.000000  \n",
       "50%        1.000000      7.000000  \n",
       "75%        1.000000     13.000000  \n",
       "max        6.000000     91.000000  "
      ]
     },
     "execution_count": 21,
     "metadata": {},
     "output_type": "execute_result"
    }
   ],
   "source": [
    "df_walmart.describe(include='all')"
   ]
  },
  {
   "cell_type": "markdown",
   "metadata": {},
   "source": [
    "### Comments:\n",
    "1. We can see from above description the max score is 6 for Walmart posts, and max with 91 comments.\n",
    "2. The top posts with title \"Question\" which actually from the title itself We are not able to extract meaningful contents from the post. That's why I will merge \"title\" & \"selftext\" into 1 new column for text mining and modeling. "
   ]
  },
  {
   "cell_type": "code",
   "execution_count": 22,
   "metadata": {},
   "outputs": [
    {
     "data": {
      "text/html": [
       "<div>\n",
       "<style scoped>\n",
       "    .dataframe tbody tr th:only-of-type {\n",
       "        vertical-align: middle;\n",
       "    }\n",
       "\n",
       "    .dataframe tbody tr th {\n",
       "        vertical-align: top;\n",
       "    }\n",
       "\n",
       "    .dataframe thead th {\n",
       "        text-align: right;\n",
       "    }\n",
       "</style>\n",
       "<table border=\"1\" class=\"dataframe\">\n",
       "  <thead>\n",
       "    <tr style=\"text-align: right;\">\n",
       "      <th></th>\n",
       "      <th>subreddit</th>\n",
       "      <th>created_utc</th>\n",
       "      <th>id</th>\n",
       "      <th>title</th>\n",
       "      <th>selftext</th>\n",
       "      <th>upvote_ratio</th>\n",
       "      <th>score</th>\n",
       "      <th>num_comments</th>\n",
       "    </tr>\n",
       "  </thead>\n",
       "  <tbody>\n",
       "    <tr>\n",
       "      <th>0</th>\n",
       "      <td>walmart</td>\n",
       "      <td>1623481278</td>\n",
       "      <td>ny0t2k</td>\n",
       "      <td>The whole meat wall, in one night?</td>\n",
       "      <td>Is that even possible?</td>\n",
       "      <td>1.0</td>\n",
       "      <td>1</td>\n",
       "      <td>15</td>\n",
       "    </tr>\n",
       "    <tr>\n",
       "      <th>1</th>\n",
       "      <td>walmart</td>\n",
       "      <td>1623479940</td>\n",
       "      <td>ny0hk4</td>\n",
       "      <td>Early Lunches</td>\n",
       "      <td></td>\n",
       "      <td>1.0</td>\n",
       "      <td>1</td>\n",
       "      <td>0</td>\n",
       "    </tr>\n",
       "    <tr>\n",
       "      <th>2</th>\n",
       "      <td>walmart</td>\n",
       "      <td>1623477525</td>\n",
       "      <td>nxzwvb</td>\n",
       "      <td>Cap 2/Overnight Team leads</td>\n",
       "      <td>Due to unforseen circumstances, I was not able...</td>\n",
       "      <td>1.0</td>\n",
       "      <td>1</td>\n",
       "      <td>14</td>\n",
       "    </tr>\n",
       "  </tbody>\n",
       "</table>\n",
       "</div>"
      ],
      "text/plain": [
       "  subreddit  created_utc      id                               title  \\\n",
       "0   walmart   1623481278  ny0t2k  The whole meat wall, in one night?   \n",
       "1   walmart   1623479940  ny0hk4                       Early Lunches   \n",
       "2   walmart   1623477525  nxzwvb          Cap 2/Overnight Team leads   \n",
       "\n",
       "                                            selftext  upvote_ratio  score  \\\n",
       "0                             Is that even possible?           1.0      1   \n",
       "1                                                              1.0      1   \n",
       "2  Due to unforseen circumstances, I was not able...           1.0      1   \n",
       "\n",
       "   num_comments  \n",
       "0            15  \n",
       "1             0  \n",
       "2            14  "
      ]
     },
     "execution_count": 22,
     "metadata": {},
     "output_type": "execute_result"
    }
   ],
   "source": [
    "# display the first 3 rows again after the data cleaning\n",
    "df_walmart.head(3)"
   ]
  },
  {
   "cell_type": "markdown",
   "metadata": {},
   "source": [
    "#### 4.1.1.2 selftext column in Costco posts"
   ]
  },
  {
   "cell_type": "code",
   "execution_count": 23,
   "metadata": {},
   "outputs": [],
   "source": [
    "# change default values \"[removed]\" / \"[deleted]\" to blank from selftext\n",
    "df_costco.loc[(df_costco['selftext'] == '[removed]') | (df_costco['selftext'] == '[deleted]'), 'selftext'] = \"\" "
   ]
  },
  {
   "cell_type": "code",
   "execution_count": 24,
   "metadata": {},
   "outputs": [
    {
     "data": {
      "text/plain": [
       "subreddit        0\n",
       "created_utc      0\n",
       "id               0\n",
       "title            0\n",
       "selftext        67\n",
       "upvote_ratio     0\n",
       "score            0\n",
       "num_comments     0\n",
       "dtype: int64"
      ]
     },
     "execution_count": 24,
     "metadata": {},
     "output_type": "execute_result"
    }
   ],
   "source": [
    "df_costco.isnull().sum()"
   ]
  },
  {
   "cell_type": "code",
   "execution_count": 25,
   "metadata": {
    "scrolled": true
   },
   "outputs": [
    {
     "data": {
      "text/html": [
       "<div>\n",
       "<style scoped>\n",
       "    .dataframe tbody tr th:only-of-type {\n",
       "        vertical-align: middle;\n",
       "    }\n",
       "\n",
       "    .dataframe tbody tr th {\n",
       "        vertical-align: top;\n",
       "    }\n",
       "\n",
       "    .dataframe thead th {\n",
       "        text-align: right;\n",
       "    }\n",
       "</style>\n",
       "<table border=\"1\" class=\"dataframe\">\n",
       "  <thead>\n",
       "    <tr style=\"text-align: right;\">\n",
       "      <th></th>\n",
       "      <th>subreddit</th>\n",
       "      <th>created_utc</th>\n",
       "      <th>id</th>\n",
       "      <th>title</th>\n",
       "      <th>selftext</th>\n",
       "      <th>upvote_ratio</th>\n",
       "      <th>score</th>\n",
       "      <th>num_comments</th>\n",
       "    </tr>\n",
       "  </thead>\n",
       "  <tbody>\n",
       "    <tr>\n",
       "      <th>count</th>\n",
       "      <td>1497</td>\n",
       "      <td>1.497000e+03</td>\n",
       "      <td>1497</td>\n",
       "      <td>1497</td>\n",
       "      <td>1430</td>\n",
       "      <td>1497.000000</td>\n",
       "      <td>1497.000000</td>\n",
       "      <td>1497.000000</td>\n",
       "    </tr>\n",
       "    <tr>\n",
       "      <th>unique</th>\n",
       "      <td>1</td>\n",
       "      <td>NaN</td>\n",
       "      <td>1497</td>\n",
       "      <td>1494</td>\n",
       "      <td>1156</td>\n",
       "      <td>NaN</td>\n",
       "      <td>NaN</td>\n",
       "      <td>NaN</td>\n",
       "    </tr>\n",
       "    <tr>\n",
       "      <th>top</th>\n",
       "      <td>Costco</td>\n",
       "      <td>NaN</td>\n",
       "      <td>nikocv</td>\n",
       "      <td>PICKL</td>\n",
       "      <td></td>\n",
       "      <td>NaN</td>\n",
       "      <td>NaN</td>\n",
       "      <td>NaN</td>\n",
       "    </tr>\n",
       "    <tr>\n",
       "      <th>freq</th>\n",
       "      <td>1497</td>\n",
       "      <td>NaN</td>\n",
       "      <td>1</td>\n",
       "      <td>2</td>\n",
       "      <td>272</td>\n",
       "      <td>NaN</td>\n",
       "      <td>NaN</td>\n",
       "      <td>NaN</td>\n",
       "    </tr>\n",
       "    <tr>\n",
       "      <th>mean</th>\n",
       "      <td>NaN</td>\n",
       "      <td>1.620813e+09</td>\n",
       "      <td>NaN</td>\n",
       "      <td>NaN</td>\n",
       "      <td>NaN</td>\n",
       "      <td>0.993246</td>\n",
       "      <td>1.008016</td>\n",
       "      <td>11.607214</td>\n",
       "    </tr>\n",
       "    <tr>\n",
       "      <th>std</th>\n",
       "      <td>NaN</td>\n",
       "      <td>1.532700e+06</td>\n",
       "      <td>NaN</td>\n",
       "      <td>NaN</td>\n",
       "      <td>NaN</td>\n",
       "      <td>0.058745</td>\n",
       "      <td>0.206680</td>\n",
       "      <td>17.427563</td>\n",
       "    </tr>\n",
       "    <tr>\n",
       "      <th>min</th>\n",
       "      <td>NaN</td>\n",
       "      <td>1.617845e+09</td>\n",
       "      <td>NaN</td>\n",
       "      <td>NaN</td>\n",
       "      <td>NaN</td>\n",
       "      <td>0.200000</td>\n",
       "      <td>0.000000</td>\n",
       "      <td>0.000000</td>\n",
       "    </tr>\n",
       "    <tr>\n",
       "      <th>25%</th>\n",
       "      <td>NaN</td>\n",
       "      <td>1.619545e+09</td>\n",
       "      <td>NaN</td>\n",
       "      <td>NaN</td>\n",
       "      <td>NaN</td>\n",
       "      <td>1.000000</td>\n",
       "      <td>1.000000</td>\n",
       "      <td>3.000000</td>\n",
       "    </tr>\n",
       "    <tr>\n",
       "      <th>50%</th>\n",
       "      <td>NaN</td>\n",
       "      <td>1.620770e+09</td>\n",
       "      <td>NaN</td>\n",
       "      <td>NaN</td>\n",
       "      <td>NaN</td>\n",
       "      <td>1.000000</td>\n",
       "      <td>1.000000</td>\n",
       "      <td>7.000000</td>\n",
       "    </tr>\n",
       "    <tr>\n",
       "      <th>75%</th>\n",
       "      <td>NaN</td>\n",
       "      <td>1.622145e+09</td>\n",
       "      <td>NaN</td>\n",
       "      <td>NaN</td>\n",
       "      <td>NaN</td>\n",
       "      <td>1.000000</td>\n",
       "      <td>1.000000</td>\n",
       "      <td>14.000000</td>\n",
       "    </tr>\n",
       "    <tr>\n",
       "      <th>max</th>\n",
       "      <td>NaN</td>\n",
       "      <td>1.623484e+09</td>\n",
       "      <td>NaN</td>\n",
       "      <td>NaN</td>\n",
       "      <td>NaN</td>\n",
       "      <td>1.000000</td>\n",
       "      <td>4.000000</td>\n",
       "      <td>202.000000</td>\n",
       "    </tr>\n",
       "  </tbody>\n",
       "</table>\n",
       "</div>"
      ],
      "text/plain": [
       "       subreddit   created_utc      id  title selftext  upvote_ratio  \\\n",
       "count       1497  1.497000e+03    1497   1497     1430   1497.000000   \n",
       "unique         1           NaN    1497   1494     1156           NaN   \n",
       "top       Costco           NaN  nikocv  PICKL                    NaN   \n",
       "freq        1497           NaN       1      2      272           NaN   \n",
       "mean         NaN  1.620813e+09     NaN    NaN      NaN      0.993246   \n",
       "std          NaN  1.532700e+06     NaN    NaN      NaN      0.058745   \n",
       "min          NaN  1.617845e+09     NaN    NaN      NaN      0.200000   \n",
       "25%          NaN  1.619545e+09     NaN    NaN      NaN      1.000000   \n",
       "50%          NaN  1.620770e+09     NaN    NaN      NaN      1.000000   \n",
       "75%          NaN  1.622145e+09     NaN    NaN      NaN      1.000000   \n",
       "max          NaN  1.623484e+09     NaN    NaN      NaN      1.000000   \n",
       "\n",
       "              score  num_comments  \n",
       "count   1497.000000   1497.000000  \n",
       "unique          NaN           NaN  \n",
       "top             NaN           NaN  \n",
       "freq            NaN           NaN  \n",
       "mean       1.008016     11.607214  \n",
       "std        0.206680     17.427563  \n",
       "min        0.000000      0.000000  \n",
       "25%        1.000000      3.000000  \n",
       "50%        1.000000      7.000000  \n",
       "75%        1.000000     14.000000  \n",
       "max        4.000000    202.000000  "
      ]
     },
     "execution_count": 25,
     "metadata": {},
     "output_type": "execute_result"
    }
   ],
   "source": [
    "df_costco.describe(include='all')"
   ]
  },
  {
   "cell_type": "markdown",
   "metadata": {},
   "source": [
    "### Comments:\n",
    "1. We can see from above description the max score is 4 for Costco posts, and max with 202 comments. \n",
    "- Compared with Walmart's Posts, people are more likely to comment on Costco posts.\n",
    "\n",
    "2. The top posts with title \"off coupon\" which We could roughly know people has high interests in the Costco Coupon and can apply to future purchases. I will do further data examination from the top words of what people talked about in Costco Posts."
   ]
  },
  {
   "cell_type": "markdown",
   "metadata": {},
   "source": [
    "### 4.1.2 Text content Cleaning on title & selftext"
   ]
  },
  {
   "cell_type": "code",
   "execution_count": 26,
   "metadata": {},
   "outputs": [],
   "source": [
    "# As I can see some emojis in the title and selftext, it needs to be removed\n",
    "def remove_emoji(text):\n",
    "    RE_EMOJI = re.compile(u'([\\U00002600-\\U000027BF])|([\\U0001f300-\\U0001f64F])|([\\U0001f680-\\U0001f6FF])')\n",
    "    return RE_EMOJI.sub(r'', text)"
   ]
  },
  {
   "cell_type": "code",
   "execution_count": 27,
   "metadata": {},
   "outputs": [],
   "source": [
    "# Create function to use Re library to do the text cleaning\n",
    "def content_cleaner(text):\n",
    "    \n",
    "    # Make lowercase\n",
    "    text = text.lower()\n",
    "    \n",
    "    # Remove non-letters\n",
    "    text = re.sub(\"[^a-zA-Z]\", \" \", text)\n",
    "    text = re.sub('\\w*\\d\\w', '', text) # any words with numbers\n",
    "\n",
    "    # Remove HTML special entities (e.g. &amp;)\n",
    "    text = re.sub(r'\\&\\w*;', '', text)\n",
    "    \n",
    "    # Remove title/posts content with default []\n",
    "    text = re.sub('\\[.*?\\]','', text)\n",
    "    \n",
    "    # Remove hyperlinks\n",
    "    #text = re.sub(r'https?:\\/\\/.*\\/\\w*', '', text)\n",
    "    text = re.sub(r'http\\S+', '', text)\n",
    "    \n",
    "    # Remove punctuation and split 's, 't, 've with a space for filter\n",
    "    # text = re.sub(r'[' + string.punctuation.replace('@', '') + ']+', ' ', text)\n",
    "    \n",
    "    text = re.sub('[%s]' % re.escape(string.punctuation),'', text)\n",
    "    \n",
    "    # Remove words with 2 or fewer letters\n",
    "    text = re.sub(r'\\b\\w{1,2}\\b', '', text)\n",
    "    \n",
    "    # Remove whitespace (including new line characters)\n",
    "    text = re.sub(r'\\s\\s+', ' ', text)\n",
    "    \n",
    "    # Remove emoji\n",
    "    text = remove_emoji(text)\n",
    "    \n",
    "    # Remove some additional punctuations and non-sensical text\n",
    "    text = re.sub('[''\"\"...]', '', text)\n",
    "    text = re.sub('\\n','',text)\n",
    "    \n",
    "    # Remove characters beyond Basic Multilingual Plane (BMP) of Unicode:\n",
    "    text = ''.join(w for w in text if w <= '\\uFFFF') \n",
    "    \n",
    "    return text"
   ]
  },
  {
   "cell_type": "code",
   "execution_count": 28,
   "metadata": {},
   "outputs": [],
   "source": [
    "# Apply cleaner function in Walmart & Costco post\n",
    "df_walmart['title']  = df_walmart['title'].astype(str)\n",
    "df_walmart['selftext'] = df_walmart['selftext'].astype(str)\n",
    "\n",
    "df_walmart['title'] = df_walmart['title'].apply(content_cleaner)\n",
    "df_walmart['selftext'] = df_walmart['selftext'].apply(content_cleaner)\n",
    "\n",
    "# Apply cleaner function in Costco post\n",
    "\n",
    "df_costco['title']  = df_costco['title'].astype(str)\n",
    "df_costco['selftext'] = df_costco['selftext'].astype(str)\n",
    "\n",
    "df_costco['title'] = df_costco['title'].apply(content_cleaner)\n",
    "df_costco['selftext'] = df_costco['selftext'].apply(content_cleaner)"
   ]
  },
  {
   "cell_type": "code",
   "execution_count": 29,
   "metadata": {},
   "outputs": [
    {
     "data": {
      "text/plain": [
       "(1497, 8)"
      ]
     },
     "execution_count": 29,
     "metadata": {},
     "output_type": "execute_result"
    }
   ],
   "source": [
    "df_costco.shape"
   ]
  },
  {
   "cell_type": "code",
   "execution_count": 30,
   "metadata": {},
   "outputs": [
    {
     "data": {
      "text/plain": [
       "(1490, 8)"
      ]
     },
     "execution_count": 30,
     "metadata": {},
     "output_type": "execute_result"
    }
   ],
   "source": [
    "df_walmart.shape"
   ]
  },
  {
   "cell_type": "markdown",
   "metadata": {},
   "source": [
    "### Comments:\n",
    "After above data cleaning steps, I get a total of 1490 Walmart posts & 1497 Costco posts for further Data Pre-processing."
   ]
  },
  {
   "cell_type": "markdown",
   "metadata": {},
   "source": [
    "## 4.2 Data Pre-processing"
   ]
  },
  {
   "cell_type": "markdown",
   "metadata": {},
   "source": [
    "A summary of pre-processing have been done on both 2 posts DataFrame:\n",
    "- <em> Converted post created date </em>: to be DateTime format for easy interpretation\n",
    "- <em> Merged \"title\" & \"selftext\" into new \"text\" column </em>\n",
    "- <em> Engineer new field-\"post_length\", \"title_length\" & \"self_length\" for number of words in each post </em>\n",
    "- <em> Mapped 0/1 to 2 types subreddits </em>\n",
    "- <em> Lemematization </em>\n",
    "- <em> Defined stopwords functions & Remove stopwords </em> \n",
    "\n",
    "Duplicated \n",
    "Some distributions also examined, after Data has been cleaned and pre-processed, 2 cleaned Datasets will be saved for future use: cleaned corpus & bag-of-words."
   ]
  },
  {
   "cell_type": "markdown",
   "metadata": {},
   "source": [
    "### 4.2.1 Convert post created date\n",
    "\n",
    "In the post field\"utc_time\" is the format of Epoch & Unix Timestamp, it's not a easy readable timestamp, and I will do the conversion to \"yyyy-mm-dd hh:mm:ss\" format."
   ]
  },
  {
   "cell_type": "code",
   "execution_count": 31,
   "metadata": {},
   "outputs": [
    {
     "data": {
      "text/plain": [
       "(1490, 1)"
      ]
     },
     "execution_count": 31,
     "metadata": {},
     "output_type": "execute_result"
    }
   ],
   "source": [
    "# Add convert the date from UTC interger to interpretable date\n",
    "\n",
    "# Handle the post created date for Walmart posts\n",
    "post_created_date = [datetime.datetime.fromtimestamp(utc_time) for utc_time in df_walmart['created_utc']]\n",
    "df_time= pd.DataFrame({'post_created_date':post_created_date})\n",
    "df_time.shape"
   ]
  },
  {
   "cell_type": "code",
   "execution_count": 32,
   "metadata": {},
   "outputs": [
    {
     "data": {
      "text/plain": [
       "(1490, 8)"
      ]
     },
     "execution_count": 32,
     "metadata": {},
     "output_type": "execute_result"
    }
   ],
   "source": [
    "df_walmart.shape"
   ]
  },
  {
   "cell_type": "code",
   "execution_count": 33,
   "metadata": {},
   "outputs": [
    {
     "data": {
      "text/html": [
       "<div>\n",
       "<style scoped>\n",
       "    .dataframe tbody tr th:only-of-type {\n",
       "        vertical-align: middle;\n",
       "    }\n",
       "\n",
       "    .dataframe tbody tr th {\n",
       "        vertical-align: top;\n",
       "    }\n",
       "\n",
       "    .dataframe thead th {\n",
       "        text-align: right;\n",
       "    }\n",
       "</style>\n",
       "<table border=\"1\" class=\"dataframe\">\n",
       "  <thead>\n",
       "    <tr style=\"text-align: right;\">\n",
       "      <th></th>\n",
       "      <th>post_created_date</th>\n",
       "      <th>created_utc</th>\n",
       "    </tr>\n",
       "  </thead>\n",
       "  <tbody>\n",
       "    <tr>\n",
       "      <th>0</th>\n",
       "      <td>2021-06-12 15:01:18</td>\n",
       "      <td>1623481278</td>\n",
       "    </tr>\n",
       "    <tr>\n",
       "      <th>1</th>\n",
       "      <td>2021-06-12 14:39:00</td>\n",
       "      <td>1623479940</td>\n",
       "    </tr>\n",
       "    <tr>\n",
       "      <th>2</th>\n",
       "      <td>2021-06-12 13:58:45</td>\n",
       "      <td>1623477525</td>\n",
       "    </tr>\n",
       "  </tbody>\n",
       "</table>\n",
       "</div>"
      ],
      "text/plain": [
       "    post_created_date  created_utc\n",
       "0 2021-06-12 15:01:18   1623481278\n",
       "1 2021-06-12 14:39:00   1623479940\n",
       "2 2021-06-12 13:58:45   1623477525"
      ]
     },
     "execution_count": 33,
     "metadata": {},
     "output_type": "execute_result"
    }
   ],
   "source": [
    "df_walmart['post_created_date'] = df_time['post_created_date']\n",
    "df_walmart[['post_created_date','created_utc']].head(3)"
   ]
  },
  {
   "cell_type": "code",
   "execution_count": 35,
   "metadata": {},
   "outputs": [
    {
     "name": "stdout",
     "output_type": "stream",
     "text": [
      "The Walmart posts are from 2021-05-29 01:59:22 to 2021-06-12 15:01:18\n"
     ]
    }
   ],
   "source": [
    "min_posts_datetime = df_walmart['post_created_date'].min()\n",
    "max_posts_datetime =df_walmart['post_created_date'].max()\n",
    "\n",
    "print (f'The Walmart posts are from {min_posts_datetime} to {max_posts_datetime}')"
   ]
  },
  {
   "cell_type": "code",
   "execution_count": 36,
   "metadata": {},
   "outputs": [
    {
     "data": {
      "text/plain": [
       "(1490, 9)"
      ]
     },
     "execution_count": 36,
     "metadata": {},
     "output_type": "execute_result"
    }
   ],
   "source": [
    " df_walmart.shape"
   ]
  },
  {
   "cell_type": "code",
   "execution_count": 38,
   "metadata": {},
   "outputs": [
    {
     "data": {
      "text/plain": [
       "(1497, 1)"
      ]
     },
     "execution_count": 38,
     "metadata": {},
     "output_type": "execute_result"
    }
   ],
   "source": [
    "# Handle the post created date for Costco posts\n",
    "post_created_date = [datetime.datetime.fromtimestamp(utc_time) for utc_time in df_costco['created_utc']]\n",
    "df_time= pd.DataFrame({'post_created_date':post_created_date})\n",
    "df_time.shape"
   ]
  },
  {
   "cell_type": "code",
   "execution_count": 39,
   "metadata": {},
   "outputs": [
    {
     "data": {
      "text/plain": [
       "(1497, 8)"
      ]
     },
     "execution_count": 39,
     "metadata": {},
     "output_type": "execute_result"
    }
   ],
   "source": [
    "df_costco.shape"
   ]
  },
  {
   "cell_type": "code",
   "execution_count": 40,
   "metadata": {},
   "outputs": [
    {
     "data": {
      "text/html": [
       "<div>\n",
       "<style scoped>\n",
       "    .dataframe tbody tr th:only-of-type {\n",
       "        vertical-align: middle;\n",
       "    }\n",
       "\n",
       "    .dataframe tbody tr th {\n",
       "        vertical-align: top;\n",
       "    }\n",
       "\n",
       "    .dataframe thead th {\n",
       "        text-align: right;\n",
       "    }\n",
       "</style>\n",
       "<table border=\"1\" class=\"dataframe\">\n",
       "  <thead>\n",
       "    <tr style=\"text-align: right;\">\n",
       "      <th></th>\n",
       "      <th>post_created_date</th>\n",
       "      <th>created_utc</th>\n",
       "    </tr>\n",
       "  </thead>\n",
       "  <tbody>\n",
       "    <tr>\n",
       "      <th>0</th>\n",
       "      <td>2021-06-12 15:47:26</td>\n",
       "      <td>1623484046</td>\n",
       "    </tr>\n",
       "    <tr>\n",
       "      <th>1</th>\n",
       "      <td>2021-06-12 11:20:09</td>\n",
       "      <td>1623468009</td>\n",
       "    </tr>\n",
       "    <tr>\n",
       "      <th>2</th>\n",
       "      <td>2021-06-12 11:07:44</td>\n",
       "      <td>1623467264</td>\n",
       "    </tr>\n",
       "  </tbody>\n",
       "</table>\n",
       "</div>"
      ],
      "text/plain": [
       "    post_created_date  created_utc\n",
       "0 2021-06-12 15:47:26   1623484046\n",
       "1 2021-06-12 11:20:09   1623468009\n",
       "2 2021-06-12 11:07:44   1623467264"
      ]
     },
     "execution_count": 40,
     "metadata": {},
     "output_type": "execute_result"
    }
   ],
   "source": [
    "df_costco['post_created_date'] = df_time['post_created_date']\n",
    "df_costco[['post_created_date','created_utc']].head(3)"
   ]
  },
  {
   "cell_type": "code",
   "execution_count": 41,
   "metadata": {},
   "outputs": [
    {
     "name": "stdout",
     "output_type": "stream",
     "text": [
      "The Costco posts are from 2021-04-08 09:23:11 to 2021-06-12 15:47:26\n"
     ]
    }
   ],
   "source": [
    "min_posts_datetime = df_costco['post_created_date'].min()\n",
    "max_posts_datetime =df_costco['post_created_date'].max()\n",
    "\n",
    "print (f'The Costco posts are from {min_posts_datetime} to {max_posts_datetime}')"
   ]
  },
  {
   "cell_type": "code",
   "execution_count": 42,
   "metadata": {},
   "outputs": [
    {
     "data": {
      "text/plain": [
       "(1490, 9)"
      ]
     },
     "execution_count": 42,
     "metadata": {},
     "output_type": "execute_result"
    }
   ],
   "source": [
    "df_walmart.shape"
   ]
  },
  {
   "cell_type": "markdown",
   "metadata": {},
   "source": [
    "#### Comments:\n",
    "\n",
    "A new column --\"post_created_date\" with datetime format has been added to both Walmart & Costco posts dataframe.\t"
   ]
  },
  {
   "cell_type": "markdown",
   "metadata": {},
   "source": [
    "### 4.2.2 Merge 2 Posts into 1 DataFrame and processing"
   ]
  },
  {
   "cell_type": "code",
   "execution_count": 43,
   "metadata": {},
   "outputs": [],
   "source": [
    "# Merge 2 posts into 1 DataFrame\n",
    "df = pd.concat([df_walmart, df_costco], ignore_index=True)"
   ]
  },
  {
   "cell_type": "markdown",
   "metadata": {},
   "source": [
    "#### 4.2.2.1 Combine \"title\" & \"selftext\" into 1 new column-\"text\""
   ]
  },
  {
   "cell_type": "code",
   "execution_count": 44,
   "metadata": {},
   "outputs": [],
   "source": [
    "df['text'] = df['title'] + \" \"+ df['selftext']\n",
    "df['text'] = df['text'].astype(str)"
   ]
  },
  {
   "cell_type": "code",
   "execution_count": 45,
   "metadata": {},
   "outputs": [],
   "source": [
    "# new column of posts text length\n",
    "df['text_length'] = df['text'].apply(len)\n",
    "\n",
    "# new column of words count for \"text\" column\n",
    "df['text_word_count'] = df['text'].map(lambda x: len(x.split()))"
   ]
  },
  {
   "cell_type": "code",
   "execution_count": 46,
   "metadata": {},
   "outputs": [],
   "source": [
    "# drop the text with short words\n",
    "index_names = df[df['text_word_count']<=2]\n",
    "df.drop(index_names.index, inplace = True)"
   ]
  },
  {
   "cell_type": "code",
   "execution_count": 47,
   "metadata": {},
   "outputs": [
    {
     "data": {
      "text/plain": [
       "(2899, 12)"
      ]
     },
     "execution_count": 47,
     "metadata": {},
     "output_type": "execute_result"
    }
   ],
   "source": [
    "df.shape"
   ]
  },
  {
   "cell_type": "markdown",
   "metadata": {},
   "source": [
    "### Comments:\n",
    "\n",
    "3 new columns have been created: (by merging \"title\" and \"selftext\" into text column)\n",
    "- text\n",
    "- text_length\n",
    "- text_word_count"
   ]
  },
  {
   "cell_type": "markdown",
   "metadata": {},
   "source": [
    "#### 4.2.2.2 Mapped 0/1 to 2 types subreddits"
   ]
  },
  {
   "cell_type": "code",
   "execution_count": 48,
   "metadata": {},
   "outputs": [],
   "source": [
    "# Changing subreddit to int 1 and 0\n",
    "df['subreddit_type'] = df['subreddit'].map({'walmart': 0, 'Costco': 1})"
   ]
  },
  {
   "cell_type": "code",
   "execution_count": 49,
   "metadata": {},
   "outputs": [
    {
     "data": {
      "text/html": [
       "<div>\n",
       "<style scoped>\n",
       "    .dataframe tbody tr th:only-of-type {\n",
       "        vertical-align: middle;\n",
       "    }\n",
       "\n",
       "    .dataframe tbody tr th {\n",
       "        vertical-align: top;\n",
       "    }\n",
       "\n",
       "    .dataframe thead th {\n",
       "        text-align: right;\n",
       "    }\n",
       "</style>\n",
       "<table border=\"1\" class=\"dataframe\">\n",
       "  <thead>\n",
       "    <tr style=\"text-align: right;\">\n",
       "      <th></th>\n",
       "      <th>subreddit</th>\n",
       "      <th>created_utc</th>\n",
       "      <th>id</th>\n",
       "      <th>title</th>\n",
       "      <th>selftext</th>\n",
       "      <th>upvote_ratio</th>\n",
       "      <th>score</th>\n",
       "      <th>num_comments</th>\n",
       "      <th>post_created_date</th>\n",
       "      <th>text</th>\n",
       "      <th>text_length</th>\n",
       "      <th>text_word_count</th>\n",
       "      <th>subreddit_type</th>\n",
       "    </tr>\n",
       "  </thead>\n",
       "  <tbody>\n",
       "    <tr>\n",
       "      <th>0</th>\n",
       "      <td>walmart</td>\n",
       "      <td>1623481278</td>\n",
       "      <td>ny0t2k</td>\n",
       "      <td>the whole meat wall one night</td>\n",
       "      <td>that even possible</td>\n",
       "      <td>1.0</td>\n",
       "      <td>1</td>\n",
       "      <td>15</td>\n",
       "      <td>2021-06-12 15:01:18</td>\n",
       "      <td>the whole meat wall one night   that even poss...</td>\n",
       "      <td>51</td>\n",
       "      <td>9</td>\n",
       "      <td>0</td>\n",
       "    </tr>\n",
       "    <tr>\n",
       "      <th>2</th>\n",
       "      <td>walmart</td>\n",
       "      <td>1623477525</td>\n",
       "      <td>nxzwvb</td>\n",
       "      <td>cap overnight team leads</td>\n",
       "      <td>due unforseen circumstances was not able apply...</td>\n",
       "      <td>1.0</td>\n",
       "      <td>1</td>\n",
       "      <td>14</td>\n",
       "      <td>2021-06-12 13:58:45</td>\n",
       "      <td>cap overnight team leads due unforseen circums...</td>\n",
       "      <td>494</td>\n",
       "      <td>82</td>\n",
       "      <td>0</td>\n",
       "    </tr>\n",
       "    <tr>\n",
       "      <th>3</th>\n",
       "      <td>walmart</td>\n",
       "      <td>1623476491</td>\n",
       "      <td>nxzndf</td>\n",
       "      <td>finally promoted myself customer</td>\n",
       "      <td>this going long one buckle first just wanna sa...</td>\n",
       "      <td>1.0</td>\n",
       "      <td>1</td>\n",
       "      <td>9</td>\n",
       "      <td>2021-06-12 13:41:31</td>\n",
       "      <td>finally promoted myself customer this going lo...</td>\n",
       "      <td>2478</td>\n",
       "      <td>431</td>\n",
       "      <td>0</td>\n",
       "    </tr>\n",
       "  </tbody>\n",
       "</table>\n",
       "</div>"
      ],
      "text/plain": [
       "  subreddit  created_utc      id                             title  \\\n",
       "0   walmart   1623481278  ny0t2k    the whole meat wall one night    \n",
       "2   walmart   1623477525  nxzwvb          cap overnight team leads   \n",
       "3   walmart   1623476491  nxzndf  finally promoted myself customer   \n",
       "\n",
       "                                            selftext  upvote_ratio  score  \\\n",
       "0                                that even possible            1.0      1   \n",
       "2  due unforseen circumstances was not able apply...           1.0      1   \n",
       "3  this going long one buckle first just wanna sa...           1.0      1   \n",
       "\n",
       "   num_comments   post_created_date  \\\n",
       "0            15 2021-06-12 15:01:18   \n",
       "2            14 2021-06-12 13:58:45   \n",
       "3             9 2021-06-12 13:41:31   \n",
       "\n",
       "                                                text  text_length  \\\n",
       "0  the whole meat wall one night   that even poss...           51   \n",
       "2  cap overnight team leads due unforseen circums...          494   \n",
       "3  finally promoted myself customer this going lo...         2478   \n",
       "\n",
       "   text_word_count  subreddit_type  \n",
       "0                9               0  \n",
       "2               82               0  \n",
       "3              431               0  "
      ]
     },
     "execution_count": 49,
     "metadata": {},
     "output_type": "execute_result"
    }
   ],
   "source": [
    "df.head(3)"
   ]
  },
  {
   "cell_type": "code",
   "execution_count": 50,
   "metadata": {},
   "outputs": [
    {
     "data": {
      "text/plain": [
       "(2899, 13)"
      ]
     },
     "execution_count": 50,
     "metadata": {},
     "output_type": "execute_result"
    }
   ],
   "source": [
    "df.shape"
   ]
  },
  {
   "cell_type": "markdown",
   "metadata": {},
   "source": [
    "### 4.2.3 Lemmatization\n",
    "\n",
    "By doing stemming and lemmatization will help to reduce inflectional forms and sometimes derivationally related forms of a word to a common base form.\n",
    "\n",
    "Compared with stemming, I will apply lemmatization instead as it's better than stemming. \n",
    "\n",
    "Stemming algorithm works by cutting the suffix from the word. In a broader sense cuts either the beginning or end of the word.\n",
    "\n",
    "On the contrary, Lemmatization is a more powerful operation, and it takes into consideration morphological analysis of the words. It returns the lemma which is the base form of all its inflectional forms. In-depth linguistic knowledge is required to create dictionaries and look for the proper form of the word. Stemming is a general operation while lemmatization is an intelligent operation where the proper form will be looked in the dictionary. Hence, lemmatization helps in forming better machine learning features."
   ]
  },
  {
   "cell_type": "code",
   "execution_count": 51,
   "metadata": {},
   "outputs": [],
   "source": [
    "# I have chosen to use lemmatizer over porter stemmer because \n",
    "# Lemmatization, takes into consideration the morphological analysis of the words.\n",
    "lemmatizer = WordNetLemmatizer()"
   ]
  },
  {
   "cell_type": "code",
   "execution_count": 53,
   "metadata": {},
   "outputs": [],
   "source": [
    "def lemmatize_words(text):\n",
    "    words = text.split()\n",
    "    lemma_words = ''\n",
    "    for word in words:\n",
    "        lemma_words += (lemmatizer.lemmatize(word) + ' ')\n",
    "        \n",
    "    return lemma_words"
   ]
  },
  {
   "cell_type": "code",
   "execution_count": 54,
   "metadata": {},
   "outputs": [],
   "source": [
    "df['text'] = df['text'].apply(lemmatize_words)"
   ]
  },
  {
   "cell_type": "code",
   "execution_count": 55,
   "metadata": {},
   "outputs": [
    {
     "data": {
      "text/plain": [
       "'the whole meat wall one night that even possible '"
      ]
     },
     "execution_count": 55,
     "metadata": {},
     "output_type": "execute_result"
    }
   ],
   "source": [
    "df['text'][0]"
   ]
  },
  {
   "cell_type": "markdown",
   "metadata": {},
   "source": [
    "### 4.2.4 Final clenning and Save cleaned corpus"
   ]
  },
  {
   "cell_type": "markdown",
   "metadata": {},
   "source": [
    "Check again on the duplicated \"text\" posts also handle the outliers."
   ]
  },
  {
   "cell_type": "code",
   "execution_count": 56,
   "metadata": {},
   "outputs": [
    {
     "data": {
      "text/plain": [
       "(2899, 13)"
      ]
     },
     "execution_count": 56,
     "metadata": {},
     "output_type": "execute_result"
    }
   ],
   "source": [
    "df.shape"
   ]
  },
  {
   "cell_type": "code",
   "execution_count": 57,
   "metadata": {},
   "outputs": [
    {
     "data": {
      "text/plain": [
       "walmart    2\n",
       "Name: subreddit, dtype: int64"
      ]
     },
     "execution_count": 57,
     "metadata": {},
     "output_type": "execute_result"
    }
   ],
   "source": [
    "# check & remove duplicated \"text\" column \n",
    "index_names=df[df.duplicated(subset='text')]\n",
    "index_names['subreddit'].value_counts()"
   ]
  },
  {
   "cell_type": "code",
   "execution_count": 58,
   "metadata": {},
   "outputs": [],
   "source": [
    "df.drop(index_names.index, inplace = True)"
   ]
  },
  {
   "cell_type": "code",
   "execution_count": 59,
   "metadata": {},
   "outputs": [
    {
     "data": {
      "text/plain": [
       "(2897, 13)"
      ]
     },
     "execution_count": 59,
     "metadata": {},
     "output_type": "execute_result"
    }
   ],
   "source": [
    "df.shape"
   ]
  },
  {
   "cell_type": "markdown",
   "metadata": {},
   "source": [
    "#### Comments:\n",
    "\n",
    "I have removed the duplicated posts- 2 duplicated \"text\" in Walmart's posts, and get in total 2892 posts."
   ]
  },
  {
   "cell_type": "code",
   "execution_count": 60,
   "metadata": {},
   "outputs": [
    {
     "name": "stderr",
     "output_type": "stream",
     "text": [
      "C:\\Users\\liubin\\Anaconda3\\lib\\site-packages\\seaborn\\distributions.py:2551: FutureWarning: `distplot` is a deprecated function and will be removed in a future version. Please adapt your code to use either `displot` (a figure-level function with similar flexibility) or `histplot` (an axes-level function for histograms).\n",
      "  warnings.warn(msg, FutureWarning)\n"
     ]
    },
    {
     "data": {
      "text/plain": [
       "<AxesSubplot:title={'center':'Text Length Distribution Plot'}, xlabel='text_word_count', ylabel='Frequency'>"
      ]
     },
     "execution_count": 60,
     "metadata": {},
     "output_type": "execute_result"
    },
    {
     "data": {
      "image/png": "[encoded data removed]",
      "text/plain": [
       "<Figure size 576x432 with 1 Axes>"
      ]
     },
     "metadata": {
      "needs_background": "light"
     },
     "output_type": "display_data"
    }
   ],
   "source": [
    "plt.figure(figsize=(8,6))\n",
    "plt.title('Text Length Distribution Plot')\n",
    "plt.ylabel('Frequency')\n",
    "sns.distplot(df['text_word_count'])"
   ]
  },
  {
   "cell_type": "markdown",
   "metadata": {},
   "source": [
    "### Comments:\n",
    "\n",
    "- The majority posts are with less than 400 words, and seems there are some outliers.\n",
    "- It's not normally distributed and it is right skewed. "
   ]
  },
  {
   "cell_type": "code",
   "execution_count": 61,
   "metadata": {},
   "outputs": [
    {
     "data": {
      "text/plain": [
       "walmart    10\n",
       "Costco      6\n",
       "Name: subreddit, dtype: int64"
      ]
     },
     "execution_count": 61,
     "metadata": {},
     "output_type": "execute_result"
    }
   ],
   "source": [
    "df[df['text_word_count']>400]['subreddit'].value_counts()"
   ]
  },
  {
   "cell_type": "code",
   "execution_count": 62,
   "metadata": {},
   "outputs": [],
   "source": [
    "df.drop(df[df['text_word_count']>400].index, axis=0, inplace=True)"
   ]
  },
  {
   "cell_type": "code",
   "execution_count": 63,
   "metadata": {},
   "outputs": [
    {
     "data": {
      "text/html": [
       "<div>\n",
       "<style scoped>\n",
       "    .dataframe tbody tr th:only-of-type {\n",
       "        vertical-align: middle;\n",
       "    }\n",
       "\n",
       "    .dataframe tbody tr th {\n",
       "        vertical-align: top;\n",
       "    }\n",
       "\n",
       "    .dataframe thead th {\n",
       "        text-align: right;\n",
       "    }\n",
       "</style>\n",
       "<table border=\"1\" class=\"dataframe\">\n",
       "  <thead>\n",
       "    <tr style=\"text-align: right;\">\n",
       "      <th></th>\n",
       "      <th>subreddit</th>\n",
       "      <th>created_utc</th>\n",
       "      <th>id</th>\n",
       "      <th>title</th>\n",
       "      <th>selftext</th>\n",
       "      <th>upvote_ratio</th>\n",
       "      <th>score</th>\n",
       "      <th>num_comments</th>\n",
       "      <th>post_created_date</th>\n",
       "      <th>text</th>\n",
       "      <th>text_length</th>\n",
       "      <th>text_word_count</th>\n",
       "      <th>subreddit_type</th>\n",
       "    </tr>\n",
       "  </thead>\n",
       "  <tbody>\n",
       "    <tr>\n",
       "      <th>0</th>\n",
       "      <td>walmart</td>\n",
       "      <td>1623481278</td>\n",
       "      <td>ny0t2k</td>\n",
       "      <td>the whole meat wall one night</td>\n",
       "      <td>that even possible</td>\n",
       "      <td>1.0</td>\n",
       "      <td>1</td>\n",
       "      <td>15</td>\n",
       "      <td>2021-06-12 15:01:18</td>\n",
       "      <td>the whole meat wall one night that even possible</td>\n",
       "      <td>51</td>\n",
       "      <td>9</td>\n",
       "      <td>0</td>\n",
       "    </tr>\n",
       "    <tr>\n",
       "      <th>1</th>\n",
       "      <td>walmart</td>\n",
       "      <td>1623477525</td>\n",
       "      <td>nxzwvb</td>\n",
       "      <td>cap overnight team leads</td>\n",
       "      <td>due unforseen circumstances was not able apply...</td>\n",
       "      <td>1.0</td>\n",
       "      <td>1</td>\n",
       "      <td>14</td>\n",
       "      <td>2021-06-12 13:58:45</td>\n",
       "      <td>cap overnight team lead due unforseen circumst...</td>\n",
       "      <td>494</td>\n",
       "      <td>82</td>\n",
       "      <td>0</td>\n",
       "    </tr>\n",
       "    <tr>\n",
       "      <th>2</th>\n",
       "      <td>walmart</td>\n",
       "      <td>1623476227</td>\n",
       "      <td>nxzkvz</td>\n",
       "      <td>pointing out after putting your two week notice</td>\n",
       "      <td>submitted week notice yesterday and points so...</td>\n",
       "      <td>1.0</td>\n",
       "      <td>1</td>\n",
       "      <td>11</td>\n",
       "      <td>2021-06-12 13:37:07</td>\n",
       "      <td>pointing out after putting your two week notic...</td>\n",
       "      <td>233</td>\n",
       "      <td>36</td>\n",
       "      <td>0</td>\n",
       "    </tr>\n",
       "    <tr>\n",
       "      <th>3</th>\n",
       "      <td>walmart</td>\n",
       "      <td>1623476044</td>\n",
       "      <td>nxzj9q</td>\n",
       "      <td>they drug test</td>\n",
       "      <td>just got job local walmart truck unloader but...</td>\n",
       "      <td>1.0</td>\n",
       "      <td>1</td>\n",
       "      <td>8</td>\n",
       "      <td>2021-06-12 13:34:04</td>\n",
       "      <td>they drug test just got job local walmart truc...</td>\n",
       "      <td>88</td>\n",
       "      <td>16</td>\n",
       "      <td>0</td>\n",
       "    </tr>\n",
       "    <tr>\n",
       "      <th>4</th>\n",
       "      <td>walmart</td>\n",
       "      <td>1623475101</td>\n",
       "      <td>nxzalp</td>\n",
       "      <td>there way limit hours availability online</td>\n",
       "      <td>basically they scheduled for hours part time e...</td>\n",
       "      <td>1.0</td>\n",
       "      <td>1</td>\n",
       "      <td>7</td>\n",
       "      <td>2021-06-12 13:18:21</td>\n",
       "      <td>there way limit hour availability online basic...</td>\n",
       "      <td>256</td>\n",
       "      <td>41</td>\n",
       "      <td>0</td>\n",
       "    </tr>\n",
       "    <tr>\n",
       "      <th>...</th>\n",
       "      <td>...</td>\n",
       "      <td>...</td>\n",
       "      <td>...</td>\n",
       "      <td>...</td>\n",
       "      <td>...</td>\n",
       "      <td>...</td>\n",
       "      <td>...</td>\n",
       "      <td>...</td>\n",
       "      <td>...</td>\n",
       "      <td>...</td>\n",
       "      <td>...</td>\n",
       "      <td>...</td>\n",
       "      <td>...</td>\n",
       "    </tr>\n",
       "    <tr>\n",
       "      <th>2876</th>\n",
       "      <td>Costco</td>\n",
       "      <td>1617849316</td>\n",
       "      <td>mmi424</td>\n",
       "      <td>you could make one food item available your l...</td>\n",
       "      <td>doesn necessarily have discontinued previous m...</td>\n",
       "      <td>1.0</td>\n",
       "      <td>1</td>\n",
       "      <td>80</td>\n",
       "      <td>2021-04-08 10:35:16</td>\n",
       "      <td>you could make one food item available your lo...</td>\n",
       "      <td>191</td>\n",
       "      <td>30</td>\n",
       "      <td>1</td>\n",
       "    </tr>\n",
       "    <tr>\n",
       "      <th>2877</th>\n",
       "      <td>Costco</td>\n",
       "      <td>1617848898</td>\n",
       "      <td>mmhzp4</td>\n",
       "      <td>help for covid shots</td>\n",
       "      <td>wondering this happening company wide but are ...</td>\n",
       "      <td>1.0</td>\n",
       "      <td>1</td>\n",
       "      <td>1</td>\n",
       "      <td>2021-04-08 10:28:18</td>\n",
       "      <td>help for covid shot wondering this happening c...</td>\n",
       "      <td>839</td>\n",
       "      <td>138</td>\n",
       "      <td>1</td>\n",
       "    </tr>\n",
       "    <tr>\n",
       "      <th>2878</th>\n",
       "      <td>Costco</td>\n",
       "      <td>1617847365</td>\n",
       "      <td>mmhjg1</td>\n",
       "      <td>nutrition facts for meat</td>\n",
       "      <td>this might weird question but does anyone know...</td>\n",
       "      <td>1.0</td>\n",
       "      <td>1</td>\n",
       "      <td>5</td>\n",
       "      <td>2021-04-08 10:02:45</td>\n",
       "      <td>nutrition fact for meat this might weird quest...</td>\n",
       "      <td>457</td>\n",
       "      <td>75</td>\n",
       "      <td>1</td>\n",
       "    </tr>\n",
       "    <tr>\n",
       "      <th>2879</th>\n",
       "      <td>Costco</td>\n",
       "      <td>1617845175</td>\n",
       "      <td>mmgwpz</td>\n",
       "      <td>does anyone know they ever bringing back the c...</td>\n",
       "      <td>they brought back the churro and the seating d...</td>\n",
       "      <td>1.0</td>\n",
       "      <td>1</td>\n",
       "      <td>20</td>\n",
       "      <td>2021-04-08 09:26:15</td>\n",
       "      <td>doe anyone know they ever bringing back the co...</td>\n",
       "      <td>204</td>\n",
       "      <td>35</td>\n",
       "      <td>1</td>\n",
       "    </tr>\n",
       "    <tr>\n",
       "      <th>2880</th>\n",
       "      <td>Costco</td>\n",
       "      <td>1617844991</td>\n",
       "      <td>mmguqs</td>\n",
       "      <td>buying furniture</td>\n",
       "      <td>been member costco ever since moved love thei...</td>\n",
       "      <td>1.0</td>\n",
       "      <td>1</td>\n",
       "      <td>11</td>\n",
       "      <td>2021-04-08 09:23:11</td>\n",
       "      <td>buying furniture been member costco ever since...</td>\n",
       "      <td>392</td>\n",
       "      <td>61</td>\n",
       "      <td>1</td>\n",
       "    </tr>\n",
       "  </tbody>\n",
       "</table>\n",
       "<p>2881 rows × 13 columns</p>\n",
       "</div>"
      ],
      "text/plain": [
       "     subreddit  created_utc      id  \\\n",
       "0      walmart   1623481278  ny0t2k   \n",
       "1      walmart   1623477525  nxzwvb   \n",
       "2      walmart   1623476227  nxzkvz   \n",
       "3      walmart   1623476044  nxzj9q   \n",
       "4      walmart   1623475101  nxzalp   \n",
       "...        ...          ...     ...   \n",
       "2876    Costco   1617849316  mmi424   \n",
       "2877    Costco   1617848898  mmhzp4   \n",
       "2878    Costco   1617847365  mmhjg1   \n",
       "2879    Costco   1617845175  mmgwpz   \n",
       "2880    Costco   1617844991  mmguqs   \n",
       "\n",
       "                                                  title  \\\n",
       "0                        the whole meat wall one night    \n",
       "1                              cap overnight team leads   \n",
       "2      pointing out after putting your two week notice    \n",
       "3                                       they drug test    \n",
       "4            there way limit hours availability online    \n",
       "...                                                 ...   \n",
       "2876   you could make one food item available your l...   \n",
       "2877                               help for covid shots   \n",
       "2878                           nutrition facts for meat   \n",
       "2879  does anyone know they ever bringing back the c...   \n",
       "2880                                   buying furniture   \n",
       "\n",
       "                                               selftext  upvote_ratio  score  \\\n",
       "0                                   that even possible            1.0      1   \n",
       "1     due unforseen circumstances was not able apply...           1.0      1   \n",
       "2      submitted week notice yesterday and points so...           1.0      1   \n",
       "3      just got job local walmart truck unloader but...           1.0      1   \n",
       "4     basically they scheduled for hours part time e...           1.0      1   \n",
       "...                                                 ...           ...    ...   \n",
       "2876  doesn necessarily have discontinued previous m...           1.0      1   \n",
       "2877  wondering this happening company wide but are ...           1.0      1   \n",
       "2878  this might weird question but does anyone know...           1.0      1   \n",
       "2879  they brought back the churro and the seating d...           1.0      1   \n",
       "2880   been member costco ever since moved love thei...           1.0      1   \n",
       "\n",
       "      num_comments   post_created_date  \\\n",
       "0               15 2021-06-12 15:01:18   \n",
       "1               14 2021-06-12 13:58:45   \n",
       "2               11 2021-06-12 13:37:07   \n",
       "3                8 2021-06-12 13:34:04   \n",
       "4                7 2021-06-12 13:18:21   \n",
       "...            ...                 ...   \n",
       "2876            80 2021-04-08 10:35:16   \n",
       "2877             1 2021-04-08 10:28:18   \n",
       "2878             5 2021-04-08 10:02:45   \n",
       "2879            20 2021-04-08 09:26:15   \n",
       "2880            11 2021-04-08 09:23:11   \n",
       "\n",
       "                                                   text  text_length  \\\n",
       "0     the whole meat wall one night that even possible            51   \n",
       "1     cap overnight team lead due unforseen circumst...          494   \n",
       "2     pointing out after putting your two week notic...          233   \n",
       "3     they drug test just got job local walmart truc...           88   \n",
       "4     there way limit hour availability online basic...          256   \n",
       "...                                                 ...          ...   \n",
       "2876  you could make one food item available your lo...          191   \n",
       "2877  help for covid shot wondering this happening c...          839   \n",
       "2878  nutrition fact for meat this might weird quest...          457   \n",
       "2879  doe anyone know they ever bringing back the co...          204   \n",
       "2880  buying furniture been member costco ever since...          392   \n",
       "\n",
       "      text_word_count  subreddit_type  \n",
       "0                   9               0  \n",
       "1                  82               0  \n",
       "2                  36               0  \n",
       "3                  16               0  \n",
       "4                  41               0  \n",
       "...               ...             ...  \n",
       "2876               30               1  \n",
       "2877              138               1  \n",
       "2878               75               1  \n",
       "2879               35               1  \n",
       "2880               61               1  \n",
       "\n",
       "[2881 rows x 13 columns]"
      ]
     },
     "execution_count": 63,
     "metadata": {},
     "output_type": "execute_result"
    }
   ],
   "source": [
    "# reset index after dropping outliers & duplicated text posts\n",
    "df.reset_index(drop=True)"
   ]
  },
  {
   "cell_type": "code",
   "execution_count": 64,
   "metadata": {},
   "outputs": [
    {
     "data": {
      "text/plain": [
       "(2881, 13)"
      ]
     },
     "execution_count": 64,
     "metadata": {},
     "output_type": "execute_result"
    }
   ],
   "source": [
    "df.shape"
   ]
  },
  {
   "cell_type": "markdown",
   "metadata": {},
   "source": [
    "### Comments:\n",
    "\n",
    "There are in total 16 posts are outliers with more than 400 words which 10 are Walmart posts and the other 6 are Costco posts. I've removed the 16 outlier posts.\n",
    "\n",
    "After removing the outliers & duplicated text posts, I have total 2881 posts for the 2 subreddits."
   ]
  },
  {
   "cell_type": "code",
   "execution_count": 65,
   "metadata": {},
   "outputs": [
    {
     "data": {
      "text/plain": [
       "Costco     0.50538\n",
       "walmart    0.49462\n",
       "Name: subreddit, dtype: float64"
      ]
     },
     "execution_count": 65,
     "metadata": {},
     "output_type": "execute_result"
    }
   ],
   "source": [
    "df['subreddit'].value_counts(normalize = True)"
   ]
  },
  {
   "cell_type": "markdown",
   "metadata": {},
   "source": [
    "#### Comments:\n",
    "\n",
    "There are almost some porportion posts from Walmart subreddit and Costco subreddit in cleaned corpus."
   ]
  },
  {
   "cell_type": "code",
   "execution_count": 66,
   "metadata": {},
   "outputs": [
    {
     "data": {
      "text/plain": [
       "Index(['subreddit', 'created_utc', 'id', 'title', 'selftext', 'upvote_ratio',\n",
       "       'score', 'num_comments', 'post_created_date', 'text', 'text_length',\n",
       "       'text_word_count', 'subreddit_type'],\n",
       "      dtype='object')"
      ]
     },
     "execution_count": 66,
     "metadata": {},
     "output_type": "execute_result"
    }
   ],
   "source": [
    "df.columns"
   ]
  },
  {
   "cell_type": "code",
   "execution_count": 67,
   "metadata": {},
   "outputs": [
    {
     "name": "stdout",
     "output_type": "stream",
     "text": [
      "<class 'pandas.core.frame.DataFrame'>\n",
      "Int64Index: 2881 entries, 0 to 2986\n",
      "Data columns (total 13 columns):\n",
      " #   Column             Non-Null Count  Dtype         \n",
      "---  ------             --------------  -----         \n",
      " 0   subreddit          2881 non-null   object        \n",
      " 1   created_utc        2881 non-null   int64         \n",
      " 2   id                 2881 non-null   object        \n",
      " 3   title              2881 non-null   object        \n",
      " 4   selftext           2881 non-null   object        \n",
      " 5   upvote_ratio       2881 non-null   float64       \n",
      " 6   score              2881 non-null   int64         \n",
      " 7   num_comments       2881 non-null   int64         \n",
      " 8   post_created_date  2881 non-null   datetime64[ns]\n",
      " 9   text               2881 non-null   object        \n",
      " 10  text_length        2881 non-null   int64         \n",
      " 11  text_word_count    2881 non-null   int64         \n",
      " 12  subreddit_type     2881 non-null   int64         \n",
      "dtypes: datetime64[ns](1), float64(1), int64(6), object(5)\n",
      "memory usage: 315.1+ KB\n"
     ]
    }
   ],
   "source": [
    "df.info()"
   ]
  },
  {
   "cell_type": "code",
   "execution_count": 68,
   "metadata": {},
   "outputs": [
    {
     "name": "stderr",
     "output_type": "stream",
     "text": [
      "<ipython-input-68-e4fb93151184>:1: FutureWarning: Treating datetime data as categorical rather than numeric in `.describe` is deprecated and will be removed in a future version of pandas. Specify `datetime_is_numeric=True` to silence this warning and adopt the future behavior now.\n",
      "  df.describe(include= 'all')\n"
     ]
    },
    {
     "data": {
      "text/html": [
       "<div>\n",
       "<style scoped>\n",
       "    .dataframe tbody tr th:only-of-type {\n",
       "        vertical-align: middle;\n",
       "    }\n",
       "\n",
       "    .dataframe tbody tr th {\n",
       "        vertical-align: top;\n",
       "    }\n",
       "\n",
       "    .dataframe thead th {\n",
       "        text-align: right;\n",
       "    }\n",
       "</style>\n",
       "<table border=\"1\" class=\"dataframe\">\n",
       "  <thead>\n",
       "    <tr style=\"text-align: right;\">\n",
       "      <th></th>\n",
       "      <th>subreddit</th>\n",
       "      <th>created_utc</th>\n",
       "      <th>id</th>\n",
       "      <th>title</th>\n",
       "      <th>selftext</th>\n",
       "      <th>upvote_ratio</th>\n",
       "      <th>score</th>\n",
       "      <th>num_comments</th>\n",
       "      <th>post_created_date</th>\n",
       "      <th>text</th>\n",
       "      <th>text_length</th>\n",
       "      <th>text_word_count</th>\n",
       "      <th>subreddit_type</th>\n",
       "    </tr>\n",
       "  </thead>\n",
       "  <tbody>\n",
       "    <tr>\n",
       "      <th>count</th>\n",
       "      <td>2881</td>\n",
       "      <td>2.881000e+03</td>\n",
       "      <td>2881</td>\n",
       "      <td>2881</td>\n",
       "      <td>2881</td>\n",
       "      <td>2881.000000</td>\n",
       "      <td>2881.000000</td>\n",
       "      <td>2881.000000</td>\n",
       "      <td>2881</td>\n",
       "      <td>2881</td>\n",
       "      <td>2881.000000</td>\n",
       "      <td>2881.000000</td>\n",
       "      <td>2881.000000</td>\n",
       "    </tr>\n",
       "    <tr>\n",
       "      <th>unique</th>\n",
       "      <td>2</td>\n",
       "      <td>NaN</td>\n",
       "      <td>2881</td>\n",
       "      <td>2820</td>\n",
       "      <td>2323</td>\n",
       "      <td>NaN</td>\n",
       "      <td>NaN</td>\n",
       "      <td>NaN</td>\n",
       "      <td>2877</td>\n",
       "      <td>2881</td>\n",
       "      <td>NaN</td>\n",
       "      <td>NaN</td>\n",
       "      <td>NaN</td>\n",
       "    </tr>\n",
       "    <tr>\n",
       "      <th>top</th>\n",
       "      <td>Costco</td>\n",
       "      <td>NaN</td>\n",
       "      <td>nr4fi1</td>\n",
       "      <td>question</td>\n",
       "      <td></td>\n",
       "      <td>NaN</td>\n",
       "      <td>NaN</td>\n",
       "      <td>NaN</td>\n",
       "      <td>2021-06-08 21:43:09</td>\n",
       "      <td>mohawk vinyl plank the vinyl plank were taken ...</td>\n",
       "      <td>NaN</td>\n",
       "      <td>NaN</td>\n",
       "      <td>NaN</td>\n",
       "    </tr>\n",
       "    <tr>\n",
       "      <th>freq</th>\n",
       "      <td>1456</td>\n",
       "      <td>NaN</td>\n",
       "      <td>1</td>\n",
       "      <td>7</td>\n",
       "      <td>332</td>\n",
       "      <td>NaN</td>\n",
       "      <td>NaN</td>\n",
       "      <td>NaN</td>\n",
       "      <td>2</td>\n",
       "      <td>1</td>\n",
       "      <td>NaN</td>\n",
       "      <td>NaN</td>\n",
       "      <td>NaN</td>\n",
       "    </tr>\n",
       "    <tr>\n",
       "      <th>first</th>\n",
       "      <td>NaN</td>\n",
       "      <td>NaN</td>\n",
       "      <td>NaN</td>\n",
       "      <td>NaN</td>\n",
       "      <td>NaN</td>\n",
       "      <td>NaN</td>\n",
       "      <td>NaN</td>\n",
       "      <td>NaN</td>\n",
       "      <td>2021-04-08 09:23:11</td>\n",
       "      <td>NaN</td>\n",
       "      <td>NaN</td>\n",
       "      <td>NaN</td>\n",
       "      <td>NaN</td>\n",
       "    </tr>\n",
       "    <tr>\n",
       "      <th>last</th>\n",
       "      <td>NaN</td>\n",
       "      <td>NaN</td>\n",
       "      <td>NaN</td>\n",
       "      <td>NaN</td>\n",
       "      <td>NaN</td>\n",
       "      <td>NaN</td>\n",
       "      <td>NaN</td>\n",
       "      <td>NaN</td>\n",
       "      <td>2021-06-12 15:47:26</td>\n",
       "      <td>NaN</td>\n",
       "      <td>NaN</td>\n",
       "      <td>NaN</td>\n",
       "      <td>NaN</td>\n",
       "    </tr>\n",
       "    <tr>\n",
       "      <th>mean</th>\n",
       "      <td>NaN</td>\n",
       "      <td>1.621830e+09</td>\n",
       "      <td>NaN</td>\n",
       "      <td>NaN</td>\n",
       "      <td>NaN</td>\n",
       "      <td>0.986234</td>\n",
       "      <td>1.014578</td>\n",
       "      <td>10.864283</td>\n",
       "      <td>NaN</td>\n",
       "      <td>NaN</td>\n",
       "      <td>293.752864</td>\n",
       "      <td>49.248872</td>\n",
       "      <td>0.505380</td>\n",
       "    </tr>\n",
       "    <tr>\n",
       "      <th>std</th>\n",
       "      <td>NaN</td>\n",
       "      <td>1.517544e+06</td>\n",
       "      <td>NaN</td>\n",
       "      <td>NaN</td>\n",
       "      <td>NaN</td>\n",
       "      <td>0.085794</td>\n",
       "      <td>0.309226</td>\n",
       "      <td>14.677103</td>\n",
       "      <td>NaN</td>\n",
       "      <td>NaN</td>\n",
       "      <td>292.962806</td>\n",
       "      <td>49.616301</td>\n",
       "      <td>0.500058</td>\n",
       "    </tr>\n",
       "    <tr>\n",
       "      <th>min</th>\n",
       "      <td>NaN</td>\n",
       "      <td>1.617845e+09</td>\n",
       "      <td>NaN</td>\n",
       "      <td>NaN</td>\n",
       "      <td>NaN</td>\n",
       "      <td>0.140000</td>\n",
       "      <td>0.000000</td>\n",
       "      <td>0.000000</td>\n",
       "      <td>NaN</td>\n",
       "      <td>NaN</td>\n",
       "      <td>14.000000</td>\n",
       "      <td>3.000000</td>\n",
       "      <td>0.000000</td>\n",
       "    </tr>\n",
       "    <tr>\n",
       "      <th>25%</th>\n",
       "      <td>NaN</td>\n",
       "      <td>1.620745e+09</td>\n",
       "      <td>NaN</td>\n",
       "      <td>NaN</td>\n",
       "      <td>NaN</td>\n",
       "      <td>1.000000</td>\n",
       "      <td>1.000000</td>\n",
       "      <td>3.000000</td>\n",
       "      <td>NaN</td>\n",
       "      <td>NaN</td>\n",
       "      <td>106.000000</td>\n",
       "      <td>18.000000</td>\n",
       "      <td>0.000000</td>\n",
       "    </tr>\n",
       "    <tr>\n",
       "      <th>50%</th>\n",
       "      <td>NaN</td>\n",
       "      <td>1.622478e+09</td>\n",
       "      <td>NaN</td>\n",
       "      <td>NaN</td>\n",
       "      <td>NaN</td>\n",
       "      <td>1.000000</td>\n",
       "      <td>1.000000</td>\n",
       "      <td>7.000000</td>\n",
       "      <td>NaN</td>\n",
       "      <td>NaN</td>\n",
       "      <td>209.000000</td>\n",
       "      <td>35.000000</td>\n",
       "      <td>1.000000</td>\n",
       "    </tr>\n",
       "    <tr>\n",
       "      <th>75%</th>\n",
       "      <td>NaN</td>\n",
       "      <td>1.622972e+09</td>\n",
       "      <td>NaN</td>\n",
       "      <td>NaN</td>\n",
       "      <td>NaN</td>\n",
       "      <td>1.000000</td>\n",
       "      <td>1.000000</td>\n",
       "      <td>13.000000</td>\n",
       "      <td>NaN</td>\n",
       "      <td>NaN</td>\n",
       "      <td>371.000000</td>\n",
       "      <td>62.000000</td>\n",
       "      <td>1.000000</td>\n",
       "    </tr>\n",
       "    <tr>\n",
       "      <th>max</th>\n",
       "      <td>NaN</td>\n",
       "      <td>1.623484e+09</td>\n",
       "      <td>NaN</td>\n",
       "      <td>NaN</td>\n",
       "      <td>NaN</td>\n",
       "      <td>1.000000</td>\n",
       "      <td>6.000000</td>\n",
       "      <td>202.000000</td>\n",
       "      <td>NaN</td>\n",
       "      <td>NaN</td>\n",
       "      <td>2338.000000</td>\n",
       "      <td>400.000000</td>\n",
       "      <td>1.000000</td>\n",
       "    </tr>\n",
       "  </tbody>\n",
       "</table>\n",
       "</div>"
      ],
      "text/plain": [
       "       subreddit   created_utc      id     title selftext  upvote_ratio  \\\n",
       "count       2881  2.881000e+03    2881      2881     2881   2881.000000   \n",
       "unique         2           NaN    2881      2820     2323           NaN   \n",
       "top       Costco           NaN  nr4fi1  question                    NaN   \n",
       "freq        1456           NaN       1         7      332           NaN   \n",
       "first        NaN           NaN     NaN       NaN      NaN           NaN   \n",
       "last         NaN           NaN     NaN       NaN      NaN           NaN   \n",
       "mean         NaN  1.621830e+09     NaN       NaN      NaN      0.986234   \n",
       "std          NaN  1.517544e+06     NaN       NaN      NaN      0.085794   \n",
       "min          NaN  1.617845e+09     NaN       NaN      NaN      0.140000   \n",
       "25%          NaN  1.620745e+09     NaN       NaN      NaN      1.000000   \n",
       "50%          NaN  1.622478e+09     NaN       NaN      NaN      1.000000   \n",
       "75%          NaN  1.622972e+09     NaN       NaN      NaN      1.000000   \n",
       "max          NaN  1.623484e+09     NaN       NaN      NaN      1.000000   \n",
       "\n",
       "              score  num_comments    post_created_date  \\\n",
       "count   2881.000000   2881.000000                 2881   \n",
       "unique          NaN           NaN                 2877   \n",
       "top             NaN           NaN  2021-06-08 21:43:09   \n",
       "freq            NaN           NaN                    2   \n",
       "first           NaN           NaN  2021-04-08 09:23:11   \n",
       "last            NaN           NaN  2021-06-12 15:47:26   \n",
       "mean       1.014578     10.864283                  NaN   \n",
       "std        0.309226     14.677103                  NaN   \n",
       "min        0.000000      0.000000                  NaN   \n",
       "25%        1.000000      3.000000                  NaN   \n",
       "50%        1.000000      7.000000                  NaN   \n",
       "75%        1.000000     13.000000                  NaN   \n",
       "max        6.000000    202.000000                  NaN   \n",
       "\n",
       "                                                     text  text_length  \\\n",
       "count                                                2881  2881.000000   \n",
       "unique                                               2881          NaN   \n",
       "top     mohawk vinyl plank the vinyl plank were taken ...          NaN   \n",
       "freq                                                    1          NaN   \n",
       "first                                                 NaN          NaN   \n",
       "last                                                  NaN          NaN   \n",
       "mean                                                  NaN   293.752864   \n",
       "std                                                   NaN   292.962806   \n",
       "min                                                   NaN    14.000000   \n",
       "25%                                                   NaN   106.000000   \n",
       "50%                                                   NaN   209.000000   \n",
       "75%                                                   NaN   371.000000   \n",
       "max                                                   NaN  2338.000000   \n",
       "\n",
       "        text_word_count  subreddit_type  \n",
       "count       2881.000000     2881.000000  \n",
       "unique              NaN             NaN  \n",
       "top                 NaN             NaN  \n",
       "freq                NaN             NaN  \n",
       "first               NaN             NaN  \n",
       "last                NaN             NaN  \n",
       "mean          49.248872        0.505380  \n",
       "std           49.616301        0.500058  \n",
       "min            3.000000        0.000000  \n",
       "25%           18.000000        0.000000  \n",
       "50%           35.000000        1.000000  \n",
       "75%           62.000000        1.000000  \n",
       "max          400.000000        1.000000  "
      ]
     },
     "execution_count": 68,
     "metadata": {},
     "output_type": "execute_result"
    }
   ],
   "source": [
    "df.describe(include= 'all')"
   ]
  },
  {
   "cell_type": "markdown",
   "metadata": {},
   "source": [
    "### Comments:\n",
    "\n",
    "- All duplicated \"text\" posts have been removed. There are total 2892 titles & text, with unique 2831 titles and unique 2337 selftext.\n",
    "\n",
    "- The mean of upvote_ratio is 0.98, meaning out of 10 votes there are around 9-10 votes in support. It has a low standards deviation of 0.086564 meaning that the data is close together.\n",
    "\n",
    "- The mean for \"number of comment\" is 10.86, meaning per posts there is average around 11 comments. Standard Deviation of 14.5, meaning the comments are not so wide spread with min of 0 and max of 202."
   ]
  },
  {
   "cell_type": "code",
   "execution_count": 69,
   "metadata": {},
   "outputs": [],
   "source": [
    "# Export the cleaned corpus into csv file\n",
    "data_path = \"../datasets/02_Exploratory_Data_Analysis_and_Preprocessing/\"\n",
    "df.to_csv(data_path + \"cleaned_posts_corpus.csv\", index=False)"
   ]
  },
  {
   "cell_type": "markdown",
   "metadata": {},
   "source": [
    "# 5. Exploratory Data Analysis (EDA)"
   ]
  },
  {
   "cell_type": "markdown",
   "metadata": {},
   "source": [
    "## 5.1 Correlation Heatmap\n",
    "\n",
    "Let's take a look at the correlation between variables and what variables have high correlation to the subreddits."
   ]
  },
  {
   "cell_type": "code",
   "execution_count": 70,
   "metadata": {},
   "outputs": [
    {
     "data": {
      "text/plain": [
       "<AxesSubplot:title={'center':'Correlation Matrix'}>"
      ]
     },
     "execution_count": 70,
     "metadata": {},
     "output_type": "execute_result"
    },
    {
     "data": {
      "image/png": "[encoded data removed]",
      "text/plain": [
       "<Figure size 720x576 with 2 Axes>"
      ]
     },
     "metadata": {
      "needs_background": "light"
     },
     "output_type": "display_data"
    }
   ],
   "source": [
    "plt.figure(figsize=(10,8))\n",
    "plt.title(\"Correlation Matrix\")\n",
    "sns.heatmap(df.corr(),\n",
    "           annot=True,\n",
    "           cmap='viridis',\n",
    "           vmin=-1)"
   ]
  },
  {
   "cell_type": "markdown",
   "metadata": {},
   "source": [
    "### Comments:\n",
    "- Seems \"created_utc\" has negative correlation with the subrredit_type, but it is not really reasonable to interpretate it as \"created_utc\" is integer timestamp.\n",
    "- There is moderate correlation between score and upvote_ratio (0.45)"
   ]
  },
  {
   "cell_type": "markdown",
   "metadata": {},
   "source": [
    "## 5.2 Visualizations"
   ]
  },
  {
   "cell_type": "code",
   "execution_count": 71,
   "metadata": {},
   "outputs": [
    {
     "data": {
      "text/html": [
       "<div>\n",
       "<style scoped>\n",
       "    .dataframe tbody tr th:only-of-type {\n",
       "        vertical-align: middle;\n",
       "    }\n",
       "\n",
       "    .dataframe tbody tr th {\n",
       "        vertical-align: top;\n",
       "    }\n",
       "\n",
       "    .dataframe thead th {\n",
       "        text-align: right;\n",
       "    }\n",
       "</style>\n",
       "<table border=\"1\" class=\"dataframe\">\n",
       "  <thead>\n",
       "    <tr style=\"text-align: right;\">\n",
       "      <th></th>\n",
       "      <th>text_length</th>\n",
       "      <th>text_word_count</th>\n",
       "      <th>num_comments</th>\n",
       "      <th>upvote_ratio</th>\n",
       "    </tr>\n",
       "    <tr>\n",
       "      <th>subreddit</th>\n",
       "      <th></th>\n",
       "      <th></th>\n",
       "      <th></th>\n",
       "      <th></th>\n",
       "    </tr>\n",
       "  </thead>\n",
       "  <tbody>\n",
       "    <tr>\n",
       "      <th>Costco</th>\n",
       "      <td>291.266484</td>\n",
       "      <td>48.118132</td>\n",
       "      <td>11.675137</td>\n",
       "      <td>0.993056</td>\n",
       "    </tr>\n",
       "    <tr>\n",
       "      <th>walmart</th>\n",
       "      <td>296.293333</td>\n",
       "      <td>50.404211</td>\n",
       "      <td>10.035789</td>\n",
       "      <td>0.979263</td>\n",
       "    </tr>\n",
       "  </tbody>\n",
       "</table>\n",
       "</div>"
      ],
      "text/plain": [
       "           text_length  text_word_count  num_comments  upvote_ratio\n",
       "subreddit                                                          \n",
       "Costco      291.266484        48.118132     11.675137      0.993056\n",
       "walmart     296.293333        50.404211     10.035789      0.979263"
      ]
     },
     "execution_count": 71,
     "metadata": {},
     "output_type": "execute_result"
    }
   ],
   "source": [
    "df.groupby(['subreddit']).mean()[['text_length', 'text_word_count','num_comments', 'upvote_ratio']]"
   ]
  },
  {
   "cell_type": "code",
   "execution_count": 72,
   "metadata": {},
   "outputs": [
    {
     "data": {
      "text/plain": [
       "Text(0.5, 1.0, 'Score vs Number of Comments')"
      ]
     },
     "execution_count": 72,
     "metadata": {},
     "output_type": "execute_result"
    },
    {
     "data": {
      "image/png": "[encoded data removed]",
      "text/plain": [
       "<Figure size 544.875x360 with 1 Axes>"
      ]
     },
     "metadata": {
      "needs_background": "light"
     },
     "output_type": "display_data"
    }
   ],
   "source": [
    "sns.lmplot(x='num_comments',y='score',data=df, hue='subreddit', height= 5, aspect=1.3)\n",
    "ax = plt.gca()\n",
    "ax.set_title(\"Score vs Number of Comments\")"
   ]
  },
  {
   "cell_type": "markdown",
   "metadata": {},
   "source": [
    "### Comments:\n",
    "\n",
    "Comparing the 2 subreddits:\n",
    "- There is a slightly longer text posts length & word counts in Walmart posts\n",
    "- There is more comments and upvote_ratio in Costco posts\n",
    "\n",
    "From above statistics, it can be inferred people tend to do more comments on Costco which they might have same topics to been raised in posts and that's why there are higher votes also. While for Walmart posts, people like to write more content to share their questions/feedback and their topics might be diversity. \n",
    "\n",
    "After doing the research, Walmart has divided their business into 3 main segments: Sam's Club, Walmart Internations and Walmart U.S. While Costco is a Wholesale Corporation, topics discussion for Costco would be mainly focus on their products or sales services.\n",
    "\n",
    "- Reference: https://www.statista.com/statistics/269415/share-of-walmarts-net-sales-by-division/"
   ]
  },
  {
   "cell_type": "code",
   "execution_count": 73,
   "metadata": {},
   "outputs": [
    {
     "data": {
      "image/png": "[encoded data removed]",
      "text/plain": [
       "<Figure size 432x288 with 1 Axes>"
      ]
     },
     "metadata": {
      "needs_background": "light"
     },
     "output_type": "display_data"
    }
   ],
   "source": [
    "plt.figure(figsize = (6,4))\n",
    "plt.title(\"upvote_ratio vs Posted Date\")\n",
    "sns.scatterplot( x=\"post_created_date\", y=\"upvote_ratio\", hue=\"subreddit\", s=15, data=df);"
   ]
  },
  {
   "cell_type": "markdown",
   "metadata": {},
   "source": [
    "### Comments:\n",
    "\n",
    "- It seems majority Costco posts got the 100% up votes which implies that most people have same feeling and concerns been addressed & posted. \n",
    "\n",
    "- While Walmart posts had a relatively low up votes ratio, it could because of diversity business involvement or people have different opinions or questions on what they encountered.\n",
    "\n",
    "- Also We could see the up votes ratio is quite consistent for Costco posts, which might because of all along consistent performance did by Costco. From our research of the Customer Satifaction survey, We could see Costco ranked top 2 in consectively year 2019 and 2020 and with almost 0% drop in covid year 2020.\n",
    "\n",
    "- Reference: https://www.supermarketnews.com/issues-trends/customer-satisfaction-fell-supermarkets-2020 \n",
    "\n",
    "- By looking at the posts count and their posted time, We could see that people have more posts on Walmart, as Walmart has same amount of posts in less than 1 month while Costco posts in about 2 months.\n",
    "This might due to its business diversity or it's more popular compared to Costco, or may because of more policy/market direction adjustments in Walmart. I will do more research on this.  \n",
    "\n",
    "From further text analysis, We could see what top words/topics been posts in both Walmart & Costco subreddits."
   ]
  },
  {
   "cell_type": "code",
   "execution_count": 74,
   "metadata": {},
   "outputs": [
    {
     "data": {
      "image/png": "[encoded data removed]",
      "text/plain": [
       "<Figure size 432x288 with 1 Axes>"
      ]
     },
     "metadata": {
      "needs_background": "light"
     },
     "output_type": "display_data"
    }
   ],
   "source": [
    "plt.figure(figsize = (6,4))\n",
    "plt.title(\"Post Length vs Posted Date\")\n",
    "sns.scatterplot( x=\"post_created_date\", y=\"text_length\", hue=\"subreddit\", s=15, data=df);"
   ]
  },
  {
   "cell_type": "markdown",
   "metadata": {},
   "source": [
    "### Comments:\n",
    "\n",
    "- We can see most Costco posts with around 500 length, while people gave more sharings on Walmart posts."
   ]
  },
  {
   "cell_type": "code",
   "execution_count": 77,
   "metadata": {},
   "outputs": [
    {
     "data": {
      "text/plain": [
       "<seaborn.axisgrid.FacetGrid at 0x136c7812430>"
      ]
     },
     "execution_count": 77,
     "metadata": {},
     "output_type": "execute_result"
    },
    {
     "data": {
      "image/png": "[encoded data removed]",
      "text/plain": [
       "<Figure size 720x360 with 2 Axes>"
      ]
     },
     "metadata": {
      "needs_background": "light"
     },
     "output_type": "display_data"
    }
   ],
   "source": [
    "sns.displot(df, x=\"text_length\", col=\"subreddit\", multiple=\"dodge\")"
   ]
  },
  {
   "cell_type": "markdown",
   "metadata": {},
   "source": [
    "### Comments:\n",
    "\n",
    "- Both text_length distribution for these 2 subreddit posts are not normal distributted, it's right skewed. \n",
    "- Costco has slightl with less than 500"
   ]
  },
  {
   "cell_type": "markdown",
   "metadata": {},
   "source": [
    "## 5.3 Top Words\n",
    "\n",
    "__CountVectorizer__\n",
    "\n",
    "In order to use textual data for predictive modeling, the text must be parsed to remove certain words – this process is called tokenization. These words need to then be encoded as integers, or floating-point values, for use as inputs in machine learning algorithms. This process is called feature extraction (or vectorization).\n",
    "\n",
    "Scikit-learn’s CountVectorizer is used for below Top Words analysis by converting a collection of text documents to a vector of term/token counts. It also enables the ​pre-processing of text data prior to generating the vector representation. CountVectorizer implements both tokenization and occurrence counting in a single class:\n",
    "\n",
    "Instead of looking at single word, and able to get more meaningful words, I have set parameter to check bi/tri-grams.\n",
    "\n",
    "__Stopwords__\n",
    "\n",
    "To look at the most common words been discussed in 2 subreddit posts, also to extract meaningful words/topics after removing stopwords and vectorization.\n",
    "\n",
    "I've combined stopwords from 3 different libraries: nltk, spacy & sklearn to get as much as possible stopwords, as Stopwords are the words in language which does not add much meaning to a sentence. Also I've updated more common words as they are repeated after running with default stop words but without much meanings to our analysis.\n",
    "\n",
    "When using the default stop-words, I also see some common words with f-words and s-words in the text, but I will not remove them as it will be helpful for sentiment analysis and business recommendation."
   ]
  },
  {
   "cell_type": "code",
   "execution_count": 78,
   "metadata": {},
   "outputs": [],
   "source": [
    "# define the function to combine stop words from 3 different libraries: nltk, spacy & sklearn to get as much as possible. \n",
    "\n",
    "def get_stopwords():\n",
    "    nltk_stopwords = set(stopwords.words('english'))\n",
    "    spacy_stopwords = spacy.lang.en.stop_words.STOP_WORDS\n",
    "    sklearn_stopwords = set(ENGLISH_STOP_WORDS)\n",
    "\n",
    "    all_stopwords = set()\n",
    "    all_stopwords |= spacy_stopwords\n",
    "    all_stopwords |= nltk_stopwords\n",
    "    all_stopwords |= sklearn_stopwords\n",
    "\n",
    "    return all_stopwords \n",
    "\n",
    "all_stopwords = get_stopwords()"
   ]
  },
  {
   "cell_type": "code",
   "execution_count": 79,
   "metadata": {},
   "outputs": [
    {
     "data": {
      "text/plain": [
       "409"
      ]
     },
     "execution_count": 79,
     "metadata": {},
     "output_type": "execute_result"
    }
   ],
   "source": [
    "len(all_stopwords)"
   ]
  },
  {
   "cell_type": "code",
   "execution_count": 80,
   "metadata": {},
   "outputs": [],
   "source": [
    "# Update stopwords as they repeated with high frequency in the text but not much meaning \n",
    "all_stopwords.update(['www', 'costco', 'wa', 'doe','ha','know',\n",
    "                      'told','feel','like','tikok','com', 'webp', 'amp', 'html','walmart', \"wal\", \"mart\"])"
   ]
  },
  {
   "cell_type": "code",
   "execution_count": 81,
   "metadata": {},
   "outputs": [
    {
     "data": {
      "text/plain": [
       "426"
      ]
     },
     "execution_count": 81,
     "metadata": {},
     "output_type": "execute_result"
    }
   ],
   "source": [
    "len(all_stopwords)"
   ]
  },
  {
   "cell_type": "markdown",
   "metadata": {},
   "source": [
    "### Comments:\n",
    "\n",
    "In total there are 423 stopwords."
   ]
  },
  {
   "cell_type": "code",
   "execution_count": 82,
   "metadata": {},
   "outputs": [
    {
     "data": {
      "text/html": [
       "<div>\n",
       "<style scoped>\n",
       "    .dataframe tbody tr th:only-of-type {\n",
       "        vertical-align: middle;\n",
       "    }\n",
       "\n",
       "    .dataframe tbody tr th {\n",
       "        vertical-align: top;\n",
       "    }\n",
       "\n",
       "    .dataframe thead th {\n",
       "        text-align: right;\n",
       "    }\n",
       "</style>\n",
       "<table border=\"1\" class=\"dataframe\">\n",
       "  <thead>\n",
       "    <tr style=\"text-align: right;\">\n",
       "      <th></th>\n",
       "      <th>subreddit</th>\n",
       "      <th>created_utc</th>\n",
       "      <th>id</th>\n",
       "      <th>title</th>\n",
       "      <th>selftext</th>\n",
       "      <th>upvote_ratio</th>\n",
       "      <th>score</th>\n",
       "      <th>num_comments</th>\n",
       "      <th>post_created_date</th>\n",
       "      <th>text</th>\n",
       "      <th>text_length</th>\n",
       "      <th>text_word_count</th>\n",
       "      <th>subreddit_type</th>\n",
       "    </tr>\n",
       "  </thead>\n",
       "  <tbody>\n",
       "    <tr>\n",
       "      <th>0</th>\n",
       "      <td>walmart</td>\n",
       "      <td>1623481278</td>\n",
       "      <td>ny0t2k</td>\n",
       "      <td>the whole meat wall one night</td>\n",
       "      <td>that even possible</td>\n",
       "      <td>1.0</td>\n",
       "      <td>1</td>\n",
       "      <td>15</td>\n",
       "      <td>2021-06-12 15:01:18</td>\n",
       "      <td>the whole meat wall one night that even possible</td>\n",
       "      <td>51</td>\n",
       "      <td>9</td>\n",
       "      <td>0</td>\n",
       "    </tr>\n",
       "    <tr>\n",
       "      <th>2</th>\n",
       "      <td>walmart</td>\n",
       "      <td>1623477525</td>\n",
       "      <td>nxzwvb</td>\n",
       "      <td>cap overnight team leads</td>\n",
       "      <td>due unforseen circumstances was not able apply...</td>\n",
       "      <td>1.0</td>\n",
       "      <td>1</td>\n",
       "      <td>14</td>\n",
       "      <td>2021-06-12 13:58:45</td>\n",
       "      <td>cap overnight team lead due unforseen circumst...</td>\n",
       "      <td>494</td>\n",
       "      <td>82</td>\n",
       "      <td>0</td>\n",
       "    </tr>\n",
       "    <tr>\n",
       "      <th>4</th>\n",
       "      <td>walmart</td>\n",
       "      <td>1623476227</td>\n",
       "      <td>nxzkvz</td>\n",
       "      <td>pointing out after putting your two week notice</td>\n",
       "      <td>submitted week notice yesterday and points so...</td>\n",
       "      <td>1.0</td>\n",
       "      <td>1</td>\n",
       "      <td>11</td>\n",
       "      <td>2021-06-12 13:37:07</td>\n",
       "      <td>pointing out after putting your two week notic...</td>\n",
       "      <td>233</td>\n",
       "      <td>36</td>\n",
       "      <td>0</td>\n",
       "    </tr>\n",
       "  </tbody>\n",
       "</table>\n",
       "</div>"
      ],
      "text/plain": [
       "  subreddit  created_utc      id  \\\n",
       "0   walmart   1623481278  ny0t2k   \n",
       "2   walmart   1623477525  nxzwvb   \n",
       "4   walmart   1623476227  nxzkvz   \n",
       "\n",
       "                                              title  \\\n",
       "0                    the whole meat wall one night    \n",
       "2                          cap overnight team leads   \n",
       "4  pointing out after putting your two week notice    \n",
       "\n",
       "                                            selftext  upvote_ratio  score  \\\n",
       "0                                that even possible            1.0      1   \n",
       "2  due unforseen circumstances was not able apply...           1.0      1   \n",
       "4   submitted week notice yesterday and points so...           1.0      1   \n",
       "\n",
       "   num_comments   post_created_date  \\\n",
       "0            15 2021-06-12 15:01:18   \n",
       "2            14 2021-06-12 13:58:45   \n",
       "4            11 2021-06-12 13:37:07   \n",
       "\n",
       "                                                text  text_length  \\\n",
       "0  the whole meat wall one night that even possible            51   \n",
       "2  cap overnight team lead due unforseen circumst...          494   \n",
       "4  pointing out after putting your two week notic...          233   \n",
       "\n",
       "   text_word_count  subreddit_type  \n",
       "0                9               0  \n",
       "2               82               0  \n",
       "4               36               0  "
      ]
     },
     "execution_count": 82,
     "metadata": {},
     "output_type": "execute_result"
    }
   ],
   "source": [
    "df.head(3)"
   ]
  },
  {
   "cell_type": "code",
   "execution_count": 83,
   "metadata": {},
   "outputs": [],
   "source": [
    "df_walmart =df[df['subreddit_type'] == 0]\n",
    "df_costco = df[df['subreddit_type'] == 1]"
   ]
  },
  {
   "cell_type": "code",
   "execution_count": 84,
   "metadata": {},
   "outputs": [
    {
     "data": {
      "image/png": "[encoded data removed]",
      "text/plain": [
       "<Figure size 1080x720 with 2 Axes>"
      ]
     },
     "metadata": {
      "needs_background": "light"
     },
     "output_type": "display_data"
    }
   ],
   "source": [
    "# instantiate a basic vectoriser with only settings for extracting bi- and tri-grams\n",
    "cvec = CountVectorizer(stop_words = all_stopwords, ngram_range=(2,3))\n",
    "\n",
    "# r/Walmart - fit/transform count vectoriser to title and get the 20 phrases with the highest count\n",
    "vec_walmart = cvec.fit_transform(df_walmart['text'])\n",
    "vec_walmart = pd.DataFrame(vec_walmart.toarray(), columns = cvec.get_feature_names())\n",
    "df_walmart_20 = vec_walmart.sum().sort_values(ascending=False).head(20)\n",
    "\n",
    "# r/Costco - fit/transform count vectoriser to title and get the 50 phrases with the highest count\n",
    "vec_costco = cvec.fit_transform(df_costco['text'])\n",
    "vec_costco = pd.DataFrame(vec_costco.toarray(), columns = cvec.get_feature_names())\n",
    "df_costco_20 = vec_costco.sum().sort_values(ascending=False).head(20)\n",
    "\n",
    "# plot results\n",
    "fit, ax = plt.subplots(nrows = 1, ncols = 2, figsize=(15,10), sharex = True)\n",
    "\n",
    "sns.barplot(y=df_walmart_20.index.values, x = df_walmart_20,color='salmon',ax=ax[0])\n",
    "#sns.barplot(df_walmart_50.index, 'count', data=df_walmart_50, palette='dark:salmon_r')\n",
    "\n",
    "ax[0].set_title('top 20 words in Walmart posts',fontsize=15, weight = 'bold')\n",
    "ax[0].set_xlabel('count of words/phrases', fontsize=13)\n",
    "plt.setp(ax[0].get_yticklabels(), fontsize=14)\n",
    "\n",
    "sns.barplot(y=df_walmart_20.index.values, x = df_costco_20,color='blue',ax=ax[1])\n",
    "ax[1].set_title('top 20 words in Costco posts',fontsize=15, weight = 'bold')\n",
    "ax[1].set_xlabel('count of words/phrases', fontsize=13)\n",
    "plt.setp(ax[1].get_yticklabels(), fontsize=14)\n",
    "\n",
    "plt.tight_layout()"
   ]
  },
  {
   "cell_type": "markdown",
   "metadata": {},
   "source": [
    "From the top lists We could see:\n",
    "- r/Walmart:\n",
    "In general, I could seperate the top words into 3 or 4 topics:\n",
    "    - (1) main top words are topics with the work/employment/leave/work notice, e.g. ['team lead','store manager','working walmart', 'hour shift', 'job offer', 'manager said']\n",
    "    - (2) \"covid\", \"vaccination\",\"covid shot\",\"covid leave\" are also top words with Covid Vaccinations. \n",
    "    - (3) other topics like \"walmart app\", \"promoted customer\" also are popular topics been raised might because of the usage of Walmart app and comments on the customer services. \n",
    "\n",
    "- r/Costco:\n",
    "In general, below key top words were posted:\n",
    "    - (1) Food related: [\"food court\", \"hot dog\", \"ice cream\", \"pea nut butter\", \"combo pizza\"]\n",
    "    - (2) Kirkland Signature: a Costco's private label to provide the appearance of brand name quality products at discounted prices. \n",
    "    - (3) App/ Website formatting also are hot topics been discussed, e.g. [\"width format\", \"format pjpg\"]\n",
    "    - (4) Rebate cards or gift cards, discount, adjust price, coupon code, executive membership are commonly been posted as well\n",
    "    - (5) Customer service: \"thanks advance\", \"self-checkedout\", \"time hour\"\n",
    "    - (6) delivery: zip code\n",
    "* References: \n",
    "    - https://en.wikipedia.org/wiki/Costco#Kirkland_Signature \n",
    "    - https://www.costco.com/kirkland-signature.html"
   ]
  },
  {
   "cell_type": "code",
   "execution_count": 85,
   "metadata": {},
   "outputs": [],
   "source": [
    "# Export the cleaned corpus into csv file, will be used for part 3-sentiment analysis and business recommendation\n",
    "data_path = \"../datasets/02_Exploratory_Data_Analysis_and_Preprocessing/\"\n",
    "# df.to_csv(data_path + \"cleaned_posts_corpus.csv\", index=False)\n",
    "df_walmart_20.to_csv(data_path + \"walmart_top20_words.csv\")\n",
    "df_costco_20.to_csv(data_path + \"costco_top20_words.csv\")"
   ]
  },
  {
   "cell_type": "markdown",
   "metadata": {},
   "source": [
    "## 5.4 Word Cloud"
   ]
  },
  {
   "cell_type": "code",
   "execution_count": 86,
   "metadata": {},
   "outputs": [],
   "source": [
    "# From https://stackoverflow.com/questions/16645799/how-to-create-a-word-cloud-from-a-corpus-in-python\n",
    "def show_wordcloud(data, title = None):\n",
    "    wordcloud = WordCloud(\n",
    "        background_color='white',\n",
    "        stopwords=all_stopwords,\n",
    "        max_words=50,\n",
    "        max_font_size=40, \n",
    "        scale=3,\n",
    "        random_state=1 \n",
    "    ).generate(str(data))\n",
    "\n",
    "    fig = plt.figure(1, figsize=(12, 12))\n",
    "    plt.axis('off')\n",
    "    if title: \n",
    "        fig.suptitle(title, fontsize=20)\n",
    "        fig.subplots_adjust(top=2.3)\n",
    "\n",
    "    plt.imshow(wordcloud)\n",
    "    plt.show()"
   ]
  },
  {
   "cell_type": "code",
   "execution_count": 87,
   "metadata": {},
   "outputs": [
    {
     "data": {
      "image/png": "[encoded data removed]",
      "text/plain": [
       "<Figure size 864x864 with 1 Axes>"
      ]
     },
     "metadata": {
      "needs_background": "light"
     },
     "output_type": "display_data"
    }
   ],
   "source": [
    "show_wordcloud(df[df['subreddit_type']==0]['text'], title ='Wordcloud for Walmart posts')"
   ]
  },
  {
   "cell_type": "code",
   "execution_count": 88,
   "metadata": {},
   "outputs": [
    {
     "data": {
      "image/png": "[encoded data removed]",
      "text/plain": [
       "<Figure size 864x864 with 1 Axes>"
      ]
     },
     "metadata": {
      "needs_background": "light"
     },
     "output_type": "display_data"
    }
   ],
   "source": [
    "show_wordcloud(df[df['subreddit_type']==1]['text'], title ='Wordcloud for Costco posts')"
   ]
  },
  {
   "cell_type": "markdown",
   "metadata": {},
   "source": [
    "### Comments: \n",
    "\n",
    "From the list of two-word phrases, it is apparent that: \n",
    "Walmart subreddit contains posts from customers and employees, where users may post queries about their work, i.e. regarding their 'team lead', 'covid leave', 'night shift'.\n",
    "Costco subreddit contains mainly posts from customers, with contents surrounding 'citi card', 'ice cream', 'costco food'.\n",
    "\n",
    "Looking into the Walmart subreddit may shed insights about the employee experience, specifically from associates working at the Walmart supermarkets."
   ]
  },
  {
   "cell_type": "markdown",
   "metadata": {},
   "source": [
    "#### __Please go to Notebook 03_Classification_Model_and _Recommendation.ipynb__"
   ]
  }
 ],
 "metadata": {
  "kernelspec": {
   "display_name": "Python 3",
   "language": "python",
   "name": "python3"
  },
  "language_info": {
   "codemirror_mode": {
    "name": "ipython",
    "version": 3
   },
   "file_extension": ".py",
   "mimetype": "text/x-python",
   "name": "python",
   "nbconvert_exporter": "python",
   "pygments_lexer": "ipython3",
   "version": "3.8.5"
  }
 },
 "nbformat": 4,
 "nbformat_minor": 4
}
