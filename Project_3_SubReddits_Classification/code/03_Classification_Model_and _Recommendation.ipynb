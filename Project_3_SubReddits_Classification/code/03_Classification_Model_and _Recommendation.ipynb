{
 "cells": [
  {
   "cell_type": "markdown",
   "metadata": {},
   "source": [
    "# Project 3: Web APIs & NLP SubReddit Classification (Walmart & Costco)"
   ]
  },
  {
   "cell_type": "markdown",
   "metadata": {},
   "source": [
    "---\n",
    "Project notebook organisation:<br>\n",
    "[1 - SubReddit Web Scrapping](./01_SubReddit_Web_Scrapping.ipynb)<br>\n",
    "[2 - Exploratory Data Analysis and Preprocessing](./2_exploratory_data_analysis_and_preprocessing.ipynb)<br>\n",
    "**3 - Classification Model and Recommendation** (current notebook)<br>\n",
    "<br>"
   ]
  },
  {
   "cell_type": "markdown",
   "metadata": {},
   "source": [
    "--- \n",
    "# Part 3: Classifcation Model and Recommendation\n",
    "\n",
    "### Contents:\n",
    "- [1. Import Libraries](#1.-Import-Libraries)\n",
    "- [2. Load Datasets](#2.-Load-Datasets)\n",
    "- [3. Modeling](#3.-Modeling)\n",
    "- [4. Model Tuning & Production Model](#4.-Model-Tuning-&-Production-Model)\n",
    "- [5. Sentiment Analysis & Business Summary](#5.-Sentiment-Analysis-&-Business-Summary)\n",
    "- [6. Future Steps](#6.-Future-Steps)\n",
    "\n",
    "In this part, I have attempted several classification models (e.g. Logistic Regression, KNearestNeighbor, Multinomial Naive Bayes, Random Tree Classifier) with the combination of utilizing CountVectorizer or TfidfVectorizer for subreddit classification.\n",
    "\n",
    "I used F1 Score & AUC Score to compare among different model prediction, also it has a higher prediction than the baseline score of __50.5%__.The final production model that I chose was Logistic Regression with TfidfVectorizer, at a classification prediction rate of __93.3%__.\n",
    "\n",
    "Lastly, I did Sentiment Analysis to aid for a better business recommendation to achieve our primary and scecondary objectives.\n",
    "\n",
    "--- "
   ]
  },
  {
   "cell_type": "markdown",
   "metadata": {},
   "source": [
    "---\n",
    "\n",
    "# 1. Import Libraries\n",
    "\n",
    "---"
   ]
  },
  {
   "cell_type": "code",
   "execution_count": 1,
   "metadata": {},
   "outputs": [],
   "source": [
    "#pip install textblob"
   ]
  },
  {
   "cell_type": "code",
   "execution_count": 2,
   "metadata": {},
   "outputs": [],
   "source": [
    "import pandas as pd\n",
    "import numpy as np\n",
    "import matplotlib.pyplot as plt\n",
    "import seaborn as sns\n",
    "\n",
    "# from wordcloud import WordCloud\n",
    "from textblob import TextBlob\n",
    "import spacy #spacy stopwords\n",
    "from spacy.lang.en import English\n",
    "from nltk.corpus import stopwords\n",
    "from nltk.stem import PorterStemmer,WordNetLemmatizer\n",
    "from nltk.tokenize import sent_tokenize, word_tokenize\n",
    "\n",
    "from sklearn.feature_extraction.text import CountVectorizer, ENGLISH_STOP_WORDS,TfidfVectorizer\n",
    "from sklearn.model_selection import train_test_split, cross_val_score, GridSearchCV, RandomizedSearchCV\n",
    "from sklearn.ensemble import RandomForestClassifier, ExtraTreesClassifier\n",
    "from sklearn.linear_model import LogisticRegression\n",
    "from sklearn.neighbors import KNeighborsClassifier\n",
    "from sklearn.naive_bayes import MultinomialNB\n",
    "from sklearn.metrics import classification_report\n",
    "from sklearn import metrics\n",
    "from sklearn.pipeline import Pipeline\n",
    "\n",
    "import datetime\n",
    "import string\n",
    "import time\n",
    "\n",
    "%matplotlib inline"
   ]
  },
  {
   "cell_type": "markdown",
   "metadata": {},
   "source": [
    "---\n",
    "\n",
    "# 2. Load Datasets\n",
    "\n",
    "---"
   ]
  },
  {
   "cell_type": "code",
   "execution_count": 3,
   "metadata": {},
   "outputs": [],
   "source": [
    "# load cleaned corpus-result from part 2-EDA & Pre-processing\n",
    "data_path = \"../datasets/02_Exploratory_Data_Analysis_and_Preprocessing/\"\n",
    "df= pd.read_csv(data_path  + 'cleaned_posts_corpus.csv')"
   ]
  },
  {
   "cell_type": "code",
   "execution_count": 4,
   "metadata": {},
   "outputs": [
    {
     "data": {
      "text/plain": [
       "(2881, 13)"
      ]
     },
     "execution_count": 4,
     "metadata": {},
     "output_type": "execute_result"
    }
   ],
   "source": [
    "df.shape"
   ]
  },
  {
   "cell_type": "code",
   "execution_count": 5,
   "metadata": {},
   "outputs": [
    {
     "data": {
      "text/html": [
       "<div>\n",
       "<style scoped>\n",
       "    .dataframe tbody tr th:only-of-type {\n",
       "        vertical-align: middle;\n",
       "    }\n",
       "\n",
       "    .dataframe tbody tr th {\n",
       "        vertical-align: top;\n",
       "    }\n",
       "\n",
       "    .dataframe thead th {\n",
       "        text-align: right;\n",
       "    }\n",
       "</style>\n",
       "<table border=\"1\" class=\"dataframe\">\n",
       "  <thead>\n",
       "    <tr style=\"text-align: right;\">\n",
       "      <th></th>\n",
       "      <th>subreddit</th>\n",
       "      <th>created_utc</th>\n",
       "      <th>id</th>\n",
       "      <th>title</th>\n",
       "      <th>selftext</th>\n",
       "      <th>upvote_ratio</th>\n",
       "      <th>score</th>\n",
       "      <th>num_comments</th>\n",
       "      <th>post_created_date</th>\n",
       "      <th>text</th>\n",
       "      <th>text_length</th>\n",
       "      <th>text_word_count</th>\n",
       "      <th>subreddit_type</th>\n",
       "    </tr>\n",
       "  </thead>\n",
       "  <tbody>\n",
       "    <tr>\n",
       "      <th>0</th>\n",
       "      <td>walmart</td>\n",
       "      <td>1623481278</td>\n",
       "      <td>ny0t2k</td>\n",
       "      <td>the whole meat wall one night</td>\n",
       "      <td>that even possible</td>\n",
       "      <td>1.0</td>\n",
       "      <td>1</td>\n",
       "      <td>15</td>\n",
       "      <td>2021-06-12 15:01:18</td>\n",
       "      <td>the whole meat wall one night that even possible</td>\n",
       "      <td>51</td>\n",
       "      <td>9</td>\n",
       "      <td>0</td>\n",
       "    </tr>\n",
       "    <tr>\n",
       "      <th>1</th>\n",
       "      <td>walmart</td>\n",
       "      <td>1623477525</td>\n",
       "      <td>nxzwvb</td>\n",
       "      <td>cap overnight team leads</td>\n",
       "      <td>due unforseen circumstances was not able apply...</td>\n",
       "      <td>1.0</td>\n",
       "      <td>1</td>\n",
       "      <td>14</td>\n",
       "      <td>2021-06-12 13:58:45</td>\n",
       "      <td>cap overnight team lead due unforseen circumst...</td>\n",
       "      <td>494</td>\n",
       "      <td>82</td>\n",
       "      <td>0</td>\n",
       "    </tr>\n",
       "    <tr>\n",
       "      <th>2</th>\n",
       "      <td>walmart</td>\n",
       "      <td>1623476227</td>\n",
       "      <td>nxzkvz</td>\n",
       "      <td>pointing out after putting your two week notice</td>\n",
       "      <td>submitted week notice yesterday and points so...</td>\n",
       "      <td>1.0</td>\n",
       "      <td>1</td>\n",
       "      <td>11</td>\n",
       "      <td>2021-06-12 13:37:07</td>\n",
       "      <td>pointing out after putting your two week notic...</td>\n",
       "      <td>233</td>\n",
       "      <td>36</td>\n",
       "      <td>0</td>\n",
       "    </tr>\n",
       "  </tbody>\n",
       "</table>\n",
       "</div>"
      ],
      "text/plain": [
       "  subreddit  created_utc      id  \\\n",
       "0   walmart   1623481278  ny0t2k   \n",
       "1   walmart   1623477525  nxzwvb   \n",
       "2   walmart   1623476227  nxzkvz   \n",
       "\n",
       "                                              title  \\\n",
       "0                    the whole meat wall one night    \n",
       "1                          cap overnight team leads   \n",
       "2  pointing out after putting your two week notice    \n",
       "\n",
       "                                            selftext  upvote_ratio  score  \\\n",
       "0                                that even possible            1.0      1   \n",
       "1  due unforseen circumstances was not able apply...           1.0      1   \n",
       "2   submitted week notice yesterday and points so...           1.0      1   \n",
       "\n",
       "   num_comments    post_created_date  \\\n",
       "0            15  2021-06-12 15:01:18   \n",
       "1            14  2021-06-12 13:58:45   \n",
       "2            11  2021-06-12 13:37:07   \n",
       "\n",
       "                                                text  text_length  \\\n",
       "0  the whole meat wall one night that even possible            51   \n",
       "1  cap overnight team lead due unforseen circumst...          494   \n",
       "2  pointing out after putting your two week notic...          233   \n",
       "\n",
       "   text_word_count  subreddit_type  \n",
       "0                9               0  \n",
       "1               82               0  \n",
       "2               36               0  "
      ]
     },
     "execution_count": 5,
     "metadata": {},
     "output_type": "execute_result"
    }
   ],
   "source": [
    "df.head(3)"
   ]
  },
  {
   "cell_type": "code",
   "execution_count": 6,
   "metadata": {},
   "outputs": [
    {
     "data": {
      "text/html": [
       "<div>\n",
       "<style scoped>\n",
       "    .dataframe tbody tr th:only-of-type {\n",
       "        vertical-align: middle;\n",
       "    }\n",
       "\n",
       "    .dataframe tbody tr th {\n",
       "        vertical-align: top;\n",
       "    }\n",
       "\n",
       "    .dataframe thead th {\n",
       "        text-align: right;\n",
       "    }\n",
       "</style>\n",
       "<table border=\"1\" class=\"dataframe\">\n",
       "  <thead>\n",
       "    <tr style=\"text-align: right;\">\n",
       "      <th></th>\n",
       "      <th>text</th>\n",
       "      <th>subreddit_type</th>\n",
       "    </tr>\n",
       "  </thead>\n",
       "  <tbody>\n",
       "    <tr>\n",
       "      <th>0</th>\n",
       "      <td>the whole meat wall one night that even possible</td>\n",
       "      <td>0</td>\n",
       "    </tr>\n",
       "    <tr>\n",
       "      <th>1</th>\n",
       "      <td>cap overnight team lead due unforseen circumst...</td>\n",
       "      <td>0</td>\n",
       "    </tr>\n",
       "    <tr>\n",
       "      <th>2</th>\n",
       "      <td>pointing out after putting your two week notic...</td>\n",
       "      <td>0</td>\n",
       "    </tr>\n",
       "    <tr>\n",
       "      <th>3</th>\n",
       "      <td>they drug test just got job local walmart truc...</td>\n",
       "      <td>0</td>\n",
       "    </tr>\n",
       "    <tr>\n",
       "      <th>4</th>\n",
       "      <td>there way limit hour availability online basic...</td>\n",
       "      <td>0</td>\n",
       "    </tr>\n",
       "  </tbody>\n",
       "</table>\n",
       "</div>"
      ],
      "text/plain": [
       "                                                text  subreddit_type\n",
       "0  the whole meat wall one night that even possible                0\n",
       "1  cap overnight team lead due unforseen circumst...               0\n",
       "2  pointing out after putting your two week notic...               0\n",
       "3  they drug test just got job local walmart truc...               0\n",
       "4  there way limit hour availability online basic...               0"
      ]
     },
     "execution_count": 6,
     "metadata": {},
     "output_type": "execute_result"
    }
   ],
   "source": [
    "# We are only used 2 columns for Classification Model\n",
    "df_model = df[['text', 'subreddit_type']]\n",
    "df_model.head()"
   ]
  },
  {
   "cell_type": "markdown",
   "metadata": {},
   "source": [
    "## 3. Modeling\n",
    "\n",
    "In this section, I will explore 4 models. They are Naive Bayes, Random Forest, Logistic Regression and KNN. I will run each model twice, first time using CountVertorizer and second time using Term Frequency-Inverse Document Frequency (TF-IDF). I will provide a short explaination of each model and evaluate its performance success/downfalls.\n",
    "\n",
    "__Naive Bayes Classifier__:\n",
    "- it is a family of probabilistic algorithms based on applying Bayes’ theorem with the “naive” assumption of conditional independence between every pair of a feature.\n",
    "- Bayes theorem calculates probability P(c|x) where c is the class of the possible outcomes and x is the given instance which has to be classified, representing some certain features.P(c|x) = P(x|c) * P(c) / P(x)\n",
    "- Naive Bayes are mostly used in natural language processing (NLP) problems. Naive Bayes predict the tag of a text. They calculate the probability of each tag for a given text and then output the tag with the highest one.\n",
    "- The advantages of Naive Bayes are it is easy to calculate probabilities and returns empirically accurate result.\n",
    "- The disadvantage is the assumption of feature independence is unrealistic, especially in the case of text data. The predicted probabilites could be not so good.\n",
    "\n",
    "__The Random Forest (RF) classifiers__\n",
    "- It is suitable for dealing with the high dimensional noisy data in text classification. An RF model comprises a set of decision trees each of which is trained using random subsets of features. \n",
    "- It requires much computational power as well as resources as it builds numerous trees to combine their outputs. \n",
    "- It also requires much time for training as it combines a lot of decision trees to determine the class.\n",
    "- Due to the ensemble of decision trees, it also suffers interpretability and fails to determine the significance of each variable.\n",
    "\n",
    "We also attempted it and see how well it for our subreddit classification.\n",
    "\n",
    "__Logistic Regression__\n",
    "- It is used to describe data and to explain the relationship between one dependent binary variable and one or more nominal, ordinal, interval or ratio-level independent variables.\n",
    "- Logistic regression uses the logit link to bend our line of best fit. This allows us to predict between 0 and 1 for any value of inputs. \n",
    "    \n",
    "#### $$\\text{logit}\\left(P(Y = 1)\\right) = \\beta_0 + \\beta_1X_1 + \\beta_2X_2 + \\cdots + \\beta_pX_p$$ ####\n",
    "\n",
    "- The advantage of logistic regression are the coefficients are interpretable and it shares similar properties to linear regression. \n",
    "- The disadvantage is the assumption of linearity between the dependent variable and independent variables. Logistic Regression requires average or no mulitcollinearity between independent variables. \n",
    "\n",
    "__K-Nearest-Neighbor__\n",
    "\n",
    "- The k-nearest neighbors algorithm (k-NN) is a non-parametric method. In k-NN classification, the output is a class membership. An object is classified by a plurality vote of its neighbors, with the object being assigned to the class most common among its k nearest neighbors (k is a positive integer, typically small). If k = 1, then the object is simply assigned to the class of that single nearest neighbor.\n",
    "- The advantage of KNN is it has no training period. KNN is called Lazy Learner (Instance based learning). It does not learn anything in the training period. It does not derive any discriminative function from the training data. In other words, there is no training period for it. It stores the training dataset and learns from it only at the time of making real time predictions. This makes the KNN algorithm much faster than other algorithms that require training e.g. SVM, Linear Regression etc. \n",
    "- Since the KNN algorithm requires no training before making predictions, new data can be added seamlessly which will not impact the accuracy of the algorithm. \n",
    "- KNN is very easy to implement. There are only two parameters required to implement KNN i.e. the value of K and the distance function (e.g. Euclidean or Manhattan etc.)\n",
    "- The disadvantage of KNN is it does not work well with large dataset. In large datasets, the cost of calculating the distance between the new point and each existing points is huge which degrades the performance of the algorithm.\n",
    "- The KNN algorithm doesn't work well with high dimensional data because with large number of dimensions, it becomes difficult for the algorithm to calculate the distance in each dimension.\n",
    "- There is also no parameters for interpretation of coefficient. "
   ]
  },
  {
   "cell_type": "markdown",
   "metadata": {},
   "source": [
    "### 3.1 Create Model Feature & Train-Test Split"
   ]
  },
  {
   "cell_type": "code",
   "execution_count": 7,
   "metadata": {},
   "outputs": [],
   "source": [
    "X = df_model['text']\n",
    "y = df_model['subreddit_type']"
   ]
  },
  {
   "cell_type": "code",
   "execution_count": 8,
   "metadata": {},
   "outputs": [],
   "source": [
    "X_train, X_test, y_train, y_test = train_test_split(X,\n",
    "                                                   y,\n",
    "                                                   random_state = 42,\n",
    "                                                   test_size=0.33,\n",
    "                                                   shuffle = True,\n",
    "                                                   stratify = y)"
   ]
  },
  {
   "cell_type": "markdown",
   "metadata": {},
   "source": [
    "### Comments:\n",
    "\n",
    "A train test split will be utilized to train the model and see how the model performs with 'unseen' (test) inputs."
   ]
  },
  {
   "cell_type": "markdown",
   "metadata": {},
   "source": [
    "### 3.2 Baseline model"
   ]
  },
  {
   "cell_type": "code",
   "execution_count": 9,
   "metadata": {
    "scrolled": true
   },
   "outputs": [
    {
     "data": {
      "text/plain": [
       "1    0.50538\n",
       "0    0.49462\n",
       "Name: subreddit_type, dtype: float64"
      ]
     },
     "execution_count": 9,
     "metadata": {},
     "output_type": "execute_result"
    }
   ],
   "source": [
    "y.value_counts(normalize = True)"
   ]
  },
  {
   "cell_type": "markdown",
   "metadata": {},
   "source": [
    "### Comments:\n",
    "\n",
    "The baseline accuracy is the percentage of the majority class-Costco which is 50.5%. It serves as the benchmark for my model to beat."
   ]
  },
  {
   "cell_type": "markdown",
   "metadata": {},
   "source": [
    "### 3.3 Model Evaluation Metrics"
   ]
  },
  {
   "cell_type": "markdown",
   "metadata": {},
   "source": [
    "A confusion matrix is a table that is often used to describe the performance of a classification model (or \"classifier\") on a set of test data for which the true values are known, and by looking at the ROC curve and we can determine whether our ROC curve is good or not by looking at AUC (Area Under the Curve). \n",
    "\n",
    "These are 4 parameters for a confusion matrix: True Positives (TP),True Negatives (TN),False Positives (FP) & False Negatives (FN).False positives and false negatives, these values occur when your actual class contradicts with the predicted class.\n",
    "With these 4 parameters We can calculate Accuracy, Precision, Recall and F1 score.\n",
    "\n",
    "Accuracy= TP+TN/TP+FP+FN+TN - Accuracy is the most intuitive performance measure and it is simply a ratio of correctly predicted observation to the total observations. One may think that, if we have high accuracy then our model is best. Yes, accuracy is a great measure but only when you have symmetric datasets where values of false positive and false negatives are almost same. Therefore, you have to look at other parameters to evaluate the performance of your model. \n",
    "\n",
    "Precision=TP/TP+FP - Precision is the ratio of correctly predicted positive observations to the total predicted positive observations. The question that this metric answer is of all posts that labeled as Walmart or Costco, how many actually corrected labeled? High precision relates to the low false positive rate. \n",
    "\n",
    "Recall (Sensitivity)= TP/TP+FN - Recall is the ratio of correctly predicted positive observations to the all observations in actual class.\n",
    "\n",
    "F1 score - F1 Score is the weighted average of Precision and Recall. Therefore, this score takes both false positives and false negatives into account. Intuitively it is not as easy to understand as accuracy, but F1 is usually more useful than accuracy, especially if you have an uneven class distribution. Accuracy works best if false positives and false negatives have similar cost. If the cost of false positives and false negatives are very different, it’s better to look at both Precision and Recall. \n",
    "\n",
    "**I will use F1 Score as my different model evaluations metric**"
   ]
  },
  {
   "cell_type": "markdown",
   "metadata": {},
   "source": [
    "### 3.4 Stopwords"
   ]
  },
  {
   "cell_type": "markdown",
   "metadata": {},
   "source": [
    "Same as what I used in Exploratory Data Analysis portion, I used the same Stopwords list with the combination of stopwords from 3 different libraries: nltk, spacy & sklearn."
   ]
  },
  {
   "cell_type": "code",
   "execution_count": 10,
   "metadata": {},
   "outputs": [],
   "source": [
    "def get_stopwords():\n",
    "    nltk_stopwords = set(stopwords.words('english'))\n",
    "    spacy_stopwords = spacy.lang.en.stop_words.STOP_WORDS\n",
    "    sklearn_stopwords = set(ENGLISH_STOP_WORDS)\n",
    "\n",
    "    all_stopwords = set()\n",
    "    all_stopwords |= spacy_stopwords\n",
    "    all_stopwords |= nltk_stopwords\n",
    "    all_stopwords |= sklearn_stopwords\n",
    "\n",
    "    return all_stopwords \n",
    "\n",
    "all_stopwords = get_stopwords()"
   ]
  },
  {
   "cell_type": "code",
   "execution_count": 11,
   "metadata": {},
   "outputs": [],
   "source": [
    "# Update stopwords as they repeated with high frequency in the text but not much meaning \n",
    "all_stopwords.update(['www', 'costco', 'wa', 'doe','ha','know',\n",
    "                      'told','feel','like','tikok','com', 'webp', 'amp', 'html', 'her','walmart', \"wal\",\"mart\"])"
   ]
  },
  {
   "cell_type": "code",
   "execution_count": 12,
   "metadata": {},
   "outputs": [],
   "source": [
    "all_stopwords = list(all_stopwords)"
   ]
  },
  {
   "cell_type": "markdown",
   "metadata": {},
   "source": [
    "### 3.5 CountVectorize"
   ]
  },
  {
   "cell_type": "markdown",
   "metadata": {},
   "source": [
    "The count vectorizer has been used before in the exploratory data analysis portion because it examines a corpus, which is a collection of documents, and returns a vectorized array of the most prominent words and the count of those words accross each document. It is a necessary step in order to create an array for classification, because we cannot simply stick in words of text into classification model."
   ]
  },
  {
   "cell_type": "markdown",
   "metadata": {},
   "source": [
    "#### 3.5.1 Navie Bayes "
   ]
  },
  {
   "cell_type": "code",
   "execution_count": 13,
   "metadata": {},
   "outputs": [],
   "source": [
    "pipe = Pipeline([\n",
    "    ('cvec', CountVectorizer(token_pattern=r'[a-zA-Z]{2,}', analyzer = \"word\", stop_words=all_stopwords)),\n",
    "    ('nb', MultinomialNB())\n",
    "])\n",
    "\n",
    "pipe_params = {\n",
    "    'cvec__max_features': [2_000, 3_000, 4_000, 5_000],\n",
    "    'cvec__min_df': [2, 3, 4, 6],\n",
    "    'cvec__max_df': [.03, .05, .1,.2, 0.8, 0.85, 0.9],\n",
    "    'cvec__ngram_range': [(1,1),(1,2),(2,3)]\n",
    "}\n",
    "\n",
    "rscv = RandomizedSearchCV(pipe, # what object are we optimizing?\n",
    "                  param_distributions =pipe_params, # what parameters values are we searching?\n",
    "                  cv=5) # 5-fold cross-validation."
   ]
  },
  {
   "cell_type": "code",
   "execution_count": 14,
   "metadata": {},
   "outputs": [
    {
     "data": {
      "text/plain": [
       "RandomizedSearchCV(cv=5,\n",
       "                   estimator=Pipeline(steps=[('cvec',\n",
       "                                              CountVectorizer(stop_words=['but',\n",
       "                                                                          'alone',\n",
       "                                                                          'down',\n",
       "                                                                          'ca',\n",
       "                                                                          'hence',\n",
       "                                                                          'know',\n",
       "                                                                          'all',\n",
       "                                                                          'none',\n",
       "                                                                          'seem',\n",
       "                                                                          'can',\n",
       "                                                                          '‘d',\n",
       "                                                                          \"she's\",\n",
       "                                                                          'sometimes',\n",
       "                                                                          'un',\n",
       "                                                                          \"'ve\",\n",
       "                                                                          'thence',\n",
       "                                                                          'didn',\n",
       "                                                                          'co',\n",
       "                                                                          'latter',\n",
       "                                                                          'still',\n",
       "                                                                          'something',\n",
       "                                                                          'else',\n",
       "                                                                          'thus',\n",
       "                                                                          'into',\n",
       "                                                                          'became',\n",
       "                                                                          'moreover',\n",
       "                                                                          'make',\n",
       "                                                                          'thereafter',\n",
       "                                                                          'around',\n",
       "                                                                          'less', ...],\n",
       "                                                              token_pattern='[a-zA-Z]{2,}')),\n",
       "                                             ('nb', MultinomialNB())]),\n",
       "                   param_distributions={'cvec__max_df': [0.03, 0.05, 0.1, 0.2,\n",
       "                                                         0.8, 0.85, 0.9],\n",
       "                                        'cvec__max_features': [2000, 3000, 4000,\n",
       "                                                               5000],\n",
       "                                        'cvec__min_df': [2, 3, 4, 6],\n",
       "                                        'cvec__ngram_range': [(1, 1), (1, 2),\n",
       "                                                              (2, 3)]})"
      ]
     },
     "execution_count": 14,
     "metadata": {},
     "output_type": "execute_result"
    }
   ],
   "source": [
    "# Fit GridSearch to training data.\n",
    "rscv.fit(X_train, y_train)"
   ]
  },
  {
   "cell_type": "code",
   "execution_count": 15,
   "metadata": {},
   "outputs": [
    {
     "name": "stdout",
     "output_type": "stream",
     "text": [
      "MultinomialNB with CountVectorize-train score: 0.869\n",
      "MultinomialNB with CountVectorize-test score: 0.858\n",
      "MultinomialNB by RandomizedGridSearchCV best params: {'cvec__ngram_range': (1, 1), 'cvec__min_df': 2, 'cvec__max_features': 4000, 'cvec__max_df': 0.1}\n"
     ]
    }
   ],
   "source": [
    "print(f'MultinomialNB with CountVectorize-train score: {round(rscv.best_score_,3)}')\n",
    "print(f'MultinomialNB with CountVectorize-test score: {round(rscv.score(X_test, y_test),3)}')\n",
    "print(f'MultinomialNB by RandomizedGridSearchCV best params: {rscv.best_params_}')"
   ]
  },
  {
   "cell_type": "code",
   "execution_count": 16,
   "metadata": {},
   "outputs": [
    {
     "name": "stdout",
     "output_type": "stream",
     "text": [
      "           precision    recall  f1-score     support\n",
      "Predict 0   0.831683  0.893617  0.861538  470.000000\n",
      "Predict 1   0.887892  0.823285  0.854369  481.000000\n",
      "accuracy    0.858044  0.858044  0.858044    0.858044\n"
     ]
    }
   ],
   "source": [
    "report = classification_report(y_test,rscv.best_estimator_.predict(X_test), target_names=['Predict 0', 'Predict 1'], output_dict=True)\n",
    "class_table = pd.DataFrame(report).transpose().drop(['macro avg','weighted avg'],axis=0)\n",
    "print(class_table)"
   ]
  },
  {
   "cell_type": "markdown",
   "metadata": {},
   "source": [
    "### Comments:\n",
    "\n",
    "- The model fits quite well, has a high mean accuracy score of 0.869 and 0.858 for test score.\n",
    "- The model also has a higher recall-0.89 for Costco. (the % of positive cases model been labeled)\n",
    "- The model has a higher precision-0.88 for Walmart. (the % of the model prediction is correct)"
   ]
  },
  {
   "cell_type": "markdown",
   "metadata": {},
   "source": [
    "#### 3.5.2 Random Forest"
   ]
  },
  {
   "cell_type": "code",
   "execution_count": 17,
   "metadata": {},
   "outputs": [],
   "source": [
    "pipe = Pipeline([\n",
    "    ('cvec', CountVectorizer(token_pattern=r'[a-zA-Z]{2,}', analyzer = \"word\", stop_words=all_stopwords)),\n",
    "    ('rf', RandomForestClassifier(random_state = 42))\n",
    "])\n",
    "\n",
    "pipe_params = {\n",
    "    'rf__n_estimators':[100, 150, 200],\n",
    "    'rf__max_depth': [None, 50, 100],\n",
    "    'rf__max_features': ['auto', 10, 20, 50],\n",
    "    'rf__min_samples_split':[2, 25, 40, 50, 70],\n",
    "    'rf__min_samples_leaf': [1],\n",
    "    'cvec__max_features': [2_000, 3_000, 4_000, 5_000],\n",
    "    'cvec__min_df': [2, 3, 4, 6],\n",
    "    'cvec__max_df': [.03, .05, .1,.2, 0.8, 0.85, 0.9],\n",
    "    'cvec__ngram_range': [(1,1),(1,2),(2,3)]\n",
    "}\n",
    "\n",
    "rscv = RandomizedSearchCV(pipe, # what object are we optimizing?\n",
    "                  param_distributions=pipe_params, # what parameters values are we searching?\n",
    "                  n_iter = 50,\n",
    "                  cv=5) # 5-fold cross-validation."
   ]
  },
  {
   "cell_type": "code",
   "execution_count": 18,
   "metadata": {},
   "outputs": [
    {
     "data": {
      "text/plain": [
       "RandomizedSearchCV(cv=5,\n",
       "                   estimator=Pipeline(steps=[('cvec',\n",
       "                                              CountVectorizer(stop_words=['but',\n",
       "                                                                          'alone',\n",
       "                                                                          'down',\n",
       "                                                                          'ca',\n",
       "                                                                          'hence',\n",
       "                                                                          'know',\n",
       "                                                                          'all',\n",
       "                                                                          'none',\n",
       "                                                                          'seem',\n",
       "                                                                          'can',\n",
       "                                                                          '‘d',\n",
       "                                                                          \"she's\",\n",
       "                                                                          'sometimes',\n",
       "                                                                          'un',\n",
       "                                                                          \"'ve\",\n",
       "                                                                          'thence',\n",
       "                                                                          'didn',\n",
       "                                                                          'co',\n",
       "                                                                          'latter',\n",
       "                                                                          'still',\n",
       "                                                                          'something',\n",
       "                                                                          'else',\n",
       "                                                                          'thus',\n",
       "                                                                          'into',\n",
       "                                                                          'became',\n",
       "                                                                          'moreover',\n",
       "                                                                          'make',\n",
       "                                                                          'thereafter',\n",
       "                                                                          'around',\n",
       "                                                                          'less', ...],\n",
       "                                                              token_pattern='[a-zA-Z]{2,}')...\n",
       "                   n_iter=50,\n",
       "                   param_distributions={'cvec__max_df': [0.03, 0.05, 0.1, 0.2,\n",
       "                                                         0.8, 0.85, 0.9],\n",
       "                                        'cvec__max_features': [2000, 3000, 4000,\n",
       "                                                               5000],\n",
       "                                        'cvec__min_df': [2, 3, 4, 6],\n",
       "                                        'cvec__ngram_range': [(1, 1), (1, 2),\n",
       "                                                              (2, 3)],\n",
       "                                        'rf__max_depth': [None, 50, 100],\n",
       "                                        'rf__max_features': ['auto', 10, 20,\n",
       "                                                             50],\n",
       "                                        'rf__min_samples_leaf': [1],\n",
       "                                        'rf__min_samples_split': [2, 25, 40, 50,\n",
       "                                                                  70],\n",
       "                                        'rf__n_estimators': [100, 150, 200]})"
      ]
     },
     "execution_count": 18,
     "metadata": {},
     "output_type": "execute_result"
    }
   ],
   "source": [
    "rscv.fit(X_train, y_train)"
   ]
  },
  {
   "cell_type": "code",
   "execution_count": 19,
   "metadata": {},
   "outputs": [
    {
     "name": "stdout",
     "output_type": "stream",
     "text": [
      "RandomForest with CountVectorize-train score: 0.837\n",
      "RandomForest with CountVectorize-test score: 0.842\n",
      "RandomForest by RandomizedGridSearchCV best params: {'rf__n_estimators': 200, 'rf__min_samples_split': 50, 'rf__min_samples_leaf': 1, 'rf__max_features': 10, 'rf__max_depth': 100, 'cvec__ngram_range': (1, 2), 'cvec__min_df': 4, 'cvec__max_features': 4000, 'cvec__max_df': 0.85}\n"
     ]
    }
   ],
   "source": [
    "print(f'RandomForest with CountVectorize-train score: {round(rscv.best_score_,3)}')\n",
    "print(f'RandomForest with CountVectorize-test score: {round(rscv.score(X_test, y_test),3)}')\n",
    "print(f'RandomForest by RandomizedGridSearchCV best params: {rscv.best_params_}')"
   ]
  },
  {
   "cell_type": "code",
   "execution_count": 20,
   "metadata": {},
   "outputs": [
    {
     "name": "stdout",
     "output_type": "stream",
     "text": [
      "           precision    recall  f1-score     support\n",
      "Predict 0   0.840426  0.840426  0.840426  470.000000\n",
      "Predict 1   0.844075  0.844075  0.844075  481.000000\n",
      "accuracy    0.842271  0.842271  0.842271    0.842271\n"
     ]
    }
   ],
   "source": [
    "report = classification_report(y_test,rscv.best_estimator_.predict(X_test), target_names=['Predict 0', 'Predict 1'], output_dict=True)\n",
    "class_table = pd.DataFrame(report).transpose().drop(['macro avg','weighted avg'],axis=0)\n",
    "print(class_table)"
   ]
  },
  {
   "cell_type": "markdown",
   "metadata": {},
   "source": [
    "### Comments:\n",
    "\n",
    "- The model fits quite well, has a high mean accuracy score of 0.837 and 0.842 for test score. But it's slightly lower than MultinomialNB model.\n",
    "- The model also has a higher recall-0.844 for Walmart. (the % of positive cases model been labeled)\n",
    "- The model has a higher precision-0.844 for Walmart. (the % of the model prediction is correct)"
   ]
  },
  {
   "cell_type": "markdown",
   "metadata": {},
   "source": [
    "#### 3.5.3 Logistic Regression"
   ]
  },
  {
   "cell_type": "code",
   "execution_count": 21,
   "metadata": {},
   "outputs": [],
   "source": [
    "pipe = Pipeline([\n",
    "    ('cvec', CountVectorizer(token_pattern=r'[a-zA-Z]{2,}', analyzer = \"word\", stop_words=all_stopwords)),\n",
    "    ('lr', LogisticRegression(solver='lbfgs')) # For multiclass problems, only ‘newton-cg’, ‘sag’, ‘saga’ and ‘lbfgs’ handle multinomial loss\n",
    "])\n",
    "\n",
    "pipe_params = {\n",
    "    'cvec__max_features': [1_000,2_000, 3_000, 4_000, 5_000],\n",
    "    'cvec__min_df': [2, 4, 6],\n",
    "    'cvec__max_df': [.8, .85,.9],\n",
    "    'cvec__ngram_range': [(1,1),(1,2),(2,3)]\n",
    "}\n",
    "\n",
    "rscv = RandomizedSearchCV(pipe, # what object are we optimizing?\n",
    "                  param_distributions =pipe_params, # what parameters values are we searching?\n",
    "                  cv=5, # 5-fold cross-validation.\n",
    "                  n_jobs=-1) "
   ]
  },
  {
   "cell_type": "code",
   "execution_count": 22,
   "metadata": {},
   "outputs": [
    {
     "data": {
      "text/plain": [
       "RandomizedSearchCV(cv=5,\n",
       "                   estimator=Pipeline(steps=[('cvec',\n",
       "                                              CountVectorizer(stop_words=['but',\n",
       "                                                                          'alone',\n",
       "                                                                          'down',\n",
       "                                                                          'ca',\n",
       "                                                                          'hence',\n",
       "                                                                          'know',\n",
       "                                                                          'all',\n",
       "                                                                          'none',\n",
       "                                                                          'seem',\n",
       "                                                                          'can',\n",
       "                                                                          '‘d',\n",
       "                                                                          \"she's\",\n",
       "                                                                          'sometimes',\n",
       "                                                                          'un',\n",
       "                                                                          \"'ve\",\n",
       "                                                                          'thence',\n",
       "                                                                          'didn',\n",
       "                                                                          'co',\n",
       "                                                                          'latter',\n",
       "                                                                          'still',\n",
       "                                                                          'something',\n",
       "                                                                          'else',\n",
       "                                                                          'thus',\n",
       "                                                                          'into',\n",
       "                                                                          'became',\n",
       "                                                                          'moreover',\n",
       "                                                                          'make',\n",
       "                                                                          'thereafter',\n",
       "                                                                          'around',\n",
       "                                                                          'less', ...],\n",
       "                                                              token_pattern='[a-zA-Z]{2,}')),\n",
       "                                             ('lr', LogisticRegression())]),\n",
       "                   n_jobs=-1,\n",
       "                   param_distributions={'cvec__max_df': [0.8, 0.85, 0.9],\n",
       "                                        'cvec__max_features': [1000, 2000, 3000,\n",
       "                                                               4000, 5000],\n",
       "                                        'cvec__min_df': [2, 4, 6],\n",
       "                                        'cvec__ngram_range': [(1, 1), (1, 2),\n",
       "                                                              (2, 3)]})"
      ]
     },
     "execution_count": 22,
     "metadata": {},
     "output_type": "execute_result"
    }
   ],
   "source": [
    "rscv.fit(X_train, y_train)"
   ]
  },
  {
   "cell_type": "code",
   "execution_count": 23,
   "metadata": {},
   "outputs": [
    {
     "name": "stdout",
     "output_type": "stream",
     "text": [
      "LogisticsRegression with CountVectorize-train score: 0.848\n",
      "LogisticsRegression with CountVectorize-test score: 0.825\n",
      "LogisticsRegression by RandomizedGridSearchCV best params: {'cvec__ngram_range': (1, 1), 'cvec__min_df': 2, 'cvec__max_features': 4000, 'cvec__max_df': 0.9}\n"
     ]
    }
   ],
   "source": [
    "print(f'LogisticsRegression with CountVectorize-train score: {round(rscv.best_score_,3)}')\n",
    "print(f'LogisticsRegression with CountVectorize-test score: {round(rscv.score(X_test, y_test),3)}')\n",
    "print(f'LogisticsRegression by RandomizedGridSearchCV best params: {rscv.best_params_}')"
   ]
  },
  {
   "cell_type": "code",
   "execution_count": 24,
   "metadata": {},
   "outputs": [
    {
     "name": "stdout",
     "output_type": "stream",
     "text": [
      "           precision    recall  f1-score     support\n",
      "Predict 0   0.816667  0.834043  0.825263  470.000000\n",
      "Predict 1   0.834395  0.817048  0.825630  481.000000\n",
      "accuracy    0.825447  0.825447  0.825447    0.825447\n"
     ]
    }
   ],
   "source": [
    "report = classification_report(y_test,rscv.best_estimator_.predict(X_test), target_names=['Predict 0', 'Predict 1'], output_dict=True)\n",
    "class_table = pd.DataFrame(report).transpose().drop(['macro avg','weighted avg'],axis=0)\n",
    "print(class_table)"
   ]
  },
  {
   "cell_type": "markdown",
   "metadata": {},
   "source": [
    "### Comments:\n",
    "\n",
    "- The model fits quite well, has a high mean accuracy score of 0.848 and 0.824 for test score. But it's slightly lower than MultinomialNB model, and similar to Random Forest model.\n",
    "- The model also has a higher recall-0.83 for Costco. (the % of positive cases model been labeled)\n",
    "- The model has a higher precision-0.83 for Walmart. (the % of the model prediction is correct)"
   ]
  },
  {
   "cell_type": "markdown",
   "metadata": {},
   "source": [
    "#### 3.5.4 KNN"
   ]
  },
  {
   "cell_type": "code",
   "execution_count": 25,
   "metadata": {},
   "outputs": [],
   "source": [
    "pipe = Pipeline([\n",
    "    ('cvec', CountVectorizer(token_pattern=r'[a-zA-Z]{2,}', analyzer = \"word\", stop_words=all_stopwords)),\n",
    "    ('knn', KNeighborsClassifier())\n",
    "])\n",
    "\n",
    "pipe_params = {\n",
    "    'cvec__max_features': [1_000,2_000, 3_000, 4_000, 5_000],\n",
    "    'cvec__min_df': [2, 4, 6],\n",
    "    'cvec__max_df': [.5, .6, .7, .8],\n",
    "    'cvec__ngram_range': [(1,1),(1,2),(2,3)],\n",
    "    'knn__n_neighbors': [10, 25],\n",
    "    'knn__weights':['uniform','distance']\n",
    "}\n",
    "\n",
    "rscv = RandomizedSearchCV(pipe, # what object are we optimizing?\n",
    "                  param_distributions =pipe_params, # what parameters values are we searching?\n",
    "                  cv=5, # 5-fold cross-validation.\n",
    "                  n_jobs=-1) "
   ]
  },
  {
   "cell_type": "code",
   "execution_count": 26,
   "metadata": {},
   "outputs": [
    {
     "data": {
      "text/plain": [
       "RandomizedSearchCV(cv=5,\n",
       "                   estimator=Pipeline(steps=[('cvec',\n",
       "                                              CountVectorizer(stop_words=['but',\n",
       "                                                                          'alone',\n",
       "                                                                          'down',\n",
       "                                                                          'ca',\n",
       "                                                                          'hence',\n",
       "                                                                          'know',\n",
       "                                                                          'all',\n",
       "                                                                          'none',\n",
       "                                                                          'seem',\n",
       "                                                                          'can',\n",
       "                                                                          '‘d',\n",
       "                                                                          \"she's\",\n",
       "                                                                          'sometimes',\n",
       "                                                                          'un',\n",
       "                                                                          \"'ve\",\n",
       "                                                                          'thence',\n",
       "                                                                          'didn',\n",
       "                                                                          'co',\n",
       "                                                                          'latter',\n",
       "                                                                          'still',\n",
       "                                                                          'something',\n",
       "                                                                          'else',\n",
       "                                                                          'thus',\n",
       "                                                                          'into',\n",
       "                                                                          'became',\n",
       "                                                                          'moreover',\n",
       "                                                                          'make',\n",
       "                                                                          'thereafter',\n",
       "                                                                          'around',\n",
       "                                                                          'less', ...],\n",
       "                                                              token_pattern='[a-zA-Z]{2,}')),\n",
       "                                             ('knn', KNeighborsClassifier())]),\n",
       "                   n_jobs=-1,\n",
       "                   param_distributions={'cvec__max_df': [0.5, 0.6, 0.7, 0.8],\n",
       "                                        'cvec__max_features': [1000, 2000, 3000,\n",
       "                                                               4000, 5000],\n",
       "                                        'cvec__min_df': [2, 4, 6],\n",
       "                                        'cvec__ngram_range': [(1, 1), (1, 2),\n",
       "                                                              (2, 3)],\n",
       "                                        'knn__n_neighbors': [10, 25],\n",
       "                                        'knn__weights': ['uniform',\n",
       "                                                         'distance']})"
      ]
     },
     "execution_count": 26,
     "metadata": {},
     "output_type": "execute_result"
    }
   ],
   "source": [
    "rscv.fit(X_train, y_train)"
   ]
  },
  {
   "cell_type": "code",
   "execution_count": 27,
   "metadata": {},
   "outputs": [
    {
     "name": "stdout",
     "output_type": "stream",
     "text": [
      "KNN with CountVectorize-train score: 0.701\n",
      "KNN with CountVectorize-test score: 0.723\n",
      "KNN by RandomizedGridSearchCV best params: {'knn__weights': 'uniform', 'knn__n_neighbors': 10, 'cvec__ngram_range': (1, 2), 'cvec__min_df': 2, 'cvec__max_features': 2000, 'cvec__max_df': 0.5}\n"
     ]
    }
   ],
   "source": [
    "print(f'KNN with CountVectorize-train score: {round(rscv.best_score_,3)}')\n",
    "print(f'KNN with CountVectorize-test score: {round(rscv.score(X_test, y_test),3)}')\n",
    "print(f'KNN by RandomizedGridSearchCV best params: {rscv.best_params_}')"
   ]
  },
  {
   "cell_type": "code",
   "execution_count": 28,
   "metadata": {},
   "outputs": [
    {
     "name": "stdout",
     "output_type": "stream",
     "text": [
      "           precision    recall  f1-score     support\n",
      "Predict 0   0.763359  0.638298  0.695249  470.000000\n",
      "Predict 1   0.695341  0.806653  0.746872  481.000000\n",
      "accuracy    0.723449  0.723449  0.723449    0.723449\n"
     ]
    }
   ],
   "source": [
    "report = classification_report(y_test,rscv.best_estimator_.predict(X_test), target_names=['Predict 0', 'Predict 1'], output_dict=True)\n",
    "class_table = pd.DataFrame(report).transpose().drop(['macro avg','weighted avg'],axis=0)\n",
    "print(class_table)"
   ]
  },
  {
   "cell_type": "markdown",
   "metadata": {},
   "source": [
    "### Comments:\n",
    "\n",
    "- The model fits very bad, seems there's high bias and low variance been captured, it has a low mean accuracy score of 0.701 and 0.723 for test score. It's the lowest score model among of all 4 models. (as all other models fitted quite well, I will assume it's not the data issue)\n",
    "- The model also has a higher recall-0.8 for Walmart. (the % of positive cases model been labeled)\n",
    "- The model has a higher precision-0.76 for Costco. (the % of the model prediction is correct)"
   ]
  },
  {
   "cell_type": "markdown",
   "metadata": {},
   "source": [
    "### Model Summary with Count Vectorizer:\n",
    "\n",
    "Summary of 4 model predictions:\n",
    "\n",
    "|Model|Train Score|Test Score|Accuracy|F1 Score|\n",
    "|---|---|---|---|---|\n",
    "|Navie Bayes          |0.869      |0.858|0.858|0.861\n",
    "|Random Forest        |0.837      |0.842|0.842|0.844\n",
    "|Logistic Regression  |0.848      |0.825|0.825|0.825\n",
    "|KNN |0.702|0.723|0.723|0.74\n",
    "\n",
    "- We can see that MultinomialNB model performed the best among these 4 models. It has the highest mean accuracy score (0.858).\n",
    "- From the time spent for GridSearch, Logistic Regression and KNN spent the least time while Random Forest spent the most time and required a higher computing power if there are large dataset.\n",
    "- It's quite surprised KNN didnot perform so well that it has only 0.711 mean accuracy score, it might because of difficult to calculate the distance between each dimension."
   ]
  },
  {
   "cell_type": "markdown",
   "metadata": {},
   "source": [
    "### 3.6  Term Frequency-Inverse Document Frequency (TF-IDF)"
   ]
  },
  {
   "cell_type": "markdown",
   "metadata": {},
   "source": [
    "#### 3.6.1 Navie Bayes"
   ]
  },
  {
   "cell_type": "code",
   "execution_count": 29,
   "metadata": {},
   "outputs": [],
   "source": [
    "pipe = Pipeline([\n",
    "    ('tfidf', TfidfVectorizer(token_pattern=r'[a-zA-Z]{2,}', analyzer = \"word\", stop_words=all_stopwords)),\n",
    "    ('nb', MultinomialNB())\n",
    "])\n",
    "\n",
    "pipe_params = {\n",
    "    'tfidf__max_features': [1_000,2_000, 3_000, 4_000, 5_000],\n",
    "    'tfidf__min_df': [2, 4, 6],\n",
    "    'tfidf__max_df': [.03, .05, .1,.2],\n",
    "    'tfidf__ngram_range': [(1,1),(1,2),(2,3)]\n",
    "}\n",
    "\n",
    "rscv = RandomizedSearchCV(pipe, # what object are we optimizing?\n",
    "                  param_distributions =pipe_params, # what parameters values are we searching?\n",
    "                  cv=5) # 5-fold cross-validation."
   ]
  },
  {
   "cell_type": "code",
   "execution_count": 30,
   "metadata": {},
   "outputs": [
    {
     "data": {
      "text/plain": [
       "RandomizedSearchCV(cv=5,\n",
       "                   estimator=Pipeline(steps=[('tfidf',\n",
       "                                              TfidfVectorizer(stop_words=['but',\n",
       "                                                                          'alone',\n",
       "                                                                          'down',\n",
       "                                                                          'ca',\n",
       "                                                                          'hence',\n",
       "                                                                          'know',\n",
       "                                                                          'all',\n",
       "                                                                          'none',\n",
       "                                                                          'seem',\n",
       "                                                                          'can',\n",
       "                                                                          '‘d',\n",
       "                                                                          \"she's\",\n",
       "                                                                          'sometimes',\n",
       "                                                                          'un',\n",
       "                                                                          \"'ve\",\n",
       "                                                                          'thence',\n",
       "                                                                          'didn',\n",
       "                                                                          'co',\n",
       "                                                                          'latter',\n",
       "                                                                          'still',\n",
       "                                                                          'something',\n",
       "                                                                          'else',\n",
       "                                                                          'thus',\n",
       "                                                                          'into',\n",
       "                                                                          'became',\n",
       "                                                                          'moreover',\n",
       "                                                                          'make',\n",
       "                                                                          'thereafter',\n",
       "                                                                          'around',\n",
       "                                                                          'less', ...],\n",
       "                                                              token_pattern='[a-zA-Z]{2,}')),\n",
       "                                             ('nb', MultinomialNB())]),\n",
       "                   param_distributions={'tfidf__max_df': [0.03, 0.05, 0.1, 0.2],\n",
       "                                        'tfidf__max_features': [1000, 2000,\n",
       "                                                                3000, 4000,\n",
       "                                                                5000],\n",
       "                                        'tfidf__min_df': [2, 4, 6],\n",
       "                                        'tfidf__ngram_range': [(1, 1), (1, 2),\n",
       "                                                               (2, 3)]})"
      ]
     },
     "execution_count": 30,
     "metadata": {},
     "output_type": "execute_result"
    }
   ],
   "source": [
    "# Fit GridSearch to training data.\n",
    "rscv.fit(X_train, y_train)"
   ]
  },
  {
   "cell_type": "code",
   "execution_count": 31,
   "metadata": {},
   "outputs": [
    {
     "name": "stdout",
     "output_type": "stream",
     "text": [
      "MultinomialNB with Ffidfvectorizer-train score: 0.866\n",
      "MultinomialNB with Ffidfvectorizer-test score: 0.858\n",
      "MultinomialNB by RandomizedGridSearchCV best params: {'tfidf__ngram_range': (1, 2), 'tfidf__min_df': 2, 'tfidf__max_features': 5000, 'tfidf__max_df': 0.2}\n"
     ]
    }
   ],
   "source": [
    "print(f'MultinomialNB with Ffidfvectorizer-train score: {round(rscv.best_score_,3)}')\n",
    "print(f'MultinomialNB with Ffidfvectorizer-test score: {round(rscv.score(X_test, y_test),3)}')\n",
    "print(f'MultinomialNB by RandomizedGridSearchCV best params: {rscv.best_params_}')"
   ]
  },
  {
   "cell_type": "code",
   "execution_count": 32,
   "metadata": {},
   "outputs": [
    {
     "name": "stdout",
     "output_type": "stream",
     "text": [
      "           precision    recall  f1-score     support\n",
      "Predict 0   0.834331  0.889362  0.860968  470.000000\n",
      "Predict 1   0.884444  0.827443  0.854995  481.000000\n",
      "accuracy    0.858044  0.858044  0.858044    0.858044\n"
     ]
    }
   ],
   "source": [
    "report = classification_report(y_test,rscv.best_estimator_.predict(X_test), target_names=['Predict 0', 'Predict 1'], output_dict=True)\n",
    "class_table = pd.DataFrame(report).transpose().drop(['macro avg','weighted avg'],axis=0)\n",
    "print(class_table)"
   ]
  },
  {
   "cell_type": "markdown",
   "metadata": {},
   "source": [
    "### Comments:\n",
    "\n",
    "- The model fits quite well, has a high mean accuracy score of 0.866 and 0.858 for test score. It has a slightly better test score compared to same model with CountVectorizer. \n",
    "- The model also has a higher recall-0.88 for Costco. (the % of positive cases model been labeled)\n",
    "- The model has a higher precision-0.88 for Walmart. (the % of the model prediction is correct)"
   ]
  },
  {
   "cell_type": "markdown",
   "metadata": {},
   "source": [
    "#### 3.6.2 Random Forest"
   ]
  },
  {
   "cell_type": "code",
   "execution_count": 33,
   "metadata": {},
   "outputs": [],
   "source": [
    "pipe = Pipeline([\n",
    "    ('tfidf', TfidfVectorizer(token_pattern=r'[a-zA-Z]{2,}', analyzer = \"word\", stop_words=all_stopwords)),\n",
    "    ('rf', RandomForestClassifier(random_state = 42))\n",
    "])\n",
    "\n",
    "pipe_params = {\n",
    "    'rf__n_estimators':[100, 150, 200],\n",
    "    'rf__max_depth': [None, 50, 100],\n",
    "    'rf__max_features': ['auto', 10, 20, 50],\n",
    "    'rf__min_samples_split':[2, 25, 40, 50, 70],\n",
    "    'rf__min_samples_leaf': [1],\n",
    "    'tfidf__max_features': [1_000, 2_000, 3_000, 4_000, 5_000],\n",
    "    'tfidf__min_df': [2, 3, 4, 6],\n",
    "    'tfidf__max_df': [.03, .05, .1,.2, 0.8, 0.85, 0.9],\n",
    "    'tfidf__ngram_range': [(1,1),(1,2),(2,3)]\n",
    "}\n",
    "\n",
    "rscv = RandomizedSearchCV(pipe, # what object are we optimizing?\n",
    "                  param_distributions=pipe_params, # what parameters values are we searching?\n",
    "                  n_iter = 50,\n",
    "                  cv=5) # 5-fold cross-validation."
   ]
  },
  {
   "cell_type": "code",
   "execution_count": 34,
   "metadata": {},
   "outputs": [
    {
     "data": {
      "text/plain": [
       "RandomizedSearchCV(cv=5,\n",
       "                   estimator=Pipeline(steps=[('tfidf',\n",
       "                                              TfidfVectorizer(stop_words=['but',\n",
       "                                                                          'alone',\n",
       "                                                                          'down',\n",
       "                                                                          'ca',\n",
       "                                                                          'hence',\n",
       "                                                                          'know',\n",
       "                                                                          'all',\n",
       "                                                                          'none',\n",
       "                                                                          'seem',\n",
       "                                                                          'can',\n",
       "                                                                          '‘d',\n",
       "                                                                          \"she's\",\n",
       "                                                                          'sometimes',\n",
       "                                                                          'un',\n",
       "                                                                          \"'ve\",\n",
       "                                                                          'thence',\n",
       "                                                                          'didn',\n",
       "                                                                          'co',\n",
       "                                                                          'latter',\n",
       "                                                                          'still',\n",
       "                                                                          'something',\n",
       "                                                                          'else',\n",
       "                                                                          'thus',\n",
       "                                                                          'into',\n",
       "                                                                          'became',\n",
       "                                                                          'moreover',\n",
       "                                                                          'make',\n",
       "                                                                          'thereafter',\n",
       "                                                                          'around',\n",
       "                                                                          'less', ...],\n",
       "                                                              token_pattern='[a-zA-Z]{2,}'...\n",
       "                   param_distributions={'rf__max_depth': [None, 50, 100],\n",
       "                                        'rf__max_features': ['auto', 10, 20,\n",
       "                                                             50],\n",
       "                                        'rf__min_samples_leaf': [1],\n",
       "                                        'rf__min_samples_split': [2, 25, 40, 50,\n",
       "                                                                  70],\n",
       "                                        'rf__n_estimators': [100, 150, 200],\n",
       "                                        'tfidf__max_df': [0.03, 0.05, 0.1, 0.2,\n",
       "                                                          0.8, 0.85, 0.9],\n",
       "                                        'tfidf__max_features': [1000, 2000,\n",
       "                                                                3000, 4000,\n",
       "                                                                5000],\n",
       "                                        'tfidf__min_df': [2, 3, 4, 6],\n",
       "                                        'tfidf__ngram_range': [(1, 1), (1, 2),\n",
       "                                                               (2, 3)]})"
      ]
     },
     "execution_count": 34,
     "metadata": {},
     "output_type": "execute_result"
    }
   ],
   "source": [
    "# Fit GridSearch to training data.\n",
    "rscv.fit(X_train, y_train)"
   ]
  },
  {
   "cell_type": "code",
   "execution_count": 35,
   "metadata": {},
   "outputs": [
    {
     "name": "stdout",
     "output_type": "stream",
     "text": [
      "RandomForest with Ffidfvectorizer-train score: 0.842\n",
      "RandomForest with Ffidfvectorizer-test score: 0.825\n",
      "RandomForest by RandomizedGridSearchCV best params: {'tfidf__ngram_range': (1, 2), 'tfidf__min_df': 2, 'tfidf__max_features': 4000, 'tfidf__max_df': 0.8, 'rf__n_estimators': 150, 'rf__min_samples_split': 25, 'rf__min_samples_leaf': 1, 'rf__max_features': 10, 'rf__max_depth': 100}\n"
     ]
    }
   ],
   "source": [
    "print(f'RandomForest with Ffidfvectorizer-train score: {round(rscv.best_score_,3)}')\n",
    "print(f'RandomForest with Ffidfvectorizer-test score: {round(rscv.score(X_test, y_test),3)}')\n",
    "print(f'RandomForest by RandomizedGridSearchCV best params: {rscv.best_params_}')"
   ]
  },
  {
   "cell_type": "code",
   "execution_count": 36,
   "metadata": {},
   "outputs": [
    {
     "name": "stdout",
     "output_type": "stream",
     "text": [
      "           precision    recall  f1-score     support\n",
      "Predict 0   0.837778  0.802128  0.819565  470.000000\n",
      "Predict 1   0.814371  0.848233  0.830957  481.000000\n",
      "accuracy    0.825447  0.825447  0.825447    0.825447\n"
     ]
    }
   ],
   "source": [
    "report = classification_report(y_test,rscv.best_estimator_.predict(X_test), target_names=['Predict 0', 'Predict 1'], output_dict=True)\n",
    "class_table = pd.DataFrame(report).transpose().drop(['macro avg','weighted avg'],axis=0)\n",
    "print(class_table)"
   ]
  },
  {
   "cell_type": "markdown",
   "metadata": {},
   "source": [
    "### Comments:\n",
    "\n",
    "- The model fits quite well, has a high mean accuracy score of 0.842 and 0.825 for test score. But it's slightly lower than same model with CountVectorizer.\n",
    "- The model also has a higher recall-0.837 for Walmart. (the % of positive cases model been labeled)\n",
    "- The model has a higher precision-0.848 for Walmart. (the % of the model prediction is correct)"
   ]
  },
  {
   "cell_type": "markdown",
   "metadata": {},
   "source": [
    "#### 3.6.3 Logistic Regression"
   ]
  },
  {
   "cell_type": "code",
   "execution_count": 37,
   "metadata": {},
   "outputs": [],
   "source": [
    "pipe = Pipeline([\n",
    "    ('tfidf', TfidfVectorizer(token_pattern=r'[a-zA-Z]{2,}', analyzer = \"word\", stop_words=all_stopwords)),\n",
    "    ('lr', LogisticRegression(solver='lbfgs')) # For multiclass problems, only ‘newton-cg’, ‘sag’, ‘saga’ and ‘lbfgs’ handle multinomial loss\n",
    "])\n",
    "\n",
    "pipe_params = {\n",
    "    'tfidf__max_features': [1_000,2_000, 3_000, 4_000, 5_000],\n",
    "    'tfidf__min_df': [2,3, 4, 6],\n",
    "    'tfidf__max_df': [.8, .85,.9],\n",
    "    'tfidf__ngram_range': [(1,1),(1,2),(2,3)],\n",
    "}\n",
    "\n",
    "rscv = RandomizedSearchCV(pipe, # what object are we optimizing?\n",
    "                  param_distributions =pipe_params, # what parameters values are we searching?\n",
    "                  cv=5, # 5-fold cross-validation.\n",
    "                  n_jobs=-1) "
   ]
  },
  {
   "cell_type": "code",
   "execution_count": 38,
   "metadata": {},
   "outputs": [
    {
     "data": {
      "text/plain": [
       "RandomizedSearchCV(cv=5,\n",
       "                   estimator=Pipeline(steps=[('tfidf',\n",
       "                                              TfidfVectorizer(stop_words=['but',\n",
       "                                                                          'alone',\n",
       "                                                                          'down',\n",
       "                                                                          'ca',\n",
       "                                                                          'hence',\n",
       "                                                                          'know',\n",
       "                                                                          'all',\n",
       "                                                                          'none',\n",
       "                                                                          'seem',\n",
       "                                                                          'can',\n",
       "                                                                          '‘d',\n",
       "                                                                          \"she's\",\n",
       "                                                                          'sometimes',\n",
       "                                                                          'un',\n",
       "                                                                          \"'ve\",\n",
       "                                                                          'thence',\n",
       "                                                                          'didn',\n",
       "                                                                          'co',\n",
       "                                                                          'latter',\n",
       "                                                                          'still',\n",
       "                                                                          'something',\n",
       "                                                                          'else',\n",
       "                                                                          'thus',\n",
       "                                                                          'into',\n",
       "                                                                          'became',\n",
       "                                                                          'moreover',\n",
       "                                                                          'make',\n",
       "                                                                          'thereafter',\n",
       "                                                                          'around',\n",
       "                                                                          'less', ...],\n",
       "                                                              token_pattern='[a-zA-Z]{2,}')),\n",
       "                                             ('lr', LogisticRegression())]),\n",
       "                   n_jobs=-1,\n",
       "                   param_distributions={'tfidf__max_df': [0.8, 0.85, 0.9],\n",
       "                                        'tfidf__max_features': [1000, 2000,\n",
       "                                                                3000, 4000,\n",
       "                                                                5000],\n",
       "                                        'tfidf__min_df': [2, 3, 4, 6],\n",
       "                                        'tfidf__ngram_range': [(1, 1), (1, 2),\n",
       "                                                               (2, 3)]})"
      ]
     },
     "execution_count": 38,
     "metadata": {},
     "output_type": "execute_result"
    }
   ],
   "source": [
    "# Fit GridSearch to training data.\n",
    "rscv.fit(X_train, y_train)"
   ]
  },
  {
   "cell_type": "code",
   "execution_count": 39,
   "metadata": {},
   "outputs": [
    {
     "name": "stdout",
     "output_type": "stream",
     "text": [
      "LogisticsRegression with Ffidfvectorizer-train score: 0.856\n",
      "LogisticsRegression with Ffidfvectorizer-test score: 0.849\n",
      "LogisticsRegression by RandomizedGridSearchCV best params: {'tfidf__ngram_range': (1, 2), 'tfidf__min_df': 2, 'tfidf__max_features': 2000, 'tfidf__max_df': 0.8}\n"
     ]
    }
   ],
   "source": [
    "print(f'LogisticsRegression with Ffidfvectorizer-train score: {round(rscv.best_score_,3)}')\n",
    "print(f'LogisticsRegression with Ffidfvectorizer-test score: {round(rscv.score(X_test, y_test),3)}')\n",
    "print(f'LogisticsRegression by RandomizedGridSearchCV best params: {rscv.best_params_}')"
   ]
  },
  {
   "cell_type": "code",
   "execution_count": 40,
   "metadata": {},
   "outputs": [
    {
     "name": "stdout",
     "output_type": "stream",
     "text": [
      "           precision    recall  f1-score    support\n",
      "Predict 0   0.843882  0.851064  0.847458  470.00000\n",
      "Predict 1   0.853249  0.846154  0.849687  481.00000\n",
      "accuracy    0.848580  0.848580  0.848580    0.84858\n"
     ]
    }
   ],
   "source": [
    "report = classification_report(y_test,rscv.best_estimator_.predict(X_test), target_names=['Predict 0', 'Predict 1'], output_dict=True)\n",
    "class_table = pd.DataFrame(report).transpose().drop(['macro avg','weighted avg'],axis=0)\n",
    "print(class_table)"
   ]
  },
  {
   "cell_type": "markdown",
   "metadata": {},
   "source": [
    "### Comments:\n",
    "\n",
    "- The model fits quite well, has a high mean accuracy score of 0.856 and 0.849 for test score. But it's slightly lower score compared to same model using Count Vectorizer in unseen test data.\n",
    "- The model also has a higher recall-0.85 for Walmart. (the % of positive cases model been labeled)\n",
    "- The model has a higher precision-0.85 for Walmart. (the % of the model prediction is correct)"
   ]
  },
  {
   "cell_type": "markdown",
   "metadata": {},
   "source": [
    "#### 3.5.5 KNN"
   ]
  },
  {
   "cell_type": "code",
   "execution_count": 41,
   "metadata": {},
   "outputs": [],
   "source": [
    "pipe = Pipeline([\n",
    "    ('tfidf', TfidfVectorizer(token_pattern=r'[a-zA-Z]{2,}', analyzer = \"word\", stop_words=all_stopwords)),\n",
    "    ('knn', KNeighborsClassifier())\n",
    "])\n",
    "\n",
    "pipe_params = {\n",
    "    'tfidf__max_features': [1_000,2_000, 3_000, 4_000, 5_000],\n",
    "    'tfidf__min_df': [2, 3, 4, 6],\n",
    "    'tfidf__max_df': [.5, .6, .7, .8,.95],\n",
    "    'tfidf__ngram_range': [(1,1),(1,2),(2,3)],\n",
    "    'knn__n_neighbors': [5, 6],\n",
    "    'knn__weights':['uniform','distance']\n",
    "}\n",
    "\n",
    "rscv = RandomizedSearchCV(pipe, # what object are we optimizing?\n",
    "                  param_distributions =pipe_params, # what parameters values are we searching?\n",
    "                  cv=5, # 5-fold cross-validation.\n",
    "                  n_jobs=-1) "
   ]
  },
  {
   "cell_type": "code",
   "execution_count": 42,
   "metadata": {},
   "outputs": [
    {
     "data": {
      "text/plain": [
       "RandomizedSearchCV(cv=5,\n",
       "                   estimator=Pipeline(steps=[('tfidf',\n",
       "                                              TfidfVectorizer(stop_words=['but',\n",
       "                                                                          'alone',\n",
       "                                                                          'down',\n",
       "                                                                          'ca',\n",
       "                                                                          'hence',\n",
       "                                                                          'know',\n",
       "                                                                          'all',\n",
       "                                                                          'none',\n",
       "                                                                          'seem',\n",
       "                                                                          'can',\n",
       "                                                                          '‘d',\n",
       "                                                                          \"she's\",\n",
       "                                                                          'sometimes',\n",
       "                                                                          'un',\n",
       "                                                                          \"'ve\",\n",
       "                                                                          'thence',\n",
       "                                                                          'didn',\n",
       "                                                                          'co',\n",
       "                                                                          'latter',\n",
       "                                                                          'still',\n",
       "                                                                          'something',\n",
       "                                                                          'else',\n",
       "                                                                          'thus',\n",
       "                                                                          'into',\n",
       "                                                                          'became',\n",
       "                                                                          'moreover',\n",
       "                                                                          'make',\n",
       "                                                                          'thereafter',\n",
       "                                                                          'around',\n",
       "                                                                          'less', ...],\n",
       "                                                              token_pattern='[a-zA-Z]{2,}')),\n",
       "                                             ('knn', KNeighborsClassifier())]),\n",
       "                   n_jobs=-1,\n",
       "                   param_distributions={'knn__n_neighbors': [5, 6],\n",
       "                                        'knn__weights': ['uniform', 'distance'],\n",
       "                                        'tfidf__max_df': [0.5, 0.6, 0.7, 0.8,\n",
       "                                                          0.95],\n",
       "                                        'tfidf__max_features': [1000, 2000,\n",
       "                                                                3000, 4000,\n",
       "                                                                5000],\n",
       "                                        'tfidf__min_df': [2, 3, 4, 6],\n",
       "                                        'tfidf__ngram_range': [(1, 1), (1, 2),\n",
       "                                                               (2, 3)]})"
      ]
     },
     "execution_count": 42,
     "metadata": {},
     "output_type": "execute_result"
    }
   ],
   "source": [
    "# Fit GridSearch to training data.\n",
    "rscv.fit(X_train, y_train)"
   ]
  },
  {
   "cell_type": "code",
   "execution_count": 67,
   "metadata": {},
   "outputs": [
    {
     "name": "stdout",
     "output_type": "stream",
     "text": [
      "KNN with Ffidfvectorizer-train score: 0.808\n",
      "KNN with Ffidfvectorizer-test score: 0.797\n",
      "KNN by RandomizedGridSearchCV best params: {'tfidf__ngram_range': (1, 2), 'tfidf__min_df': 3, 'tfidf__max_features': 5000, 'tfidf__max_df': 0.5, 'knn__weights': 'uniform', 'knn__n_neighbors': 6}\n"
     ]
    }
   ],
   "source": [
    "print(f'KNN with Ffidfvectorizer-train score: {round(rscv.best_score_,3)}')\n",
    "print(f'KNN with Ffidfvectorizer-test score: {round(rscv.score(X_test, y_test),3)}')\n",
    "print(f'KNN by RandomizedGridSearchCV best params: {rscv.best_params_}')"
   ]
  },
  {
   "cell_type": "code",
   "execution_count": 44,
   "metadata": {},
   "outputs": [
    {
     "name": "stdout",
     "output_type": "stream",
     "text": [
      "           precision    recall  f1-score     support\n",
      "Predict 0   0.747764  0.889362  0.812439  470.000000\n",
      "Predict 1   0.867347  0.706861  0.778923  481.000000\n",
      "accuracy    0.797056  0.797056  0.797056    0.797056\n"
     ]
    }
   ],
   "source": [
    "report = classification_report(y_test,rscv.best_estimator_.predict(X_test), target_names=['Predict 0', 'Predict 1'], output_dict=True)\n",
    "class_table = pd.DataFrame(report).transpose().drop(['macro avg','weighted avg'],axis=0)\n",
    "print(class_table)"
   ]
  },
  {
   "cell_type": "markdown",
   "metadata": {},
   "source": [
    "### Comments:\n",
    "\n",
    "- The model fits well, it has a slightly lower mean accuracy score of 0.808 and 0.779 for test score. It's the lowest score model among of all 4 models. (as all other models fitted quite well, I will assume it's not the data issue)\n",
    "- The model also has a higher recall-0.88 for Costco. (the % of positive cases model been labeled)\n",
    "- The model has a higher precision-0.86 for Walmart. (the % of the model prediction is correct)"
   ]
  },
  {
   "cell_type": "markdown",
   "metadata": {},
   "source": [
    "### Model Summary with TfidF Vectorizer:\n",
    "\n",
    "Summary of 4 model predictions:\n",
    "\n",
    "|Model|Train Score|Test Score|Accuracy|F1 Score|\n",
    "|---|---|---|---|---|\n",
    "|Navie Bayes          |0.866      |0.858|0.858|0.86\n",
    "|Random Forest        |0.842      |0.825|0.825|0.83\n",
    "|Logistic Regression  |0.856      |0.849|0.849|0.85\n",
    "|KNN                  |0.808      |0.797|0.797|0.81\n",
    "\n",
    "- TF-IDF Vectorizer overall improves the model compared to CountVectorizer. (KNN improves a lot while Logistics Regression also has slightly improved)\n",
    "- We can see that both MultinomialNB model & Logistic Regression Model performed the better among these 4 models. They have the highest accuracy Score (0.858) and (0.849).\n",
    "- From the time spent for GridSearch, Logistic Regression and KNN spent the least time while Random Forest spent the most time and required a higher computing power if there are large dataset."
   ]
  },
  {
   "cell_type": "markdown",
   "metadata": {},
   "source": [
    "## 4. Model Tuning & Production Model"
   ]
  },
  {
   "cell_type": "markdown",
   "metadata": {},
   "source": [
    "I will choose the best model derived from above (Logistic Regression with TfidfVectorizer) to conduct further tuning. \n",
    "\n",
    "This includes a histogram plot to display distribution of both the true and predicted value, and a Receiver Operation Characteristic to illustrate the diagnostic ability of a binary classifier system as its discrimination threshold is varied."
   ]
  },
  {
   "cell_type": "code",
   "execution_count": null,
   "metadata": {},
   "outputs": [],
   "source": []
  },
  {
   "cell_type": "code",
   "execution_count": 45,
   "metadata": {},
   "outputs": [],
   "source": [
    "# use the best parameters afte GridSearch\n",
    "tfidf = TfidfVectorizer(token_pattern=r'[a-zA-Z]{2,}',\n",
    "                        analyzer = \"word\",\n",
    "                        stop_words=all_stopwords,\n",
    "                        max_df=0.85,\n",
    "                        min_df=3,\n",
    "                        ngram_range=(1,2),\n",
    "                        max_features=4000)"
   ]
  },
  {
   "cell_type": "code",
   "execution_count": 46,
   "metadata": {},
   "outputs": [
    {
     "data": {
      "text/html": [
       "<div>\n",
       "<style scoped>\n",
       "    .dataframe tbody tr th:only-of-type {\n",
       "        vertical-align: middle;\n",
       "    }\n",
       "\n",
       "    .dataframe tbody tr th {\n",
       "        vertical-align: top;\n",
       "    }\n",
       "\n",
       "    .dataframe thead th {\n",
       "        text-align: right;\n",
       "    }\n",
       "</style>\n",
       "<table border=\"1\" class=\"dataframe\">\n",
       "  <thead>\n",
       "    <tr style=\"text-align: right;\">\n",
       "      <th></th>\n",
       "      <th>precision</th>\n",
       "      <th>recall</th>\n",
       "      <th>f1-score</th>\n",
       "      <th>support</th>\n",
       "    </tr>\n",
       "  </thead>\n",
       "  <tbody>\n",
       "    <tr>\n",
       "      <th>Predict 0</th>\n",
       "      <td>0.849257</td>\n",
       "      <td>0.851064</td>\n",
       "      <td>0.850159</td>\n",
       "      <td>470.000000</td>\n",
       "    </tr>\n",
       "    <tr>\n",
       "      <th>Predict 1</th>\n",
       "      <td>0.854167</td>\n",
       "      <td>0.852391</td>\n",
       "      <td>0.853278</td>\n",
       "      <td>481.000000</td>\n",
       "    </tr>\n",
       "    <tr>\n",
       "      <th>accuracy</th>\n",
       "      <td>0.851735</td>\n",
       "      <td>0.851735</td>\n",
       "      <td>0.851735</td>\n",
       "      <td>0.851735</td>\n",
       "    </tr>\n",
       "  </tbody>\n",
       "</table>\n",
       "</div>"
      ],
      "text/plain": [
       "           precision    recall  f1-score     support\n",
       "Predict 0   0.849257  0.851064  0.850159  470.000000\n",
       "Predict 1   0.854167  0.852391  0.853278  481.000000\n",
       "accuracy    0.851735  0.851735  0.851735    0.851735"
      ]
     },
     "execution_count": 46,
     "metadata": {},
     "output_type": "execute_result"
    }
   ],
   "source": [
    "X_train_c = tfidf.fit_transform(X_train)\n",
    "X_test_c = tfidf.transform(X_test)\n",
    "\n",
    "lr = LogisticRegression(solver='lbfgs')\n",
    "lr.fit(X_train_c, y_train)\n",
    "\n",
    "report = classification_report(y_test, lr.predict(X_test_c), target_names=['Predict 0', 'Predict 1'], output_dict=True)\n",
    "class_table = pd.DataFrame(report).transpose().drop(['macro avg','weighted avg'],axis=0)\n",
    "class_table"
   ]
  },
  {
   "cell_type": "code",
   "execution_count": 47,
   "metadata": {},
   "outputs": [
    {
     "data": {
      "image/png": "[encoded data removed]",
      "text/plain": [
       "<Figure size 432x288 with 1 Axes>"
      ]
     },
     "metadata": {
      "needs_background": "light"
     },
     "output_type": "display_data"
    }
   ],
   "source": [
    "probs = lr.predict_proba(X_test_c)\n",
    "preds = probs[:,1]\n",
    "fpr, tpr, threshold = metrics.roc_curve(y_test, preds)\n",
    "roc_auc = metrics.auc(fpr, tpr)\n",
    "\n",
    "plt.figure()\n",
    "plt.plot(fpr, tpr, label='GridSearchCV (area = %0.2f)' % roc_auc)\n",
    "plt.plot([0, 1], [0, 1],'r--')\n",
    "plt.xlim([0.0, 1.0])\n",
    "plt.ylim([0.0, 1.05])\n",
    "plt.xlabel('False Positive Rate')\n",
    "plt.ylabel('True Positive Rate')\n",
    "plt.title('Receiver operating characteristic')\n",
    "plt.legend(loc=\"lower right\")\n",
    "plt.savefig('Log_ROC')\n",
    "plt.show()"
   ]
  },
  {
   "cell_type": "code",
   "execution_count": 48,
   "metadata": {},
   "outputs": [
    {
     "name": "stdout",
     "output_type": "stream",
     "text": [
      "Best Model-Logistic Regression + TfidfVectorizer with ROC AUC is: 0.933\n"
     ]
    }
   ],
   "source": [
    "print(f\"Best Model-Logistic Regression + TfidfVectorizer with ROC AUC is: {round(roc_auc,3)}\")"
   ]
  },
  {
   "cell_type": "code",
   "execution_count": 49,
   "metadata": {},
   "outputs": [],
   "source": [
    "X_train_tfidf_df_best = pd.DataFrame(X_train_c.todense(), columns=tfidf.get_feature_names())"
   ]
  },
  {
   "cell_type": "code",
   "execution_count": 50,
   "metadata": {},
   "outputs": [],
   "source": [
    "#to get the coefficients df to plot \n",
    "coefficients_df = pd.DataFrame(zip(X_train_tfidf_df_best.columns, np.transpose(lr.coef_)), columns=['features', 'coef'])\n",
    "coefficients_df = coefficients_df.sort_values(by='coef')\n",
    "coefficients_df['coef'] = coefficients_df['coef'].astype(float)"
   ]
  },
  {
   "cell_type": "code",
   "execution_count": 69,
   "metadata": {},
   "outputs": [],
   "source": [
    "#getting top 10 and bottom 10 which is best costco and best walmart \n",
    "coefficients_df_plot = pd.concat([coefficients_df[0:10],coefficients_df[-10:]])\n",
    "coefficients_df_plot = coefficients_df_plot.sort_values(by='coef', ascending=False)"
   ]
  },
  {
   "cell_type": "code",
   "execution_count": 52,
   "metadata": {},
   "outputs": [
    {
     "data": {
      "image/png": "[encoded data removed]",
      "text/plain": [
       "<Figure size 1440x576 with 1 Axes>"
      ]
     },
     "metadata": {
      "needs_background": "light"
     },
     "output_type": "display_data"
    }
   ],
   "source": [
    "#plot graph \n",
    "plt.figure(figsize=(20,8))\n",
    "sns.barplot(y=coefficients_df_plot['features'], x= coefficients_df_plot['coef'], data=coefficients_df_plot,orient='h',palette = 'coolwarm');"
   ]
  },
  {
   "cell_type": "code",
   "execution_count": 73,
   "metadata": {},
   "outputs": [
    {
     "data": {
      "text/html": [
       "<div>\n",
       "<style scoped>\n",
       "    .dataframe tbody tr th:only-of-type {\n",
       "        vertical-align: middle;\n",
       "    }\n",
       "\n",
       "    .dataframe tbody tr th {\n",
       "        vertical-align: top;\n",
       "    }\n",
       "\n",
       "    .dataframe thead th {\n",
       "        text-align: right;\n",
       "    }\n",
       "</style>\n",
       "<table border=\"1\" class=\"dataframe\">\n",
       "  <thead>\n",
       "    <tr style=\"text-align: right;\">\n",
       "      <th></th>\n",
       "      <th>coef</th>\n",
       "      <th>exp_coef</th>\n",
       "    </tr>\n",
       "  </thead>\n",
       "  <tbody>\n",
       "    <tr>\n",
       "      <th>kirkland</th>\n",
       "      <td>2.419501</td>\n",
       "      <td>11.240253</td>\n",
       "    </tr>\n",
       "    <tr>\n",
       "      <th>membership</th>\n",
       "      <td>2.325137</td>\n",
       "      <td>10.228084</td>\n",
       "    </tr>\n",
       "    <tr>\n",
       "      <th>price</th>\n",
       "      <td>2.177972</td>\n",
       "      <td>8.828382</td>\n",
       "    </tr>\n",
       "    <tr>\n",
       "      <th>bought</th>\n",
       "      <td>2.156362</td>\n",
       "      <td>8.639646</td>\n",
       "    </tr>\n",
       "    <tr>\n",
       "      <th>warehouse</th>\n",
       "      <td>2.051923</td>\n",
       "      <td>7.782854</td>\n",
       "    </tr>\n",
       "    <tr>\n",
       "      <th>sale</th>\n",
       "      <td>1.781042</td>\n",
       "      <td>5.936040</td>\n",
       "    </tr>\n",
       "    <tr>\n",
       "      <th>employee</th>\n",
       "      <td>1.776873</td>\n",
       "      <td>5.911340</td>\n",
       "    </tr>\n",
       "    <tr>\n",
       "      <th>chicken</th>\n",
       "      <td>1.694178</td>\n",
       "      <td>5.442168</td>\n",
       "    </tr>\n",
       "    <tr>\n",
       "      <th>member</th>\n",
       "      <td>1.684294</td>\n",
       "      <td>5.388644</td>\n",
       "    </tr>\n",
       "    <tr>\n",
       "      <th>tire</th>\n",
       "      <td>1.669667</td>\n",
       "      <td>5.310400</td>\n",
       "    </tr>\n",
       "  </tbody>\n",
       "</table>\n",
       "</div>"
      ],
      "text/plain": [
       "                coef   exp_coef\n",
       "kirkland    2.419501  11.240253\n",
       "membership  2.325137  10.228084\n",
       "price       2.177972   8.828382\n",
       "bought      2.156362   8.639646\n",
       "warehouse   2.051923   7.782854\n",
       "sale        1.781042   5.936040\n",
       "employee    1.776873   5.911340\n",
       "chicken     1.694178   5.442168\n",
       "member      1.684294   5.388644\n",
       "tire        1.669667   5.310400"
      ]
     },
     "execution_count": 73,
     "metadata": {},
     "output_type": "execute_result"
    }
   ],
   "source": [
    "lr_coef_value = pd.DataFrame(data=lr.coef_.T, index=tfidf.get_feature_names())\n",
    "lr_coef_value.columns = ['coef']\n",
    "lr_coef_value['exp_coef'] = np.exp(lr_coef_value['coef'])\n",
    "lr_coef_value.sort_values(by='exp_coef', ascending=False).head(10)"
   ]
  },
  {
   "cell_type": "markdown",
   "metadata": {},
   "source": [
    "### Justification for picking Logistic Regression TF-IDF & Interpretation of Model\n",
    "\n",
    "1. TF-IDF penalize common words and give rare words more influence. This is relevant to our problem statement, Walmart posts and Costco posts tends to use different terms. For example, Walmart post commonly use the word \"team lead\", \"Covid Vaccine\", \"Covid Shot\" because there are lots of complaints, criticism from various groups and individuals.On the other hand, Costco post might commonly find the word \"food court\" or \"Kirland signature\" because that is a popular of Costco brand and service. Therefore, penalize common words and giving more influence to rare words would help us in our classification problem. \n",
    "\n",
    "2. Comparing the model scores of CountVectorizer and TfidfVectorizer, in all instances models under TfidfVectorizer scores better. \n",
    "\n",
    "3. Why Logistic Regression? Logistic Regression gives a high mean accuracy score for both training data (0.856) and test data (0.849). This means that the model generalises well and scores well on unseen data, though it's not the model with higest score. It also scores much better than the baseline score.  \n",
    " \n",
    "4. Logistic Regression allows me to interpret model coefficients as indicators of feature importance. The interpretation of coefficients allows us to make useful recommendations for our problem statement.  \n",
    "\n",
    "5. Logistic Regression also has some limiations, for instance it assumes independence of independent Variables and the independent variables X1, . . . , Xm are linearly related to the logit of the probability. These are assumations however it may not always be the case. Nonetheless, for our problem statement, logistic regression is an useful model. "
   ]
  },
  {
   "cell_type": "markdown",
   "metadata": {},
   "source": [
    "## 5. Sentiment Analysis & Business Summary"
   ]
  },
  {
   "cell_type": "markdown",
   "metadata": {},
   "source": [
    "#### Research & Sentiment Analysis\n",
    "\n",
    "From the WordCloud and Top words visualization, also the high coefficients ploted, We are able to identify what subreddit users think of both supermarkets, but it is not sufficient for us to know where positive feedback will continue to be reinforced and adopted while negative feedback can be addressed and prevented.\n",
    "\n",
    "We did Sentiment Analysis in aid for a better business recommendation to answer our problem statement and 2 objectives:\n",
    "\n",
    "**Primary Objective**: \n",
    "To enhance our understanding of Walmart's social media image on reddit so as to introduce strategy for improvement.\n",
    "\n",
    "**Secondary Objective**: \n",
    "To identify what subreddit users think of both supermarkets, where positive feedback will continue to be reinforced and adopted while negative feedback can be addressed and prevented."
   ]
  },
  {
   "cell_type": "code",
   "execution_count": 53,
   "metadata": {},
   "outputs": [
    {
     "data": {
      "text/html": [
       "<div>\n",
       "<style scoped>\n",
       "    .dataframe tbody tr th:only-of-type {\n",
       "        vertical-align: middle;\n",
       "    }\n",
       "\n",
       "    .dataframe tbody tr th {\n",
       "        vertical-align: top;\n",
       "    }\n",
       "\n",
       "    .dataframe thead th {\n",
       "        text-align: right;\n",
       "    }\n",
       "</style>\n",
       "<table border=\"1\" class=\"dataframe\">\n",
       "  <thead>\n",
       "    <tr style=\"text-align: right;\">\n",
       "      <th></th>\n",
       "      <th>subreddit</th>\n",
       "      <th>created_utc</th>\n",
       "      <th>id</th>\n",
       "      <th>title</th>\n",
       "      <th>selftext</th>\n",
       "      <th>upvote_ratio</th>\n",
       "      <th>score</th>\n",
       "      <th>num_comments</th>\n",
       "      <th>post_created_date</th>\n",
       "      <th>text</th>\n",
       "      <th>text_length</th>\n",
       "      <th>text_word_count</th>\n",
       "      <th>subreddit_type</th>\n",
       "    </tr>\n",
       "  </thead>\n",
       "  <tbody>\n",
       "    <tr>\n",
       "      <th>0</th>\n",
       "      <td>walmart</td>\n",
       "      <td>1623481278</td>\n",
       "      <td>ny0t2k</td>\n",
       "      <td>the whole meat wall one night</td>\n",
       "      <td>that even possible</td>\n",
       "      <td>1.0</td>\n",
       "      <td>1</td>\n",
       "      <td>15</td>\n",
       "      <td>2021-06-12 15:01:18</td>\n",
       "      <td>the whole meat wall one night that even possible</td>\n",
       "      <td>51</td>\n",
       "      <td>9</td>\n",
       "      <td>0</td>\n",
       "    </tr>\n",
       "    <tr>\n",
       "      <th>1</th>\n",
       "      <td>walmart</td>\n",
       "      <td>1623477525</td>\n",
       "      <td>nxzwvb</td>\n",
       "      <td>cap overnight team leads</td>\n",
       "      <td>due unforseen circumstances was not able apply...</td>\n",
       "      <td>1.0</td>\n",
       "      <td>1</td>\n",
       "      <td>14</td>\n",
       "      <td>2021-06-12 13:58:45</td>\n",
       "      <td>cap overnight team lead due unforseen circumst...</td>\n",
       "      <td>494</td>\n",
       "      <td>82</td>\n",
       "      <td>0</td>\n",
       "    </tr>\n",
       "    <tr>\n",
       "      <th>2</th>\n",
       "      <td>walmart</td>\n",
       "      <td>1623476227</td>\n",
       "      <td>nxzkvz</td>\n",
       "      <td>pointing out after putting your two week notice</td>\n",
       "      <td>submitted week notice yesterday and points so...</td>\n",
       "      <td>1.0</td>\n",
       "      <td>1</td>\n",
       "      <td>11</td>\n",
       "      <td>2021-06-12 13:37:07</td>\n",
       "      <td>pointing out after putting your two week notic...</td>\n",
       "      <td>233</td>\n",
       "      <td>36</td>\n",
       "      <td>0</td>\n",
       "    </tr>\n",
       "  </tbody>\n",
       "</table>\n",
       "</div>"
      ],
      "text/plain": [
       "  subreddit  created_utc      id  \\\n",
       "0   walmart   1623481278  ny0t2k   \n",
       "1   walmart   1623477525  nxzwvb   \n",
       "2   walmart   1623476227  nxzkvz   \n",
       "\n",
       "                                              title  \\\n",
       "0                    the whole meat wall one night    \n",
       "1                          cap overnight team leads   \n",
       "2  pointing out after putting your two week notice    \n",
       "\n",
       "                                            selftext  upvote_ratio  score  \\\n",
       "0                                that even possible            1.0      1   \n",
       "1  due unforseen circumstances was not able apply...           1.0      1   \n",
       "2   submitted week notice yesterday and points so...           1.0      1   \n",
       "\n",
       "   num_comments    post_created_date  \\\n",
       "0            15  2021-06-12 15:01:18   \n",
       "1            14  2021-06-12 13:58:45   \n",
       "2            11  2021-06-12 13:37:07   \n",
       "\n",
       "                                                text  text_length  \\\n",
       "0  the whole meat wall one night that even possible            51   \n",
       "1  cap overnight team lead due unforseen circumst...          494   \n",
       "2  pointing out after putting your two week notic...          233   \n",
       "\n",
       "   text_word_count  subreddit_type  \n",
       "0                9               0  \n",
       "1               82               0  \n",
       "2               36               0  "
      ]
     },
     "execution_count": 53,
     "metadata": {},
     "output_type": "execute_result"
    }
   ],
   "source": [
    "df.head(3)"
   ]
  },
  {
   "cell_type": "code",
   "execution_count": 54,
   "metadata": {},
   "outputs": [],
   "source": [
    "pol = lambda x: TextBlob(x).sentiment.polarity\n",
    "sub = lambda x: TextBlob(x).sentiment.subjectivity\n",
    "\n",
    "df['polularity'] = df['text'].apply(pol)\n",
    "df['subjectivity'] = df['text'].apply(sub)"
   ]
  },
  {
   "cell_type": "code",
   "execution_count": 55,
   "metadata": {},
   "outputs": [],
   "source": [
    "# Creating function for calculating positive, negative and neutral\n",
    "# More than 1 --> Positive, equal to 0 --> neutral and less than 0 --> Negative\n",
    "def ratio(x):\n",
    "    if x > 0:\n",
    "        return 1\n",
    "    elif x == 0:\n",
    "        return 0\n",
    "    else:\n",
    "        return -1"
   ]
  },
  {
   "cell_type": "code",
   "execution_count": 56,
   "metadata": {},
   "outputs": [],
   "source": [
    "df['analysis'] = df['polularity'].apply(ratio)"
   ]
  },
  {
   "cell_type": "code",
   "execution_count": 57,
   "metadata": {},
   "outputs": [
    {
     "data": {
      "text/html": [
       "<div>\n",
       "<style scoped>\n",
       "    .dataframe tbody tr th:only-of-type {\n",
       "        vertical-align: middle;\n",
       "    }\n",
       "\n",
       "    .dataframe tbody tr th {\n",
       "        vertical-align: top;\n",
       "    }\n",
       "\n",
       "    .dataframe thead th {\n",
       "        text-align: right;\n",
       "    }\n",
       "</style>\n",
       "<table border=\"1\" class=\"dataframe\">\n",
       "  <thead>\n",
       "    <tr style=\"text-align: right;\">\n",
       "      <th></th>\n",
       "      <th>subreddit</th>\n",
       "      <th>text</th>\n",
       "      <th>analysis</th>\n",
       "    </tr>\n",
       "  </thead>\n",
       "  <tbody>\n",
       "    <tr>\n",
       "      <th>0</th>\n",
       "      <td>walmart</td>\n",
       "      <td>the whole meat wall one night that even possible</td>\n",
       "      <td>1</td>\n",
       "    </tr>\n",
       "    <tr>\n",
       "      <th>1</th>\n",
       "      <td>walmart</td>\n",
       "      <td>cap overnight team lead due unforseen circumst...</td>\n",
       "      <td>1</td>\n",
       "    </tr>\n",
       "    <tr>\n",
       "      <th>2</th>\n",
       "      <td>walmart</td>\n",
       "      <td>pointing out after putting your two week notic...</td>\n",
       "      <td>0</td>\n",
       "    </tr>\n",
       "    <tr>\n",
       "      <th>3</th>\n",
       "      <td>walmart</td>\n",
       "      <td>they drug test just got job local walmart truc...</td>\n",
       "      <td>-1</td>\n",
       "    </tr>\n",
       "    <tr>\n",
       "      <th>4</th>\n",
       "      <td>walmart</td>\n",
       "      <td>there way limit hour availability online basic...</td>\n",
       "      <td>-1</td>\n",
       "    </tr>\n",
       "  </tbody>\n",
       "</table>\n",
       "</div>"
      ],
      "text/plain": [
       "  subreddit                                               text  analysis\n",
       "0   walmart  the whole meat wall one night that even possible          1\n",
       "1   walmart  cap overnight team lead due unforseen circumst...         1\n",
       "2   walmart  pointing out after putting your two week notic...         0\n",
       "3   walmart  they drug test just got job local walmart truc...        -1\n",
       "4   walmart  there way limit hour availability online basic...        -1"
      ]
     },
     "execution_count": 57,
     "metadata": {},
     "output_type": "execute_result"
    }
   ],
   "source": [
    "df[['subreddit', 'text', 'analysis']][:5]"
   ]
  },
  {
   "cell_type": "code",
   "execution_count": 58,
   "metadata": {},
   "outputs": [
    {
     "data": {
      "image/png": "[encoded data removed]",
      "text/plain": [
       "<Figure size 438.475x360 with 1 Axes>"
      ]
     },
     "metadata": {},
     "output_type": "display_data"
    }
   ],
   "source": [
    "#Sentiment Analysis result group by Subreddit (with count normalization)\n",
    "sns.set(style=\"whitegrid\")\n",
    "#sns.set_palette(\"pastel\")\n",
    "\n",
    "category_order= ['walmart', 'Costco']\n",
    "x,y = 'analysis', 'subreddit'\n",
    "\n",
    "df1 = df.groupby(y)[x].value_counts(normalize=True)\n",
    "df1 = df1.mul(100)\n",
    "df1 = df1.rename('percent').reset_index()\n",
    "\n",
    "g = sns.catplot(x=x,y='percent',hue=y,kind='bar',data=df1, palette=sns.color_palette(['salmon', 'blue']))\n",
    "#g.figsize(5,5)\n",
    "g.ax.set_ylim(0,100)\n",
    "g.fig.suptitle(\"Sentiment Analysis\", y=1.03)\n",
    "\n",
    "for p in g.ax.patches:\n",
    "    txt = str(p.get_height().round(2)) + '%'\n",
    "    txt_x = p.get_x() \n",
    "    txt_y = p.get_height()\n",
    "    g.ax.text(txt_x,txt_y,txt)"
   ]
  },
  {
   "cell_type": "markdown",
   "metadata": {},
   "source": [
    "### Comments:\n",
    "There are more negative sendiments on Walmart's subreddit posts are double compared to Costco.\n",
    "- For the sentiments of subreddit post of walmart, 19% are neutral, 34% negative & 47% positive.\n",
    "- For the sentiments of subreddit post of costco, 22% are neutral, 23% negative & 54% positive.\n",
    "\n",
    "We would conclude that Walmart's social media image on reddit is not ideal given the numerous posts by Walmart's employees complaining about their workplace environment and conditions. Also supported by the sentiment analysis in which we seek to classify text as having positive or negative emotion.\n",
    "Costco's social media image on the other hand fared well. Costco seems to be able to offer products and services that customers are interested in and had gone on reddit to discuss and give praises about it.\n",
    "\n",
    "Let's take a closer look at what the detailed negative feedback from Walmart posts."
   ]
  },
  {
   "cell_type": "code",
   "execution_count": 59,
   "metadata": {},
   "outputs": [],
   "source": [
    "# import top 50 words from part 2- result \n",
    "data_path = \"../datasets/02_Exploratory_Data_Analysis_and_Preprocessing/\"\n",
    "\n",
    "df_walmart_20 = pd.read_csv(data_path + \"walmart_top20_words.csv\")\n",
    "df_costco_20  = pd.read_csv(data_path + \"costco_top20_words.csv\")"
   ]
  },
  {
   "cell_type": "code",
   "execution_count": 60,
   "metadata": {},
   "outputs": [],
   "source": [
    "df_walmart_20.columns=['Top_words', \"count_of_words\"]\n",
    "df_costco_20.columns =['Top_words', \"count_of_words\"]"
   ]
  },
  {
   "cell_type": "code",
   "execution_count": 61,
   "metadata": {},
   "outputs": [
    {
     "data": {
      "text/html": [
       "<div>\n",
       "<style scoped>\n",
       "    .dataframe tbody tr th:only-of-type {\n",
       "        vertical-align: middle;\n",
       "    }\n",
       "\n",
       "    .dataframe tbody tr th {\n",
       "        vertical-align: top;\n",
       "    }\n",
       "\n",
       "    .dataframe thead th {\n",
       "        text-align: right;\n",
       "    }\n",
       "</style>\n",
       "<table border=\"1\" class=\"dataframe\">\n",
       "  <thead>\n",
       "    <tr style=\"text-align: right;\">\n",
       "      <th></th>\n",
       "      <th>Top_words</th>\n",
       "      <th>count_of_words</th>\n",
       "    </tr>\n",
       "  </thead>\n",
       "  <tbody>\n",
       "    <tr>\n",
       "      <th>0</th>\n",
       "      <td>team lead</td>\n",
       "      <td>162</td>\n",
       "    </tr>\n",
       "    <tr>\n",
       "      <th>1</th>\n",
       "      <td>store manager</td>\n",
       "      <td>56</td>\n",
       "    </tr>\n",
       "    <tr>\n",
       "      <th>2</th>\n",
       "      <td>covid leave</td>\n",
       "      <td>49</td>\n",
       "    </tr>\n",
       "    <tr>\n",
       "      <th>3</th>\n",
       "      <td>return work</td>\n",
       "      <td>27</td>\n",
       "    </tr>\n",
       "    <tr>\n",
       "      <th>4</th>\n",
       "      <td>people lead</td>\n",
       "      <td>24</td>\n",
       "    </tr>\n",
       "    <tr>\n",
       "      <th>5</th>\n",
       "      <td>meat produce</td>\n",
       "      <td>22</td>\n",
       "    </tr>\n",
       "    <tr>\n",
       "      <th>6</th>\n",
       "      <td>hour shift</td>\n",
       "      <td>22</td>\n",
       "    </tr>\n",
       "    <tr>\n",
       "      <th>7</th>\n",
       "      <td>covid vaccine</td>\n",
       "      <td>21</td>\n",
       "    </tr>\n",
       "    <tr>\n",
       "      <th>8</th>\n",
       "      <td>week ago</td>\n",
       "      <td>20</td>\n",
       "    </tr>\n",
       "    <tr>\n",
       "      <th>9</th>\n",
       "      <td>key date</td>\n",
       "      <td>20</td>\n",
       "    </tr>\n",
       "    <tr>\n",
       "      <th>10</th>\n",
       "      <td>day day</td>\n",
       "      <td>19</td>\n",
       "    </tr>\n",
       "    <tr>\n",
       "      <th>11</th>\n",
       "      <td>job offer</td>\n",
       "      <td>19</td>\n",
       "    </tr>\n",
       "    <tr>\n",
       "      <th>12</th>\n",
       "      <td>month ago</td>\n",
       "      <td>18</td>\n",
       "    </tr>\n",
       "    <tr>\n",
       "      <th>13</th>\n",
       "      <td>promoted customer</td>\n",
       "      <td>18</td>\n",
       "    </tr>\n",
       "    <tr>\n",
       "      <th>14</th>\n",
       "      <td>day work</td>\n",
       "      <td>17</td>\n",
       "    </tr>\n",
       "    <tr>\n",
       "      <th>15</th>\n",
       "      <td>week notice</td>\n",
       "      <td>17</td>\n",
       "    </tr>\n",
       "    <tr>\n",
       "      <th>16</th>\n",
       "      <td>use ppto</td>\n",
       "      <td>17</td>\n",
       "    </tr>\n",
       "    <tr>\n",
       "      <th>17</th>\n",
       "      <td>memorial day</td>\n",
       "      <td>17</td>\n",
       "    </tr>\n",
       "    <tr>\n",
       "      <th>18</th>\n",
       "      <td>background check</td>\n",
       "      <td>16</td>\n",
       "    </tr>\n",
       "    <tr>\n",
       "      <th>19</th>\n",
       "      <td>ppto cover</td>\n",
       "      <td>16</td>\n",
       "    </tr>\n",
       "  </tbody>\n",
       "</table>\n",
       "</div>"
      ],
      "text/plain": [
       "            Top_words  count_of_words\n",
       "0           team lead             162\n",
       "1       store manager              56\n",
       "2         covid leave              49\n",
       "3         return work              27\n",
       "4         people lead              24\n",
       "5        meat produce              22\n",
       "6          hour shift              22\n",
       "7       covid vaccine              21\n",
       "8            week ago              20\n",
       "9            key date              20\n",
       "10            day day              19\n",
       "11          job offer              19\n",
       "12          month ago              18\n",
       "13  promoted customer              18\n",
       "14           day work              17\n",
       "15        week notice              17\n",
       "16           use ppto              17\n",
       "17       memorial day              17\n",
       "18   background check              16\n",
       "19         ppto cover              16"
      ]
     },
     "execution_count": 61,
     "metadata": {},
     "output_type": "execute_result"
    }
   ],
   "source": [
    "df_walmart_20"
   ]
  },
  {
   "cell_type": "code",
   "execution_count": 62,
   "metadata": {},
   "outputs": [
    {
     "data": {
      "text/html": [
       "<div>\n",
       "<style scoped>\n",
       "    .dataframe tbody tr th:only-of-type {\n",
       "        vertical-align: middle;\n",
       "    }\n",
       "\n",
       "    .dataframe tbody tr th {\n",
       "        vertical-align: top;\n",
       "    }\n",
       "\n",
       "    .dataframe thead th {\n",
       "        text-align: right;\n",
       "    }\n",
       "</style>\n",
       "<table border=\"1\" class=\"dataframe\">\n",
       "  <thead>\n",
       "    <tr style=\"text-align: right;\">\n",
       "      <th></th>\n",
       "      <th>text</th>\n",
       "      <th>analysis</th>\n",
       "    </tr>\n",
       "  </thead>\n",
       "  <tbody>\n",
       "    <tr>\n",
       "      <th>1</th>\n",
       "      <td>cap overnight team lead due unforseen circumstance wa not able apply for food and consumables originally planned kind glad this point because overnight and cap spot ha opened and staffing ha gotte...</td>\n",
       "      <td>1</td>\n",
       "    </tr>\n",
       "    <tr>\n",
       "      <th>5</th>\n",
       "      <td>frustrated and haven been given the raise backpay they promised almost month need some advice there quite bit unpack and talking management ha walked circle start off began transfer right before o...</td>\n",
       "      <td>1</td>\n",
       "    </tr>\n",
       "    <tr>\n",
       "      <th>12</th>\n",
       "      <td>teaming okay like job when can get around and stick being team lead also involves being over your department and the store whole fine time most day time frustrating walking with plan which get rui...</td>\n",
       "      <td>1</td>\n",
       "    </tr>\n",
       "    <tr>\n",
       "      <th>17</th>\n",
       "      <td>moving different area team lead over area and another area open isn that just move management can make why would they want interview already team lead</td>\n",
       "      <td>0</td>\n",
       "    </tr>\n",
       "    <tr>\n",
       "      <th>36</th>\n",
       "      <td>how quit short notice context given post preface this this first job still learning how stuff been working walmart since october but toward the end last month something came and now have move diff...</td>\n",
       "      <td>1</td>\n",
       "    </tr>\n",
       "    <tr>\n",
       "      <th>...</th>\n",
       "      <td>...</td>\n",
       "      <td>...</td>\n",
       "    </tr>\n",
       "    <tr>\n",
       "      <th>1415</th>\n",
       "      <td>there way cashier can still give employee their discount without the card started november and still haven gotten discount card told people lead and she just ha reapply for new card every time and...</td>\n",
       "      <td>1</td>\n",
       "    </tr>\n",
       "    <tr>\n",
       "      <th>1420</th>\n",
       "      <td>didn receive myshare bonus wondering anyone can help with advice maybe manager people lead could help got two point and half point the other day that wa incorrectly given call off for vaccine side...</td>\n",
       "      <td>-1</td>\n",
       "    </tr>\n",
       "    <tr>\n",
       "      <th>1660</th>\n",
       "      <td>typical get survey specific employee after going the return desk have returned four thing the past month and each time get nice letter from the store manager with self address stamped envelope ask...</td>\n",
       "      <td>1</td>\n",
       "    </tr>\n",
       "    <tr>\n",
       "      <th>1668</th>\n",
       "      <td>super afraid having membership revoked due out portable ac failing and needing returned had terrible luck purchased four portable ac from costco over the last nine year and three them were defecti...</td>\n",
       "      <td>-1</td>\n",
       "    </tr>\n",
       "    <tr>\n",
       "      <th>2226</th>\n",
       "      <td>buy clothes item get off brought clothes item get off now have return couple the item ha anybody done this how doe the return work they just refund the cost the the clothes will they longer apply ...</td>\n",
       "      <td>0</td>\n",
       "    </tr>\n",
       "  </tbody>\n",
       "</table>\n",
       "<p>168 rows × 2 columns</p>\n",
       "</div>"
      ],
      "text/plain": [
       "                                                                                                                                                                                                         text  \\\n",
       "1     cap overnight team lead due unforseen circumstance wa not able apply for food and consumables originally planned kind glad this point because overnight and cap spot ha opened and staffing ha gotte...   \n",
       "5     frustrated and haven been given the raise backpay they promised almost month need some advice there quite bit unpack and talking management ha walked circle start off began transfer right before o...   \n",
       "12    teaming okay like job when can get around and stick being team lead also involves being over your department and the store whole fine time most day time frustrating walking with plan which get rui...   \n",
       "17                                                    moving different area team lead over area and another area open isn that just move management can make why would they want interview already team lead    \n",
       "36    how quit short notice context given post preface this this first job still learning how stuff been working walmart since october but toward the end last month something came and now have move diff...   \n",
       "...                                                                                                                                                                                                       ...   \n",
       "1415  there way cashier can still give employee their discount without the card started november and still haven gotten discount card told people lead and she just ha reapply for new card every time and...   \n",
       "1420  didn receive myshare bonus wondering anyone can help with advice maybe manager people lead could help got two point and half point the other day that wa incorrectly given call off for vaccine side...   \n",
       "1660  typical get survey specific employee after going the return desk have returned four thing the past month and each time get nice letter from the store manager with self address stamped envelope ask...   \n",
       "1668  super afraid having membership revoked due out portable ac failing and needing returned had terrible luck purchased four portable ac from costco over the last nine year and three them were defecti...   \n",
       "2226  buy clothes item get off brought clothes item get off now have return couple the item ha anybody done this how doe the return work they just refund the cost the the clothes will they longer apply ...   \n",
       "\n",
       "      analysis  \n",
       "1            1  \n",
       "5            1  \n",
       "12           1  \n",
       "17           0  \n",
       "36           1  \n",
       "...        ...  \n",
       "1415         1  \n",
       "1420        -1  \n",
       "1660         1  \n",
       "1668        -1  \n",
       "2226         0  \n",
       "\n",
       "[168 rows x 2 columns]"
      ]
     },
     "execution_count": 62,
     "metadata": {},
     "output_type": "execute_result"
    }
   ],
   "source": [
    "pd.options.display.max_colwidth = 200\n",
    "\n",
    "searchfor = [\"team lead\",\"store manager\",\"people lead\", \"return work\"]\n",
    "df[df['text'].str.contains('|'.join(searchfor))][['text','analysis']]"
   ]
  },
  {
   "cell_type": "code",
   "execution_count": 63,
   "metadata": {},
   "outputs": [
    {
     "data": {
      "text/plain": [
       " 1    0.541667\n",
       "-1    0.369048\n",
       " 0    0.089286\n",
       "Name: analysis, dtype: float64"
      ]
     },
     "execution_count": 63,
     "metadata": {},
     "output_type": "execute_result"
    }
   ],
   "source": [
    "df[df['text'].str.contains('|'.join(searchfor))]['analysis'].value_counts(normalize=True)"
   ]
  },
  {
   "cell_type": "code",
   "execution_count": 74,
   "metadata": {},
   "outputs": [
    {
     "data": {
      "text/plain": [
       "text        didn receive myshare bonus wondering anyone can help with advice maybe manager people lead could help got two point and half point the other day that wa incorrectly given call off for vaccine side...\n",
       "analysis                                                                                                                                                                                                         -1\n",
       "Name: 1420, dtype: object"
      ]
     },
     "execution_count": 74,
     "metadata": {},
     "output_type": "execute_result"
    }
   ],
   "source": [
    "df.iloc[1420][['text','analysis']]"
   ]
  },
  {
   "cell_type": "markdown",
   "metadata": {},
   "source": [
    "### Conclusion & Recommendations:\n",
    "\n",
    "Using the Logistic Regression and TF-IDF Vectorizer as our production classification model, the 85% accuracy and AUC score of 0.93 suggests that most of the posts are accurately classified into its respective subreddits.\n",
    "\n",
    "More Negative sendiments on Walmart's subreddit posts are double compared to Costco.\n",
    "- For the sentiments of subreddit post of walmart, 19% are neutral, 34% negative & 47% positive.\n",
    "- For the sentiments of subreddit post of costco, 22% are neutral, 23% negative & 54% positive.\n",
    "\n",
    "We would conclude that Walmart's social media image on reddit is not ideal given the numerous posts by Walmart's employees complaining about their workplace environment and conditions. Also supported by the sentiment analysis in which we seek to classify text as having positive or negative emotion.\n",
    "\n",
    "Costco's social media image on the other hand fared well. Costco seems to be able to offer products and services that customers are interested in and had gone on reddit to discuss and give praises about it.\n",
    "\n",
    "**Recommendations**\n",
    "\n",
    "* To the __Primary stakeholder: Walmart Corporate-Empoyees__ (Because happy employees make happy customers, leading to positive improvements to Walmart’s brand image)\n",
    "\n",
    "    - Provide more benefits programmes：\n",
    "        - Have better employee benefits to attract and retain employees\n",
    "    - Suggest for Management Uplift：\n",
    "        - Consider improving overall management strategy to develop a better company culture\n",
    "    - Improve HR Policies：\n",
    "        - Uplift Annual leave and PTO policies\n",
    "        - Capitalise on Whistle Blowing policy to protect employees, for example, Human Resource Team can reinforce the fact that associates are able to report a concern online without their identities being exposed, especially if they have Team Leads and/or Store Managers who are not carrying out the necessary duties\n",
    "        - To start being pro-active in addressing and taking in feedback of their employees\n",
    "    - Improve SOP: \n",
    "        - Clear guidelines and protocols on how everything should be carried out in Walmart should be communicated clearly by employers to employees\n",
    "\n",
    "* To the __Secondary Stakeholder: Walmart Consumers__(Because happy customers keep us going everyday)\n",
    "\n",
    "    - Promotions：\n",
    "        - To have better cash rebate scheme and offer better deals, more sales to attract customers\n",
    "    - House Brands：\n",
    "        - To develop a House Brand similar to Costco's Kirkland Signature to increase brand loyalty\n",
    "    - Improve HR Policies：\n",
    "        - Uplift Annual leave and PTO policies. Capitalise on Whistle Blowing policy to protect employees, for example, Human Resource Team can reinforce the fact that associates are able to report a concern online without their identities being exposed, especially if they have Team Leads and/or Store Managers who are not carrying out the necessary duties\n",
    "    - Inhouse Foodcout/Food Stations: \n",
    "        - Setup a \"happy\" shopping with \"eating\" enviroment, potentially develop \"hot food\" stations or food courts that consumers can enjoy the full experience of shopping in Walmart"
   ]
  },
  {
   "cell_type": "markdown",
   "metadata": {},
   "source": [
    "## 6. Future Steps\n",
    "\n",
    "- In the future, a larger dataset could be gathered. Currently, only around 1490 unique posts were gathered for Costco and 1497 posts for Walmart. A larger dataset would be better for us to make inference of the population. \n",
    "- More models could be applied, for example models such as artificial neural network could be explored in the future. The advanced models which might provide better predicitions. \n",
    "- We are now is comparing Costco Posts, We could compare more subreddit posts of supermarkets in USA to Walmart (Eg. Trader Joe's, Aldi etc.) \n",
    "- Our model is limited to just look into the title & selftext of each subreddit post, we can also look into the comments and upvotes in each post."
   ]
  }
 ],
 "metadata": {
  "kernelspec": {
   "display_name": "Python 3",
   "language": "python",
   "name": "python3"
  },
  "language_info": {
   "codemirror_mode": {
    "name": "ipython",
    "version": 3
   },
   "file_extension": ".py",
   "mimetype": "text/x-python",
   "name": "python",
   "nbconvert_exporter": "python",
   "pygments_lexer": "ipython3",
   "version": "3.8.5"
  }
 },
 "nbformat": 4,
 "nbformat_minor": 4
}
