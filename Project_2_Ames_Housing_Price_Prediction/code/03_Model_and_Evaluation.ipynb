{
 "cells": [
  {
   "cell_type": "markdown",
   "metadata": {},
   "source": [
    "<img src=\"http://imgur.com/1ZcRyrc.png\" style=\"float: left; margin: 20px; height: 55px\">\n",
    "\n",
    "# Project 2: Ames Housing Price Prediction"
   ]
  },
  {
   "cell_type": "markdown",
   "metadata": {},
   "source": [
    "--- \n",
    "# Part 3: Model & Evaluation\n",
    "\n",
    "After understood the correlations in the features, One-hot encoder on Categorical Data will be performed for converting Categorical data to numerical. Then all the data is ready for modeling, I used Standard Scalar from scikit learn to normalize the features before applying Data Science techniques.\n",
    "\n",
    "Baseline Linear Regression model has run first to test how the model is fit. When there's the common overfitting issue, I've tried the regularization to reduce the overfitting by another 3 types of Ridge (L2), Lasso (L1), and ElasticNet. \n",
    "Model Tuning has been done by comparing differnt model evaluation matrix accross all models, and I have attempted to craft a model with as accurate as possible.\n",
    "\n",
    "---"
   ]
  },
  {
   "cell_type": "markdown",
   "metadata": {},
   "source": [
    "### Contents:\n",
    "- [1. Importing Libraries](#1.-Importing-Libraries)\n",
    "- [2. Data Import](#2.-Data-Import)\n",
    "- [3. Create Feature Matrix and Taget](#3.-Create-Feature-Matrix-and-Taget)\n",
    "- [4. Model-Selection-&-Evaluation](#4.-Model-Selection-&-Evaluation)\n",
    "- [5. Logarithmic Transformation of Sales Price](#5.-Logarithmic-Transformation-of-Sales-Price)\n",
    "- [6. Business Summary](#6.-Businesss-Summary)\n",
    "- [7. Model Limitation & Future Work](#7.-Model-Limitation-&-Future-Work)"
   ]
  },
  {
   "cell_type": "markdown",
   "metadata": {},
   "source": [
    "---\n",
    "\n",
    "# 1. Import Libraries\n",
    "\n",
    "---"
   ]
  },
  {
   "cell_type": "code",
   "execution_count": 1,
   "metadata": {},
   "outputs": [],
   "source": [
    "import numpy as np\n",
    "import pandas as pd\n",
    "import matplotlib.pyplot as plt\n",
    "import seaborn as sns\n",
    "%matplotlib inline\n",
    "\n",
    "from sklearn import linear_model\n",
    "from sklearn.linear_model import LinearRegression,Ridge,RidgeCV,Lasso,LassoCV,ElasticNet,ElasticNetCV \n",
    "from sklearn.model_selection import GridSearchCV, KFold, train_test_split,cross_val_score\n",
    "from sklearn.preprocessing import StandardScaler,PolynomialFeatures\n",
    "from tqdm import tqdm as progress_bar\n",
    "\n",
    "from sklearn.metrics import (\n",
    "    mean_absolute_error,\n",
    "    mean_squared_error,\n",
    "    r2_score,\n",
    ")"
   ]
  },
  {
   "cell_type": "markdown",
   "metadata": {},
   "source": [
    "---\n",
    "\n",
    "# 2. Data Import\n",
    "\n",
    "---"
   ]
  },
  {
   "cell_type": "markdown",
   "metadata": {},
   "source": [
    "## 2.1 Load Train & Test Datasets"
   ]
  },
  {
   "cell_type": "code",
   "execution_count": 2,
   "metadata": {},
   "outputs": [],
   "source": [
    "#import train & test cleaned dataset after Part2\n",
    "\n",
    "path = \"../datasets/part2/\"\n",
    "df_train = pd.read_csv(path + \"train_clean_with_transform_engineering_part2.csv\", keep_default_na = False)\n",
    "df_test  =pd.read_csv(path + \"test_clean_with_transform_engineering_part2.csv\", keep_default_na = False)"
   ]
  },
  {
   "cell_type": "code",
   "execution_count": 3,
   "metadata": {},
   "outputs": [
    {
     "data": {
      "text/html": [
       "<div>\n",
       "<style scoped>\n",
       "    .dataframe tbody tr th:only-of-type {\n",
       "        vertical-align: middle;\n",
       "    }\n",
       "\n",
       "    .dataframe tbody tr th {\n",
       "        vertical-align: top;\n",
       "    }\n",
       "\n",
       "    .dataframe thead th {\n",
       "        text-align: right;\n",
       "    }\n",
       "</style>\n",
       "<table border=\"1\" class=\"dataframe\">\n",
       "  <thead>\n",
       "    <tr style=\"text-align: right;\">\n",
       "      <th></th>\n",
       "      <th>Id</th>\n",
       "      <th>MS SubClass</th>\n",
       "      <th>MS Zoning</th>\n",
       "      <th>Lot Area</th>\n",
       "      <th>Street</th>\n",
       "      <th>Alley</th>\n",
       "      <th>Lot Shape</th>\n",
       "      <th>Land Contour</th>\n",
       "      <th>Utilities</th>\n",
       "      <th>Lot Config</th>\n",
       "      <th>...</th>\n",
       "      <th>Total Porch SF</th>\n",
       "      <th>Total Bath</th>\n",
       "      <th>Age of Built</th>\n",
       "      <th>has 2nd Flr</th>\n",
       "      <th>has Bsmt</th>\n",
       "      <th>has Fireplace</th>\n",
       "      <th>has Garage</th>\n",
       "      <th>has Pool</th>\n",
       "      <th>has Porch</th>\n",
       "      <th>SalePrice_log</th>\n",
       "    </tr>\n",
       "  </thead>\n",
       "  <tbody>\n",
       "    <tr>\n",
       "      <th>0</th>\n",
       "      <td>109</td>\n",
       "      <td>60</td>\n",
       "      <td>RL</td>\n",
       "      <td>13517</td>\n",
       "      <td>Pave</td>\n",
       "      <td>na</td>\n",
       "      <td>2</td>\n",
       "      <td>Lvl</td>\n",
       "      <td>1</td>\n",
       "      <td>CulDSac</td>\n",
       "      <td>...</td>\n",
       "      <td>44</td>\n",
       "      <td>2.5</td>\n",
       "      <td>34</td>\n",
       "      <td>1</td>\n",
       "      <td>1</td>\n",
       "      <td>0</td>\n",
       "      <td>1</td>\n",
       "      <td>0</td>\n",
       "      <td>1</td>\n",
       "      <td>11.779129</td>\n",
       "    </tr>\n",
       "    <tr>\n",
       "      <th>1</th>\n",
       "      <td>544</td>\n",
       "      <td>60</td>\n",
       "      <td>RL</td>\n",
       "      <td>11492</td>\n",
       "      <td>Pave</td>\n",
       "      <td>na</td>\n",
       "      <td>2</td>\n",
       "      <td>Lvl</td>\n",
       "      <td>1</td>\n",
       "      <td>CulDSac</td>\n",
       "      <td>...</td>\n",
       "      <td>74</td>\n",
       "      <td>3.5</td>\n",
       "      <td>13</td>\n",
       "      <td>1</td>\n",
       "      <td>1</td>\n",
       "      <td>1</td>\n",
       "      <td>1</td>\n",
       "      <td>0</td>\n",
       "      <td>1</td>\n",
       "      <td>12.301383</td>\n",
       "    </tr>\n",
       "    <tr>\n",
       "      <th>2</th>\n",
       "      <td>153</td>\n",
       "      <td>20</td>\n",
       "      <td>RL</td>\n",
       "      <td>7922</td>\n",
       "      <td>Pave</td>\n",
       "      <td>na</td>\n",
       "      <td>1</td>\n",
       "      <td>Lvl</td>\n",
       "      <td>1</td>\n",
       "      <td>Inside</td>\n",
       "      <td>...</td>\n",
       "      <td>52</td>\n",
       "      <td>2.0</td>\n",
       "      <td>57</td>\n",
       "      <td>0</td>\n",
       "      <td>1</td>\n",
       "      <td>0</td>\n",
       "      <td>1</td>\n",
       "      <td>0</td>\n",
       "      <td>1</td>\n",
       "      <td>11.599103</td>\n",
       "    </tr>\n",
       "    <tr>\n",
       "      <th>3</th>\n",
       "      <td>318</td>\n",
       "      <td>60</td>\n",
       "      <td>RL</td>\n",
       "      <td>9802</td>\n",
       "      <td>Pave</td>\n",
       "      <td>na</td>\n",
       "      <td>1</td>\n",
       "      <td>Lvl</td>\n",
       "      <td>1</td>\n",
       "      <td>Inside</td>\n",
       "      <td>...</td>\n",
       "      <td>100</td>\n",
       "      <td>2.5</td>\n",
       "      <td>4</td>\n",
       "      <td>1</td>\n",
       "      <td>1</td>\n",
       "      <td>0</td>\n",
       "      <td>1</td>\n",
       "      <td>0</td>\n",
       "      <td>1</td>\n",
       "      <td>12.066811</td>\n",
       "    </tr>\n",
       "    <tr>\n",
       "      <th>4</th>\n",
       "      <td>255</td>\n",
       "      <td>50</td>\n",
       "      <td>RL</td>\n",
       "      <td>14235</td>\n",
       "      <td>Pave</td>\n",
       "      <td>na</td>\n",
       "      <td>2</td>\n",
       "      <td>Lvl</td>\n",
       "      <td>1</td>\n",
       "      <td>Inside</td>\n",
       "      <td>...</td>\n",
       "      <td>59</td>\n",
       "      <td>2.0</td>\n",
       "      <td>110</td>\n",
       "      <td>1</td>\n",
       "      <td>1</td>\n",
       "      <td>0</td>\n",
       "      <td>1</td>\n",
       "      <td>0</td>\n",
       "      <td>1</td>\n",
       "      <td>11.838626</td>\n",
       "    </tr>\n",
       "  </tbody>\n",
       "</table>\n",
       "<p>5 rows × 69 columns</p>\n",
       "</div>"
      ],
      "text/plain": [
       "    Id  MS SubClass MS Zoning  Lot Area Street Alley  Lot Shape Land Contour  \\\n",
       "0  109           60        RL     13517   Pave    na          2          Lvl   \n",
       "1  544           60        RL     11492   Pave    na          2          Lvl   \n",
       "2  153           20        RL      7922   Pave    na          1          Lvl   \n",
       "3  318           60        RL      9802   Pave    na          1          Lvl   \n",
       "4  255           50        RL     14235   Pave    na          2          Lvl   \n",
       "\n",
       "   Utilities Lot Config  ...  Total Porch SF Total Bath Age of Built  \\\n",
       "0          1    CulDSac  ...              44        2.5           34   \n",
       "1          1    CulDSac  ...              74        3.5           13   \n",
       "2          1     Inside  ...              52        2.0           57   \n",
       "3          1     Inside  ...             100        2.5            4   \n",
       "4          1     Inside  ...              59        2.0          110   \n",
       "\n",
       "  has 2nd Flr has Bsmt  has Fireplace  has Garage  has Pool  has Porch  \\\n",
       "0           1        1              0           1         0          1   \n",
       "1           1        1              1           1         0          1   \n",
       "2           0        1              0           1         0          1   \n",
       "3           1        1              0           1         0          1   \n",
       "4           1        1              0           1         0          1   \n",
       "\n",
       "  SalePrice_log  \n",
       "0     11.779129  \n",
       "1     12.301383  \n",
       "2     11.599103  \n",
       "3     12.066811  \n",
       "4     11.838626  \n",
       "\n",
       "[5 rows x 69 columns]"
      ]
     },
     "execution_count": 3,
     "metadata": {},
     "output_type": "execute_result"
    }
   ],
   "source": [
    "df_train.head()"
   ]
  },
  {
   "cell_type": "code",
   "execution_count": 4,
   "metadata": {},
   "outputs": [
    {
     "data": {
      "text/html": [
       "<div>\n",
       "<style scoped>\n",
       "    .dataframe tbody tr th:only-of-type {\n",
       "        vertical-align: middle;\n",
       "    }\n",
       "\n",
       "    .dataframe tbody tr th {\n",
       "        vertical-align: top;\n",
       "    }\n",
       "\n",
       "    .dataframe thead th {\n",
       "        text-align: right;\n",
       "    }\n",
       "</style>\n",
       "<table border=\"1\" class=\"dataframe\">\n",
       "  <thead>\n",
       "    <tr style=\"text-align: right;\">\n",
       "      <th></th>\n",
       "      <th>Id</th>\n",
       "      <th>MS SubClass</th>\n",
       "      <th>MS Zoning</th>\n",
       "      <th>Lot Area</th>\n",
       "      <th>Street</th>\n",
       "      <th>Alley</th>\n",
       "      <th>Lot Shape</th>\n",
       "      <th>Land Contour</th>\n",
       "      <th>Utilities</th>\n",
       "      <th>Lot Config</th>\n",
       "      <th>...</th>\n",
       "      <th>Total SF</th>\n",
       "      <th>Total Porch SF</th>\n",
       "      <th>Total Bath</th>\n",
       "      <th>Age of Built</th>\n",
       "      <th>has 2nd Flr</th>\n",
       "      <th>has Bsmt</th>\n",
       "      <th>has Fireplace</th>\n",
       "      <th>has Garage</th>\n",
       "      <th>has Pool</th>\n",
       "      <th>has Porch</th>\n",
       "    </tr>\n",
       "  </thead>\n",
       "  <tbody>\n",
       "    <tr>\n",
       "      <th>0</th>\n",
       "      <td>2658</td>\n",
       "      <td>190</td>\n",
       "      <td>RM</td>\n",
       "      <td>9142</td>\n",
       "      <td>Pave</td>\n",
       "      <td>Grvl</td>\n",
       "      <td>1</td>\n",
       "      <td>Lvl</td>\n",
       "      <td>1</td>\n",
       "      <td>Inside</td>\n",
       "      <td>...</td>\n",
       "      <td>2948</td>\n",
       "      <td>172</td>\n",
       "      <td>2.0</td>\n",
       "      <td>96</td>\n",
       "      <td>1</td>\n",
       "      <td>1</td>\n",
       "      <td>0</td>\n",
       "      <td>1</td>\n",
       "      <td>0</td>\n",
       "      <td>1</td>\n",
       "    </tr>\n",
       "    <tr>\n",
       "      <th>1</th>\n",
       "      <td>2718</td>\n",
       "      <td>90</td>\n",
       "      <td>RL</td>\n",
       "      <td>9662</td>\n",
       "      <td>Pave</td>\n",
       "      <td>na</td>\n",
       "      <td>2</td>\n",
       "      <td>Lvl</td>\n",
       "      <td>1</td>\n",
       "      <td>Inside</td>\n",
       "      <td>...</td>\n",
       "      <td>3934</td>\n",
       "      <td>170</td>\n",
       "      <td>2.0</td>\n",
       "      <td>29</td>\n",
       "      <td>0</td>\n",
       "      <td>1</td>\n",
       "      <td>0</td>\n",
       "      <td>1</td>\n",
       "      <td>0</td>\n",
       "      <td>1</td>\n",
       "    </tr>\n",
       "    <tr>\n",
       "      <th>2</th>\n",
       "      <td>2414</td>\n",
       "      <td>60</td>\n",
       "      <td>RL</td>\n",
       "      <td>17104</td>\n",
       "      <td>Pave</td>\n",
       "      <td>na</td>\n",
       "      <td>2</td>\n",
       "      <td>Lvl</td>\n",
       "      <td>1</td>\n",
       "      <td>Inside</td>\n",
       "      <td>...</td>\n",
       "      <td>2150</td>\n",
       "      <td>124</td>\n",
       "      <td>3.5</td>\n",
       "      <td>0</td>\n",
       "      <td>1</td>\n",
       "      <td>1</td>\n",
       "      <td>1</td>\n",
       "      <td>1</td>\n",
       "      <td>0</td>\n",
       "      <td>1</td>\n",
       "    </tr>\n",
       "    <tr>\n",
       "      <th>3</th>\n",
       "      <td>1989</td>\n",
       "      <td>30</td>\n",
       "      <td>RM</td>\n",
       "      <td>8520</td>\n",
       "      <td>Pave</td>\n",
       "      <td>na</td>\n",
       "      <td>1</td>\n",
       "      <td>Lvl</td>\n",
       "      <td>1</td>\n",
       "      <td>Inside</td>\n",
       "      <td>...</td>\n",
       "      <td>1936</td>\n",
       "      <td>184</td>\n",
       "      <td>1.0</td>\n",
       "      <td>84</td>\n",
       "      <td>0</td>\n",
       "      <td>1</td>\n",
       "      <td>0</td>\n",
       "      <td>1</td>\n",
       "      <td>0</td>\n",
       "      <td>1</td>\n",
       "    </tr>\n",
       "    <tr>\n",
       "      <th>4</th>\n",
       "      <td>625</td>\n",
       "      <td>20</td>\n",
       "      <td>RL</td>\n",
       "      <td>9500</td>\n",
       "      <td>Pave</td>\n",
       "      <td>na</td>\n",
       "      <td>2</td>\n",
       "      <td>Lvl</td>\n",
       "      <td>1</td>\n",
       "      <td>Inside</td>\n",
       "      <td>...</td>\n",
       "      <td>2788</td>\n",
       "      <td>261</td>\n",
       "      <td>2.5</td>\n",
       "      <td>46</td>\n",
       "      <td>0</td>\n",
       "      <td>1</td>\n",
       "      <td>1</td>\n",
       "      <td>1</td>\n",
       "      <td>0</td>\n",
       "      <td>1</td>\n",
       "    </tr>\n",
       "  </tbody>\n",
       "</table>\n",
       "<p>5 rows × 67 columns</p>\n",
       "</div>"
      ],
      "text/plain": [
       "     Id  MS SubClass MS Zoning  Lot Area Street Alley  Lot Shape Land Contour  \\\n",
       "0  2658          190        RM      9142   Pave  Grvl          1          Lvl   \n",
       "1  2718           90        RL      9662   Pave    na          2          Lvl   \n",
       "2  2414           60        RL     17104   Pave    na          2          Lvl   \n",
       "3  1989           30        RM      8520   Pave    na          1          Lvl   \n",
       "4   625           20        RL      9500   Pave    na          2          Lvl   \n",
       "\n",
       "   Utilities Lot Config  ...  Total SF Total Porch SF Total Bath Age of Built  \\\n",
       "0          1     Inside  ...      2948            172        2.0           96   \n",
       "1          1     Inside  ...      3934            170        2.0           29   \n",
       "2          1     Inside  ...      2150            124        3.5            0   \n",
       "3          1     Inside  ...      1936            184        1.0           84   \n",
       "4          1     Inside  ...      2788            261        2.5           46   \n",
       "\n",
       "  has 2nd Flr  has Bsmt  has Fireplace  has Garage  has Pool has Porch  \n",
       "0           1         1              0           1         0         1  \n",
       "1           0         1              0           1         0         1  \n",
       "2           1         1              1           1         0         1  \n",
       "3           0         1              0           1         0         1  \n",
       "4           0         1              1           1         0         1  \n",
       "\n",
       "[5 rows x 67 columns]"
      ]
     },
     "execution_count": 4,
     "metadata": {},
     "output_type": "execute_result"
    }
   ],
   "source": [
    "df_test.head()"
   ]
  },
  {
   "cell_type": "markdown",
   "metadata": {},
   "source": [
    "---\n",
    "\n",
    "# 3. Create Feature Matrix and Taget\n",
    "\n",
    "---"
   ]
  },
  {
   "cell_type": "code",
   "execution_count": 5,
   "metadata": {},
   "outputs": [],
   "source": [
    "obj_cols = df_train.dtypes[df_train.dtypes == 'object']\n",
    "obj_cols = list(obj_cols.index)"
   ]
  },
  {
   "cell_type": "code",
   "execution_count": 6,
   "metadata": {},
   "outputs": [],
   "source": [
    "# Create dummy variables for one-hot encode the Categorical Data\n",
    "df_train =pd.get_dummies(df_train,columns = obj_cols, drop_first = True)\n",
    "df_test =pd.get_dummies(df_test,columns = obj_cols, drop_first = True)"
   ]
  },
  {
   "cell_type": "code",
   "execution_count": 7,
   "metadata": {},
   "outputs": [],
   "source": [
    "features = df_train.drop(columns=['SalePrice_log', 'SalePrice']).columns\n",
    "X = df_train[features]\n",
    "y= df_train['SalePrice']\n",
    "y_2 = df_train['SalePrice_log']"
   ]
  },
  {
   "cell_type": "code",
   "execution_count": 8,
   "metadata": {},
   "outputs": [
    {
     "name": "stdout",
     "output_type": "stream",
     "text": [
      "(2049, 181)\n"
     ]
    }
   ],
   "source": [
    "print(X.shape)"
   ]
  },
  {
   "cell_type": "code",
   "execution_count": 9,
   "metadata": {},
   "outputs": [],
   "source": [
    "missing_cols = set(df_train.columns)-set(df_test.columns)\n",
    "\n",
    "# Add a missing column in test set with default value equal to 0\n",
    "for c in missing_cols:\n",
    "    df_test[c] = 0\n",
    "# Ensure the order of column in the test set is in the same order than in train set\n",
    "df_test = df_test[X.columns]"
   ]
  },
  {
   "cell_type": "code",
   "execution_count": 10,
   "metadata": {},
   "outputs": [
    {
     "data": {
      "text/plain": [
       "(878, 181)"
      ]
     },
     "execution_count": 10,
     "metadata": {},
     "output_type": "execute_result"
    }
   ],
   "source": [
    "# Ensure both X in train data & test data have the same columns\n",
    "df_test.shape"
   ]
  },
  {
   "cell_type": "code",
   "execution_count": 11,
   "metadata": {},
   "outputs": [],
   "source": [
    "# Train test split\n",
    "X_train, X_test, y_train, y_test = train_test_split(X, y, test_size=0.3, random_state=42)"
   ]
  },
  {
   "cell_type": "code",
   "execution_count": 12,
   "metadata": {},
   "outputs": [
    {
     "data": {
      "text/plain": [
       "(878, 181)"
      ]
     },
     "execution_count": 12,
     "metadata": {},
     "output_type": "execute_result"
    }
   ],
   "source": [
    "df_test.shape"
   ]
  },
  {
   "cell_type": "code",
   "execution_count": 13,
   "metadata": {},
   "outputs": [
    {
     "data": {
      "text/plain": [
       "(2049, 183)"
      ]
     },
     "execution_count": 13,
     "metadata": {},
     "output_type": "execute_result"
    }
   ],
   "source": [
    "df_train.shape"
   ]
  },
  {
   "cell_type": "code",
   "execution_count": 14,
   "metadata": {},
   "outputs": [],
   "source": [
    "# Scaling\n",
    "ss = StandardScaler()\n",
    "scalerX = ss.fit(X_train)\n",
    "X_train = ss.fit_transform(X_train)\n",
    "X_test = ss.transform(X_test)\n",
    "\n",
    "df_test_sc = ss.transform(df_test)"
   ]
  },
  {
   "cell_type": "markdown",
   "metadata": {},
   "source": [
    "# 4. Model Selection & Evaluation"
   ]
  },
  {
   "cell_type": "code",
   "execution_count": 15,
   "metadata": {},
   "outputs": [],
   "source": [
    "results = {}"
   ]
  },
  {
   "cell_type": "code",
   "execution_count": 16,
   "metadata": {},
   "outputs": [],
   "source": [
    "#defin model Evaluation Matrix(errors, scores)\n",
    "def Model_Eval_matrix(model,X_train, y_train, y_true, y_pred):\n",
    "    \n",
    "    train_score,test_score,mae, r2, rmse = [], [], [],[],[]\n",
    "    \n",
    "    # Collect the scores/errors for each model\n",
    "    train_score=model.score(X_train, y_train)\n",
    "    test_score =model.score(X_test, y_true)\n",
    "    mae.append(mean_absolute_error(y_true, y_pred))\n",
    "    r2.append(r2_score(y_true, y_pred))\n",
    "    rmse.append(mean_squared_error(y_true, y_pred))\n",
    "    # Round for convenience.\n",
    "    return {\n",
    "        \"train_score\":np.round(np.mean(train_score),3),\n",
    "        \"test_score\":np.round(np.mean(test_score),3),\n",
    "        \"mae\": np.round(np.mean(mae)),\n",
    "        \"r2\": np.round(np.mean(r2), 3),\n",
    "        \"rmse\": np.round(np.sqrt(np.mean(rmse))),\n",
    "    }"
   ]
  },
  {
   "cell_type": "markdown",
   "metadata": {},
   "source": [
    "## Linear Regression"
   ]
  },
  {
   "cell_type": "code",
   "execution_count": 17,
   "metadata": {},
   "outputs": [
    {
     "name": "stdout",
     "output_type": "stream",
     "text": [
      "Wall time: 406 ms\n"
     ]
    },
    {
     "data": {
      "text/plain": [
       "{'train_score': 0.929,\n",
       " 'test_score': -1.9175703459995795e+21,\n",
       " 'mae': 228384936779116.0,\n",
       " 'r2': -1.9175703459995795e+21,\n",
       " 'rmse': 3585853900135635.0}"
      ]
     },
     "execution_count": 17,
     "metadata": {},
     "output_type": "execute_result"
    }
   ],
   "source": [
    "%%time\n",
    "lr = LinearRegression()\n",
    "cross_val_score(lr,X,y,cv=10)\n",
    "lr.fit(X_train, y_train)\n",
    "y_Pred = lr.predict(X_test)\n",
    "results[('lm','o')] = Model_Eval_matrix(lr, X_train, y_train, y_test, y_Pred)\n",
    "results[('lm','o')]"
   ]
  },
  {
   "cell_type": "markdown",
   "metadata": {},
   "source": [
    "## Comment：\n",
    "\n",
    "The train score is quite good while the test score is really bad, and r2 score is negative, this probably due to the issue of overfitting and redundant features. Lasso, Ridge, and Elastic Net models are forms of regularized linear techniques found in General Linear Models, I will try these 3 models."
   ]
  },
  {
   "cell_type": "markdown",
   "metadata": {},
   "source": [
    "## Lasso"
   ]
  },
  {
   "cell_type": "code",
   "execution_count": 18,
   "metadata": {},
   "outputs": [
    {
     "name": "stderr",
     "output_type": "stream",
     "text": [
      "[Parallel(n_jobs=1)]: Using backend SequentialBackend with 1 concurrent workers.\n",
      "........................................................................................................................................................................................................................................................................................................................................................................................................................................................................................................................................................................................................................................................................................................................................................................................................................................................................................................................................................................................................................................................................................................................................................................................................................................................................................................................................................................................................................................................................................................................................................................................................................................................................................................................................................................................................................................................................................................................................................................................................................................................................................................................................................................................................................................................................................................................................................................................................................................................................................................................................................................................................................................................................................................................................................................................................................................................................................................................................................................................................................................................................................................................................................................................................................................................................................................................................................................................................................................................................................................................................................................................................................................................................................................................................................................................................................................................................................................................................................................................................................................................................................................................................................................................................................................................................................................................................................................................................................................................................................................................................................................................................................................................................................................................................................................................................................................................................................................................................................................................................................................................................................................................................................................................................[Parallel(n_jobs=1)]: Done  10 out of  10 | elapsed:    3.8s finished\n"
     ]
    },
    {
     "name": "stdout",
     "output_type": "stream",
     "text": [
      "optimal lasso alpha is 471.2256110039473\n"
     ]
    },
    {
     "name": "stderr",
     "output_type": "stream",
     "text": [
      "C:\\Users\\liubin\\Anaconda3\\lib\\site-packages\\sklearn\\linear_model\\_coordinate_descent.py:529: ConvergenceWarning: Objective did not converge. You might want to increase the number of iterations. Duality gap: 453486614984.6808, tolerance: 1141957619.934621\n",
      "  model = cd_fast.enet_coordinate_descent(\n",
      "C:\\Users\\liubin\\Anaconda3\\lib\\site-packages\\sklearn\\linear_model\\_coordinate_descent.py:529: ConvergenceWarning: Objective did not converge. You might want to increase the number of iterations. Duality gap: 495093744255.7556, tolerance: 1174409542.4464788\n",
      "  model = cd_fast.enet_coordinate_descent(\n",
      "C:\\Users\\liubin\\Anaconda3\\lib\\site-packages\\sklearn\\linear_model\\_coordinate_descent.py:529: ConvergenceWarning: Objective did not converge. You might want to increase the number of iterations. Duality gap: 482256238768.4967, tolerance: 1172530308.1398697\n",
      "  model = cd_fast.enet_coordinate_descent(\n",
      "C:\\Users\\liubin\\Anaconda3\\lib\\site-packages\\sklearn\\linear_model\\_coordinate_descent.py:529: ConvergenceWarning: Objective did not converge. You might want to increase the number of iterations. Duality gap: 476415897348.1992, tolerance: 1157238275.5385177\n",
      "  model = cd_fast.enet_coordinate_descent(\n",
      "C:\\Users\\liubin\\Anaconda3\\lib\\site-packages\\sklearn\\linear_model\\_coordinate_descent.py:529: ConvergenceWarning: Objective did not converge. You might want to increase the number of iterations. Duality gap: 439339820980.56335, tolerance: 1171160366.80297\n",
      "  model = cd_fast.enet_coordinate_descent(\n",
      "C:\\Users\\liubin\\Anaconda3\\lib\\site-packages\\sklearn\\linear_model\\_coordinate_descent.py:529: ConvergenceWarning: Objective did not converge. You might want to increase the number of iterations. Duality gap: 452070966242.3045, tolerance: 1140533647.152522\n",
      "  model = cd_fast.enet_coordinate_descent(\n",
      "C:\\Users\\liubin\\Anaconda3\\lib\\site-packages\\sklearn\\linear_model\\_coordinate_descent.py:529: ConvergenceWarning: Objective did not converge. You might want to increase the number of iterations. Duality gap: 341361002661.38605, tolerance: 1176117868.5550761\n",
      "  model = cd_fast.enet_coordinate_descent(\n",
      "C:\\Users\\liubin\\Anaconda3\\lib\\site-packages\\sklearn\\linear_model\\_coordinate_descent.py:529: ConvergenceWarning: Objective did not converge. You might want to increase the number of iterations. Duality gap: 438597842365.13086, tolerance: 1165373744.1211765\n",
      "  model = cd_fast.enet_coordinate_descent(\n",
      "C:\\Users\\liubin\\Anaconda3\\lib\\site-packages\\sklearn\\linear_model\\_coordinate_descent.py:529: ConvergenceWarning: Objective did not converge. You might want to increase the number of iterations. Duality gap: 463426078564.37244, tolerance: 1120635510.1003213\n",
      "  model = cd_fast.enet_coordinate_descent(\n"
     ]
    },
    {
     "name": "stdout",
     "output_type": "stream",
     "text": [
      "Wall time: 6.78 s\n"
     ]
    },
    {
     "name": "stderr",
     "output_type": "stream",
     "text": [
      "C:\\Users\\liubin\\Anaconda3\\lib\\site-packages\\sklearn\\linear_model\\_coordinate_descent.py:529: ConvergenceWarning: Objective did not converge. You might want to increase the number of iterations. Duality gap: 482924425437.5498, tolerance: 1169507054.7205133\n",
      "  model = cd_fast.enet_coordinate_descent(\n"
     ]
    },
    {
     "data": {
      "text/plain": [
       "{'train_score': 0.922,\n",
       " 'test_score': 0.912,\n",
       " 'mae': 16821.0,\n",
       " 'r2': 0.912,\n",
       " 'rmse': 24303.0}"
      ]
     },
     "execution_count": 18,
     "metadata": {},
     "output_type": "execute_result"
    }
   ],
   "source": [
    "%%time\n",
    "optimal_lasso = LassoCV(n_alphas=500, cv=10, verbose=1)\n",
    "optimal_lasso.fit(X_train, y_train)\n",
    "print(f'optimal lasso alpha is {optimal_lasso.alpha_}')\n",
    "\n",
    "lasso = Lasso(alpha=optimal_lasso.alpha_)\n",
    "cross_val_score(lasso, X, y, cv=10)\n",
    "lasso.fit(X_train, y_train)\n",
    "y_Pred = lasso.predict(X_test)\n",
    "results[('lasso','o')] = Model_Eval_matrix(lasso, X_train, y_train, y_test, y_Pred)\n",
    "results[('lasso','o')]"
   ]
  },
  {
   "cell_type": "code",
   "execution_count": 19,
   "metadata": {},
   "outputs": [
    {
     "data": {
      "text/html": [
       "<div>\n",
       "<style scoped>\n",
       "    .dataframe tbody tr th:only-of-type {\n",
       "        vertical-align: middle;\n",
       "    }\n",
       "\n",
       "    .dataframe tbody tr th {\n",
       "        vertical-align: top;\n",
       "    }\n",
       "\n",
       "    .dataframe thead th {\n",
       "        text-align: right;\n",
       "    }\n",
       "</style>\n",
       "<table border=\"1\" class=\"dataframe\">\n",
       "  <thead>\n",
       "    <tr style=\"text-align: right;\">\n",
       "      <th></th>\n",
       "      <th>Feature</th>\n",
       "      <th>coef</th>\n",
       "      <th>abs_coef</th>\n",
       "    </tr>\n",
       "  </thead>\n",
       "  <tbody>\n",
       "    <tr>\n",
       "      <th>37</th>\n",
       "      <td>Total SF</td>\n",
       "      <td>35493.110999</td>\n",
       "      <td>35493.110999</td>\n",
       "    </tr>\n",
       "    <tr>\n",
       "      <th>6</th>\n",
       "      <td>Overall Qual</td>\n",
       "      <td>14165.103524</td>\n",
       "      <td>14165.103524</td>\n",
       "    </tr>\n",
       "    <tr>\n",
       "      <th>8</th>\n",
       "      <td>Year Built</td>\n",
       "      <td>8909.540301</td>\n",
       "      <td>8909.540301</td>\n",
       "    </tr>\n",
       "    <tr>\n",
       "      <th>19</th>\n",
       "      <td>Bsmt Unf SF</td>\n",
       "      <td>-7656.540748</td>\n",
       "      <td>7656.540748</td>\n",
       "    </tr>\n",
       "    <tr>\n",
       "      <th>81</th>\n",
       "      <td>Neighborhood_NridgHt</td>\n",
       "      <td>7354.955774</td>\n",
       "      <td>7354.955774</td>\n",
       "    </tr>\n",
       "    <tr>\n",
       "      <th>42</th>\n",
       "      <td>has Bsmt</td>\n",
       "      <td>-6804.964351</td>\n",
       "      <td>6804.964351</td>\n",
       "    </tr>\n",
       "    <tr>\n",
       "      <th>87</th>\n",
       "      <td>Neighborhood_StoneBr</td>\n",
       "      <td>6153.161053</td>\n",
       "      <td>6153.161053</td>\n",
       "    </tr>\n",
       "    <tr>\n",
       "      <th>1</th>\n",
       "      <td>MS SubClass</td>\n",
       "      <td>-6015.043257</td>\n",
       "      <td>6015.043257</td>\n",
       "    </tr>\n",
       "    <tr>\n",
       "      <th>178</th>\n",
       "      <td>Sale Type_New</td>\n",
       "      <td>5439.739897</td>\n",
       "      <td>5439.739897</td>\n",
       "    </tr>\n",
       "    <tr>\n",
       "      <th>2</th>\n",
       "      <td>Lot Area</td>\n",
       "      <td>5244.820172</td>\n",
       "      <td>5244.820172</td>\n",
       "    </tr>\n",
       "  </tbody>\n",
       "</table>\n",
       "</div>"
      ],
      "text/plain": [
       "                  Feature          coef      abs_coef\n",
       "37               Total SF  35493.110999  35493.110999\n",
       "6            Overall Qual  14165.103524  14165.103524\n",
       "8              Year Built   8909.540301   8909.540301\n",
       "19            Bsmt Unf SF  -7656.540748   7656.540748\n",
       "81   Neighborhood_NridgHt   7354.955774   7354.955774\n",
       "42               has Bsmt  -6804.964351   6804.964351\n",
       "87   Neighborhood_StoneBr   6153.161053   6153.161053\n",
       "1             MS SubClass  -6015.043257   6015.043257\n",
       "178         Sale Type_New   5439.739897   5439.739897\n",
       "2                Lot Area   5244.820172   5244.820172"
      ]
     },
     "execution_count": 19,
     "metadata": {},
     "output_type": "execute_result"
    }
   ],
   "source": [
    "lasso_coefs = pd.DataFrame({'Feature': X.columns,\n",
    "                           'coef': lasso.coef_,\n",
    "                           'abs_coef': abs(lasso.coef_)})\n",
    "lasso_coefs.sort_values('abs_coef', inplace=True, ascending=False)\n",
    "lasso_coefs[:10]"
   ]
  },
  {
   "cell_type": "markdown",
   "metadata": {},
   "source": [
    "## Comments:\n",
    "1. Lasso Regression assigns a penalty to the coefficients in the linear model and eliminates variables with coefficients that zero. This shrinkage process where data values are shrunk to a central point such as a mean.\n",
    "2. From the model evaluation matrix, it can be observed that it has a high mean score of 0.922 for train data, and 0.912 for test unseen data, it's slightly lower than the baseline score. \n",
    "3. The r2 score is 0.912 which means that this Lasso model is able to explain 91.2% of sales price variation."
   ]
  },
  {
   "cell_type": "markdown",
   "metadata": {},
   "source": [
    "### Lasso Model Tuning by using GridSearchCV"
   ]
  },
  {
   "cell_type": "code",
   "execution_count": 20,
   "metadata": {},
   "outputs": [
    {
     "name": "stdout",
     "output_type": "stream",
     "text": [
      "optimal lasso alpha is 64\n"
     ]
    },
    {
     "name": "stderr",
     "output_type": "stream",
     "text": [
      "C:\\Users\\liubin\\Anaconda3\\lib\\site-packages\\sklearn\\linear_model\\_coordinate_descent.py:529: ConvergenceWarning: Objective did not converge. You might want to increase the number of iterations. Duality gap: 462022597290.4561, tolerance: 1141957619.934621\n",
      "  model = cd_fast.enet_coordinate_descent(\n",
      "C:\\Users\\liubin\\Anaconda3\\lib\\site-packages\\sklearn\\linear_model\\_coordinate_descent.py:529: ConvergenceWarning: Objective did not converge. You might want to increase the number of iterations. Duality gap: 477504507628.3479, tolerance: 1174409542.4464788\n",
      "  model = cd_fast.enet_coordinate_descent(\n",
      "C:\\Users\\liubin\\Anaconda3\\lib\\site-packages\\sklearn\\linear_model\\_coordinate_descent.py:529: ConvergenceWarning: Objective did not converge. You might want to increase the number of iterations. Duality gap: 475052225525.28955, tolerance: 1172530308.1398697\n",
      "  model = cd_fast.enet_coordinate_descent(\n",
      "C:\\Users\\liubin\\Anaconda3\\lib\\site-packages\\sklearn\\linear_model\\_coordinate_descent.py:529: ConvergenceWarning: Objective did not converge. You might want to increase the number of iterations. Duality gap: 481401711258.3124, tolerance: 1157238275.5385177\n",
      "  model = cd_fast.enet_coordinate_descent(\n",
      "C:\\Users\\liubin\\Anaconda3\\lib\\site-packages\\sklearn\\linear_model\\_coordinate_descent.py:529: ConvergenceWarning: Objective did not converge. You might want to increase the number of iterations. Duality gap: 484085776182.7321, tolerance: 1171160366.80297\n",
      "  model = cd_fast.enet_coordinate_descent(\n",
      "C:\\Users\\liubin\\Anaconda3\\lib\\site-packages\\sklearn\\linear_model\\_coordinate_descent.py:529: ConvergenceWarning: Objective did not converge. You might want to increase the number of iterations. Duality gap: 464384613192.8174, tolerance: 1140533647.152522\n",
      "  model = cd_fast.enet_coordinate_descent(\n",
      "C:\\Users\\liubin\\Anaconda3\\lib\\site-packages\\sklearn\\linear_model\\_coordinate_descent.py:529: ConvergenceWarning: Objective did not converge. You might want to increase the number of iterations. Duality gap: 477246902749.39905, tolerance: 1176117868.5550761\n",
      "  model = cd_fast.enet_coordinate_descent(\n",
      "C:\\Users\\liubin\\Anaconda3\\lib\\site-packages\\sklearn\\linear_model\\_coordinate_descent.py:529: ConvergenceWarning: Objective did not converge. You might want to increase the number of iterations. Duality gap: 469926354624.95514, tolerance: 1165373744.1211765\n",
      "  model = cd_fast.enet_coordinate_descent(\n",
      "C:\\Users\\liubin\\Anaconda3\\lib\\site-packages\\sklearn\\linear_model\\_coordinate_descent.py:529: ConvergenceWarning: Objective did not converge. You might want to increase the number of iterations. Duality gap: 445955487441.81586, tolerance: 1120635510.1003213\n",
      "  model = cd_fast.enet_coordinate_descent(\n"
     ]
    },
    {
     "name": "stdout",
     "output_type": "stream",
     "text": [
      "Wall time: 10.6 s\n"
     ]
    },
    {
     "name": "stderr",
     "output_type": "stream",
     "text": [
      "C:\\Users\\liubin\\Anaconda3\\lib\\site-packages\\sklearn\\linear_model\\_coordinate_descent.py:529: ConvergenceWarning: Objective did not converge. You might want to increase the number of iterations. Duality gap: 477634027185.391, tolerance: 1169507054.7205133\n",
      "  model = cd_fast.enet_coordinate_descent(\n"
     ]
    },
    {
     "data": {
      "text/plain": [
       "{'train_score': 0.928,\n",
       " 'test_score': 0.911,\n",
       " 'mae': 17049.0,\n",
       " 'r2': 0.911,\n",
       " 'rmse': 24481.0}"
      ]
     },
     "execution_count": 20,
     "metadata": {},
     "output_type": "execute_result"
    }
   ],
   "source": [
    "%%time\n",
    "\n",
    "tol = 0.1\n",
    "grid_search = GridSearchCV(\n",
    "    estimator=Lasso(tol=tol, selection=\"random\", random_state=42),\n",
    "    param_grid={\"alpha\": [2 ** x for x in range(-8, 4)] + list(range(12, 65, 4))},\n",
    "    cv=KFold(n_splits=4),\n",
    "    n_jobs=-1,\n",
    ")\n",
    "\n",
    "grid_search.fit(X, y)\n",
    "optimal_alpha=grid_search.best_params_[\"alpha\"]\n",
    "print(f'optimal lasso alpha is {optimal_alpha}')\n",
    "lassoGS = Lasso(alpha=optimal_alpha)\n",
    "\n",
    "cross_val_score(lassoGS, X, y, cv=10)\n",
    "lassoGS.fit(X_train, y_train)\n",
    "y_Pred = lassoGS.predict(X_test)\n",
    "results[('lassoGridSearch','o')] = Model_Eval_matrix(lassoGS, X_train, y_train, y_test, y_Pred)\n",
    "results[('lassoGridSearch','o')]"
   ]
  },
  {
   "cell_type": "markdown",
   "metadata": {},
   "source": [
    "## Comment:\n",
    "\n",
    "1. GridSearch is a process of performing hyperparameter tuning in order to determine the optimal values for a given model. There might be some room for model improvement, and one of important factor in the performance is the hyperparameter. Once we set appropriate values for these hyperparameters, the performance of a model can improve significantly.\n",
    "\n",
    "2. But comparing the Lasso GridSearch model vs Lasso Model, there is not much significant improvement, which in another way implies the Lasso model has a quite good and stable performance.  "
   ]
  },
  {
   "cell_type": "markdown",
   "metadata": {},
   "source": [
    "## Ridge"
   ]
  },
  {
   "cell_type": "code",
   "execution_count": 21,
   "metadata": {},
   "outputs": [
    {
     "name": "stdout",
     "output_type": "stream",
     "text": [
      "optimal ridge alpha is 70.79292929292929\n",
      "Wall time: 8.29 s\n"
     ]
    },
    {
     "data": {
      "text/plain": [
       "{'train_score': 0.925,\n",
       " 'test_score': 0.904,\n",
       " 'mae': 17601.0,\n",
       " 'r2': 0.904,\n",
       " 'rmse': 25427.0}"
      ]
     },
     "execution_count": 21,
     "metadata": {},
     "output_type": "execute_result"
    }
   ],
   "source": [
    "%%time\n",
    "# Baseline Model\n",
    "ridge_alphas = np.linspace(.1,500,100)\n",
    "optimal_ridge = RidgeCV(alphas=ridge_alphas, cv=10)\n",
    "optimal_ridge.fit(X_train,y_train)\n",
    "print(f'optimal ridge alpha is {optimal_ridge.alpha_}')\n",
    "\n",
    "ridge = Ridge(alpha=optimal_ridge.alpha_)\n",
    "cross_val_score(ridge, X, y, cv=10)\n",
    "ridge.fit(X_train, y_train)\n",
    "y_Pred = ridge.predict(X_test)\n",
    "results[('ridge','o')] = Model_Eval_matrix(ridge, X_train, y_train, y_test, y_Pred)\n",
    "results[('ridge','o')]"
   ]
  },
  {
   "cell_type": "markdown",
   "metadata": {},
   "source": [
    "## Comment:\n",
    "\n",
    "1. Ridge assigns a penalty that is the squared magnitude of the coefficients to the loss function multiplied by lambda. As Lasso does, ridge also adds a penalty to coefficients the model overemphasizes. The value of lambda also plays a key role in how much weight you assign to the penalty for the coefficients. The larger your value of lambda, the more likely your coefficients get closer and closer to zero. Unlike lasso, the ridge model will not shrink these coefficients to zero.\n",
    "\n",
    "2. As Ridge does not eliminate coefficients in our model even if the variables are irrelevant. This can be negative if in future we have more features than observations.\n",
    "\n",
    "3. From the model, it can be observed that it has a high train score of 0.925 and test score of 0.904, the RMSE is 25427.\n",
    "4. Comparing to Lasso & Lasso GridSearchCV Model, it has a slightly low r2 score-0.904 which means that the Ridge model is able to explain 90.4% of sales price variation."
   ]
  },
  {
   "cell_type": "markdown",
   "metadata": {},
   "source": [
    "### Ridge Model Tuning by using GridSearchCV"
   ]
  },
  {
   "cell_type": "code",
   "execution_count": 22,
   "metadata": {},
   "outputs": [
    {
     "name": "stdout",
     "output_type": "stream",
     "text": [
      "optimal ridge alpha is 70.79292929292929\n",
      "Wall time: 998 ms\n"
     ]
    },
    {
     "data": {
      "text/plain": [
       "{'train_score': 0.925,\n",
       " 'test_score': 0.904,\n",
       " 'mae': 17601.0,\n",
       " 'r2': 0.904,\n",
       " 'rmse': 25427.0}"
      ]
     },
     "execution_count": 22,
     "metadata": {},
     "output_type": "execute_result"
    }
   ],
   "source": [
    "%%time\n",
    "\n",
    "grid_search = GridSearchCV(\n",
    "    estimator=Ridge(),\n",
    "    param_grid={\"alpha\": [2 ** x for x in range(-8, 4)] + list(range(12, 65, 4))},\n",
    "    cv=KFold(n_splits=4),\n",
    "    n_jobs=-1,\n",
    ")\n",
    "\n",
    "grid_search.fit(X, y)\n",
    "optimal_alpha=grid_search.best_params_[\"alpha\"]\n",
    "print(f'optimal ridge alpha is {optimal_ridge.alpha_}')\n",
    "\n",
    "ridgeGS = Ridge(alpha=optimal_ridge.alpha_)\n",
    "cross_val_score(ridgeGS, X, y, cv=10)\n",
    "ridgeGS.fit(X_train, y_train)\n",
    "y_Pred = ridgeGS.predict(X_test)\n",
    "results[('ridgeGridSearch','o')] = Model_Eval_matrix(ridgeGS, X_train, y_train, y_test, y_Pred)\n",
    "results[('ridgeGridSearch','o')]"
   ]
  },
  {
   "cell_type": "markdown",
   "metadata": {},
   "source": [
    "## Comments:\n",
    "\n",
    "Same as LassoGridSearchCV, I also tried to see if any room to improve the Ridge model, how it doesn't show the space for improving."
   ]
  },
  {
   "cell_type": "markdown",
   "metadata": {},
   "source": [
    "## Elastic Net"
   ]
  },
  {
   "cell_type": "code",
   "execution_count": 23,
   "metadata": {},
   "outputs": [
    {
     "name": "stderr",
     "output_type": "stream",
     "text": [
      "[Parallel(n_jobs=1)]: Using backend SequentialBackend with 1 concurrent workers.\n"
     ]
    },
    {
     "name": "stderr",
     "output_type": "stream",
     "text": [
      "................................................................................................................................................................................................................................................................................................................................................................................................................................................................................................................................................................................................................................................................................................................................................................................................................................................................................................................................................................................................................................................................................................................................................................................................................................................................................................................................................................................................................................................................................................................................................................................................................................................................................................................................................................................................................................................................................................................................................................................................................................................................................................................................................................................................................................................................................................................................................................................................................................................................................................................................................................................................................................................................................................................................................................................................................................................................................................................................................................................................................................................................................................................................................................................................................................................................................................................................................................................................................................................................................................................................................................................................................................................................................................................................................................................................................................................................................................................................................................................................................................................................................................................................................................................................................................................................................................................................................................................................................................................................................................................................................................................................................................................................................................................................................................................................................................................................................................................................................................................................................................................................................................................................................................................................................................................................................................................................................................................................................................................................................................................................................................................................................................................................................................................................................................................................................................................................................................................................................................................................................................................................................................................................................................................................................................................................................................................................................................................................................................................................................................................................................................................................................................................................................................................................................................................................................................................................................................................................................................................................................................................................................................................................................................................................................................................................................................................................................................................................................................................................................................................................................................................................................................................................................................................................................................................................................................................................................................................................................................................................................................................................................................................................................................................................................................................................................................................................................................................................................................................................................................................................................................................................................................................................................................................................................................................................"
     ]
    },
    {
     "name": "stderr",
     "output_type": "stream",
     "text": [
      "..............................................................................................................................................................................................................................................................................................................................................................................................................................................................................................................................................................................................................................................................................................................................................................................................................................................................................................................................................................................................................................................................................................................................................................................................................................................................................................................................................................................................................................................................................................................................................................................................................................................................................................................................................................................................................................................................................................................................................................................................................................................................................................................................................................................................................................................................................................................................................................................................................................................................................................................................................................................................................................................................................................................................................................................................................................................................................................................................................................................................................................................................................................................................................................................................................................................................................................................................................................................................................................................................................................................................................................................................................................................................................................................................................................................................................................................................................................................................................................................................................................................................................................................................................................................................................................................................................................................................................................................................................................................................................................................................................................................................................................................................................................................................................................................................................................................................................................................................................................................................................................................................................................................................................................................................................................................................................................................................................................................................................................................................................................................................................................................................................................................................................................................................................................................................................................................................................................................................................................................................................................................................................................................................................................................................................................................................................................................................................................................................................................................................................................................................................................................................................................................................................................................................................................................................................................................................................................................................................................................................................................................................................................................................................................................................................................................................................................................................................................................................................................................................................................................................................................................................................................................................................................................................................................................................................................................................................................................................................................................................................................................................................................................................................................................................................................................................................................................................................................................................................................................................................................................................................................................................................................................................................."
     ]
    },
    {
     "name": "stderr",
     "output_type": "stream",
     "text": [
      "......................................................................................................................................................................................................................................................................................................................................................................................................................................................................................................................................................................................................................................................................................................................................................................................................................................................................................................................................................................................................................................................................................................................................................................................................................................................................................................................................................................................................................................................................................................................................................................................................................................................................................................................................................................................................................................................................................................................................................................................................................................................................................................................................................................................................................................................................................................................................................................................................................................................................................................................................................................................................................................................................................................................................................................................................................................................................................................................................................................................................................................................................................................................................................................................................................................................................................................................................................................................................................................................................................................................................................................................................................................................................................................................................................................................................................................................................................................................................................................................................................................................................................................................................................................................................................................................................................................................................................................................................................................................................................................................................................................................................................................................................................................................................................................................................................................................................................................................................................................................................................................................................................................................................................................................................................................................................................................................................................................................................................................................................................................................................................................................................................................................................................................................................................................................................................................................................................................................................................................................................................................................................................................................................................................................................................................................................................................................................................................................................................................................................................................................................................................................................................................................................................................................................................................................................................................................................................................................................................................................................................................................................................................................................................................................................................................................................................................................................................................................................................................................................................................................................................................................................................................................................................................................................................................................................................................................................................................................................................................................................................................................................................................................................................................................................................................................................................................................................................................................................................................................................................................................................."
     ]
    },
    {
     "name": "stderr",
     "output_type": "stream",
     "text": [
      "..................[Parallel(n_jobs=1)]: Done 250 out of 250 | elapsed:   18.8s finished\n"
     ]
    },
    {
     "name": "stdout",
     "output_type": "stream",
     "text": [
      "optimal ElasticNet alpha is 485.60740660818794\n"
     ]
    },
    {
     "name": "stderr",
     "output_type": "stream",
     "text": [
      "C:\\Users\\liubin\\Anaconda3\\lib\\site-packages\\sklearn\\linear_model\\_coordinate_descent.py:529: ConvergenceWarning: Objective did not converge. You might want to increase the number of iterations. Duality gap: 451467393437.7956, tolerance: 1141957619.934621\n",
      "  model = cd_fast.enet_coordinate_descent(\n",
      "C:\\Users\\liubin\\Anaconda3\\lib\\site-packages\\sklearn\\linear_model\\_coordinate_descent.py:529: ConvergenceWarning: Objective did not converge. You might want to increase the number of iterations. Duality gap: 493291627957.6084, tolerance: 1174409542.4464788\n",
      "  model = cd_fast.enet_coordinate_descent(\n",
      "C:\\Users\\liubin\\Anaconda3\\lib\\site-packages\\sklearn\\linear_model\\_coordinate_descent.py:529: ConvergenceWarning: Objective did not converge. You might want to increase the number of iterations. Duality gap: 480717184241.6549, tolerance: 1172530308.1398697\n",
      "  model = cd_fast.enet_coordinate_descent(\n",
      "C:\\Users\\liubin\\Anaconda3\\lib\\site-packages\\sklearn\\linear_model\\_coordinate_descent.py:529: ConvergenceWarning: Objective did not converge. You might want to increase the number of iterations. Duality gap: 476229546067.3872, tolerance: 1157238275.5385177\n",
      "  model = cd_fast.enet_coordinate_descent(\n",
      "C:\\Users\\liubin\\Anaconda3\\lib\\site-packages\\sklearn\\linear_model\\_coordinate_descent.py:529: ConvergenceWarning: Objective did not converge. You might want to increase the number of iterations. Duality gap: 439614949289.8209, tolerance: 1171160366.80297\n",
      "  model = cd_fast.enet_coordinate_descent(\n",
      "C:\\Users\\liubin\\Anaconda3\\lib\\site-packages\\sklearn\\linear_model\\_coordinate_descent.py:529: ConvergenceWarning: Objective did not converge. You might want to increase the number of iterations. Duality gap: 453641451101.5485, tolerance: 1140533647.152522\n",
      "  model = cd_fast.enet_coordinate_descent(\n",
      "C:\\Users\\liubin\\Anaconda3\\lib\\site-packages\\sklearn\\linear_model\\_coordinate_descent.py:529: ConvergenceWarning: Objective did not converge. You might want to increase the number of iterations. Duality gap: 342077557171.5364, tolerance: 1176117868.5550761\n",
      "  model = cd_fast.enet_coordinate_descent(\n",
      "C:\\Users\\liubin\\Anaconda3\\lib\\site-packages\\sklearn\\linear_model\\_coordinate_descent.py:529: ConvergenceWarning: Objective did not converge. You might want to increase the number of iterations. Duality gap: 434025878771.5692, tolerance: 1165373744.1211765\n",
      "  model = cd_fast.enet_coordinate_descent(\n",
      "C:\\Users\\liubin\\Anaconda3\\lib\\site-packages\\sklearn\\linear_model\\_coordinate_descent.py:529: ConvergenceWarning: Objective did not converge. You might want to increase the number of iterations. Duality gap: 462237028701.03296, tolerance: 1120635510.1003213\n",
      "  model = cd_fast.enet_coordinate_descent(\n"
     ]
    },
    {
     "name": "stdout",
     "output_type": "stream",
     "text": [
      "Wall time: 21.9 s\n"
     ]
    },
    {
     "name": "stderr",
     "output_type": "stream",
     "text": [
      "C:\\Users\\liubin\\Anaconda3\\lib\\site-packages\\sklearn\\linear_model\\_coordinate_descent.py:529: ConvergenceWarning: Objective did not converge. You might want to increase the number of iterations. Duality gap: 483470431101.2469, tolerance: 1169507054.7205133\n",
      "  model = cd_fast.enet_coordinate_descent(\n"
     ]
    },
    {
     "data": {
      "text/plain": [
       "{'train_score': 0.922,\n",
       " 'test_score': 0.912,\n",
       " 'mae': 16831.0,\n",
       " 'r2': 0.912,\n",
       " 'rmse': 24318.0}"
      ]
     },
     "execution_count": 23,
     "metadata": {},
     "output_type": "execute_result"
    }
   ],
   "source": [
    "%%time\n",
    "l1_ratios = np.linspace(0.01, 1.0, 25)\n",
    "optimal_enet = ElasticNetCV(l1_ratio=l1_ratios, n_alphas=100, cv=10,verbose=1)\n",
    "\n",
    "optimal_enet.fit(X_train, y_train)\n",
    "\n",
    "print(f'optimal ElasticNet alpha is {optimal_enet.alpha_}')\n",
    "\n",
    "enet = ElasticNet(alpha=optimal_enet.alpha_, l1_ratio=optimal_enet.l1_ratio_)\n",
    "\n",
    "cross_val_score(enet, X, y, cv=10)\n",
    "enet.fit(X_train, y_train)\n",
    "y_Pred = enet.predict(X_test)\n",
    "results[('ElasticNet','o')] = Model_Eval_matrix(enet, X_train, y_train, y_test, y_Pred)\n",
    "results[('ElasticNet','o')]"
   ]
  },
  {
   "cell_type": "markdown",
   "metadata": {},
   "source": [
    "$$ \\text{minimize:}\\; RSS + Ridge + Lasso = \\sum_{i=1}^n \\left(y_i - \\left(\\beta_0 + \\sum_{j=1}^p\\beta_j x_j\\right)\\right)^2 + \\alpha\\rho\\sum_{j=1}^p |\\beta_j| + \\alpha(1-\\rho)\\sum_{j=1}^p \\beta_j^2$$"
   ]
  },
  {
   "cell_type": "markdown",
   "metadata": {},
   "source": [
    "## Comment:\n",
    "1. Elastic Net combines characteristics of both lasso and ridge. Elastic Net reduces the impact of different features while not eliminating all of the features.\n",
    "\n",
    "2. ElasticNet in sklearn has two parameters: alpha: the regularization strength. l1_ratio: the amount of L1 vs L2 penalty (i.e.,  𝜌 ). An l1_ratio of 0 is equivalent to the Ridge, whereas an l1_ratio of 1 is equivalent to the Lasso.\n",
    "\n",
    "3. The high r2 score means that the model is able to explain 91.2% of sale price variation. The RMSE is 24318\n",
    "4. The optimal l1_ratio is 1, which shows that Lasso model was found to be optimal."
   ]
  },
  {
   "cell_type": "markdown",
   "metadata": {},
   "source": [
    "## Plotting Predictions against Actual Values"
   ]
  },
  {
   "cell_type": "code",
   "execution_count": 24,
   "metadata": {},
   "outputs": [
    {
     "data": {
      "image/png": "[encoded data removed]",
      "text/plain": [
       "<Figure size 864x576 with 1 Axes>"
      ]
     },
     "metadata": {
      "needs_background": "light"
     },
     "output_type": "display_data"
    }
   ],
   "source": [
    "#Generates a list of the model's predictions for the test bloc\n",
    "y_Pred = lasso.predict(X_test)\n",
    "\n",
    "plt.figure(figsize=(12,8))\n",
    "plt.scatter(y_Pred,y_test,marker = '+')\n",
    "plt.xlabel('Predicted values')\n",
    "plt.ylabel('Actual values')\n",
    "plt.title(\"Predicted Sales vs Actual Sales (Lasso Model)\")\n",
    "\n",
    "plt.plot([0,np.max(y_test)],[0,np.max(y_test)], c = '#FF5722');"
   ]
  },
  {
   "cell_type": "markdown",
   "metadata": {},
   "source": [
    "## Comment:\n",
    "\n",
    "The Model certainly look very strong. There are very few poor predictions and it don't appear to be significantly underpredicting or overpredicting on any stretch of data. "
   ]
  },
  {
   "cell_type": "markdown",
   "metadata": {},
   "source": [
    "## Model Selection Summary:\n",
    "\n",
    "In general, Lasso Model seemed to outperform the other models with feature engineering, while ElasticNet also gave almost same score as Lasso model. I will choose Lasso Model as my product model and for Kaggle submission, as it gives a good prediction of 91.9% by shinking and removing non-important features, which helps to reduce the variance without a substantial increase of the bias. "
   ]
  },
  {
   "cell_type": "markdown",
   "metadata": {},
   "source": [
    "# 5. Output Model Predictions for Kaggle Submission"
   ]
  },
  {
   "cell_type": "code",
   "execution_count": 25,
   "metadata": {},
   "outputs": [
    {
     "data": {
      "text/html": [
       "<div>\n",
       "<style scoped>\n",
       "    .dataframe tbody tr th:only-of-type {\n",
       "        vertical-align: middle;\n",
       "    }\n",
       "\n",
       "    .dataframe tbody tr th {\n",
       "        vertical-align: top;\n",
       "    }\n",
       "\n",
       "    .dataframe thead th {\n",
       "        text-align: right;\n",
       "    }\n",
       "</style>\n",
       "<table border=\"1\" class=\"dataframe\">\n",
       "  <thead>\n",
       "    <tr style=\"text-align: right;\">\n",
       "      <th></th>\n",
       "      <th>Id</th>\n",
       "      <th>SalePrice</th>\n",
       "    </tr>\n",
       "  </thead>\n",
       "  <tbody>\n",
       "    <tr>\n",
       "      <th>0</th>\n",
       "      <td>2658</td>\n",
       "      <td>127875.815762</td>\n",
       "    </tr>\n",
       "    <tr>\n",
       "      <th>1</th>\n",
       "      <td>2718</td>\n",
       "      <td>159520.408608</td>\n",
       "    </tr>\n",
       "    <tr>\n",
       "      <th>2</th>\n",
       "      <td>2414</td>\n",
       "      <td>221665.139769</td>\n",
       "    </tr>\n",
       "    <tr>\n",
       "      <th>3</th>\n",
       "      <td>1989</td>\n",
       "      <td>106684.378883</td>\n",
       "    </tr>\n",
       "    <tr>\n",
       "      <th>4</th>\n",
       "      <td>625</td>\n",
       "      <td>163322.192418</td>\n",
       "    </tr>\n",
       "  </tbody>\n",
       "</table>\n",
       "</div>"
      ],
      "text/plain": [
       "     Id      SalePrice\n",
       "0  2658  127875.815762\n",
       "1  2718  159520.408608\n",
       "2  2414  221665.139769\n",
       "3  1989  106684.378883\n",
       "4   625  163322.192418"
      ]
     },
     "execution_count": 25,
     "metadata": {},
     "output_type": "execute_result"
    }
   ],
   "source": [
    "# Choose my preferred Lasso Model for submission\n",
    "y_pred = lasso.predict(df_test_sc)\n",
    "submission = pd.DataFrame(y_pred, columns=['SalePrice'])\n",
    "submission['Id'] = df_test['Id']\n",
    "submission = submission[['Id', 'SalePrice']]\n",
    "submission.head()"
   ]
  },
  {
   "cell_type": "code",
   "execution_count": 26,
   "metadata": {},
   "outputs": [],
   "source": [
    "path = \"../datasets/Kaggle Submission/\"\n",
    "submission.to_csv(path + \"submission.csv\", index = False)"
   ]
  },
  {
   "cell_type": "markdown",
   "metadata": {},
   "source": [
    "\n",
    "\n"
   ]
  },
  {
   "cell_type": "markdown",
   "metadata": {},
   "source": [
    "# 6. Business Recommendations"
   ]
  },
  {
   "cell_type": "code",
   "execution_count": 27,
   "metadata": {},
   "outputs": [
    {
     "data": {
      "text/html": [
       "<div>\n",
       "<style scoped>\n",
       "    .dataframe tbody tr th:only-of-type {\n",
       "        vertical-align: middle;\n",
       "    }\n",
       "\n",
       "    .dataframe tbody tr th {\n",
       "        vertical-align: top;\n",
       "    }\n",
       "\n",
       "    .dataframe thead th {\n",
       "        text-align: right;\n",
       "    }\n",
       "</style>\n",
       "<table border=\"1\" class=\"dataframe\">\n",
       "  <thead>\n",
       "    <tr style=\"text-align: right;\">\n",
       "      <th></th>\n",
       "      <th>Feature</th>\n",
       "      <th>coef</th>\n",
       "      <th>abs_coef</th>\n",
       "    </tr>\n",
       "  </thead>\n",
       "  <tbody>\n",
       "    <tr>\n",
       "      <th>37</th>\n",
       "      <td>Total SF</td>\n",
       "      <td>35493.110999</td>\n",
       "      <td>35493.110999</td>\n",
       "    </tr>\n",
       "    <tr>\n",
       "      <th>6</th>\n",
       "      <td>Overall Qual</td>\n",
       "      <td>14165.103524</td>\n",
       "      <td>14165.103524</td>\n",
       "    </tr>\n",
       "    <tr>\n",
       "      <th>8</th>\n",
       "      <td>Year Built</td>\n",
       "      <td>8909.540301</td>\n",
       "      <td>8909.540301</td>\n",
       "    </tr>\n",
       "    <tr>\n",
       "      <th>81</th>\n",
       "      <td>Neighborhood_NridgHt</td>\n",
       "      <td>7354.955774</td>\n",
       "      <td>7354.955774</td>\n",
       "    </tr>\n",
       "    <tr>\n",
       "      <th>87</th>\n",
       "      <td>Neighborhood_StoneBr</td>\n",
       "      <td>6153.161053</td>\n",
       "      <td>6153.161053</td>\n",
       "    </tr>\n",
       "  </tbody>\n",
       "</table>\n",
       "</div>"
      ],
      "text/plain": [
       "                 Feature          coef      abs_coef\n",
       "37              Total SF  35493.110999  35493.110999\n",
       "6           Overall Qual  14165.103524  14165.103524\n",
       "8             Year Built   8909.540301   8909.540301\n",
       "81  Neighborhood_NridgHt   7354.955774   7354.955774\n",
       "87  Neighborhood_StoneBr   6153.161053   6153.161053"
      ]
     },
     "execution_count": 27,
     "metadata": {},
     "output_type": "execute_result"
    }
   ],
   "source": [
    "lasso_coefs = pd.DataFrame({'Feature': X.columns,\n",
    "                           'coef': lasso.coef_,\n",
    "                           'abs_coef': abs(lasso.coef_)})\n",
    "lasso_coefs.sort_values('coef', inplace=True, ascending=False)\n",
    "lasso_coefs[:5] # Top 5 features"
   ]
  },
  {
   "cell_type": "code",
   "execution_count": 28,
   "metadata": {},
   "outputs": [],
   "source": [
    "# Scale back the coefficients \n",
    "lasso_coef = pd.DataFrame(\n",
    "    data={\n",
    "        'scaleX' : scalerX.scale_,\n",
    "        'norm_coef' : lasso.coef_\n",
    "    },\n",
    "    columns=[ 'norm_coef', 'scaleX']\n",
    ")\n",
    "lasso_coef['rescaled_coef'] = lasso_coef.norm_coef / lasso_coef.scaleX\n",
    "lasso_coef=lasso_coef.T\n",
    "lasso_coef.T.reset_index(drop=True, inplace=True)\n",
    "lasso_coef.columns = X.columns"
   ]
  },
  {
   "cell_type": "code",
   "execution_count": 29,
   "metadata": {},
   "outputs": [
    {
     "data": {
      "text/html": [
       "<div>\n",
       "<style scoped>\n",
       "    .dataframe tbody tr th:only-of-type {\n",
       "        vertical-align: middle;\n",
       "    }\n",
       "\n",
       "    .dataframe tbody tr th {\n",
       "        vertical-align: top;\n",
       "    }\n",
       "\n",
       "    .dataframe thead th {\n",
       "        text-align: right;\n",
       "    }\n",
       "</style>\n",
       "<table border=\"1\" class=\"dataframe\">\n",
       "  <thead>\n",
       "    <tr style=\"text-align: right;\">\n",
       "      <th></th>\n",
       "      <th>Total SF</th>\n",
       "      <th>Overall Qual</th>\n",
       "      <th>Year Built</th>\n",
       "      <th>Neighborhood_NridgHt</th>\n",
       "      <th>Neighborhood_StoneBr</th>\n",
       "    </tr>\n",
       "  </thead>\n",
       "  <tbody>\n",
       "    <tr>\n",
       "      <th>norm_coef</th>\n",
       "      <td>35493.110999</td>\n",
       "      <td>14165.103524</td>\n",
       "      <td>8909.540301</td>\n",
       "      <td>7354.955774</td>\n",
       "      <td>6153.161053</td>\n",
       "    </tr>\n",
       "    <tr>\n",
       "      <th>scaleX</th>\n",
       "      <td>759.291904</td>\n",
       "      <td>1.433909</td>\n",
       "      <td>30.236463</td>\n",
       "      <td>0.232191</td>\n",
       "      <td>0.133426</td>\n",
       "    </tr>\n",
       "    <tr>\n",
       "      <th>rescaled_coef</th>\n",
       "      <td>46.745014</td>\n",
       "      <td>9878.665543</td>\n",
       "      <td>294.662120</td>\n",
       "      <td>31676.263352</td>\n",
       "      <td>46116.828458</td>\n",
       "    </tr>\n",
       "  </tbody>\n",
       "</table>\n",
       "</div>"
      ],
      "text/plain": [
       "                   Total SF  Overall Qual   Year Built  Neighborhood_NridgHt  \\\n",
       "norm_coef      35493.110999  14165.103524  8909.540301           7354.955774   \n",
       "scaleX           759.291904      1.433909    30.236463              0.232191   \n",
       "rescaled_coef     46.745014   9878.665543   294.662120          31676.263352   \n",
       "\n",
       "               Neighborhood_StoneBr  \n",
       "norm_coef               6153.161053  \n",
       "scaleX                     0.133426  \n",
       "rescaled_coef          46116.828458  "
      ]
     },
     "execution_count": 29,
     "metadata": {},
     "output_type": "execute_result"
    }
   ],
   "source": [
    "variables = ['Total SF', 'Overall Qual','Year Built','Neighborhood_NridgHt','Neighborhood_StoneBr']\n",
    "lasso_coef[variables]"
   ]
  },
  {
   "cell_type": "markdown",
   "metadata": {},
   "source": [
    "## Comment:\n",
    "\n",
    "The recommendation will be based on Lasso model and inferential statistics. The recommendations will be relevant to the following stakeholders: home buyers, housing agent, developers and home sellers based on the top 5 coefficients, the simplest and the most important, the best to stakeholders to understand. The model confirms 4 broad categories: living space, quality of house, location and age of building are important predictors of a price of housing in Ames, Iowa. \n",
    "\n",
    "My recommendations are:\n",
    "\n",
    "**The 1st Category is Living Space**\n",
    "\n",
    "Based on Lasso model, the following coefficients related to living space are significant:   \n",
    "\n",
    "- Total SF = Total area both above ground and below ground square feet \n",
    "  - is postively high correlated with Sales Price\n",
    "  - A one unit change in total area, the sale price will increase by 46.7 dollar, holding others constant.\n",
    "\n",
    "#### Implications for stakeholders\n",
    "\n",
    "- Home Buyers\n",
    "    - Home buyers can use living space to estimate the actual price of the house. Normally, sellers or agents will post a higher price on property portals to fetch the highest selling price. Home buyers can have a rough estimate of the actual price by assessing the total living area. As such, home buyers can give an appropriate offer to the seller so as to enhance the opportunity of securing the property. \n",
    "    - Generally for home buyers on a tight budget should avoid looking for big houses. \n",
    "- Home sellers( including house owner, devleopers, housing agent)\n",
    "    -  when marketing their property, they should leverage on living area to achieve a better bargain. Living area should include basement area and garage area as they have an impact on selling price. Meaning, the bigger the area, the higher the sale price. Therefore, small houses should not be asking for a high sale price otherwise no buyer would buy. \n",
    "    - Sellers should take note or take care on the completeness of basement which it might be neglected. As an incompleted Basement area will cause your buyer have more space to bargin on the sales price.\n",
    "    - Developers, when there is a limit on how big the house can be built above ground with completed basement.\n",
    "\n",
    "**The 2nd Category is House Quality**\n",
    "\n",
    "Based on Lasso model, the following coefficients related to house quality are significant:     \n",
    "\n",
    "- Overall Qual = Rates of the overall material and finish of the house \n",
    "  - is postively correlated with Sales Price\n",
    "  - A one unit change in total area, the sale price will increase by 9878.6 dollar, holding others constant.\n",
    "  \n",
    "#### Implications for stakeholders\n",
    "- Home Buyers\n",
    "    - Before buying a property, buyers should assess the overall material finish of the house. Houses that have execellent material finish tends to have a higher sale price as the two variables are positively correlated. Therefore, buyers need to give a higher offer to house that has a better material finish (holding other variables constant) so as to increase the probability of the offer being accepted. \n",
    "- Home sellers\n",
    "    - Sellers could highlight the material quality of the house during marketing. For developers, in order to sell the house at a premium, the developer can use quality materials and ensure good worksmanship.\n",
    "    - Sellers could renovate their house or at the least renovate the kitchen or exteior to boost sale price. \n",
    "\n",
    "\n",
    "**The 3rd Category is Location**\n",
    "\n",
    "Based on lasso model, Northridge Heights & Stone Brook were found to be significant. \n",
    "\n",
    "- If the property is neighbored with Northridge Heights, the sale price will increase by 31676 dollar, holding other variables constant.  \n",
    "- If the property is neighbored with Stone Brook , the sale price will increase by 46116 dollar, holding other variables constant.  \n",
    "    \n",
    "* Houses at Northridge Heights neighbourhood tend to have a higher sale price. Based on outside research the NH population is highly educated, 74% of the population has an associate degree or higher. Secondly, NH also has a very high median income 105,583 usd which is much higher than the national average of 33,706 usd. Besides that, NH houses also tends to have high rental yield, its rental yield is comparable to large cities such as Indianapolis. NH also enforce strict smoking ban in workplace, bars and restaurants which make the environment more livable. Lastly, the crime rate at NH is generally low compare to national average. These could the reasons for NH houses having a higher sale price. \n",
    "\n",
    "* Houses located at Stone Brooks neighbourhood is very convenient and is the closest to Iowa State University, the largest university in Iowa state. It is also very close to downtown and is just about a 10 minute drive away. The Northridge Heights and Stone Brooks are situated close together and is slightly further away to then University but is equidistant to downtown as compared to Stone Brook neighbourhood. \n",
    "\n",
    "* Moreover both these 2 neighbourhoods are very close to elementary, middle and high schools and have amenities really close by.  \n",
    "\n",
    "#### Implications for stakeholders\n",
    "- Home Buyers\n",
    "    - Home buyers needs to prepare to pay higher price for houses in Northridge Heights or Stone Brooks Neiborhood, in exchange for a comfortable & convenient living environment. \n",
    "- Home sellers( including house owner, devleopers, housing agent)\n",
    "    - Sellers can leverage on NH's good living environment to maximise sale price. Sellers can highlight high rental yield, low crime rate and convenience of the neighborhood. \n",
    "    - Developers can consider bidding for land at NH, higher sale price could translate to higher profit (assuming cost is constant)\n",
    "    \n",
    "**The 3rd Category is Age of House**\n",
    "\n",
    "Based on lasso model, the following coefficients related to age of building are significant: \n",
    "\n",
    "- Year Built \n",
    "    - A one unit increase in year built i.e the house is younger, the sale price would increase by 294 dollar, holding other variables constant.\n",
    " \n",
    "#### Implications for stakeholders\n",
    "- Home Buyers\n",
    "    - Buyers need to prepare to pay higher price for new houses. Perhaps, new houses has lesser defects, does not require repairs. Buyers also can renovate the house to his/her liking. \n",
    "- Home sellers( including house owner, devleopers, housing agent) \n",
    "    - It is good news for developers, the positive correlation between age of of building and sale price means that Ames is a city worth investing in for developers. The high sale price means there is demand for new buildings. \n",
    "    - Developers and agents could highlight the young age of the building in their marketing effort. It could also highlight the new amenities that come along with the new building.\n",
    "\n",
    "* Reference: \n",
    "    - https://www.weichert.com/search/community/neighborhood.aspx?hood=60290 \n",
    "    - https://en.wikipedia.org/wiki/Iowa_State_University"
   ]
  },
  {
   "cell_type": "markdown",
   "metadata": {},
   "source": [
    "# 7. Model Limitation & Future Work"
   ]
  },
  {
   "cell_type": "markdown",
   "metadata": {},
   "source": [
    "**Model Limitations**\n",
    "\n",
    "Our model only has the data for Ames city, Iowa, the importance predictors might not translate very well to other cities. Different cities the size of above ground floor & total basement area in square feet might not hold same measuring standards. \n",
    "\n",
    "Also the rating of the house quality & condition is subjective, how to standardize these measurements and rating system it could be a future work to improve the data consistancy. \n",
    "\n",
    "**Future Work** \n",
    "\n",
    "In the future, demographic data could be included so data scientist can examine who is willing to pay higher price, popular location, buyers are willing to pay for what kind of features. This woud provide an overall picture to data scientist and stakeholders.\n",
    "\n",
    "Other than the age of the house, I am also interested on when the house been posted for sale. As a common understanding, the longer the sales advertisement been posted, the more agent fee or cost would be incurred. How to save the cost for stakeholders to get a house to be sold or purchase would be another key concern."
   ]
  }
 ],
 "metadata": {
  "anaconda-cloud": {},
  "kernelspec": {
   "display_name": "Python 3",
   "language": "python",
   "name": "python3"
  },
  "language_info": {
   "codemirror_mode": {
    "name": "ipython",
    "version": 3
   },
   "file_extension": ".py",
   "mimetype": "text/x-python",
   "name": "python",
   "nbconvert_exporter": "python",
   "pygments_lexer": "ipython3",
   "version": "3.8.5"
  }
 },
 "nbformat": 4,
 "nbformat_minor": 4
}
